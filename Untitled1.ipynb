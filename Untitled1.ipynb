{
 "cells": [
  {
   "cell_type": "code",
   "execution_count": 4,
   "metadata": {},
   "outputs": [
    {
     "data": {
      "text/plain": [
       "['',\n",
       " '/home/tay/anaconda3/envs/py2_NIST/lib/python27.zip',\n",
       " '/home/tay/anaconda3/envs/py2_NIST/lib/python2.7',\n",
       " '/home/tay/anaconda3/envs/py2_NIST/lib/python2.7/plat-linux2',\n",
       " '/home/tay/anaconda3/envs/py2_NIST/lib/python2.7/lib-tk',\n",
       " '/home/tay/anaconda3/envs/py2_NIST/lib/python2.7/lib-old',\n",
       " '/home/tay/anaconda3/envs/py2_NIST/lib/python2.7/lib-dynload',\n",
       " '/home/tay/.local/lib/python2.7/site-packages',\n",
       " '/home/tay/anaconda3/envs/py2_NIST/lib/python2.7/site-packages',\n",
       " '/home/tay/anaconda3/envs/py2_NIST/lib/python2.7/site-packages/IPython/extensions',\n",
       " '/home/tay/.ipython',\n",
       " '/home/tay/Documents/DSA-NIST/NIST_Utils-master/pymetamap',\n",
       " '/home/tay/Documents/DSA-NIST/NIST_Utils-master/pymetamap']"
      ]
     },
     "execution_count": 4,
     "metadata": {},
     "output_type": "execute_result"
    }
   ],
   "source": [
    "import pandas as pd\n",
    "import sys\n",
    "import os\n",
    "module_path = os.path.abspath(os.path.join('..'))\n",
    "if module_path not in sys.path:\n",
    "    sys.path.append(module_path+\"/NIST_Utils-master/pymetamap\")\n",
    "sys.path\n",
    "#/home/tay/Documents/DSA-NIST"
   ]
  },
  {
   "cell_type": "code",
   "execution_count": 5,
   "metadata": {},
   "outputs": [
    {
     "ename": "NameError",
     "evalue": "name 'List_route' is not defined",
     "output_type": "error",
     "traceback": [
      "\u001b[0;31m---------------------------------------------------------------------------\u001b[0m",
      "\u001b[0;31mNameError\u001b[0m                                 Traceback (most recent call last)",
      "\u001b[0;32m<ipython-input-5-ed808ff5670e>\u001b[0m in \u001b[0;36m<module>\u001b[0;34m()\u001b[0m\n\u001b[1;32m      1\u001b[0m \u001b[0;31m###ConceptExtractor()\u001b[0m\u001b[0;34m\u001b[0m\u001b[0;34m\u001b[0m\u001b[0m\n\u001b[0;32m----> 2\u001b[0;31m \u001b[0mextended_concept_list\u001b[0m \u001b[0;34m=\u001b[0m \u001b[0mpd\u001b[0m\u001b[0;34m.\u001b[0m\u001b[0mread_csv\u001b[0m\u001b[0;34m(\u001b[0m\u001b[0mList_route\u001b[0m\u001b[0;34m)\u001b[0m\u001b[0;34m\u001b[0m\u001b[0m\n\u001b[0m\u001b[1;32m      3\u001b[0m \u001b[0mself\u001b[0m\u001b[0;34m.\u001b[0m\u001b[0mseeds\u001b[0m \u001b[0;34m=\u001b[0m \u001b[0mlist\u001b[0m\u001b[0;34m(\u001b[0m\u001b[0;34m)\u001b[0m\u001b[0;34m\u001b[0m\u001b[0m\n\u001b[1;32m      4\u001b[0m \u001b[0mself\u001b[0m\u001b[0;34m.\u001b[0m\u001b[0mCUIs\u001b[0m \u001b[0;34m=\u001b[0m \u001b[0;34m[\u001b[0m\u001b[0mitem\u001b[0m \u001b[0;32mfor\u001b[0m \u001b[0mitem\u001b[0m \u001b[0;32min\u001b[0m \u001b[0mextended_concept_list\u001b[0m\u001b[0;34m[\u001b[0m\u001b[0;34m'CUI'\u001b[0m\u001b[0;34m]\u001b[0m\u001b[0;34m]\u001b[0m\u001b[0;34m\u001b[0m\u001b[0m\n\u001b[1;32m      5\u001b[0m \u001b[0mself\u001b[0m\u001b[0;34m.\u001b[0m\u001b[0mCUI2Concept\u001b[0m \u001b[0;34m=\u001b[0m \u001b[0mdefaultdict\u001b[0m\u001b[0;34m(\u001b[0m\u001b[0mlist\u001b[0m\u001b[0;34m)\u001b[0m\u001b[0;34m\u001b[0m\u001b[0m\n",
      "\u001b[0;31mNameError\u001b[0m: name 'List_route' is not defined"
     ]
    }
   ],
   "source": [
    "###ConceptExtractor()\n",
    "extended_concept_list = pd.read_csv(List_route)\n",
    "self.seeds = list()\n",
    "self.CUIs = [item for item in extended_concept_list['CUI']]\n",
    "self.CUI2Concept = defaultdict(list)\n",
    "for idx,item in enumerate(extended_concept_list['Required Concept']):\n",
    "    if item > 0:\n",
    "        temp = item.lower()\n",
    "        self.seeds.append(temp)\n",
    "        self.CUI2Concept[self.CUIs[idx]].append(temp)\n",
    "    else:\n",
    "        self.CUI2Concept[self.CUIs[idx]].append(temp)\n",
    "self.R_range = 30\n",
    "self.pattern = \"-?\\d+\\.\\d+|-?\\d+\"\n",
    "self.Log = list()\n",
    "#self.ex_extend_cons = []\n",
    "#self.raw_ex_cons = []"
   ]
  }
 ],
 "metadata": {
  "kernelspec": {
   "display_name": "Python 2",
   "language": "python",
   "name": "python2"
  },
  "language_info": {
   "codemirror_mode": {
    "name": "ipython",
    "version": 2
   },
   "file_extension": ".py",
   "mimetype": "text/x-python",
   "name": "python",
   "nbconvert_exporter": "python",
   "pygments_lexer": "ipython2",
   "version": "2.7.18"
  }
 },
 "nbformat": 4,
 "nbformat_minor": 4
}
