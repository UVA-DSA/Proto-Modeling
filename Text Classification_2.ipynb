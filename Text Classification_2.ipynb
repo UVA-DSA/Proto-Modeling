{
 "cells": [
  {
   "cell_type": "code",
   "execution_count": 1,
   "metadata": {},
   "outputs": [
    {
     "ename": "ImportError",
     "evalue": "No module named pymetamap",
     "output_type": "error",
     "traceback": [
      "\u001b[0;31m---------------------------------------------------------------------------\u001b[0m",
      "\u001b[0;31mImportError\u001b[0m                               Traceback (most recent call last)",
      "\u001b[0;32m<ipython-input-1-82aebf5fbe49>\u001b[0m in \u001b[0;36m<module>\u001b[0;34m()\u001b[0m\n\u001b[1;32m     27\u001b[0m \u001b[0;32mfrom\u001b[0m \u001b[0msklearn\u001b[0m\u001b[0;34m.\u001b[0m\u001b[0mmetrics\u001b[0m \u001b[0;32mimport\u001b[0m \u001b[0mrecall_score\u001b[0m\u001b[0;34m\u001b[0m\u001b[0m\n\u001b[1;32m     28\u001b[0m \u001b[0;32mimport\u001b[0m \u001b[0mpy_trees\u001b[0m\u001b[0;34m\u001b[0m\u001b[0m\n\u001b[0;32m---> 29\u001b[0;31m \u001b[0;32mimport\u001b[0m \u001b[0mbehaviours\u001b[0m \u001b[0;32mas\u001b[0m \u001b[0mbe\u001b[0m\u001b[0;34m\u001b[0m\u001b[0m\n\u001b[0m\u001b[1;32m     30\u001b[0m \u001b[0;32mfrom\u001b[0m \u001b[0mpy_trees\u001b[0m\u001b[0;34m.\u001b[0m\u001b[0mblackboard\u001b[0m \u001b[0;32mimport\u001b[0m \u001b[0mBlackboard\u001b[0m\u001b[0;34m\u001b[0m\u001b[0m\n\u001b[1;32m     31\u001b[0m \u001b[0;32mfrom\u001b[0m \u001b[0mscipy\u001b[0m \u001b[0;32mimport\u001b[0m \u001b[0mspatial\u001b[0m\u001b[0;34m\u001b[0m\u001b[0m\n",
      "\u001b[0;32m/home/tay/Documents/DSA-NIST/NIST_Utils-master/behaviours.py\u001b[0m in \u001b[0;36m<module>\u001b[0;34m()\u001b[0m\n\u001b[1;32m     10\u001b[0m \u001b[0;32mimport\u001b[0m \u001b[0mre\u001b[0m\u001b[0;34m\u001b[0m\u001b[0m\n\u001b[1;32m     11\u001b[0m \u001b[0;32mfrom\u001b[0m \u001b[0mpy_trees\u001b[0m\u001b[0;34m.\u001b[0m\u001b[0mblackboard\u001b[0m \u001b[0;32mimport\u001b[0m \u001b[0mBlackboard\u001b[0m\u001b[0;34m\u001b[0m\u001b[0m\n\u001b[0;32m---> 12\u001b[0;31m \u001b[0;32mimport\u001b[0m \u001b[0mConceptExtract\u001b[0m \u001b[0;32mas\u001b[0m \u001b[0mCE\u001b[0m\u001b[0;34m\u001b[0m\u001b[0m\n\u001b[0m\u001b[1;32m     13\u001b[0m \u001b[0;32mimport\u001b[0m \u001b[0mtime\u001b[0m\u001b[0;34m\u001b[0m\u001b[0m\n\u001b[1;32m     14\u001b[0m \u001b[0;32mfrom\u001b[0m \u001b[0mranking_func\u001b[0m \u001b[0;32mimport\u001b[0m \u001b[0mrank\u001b[0m\u001b[0;34m\u001b[0m\u001b[0m\n",
      "\u001b[0;32m/home/tay/Documents/DSA-NIST/NIST_Utils-master/ConceptExtract.py\u001b[0m in \u001b[0;36m<module>\u001b[0;34m()\u001b[0m\n\u001b[1;32m      1\u001b[0m \u001b[0;31m#import pymetamap\u001b[0m\u001b[0;34m\u001b[0m\u001b[0;34m\u001b[0m\u001b[0m\n\u001b[0;32m----> 2\u001b[0;31m \u001b[0;32mfrom\u001b[0m \u001b[0mpymetamap\u001b[0m \u001b[0;32mimport\u001b[0m \u001b[0mMetaMap\u001b[0m\u001b[0;34m\u001b[0m\u001b[0m\n\u001b[0m\u001b[1;32m      3\u001b[0m \u001b[0;32mfrom\u001b[0m \u001b[0mpandas\u001b[0m \u001b[0;32mimport\u001b[0m \u001b[0mSeries\u001b[0m\u001b[0;34m,\u001b[0m \u001b[0mDataFrame\u001b[0m\u001b[0;34m\u001b[0m\u001b[0m\n\u001b[1;32m      4\u001b[0m \u001b[0;32mfrom\u001b[0m \u001b[0mcollections\u001b[0m \u001b[0;32mimport\u001b[0m \u001b[0mdefaultdict\u001b[0m\u001b[0;34m\u001b[0m\u001b[0m\n\u001b[1;32m      5\u001b[0m \u001b[0;32mimport\u001b[0m \u001b[0mpandas\u001b[0m \u001b[0;32mas\u001b[0m \u001b[0mpd\u001b[0m\u001b[0;34m\u001b[0m\u001b[0m\n",
      "\u001b[0;31mImportError\u001b[0m: No module named pymetamap"
     ]
    }
   ],
   "source": [
    "import numpy as np\n",
    "import pandas as pd\n",
    "import string\n",
    "from sklearn.feature_extraction.text import CountVectorizer\n",
    "import matplotlib.pyplot as plt\n",
    "from NLPutils import NLPutils as NLP\n",
    "import nltk\n",
    "from nltk.corpus import stopwords\n",
    "from nltk.stem.snowball import SnowballStemmer\n",
    "from nltk.stem.snowball import EnglishStemmer # load the stemmer module from NLTK\n",
    "from tqdm import tqdm_notebook as tqdm\n",
    "from sklearn.model_selection import train_test_split\n",
    "from sklearn.feature_extraction.text import TfidfVectorizer\n",
    "from sklearn.metrics import make_scorer\n",
    "import pickle\n",
    "import math\n",
    "from sklearn.model_selection import cross_validate\n",
    "from sklearn.ensemble import RandomForestClassifier\n",
    "from sklearn.tree import DecisionTreeClassifier\n",
    "import time\n",
    "from sklearn.multiclass import OneVsRestClassifier\n",
    "from sklearn.preprocessing import MultiLabelBinarizer\n",
    "from sklearn.svm import SVC\n",
    "from sklearn.model_selection import cross_validate\n",
    "from sklearn.metrics import f1_score\n",
    "from sklearn.metrics import precision_score\n",
    "from sklearn.metrics import recall_score\n",
    "import py_trees\n",
    "#import behaviours as be\n",
    "from py_trees.blackboard import Blackboard\n",
    "from scipy import spatial\n",
    "from pandas import DataFrame\n",
    "import re\n",
    "import matplotlib.pyplot as plt\n",
    "%matplotlib notebook"
   ]
  },
  {
   "cell_type": "code",
   "execution_count": null,
   "metadata": {},
   "outputs": [],
   "source": []
  },
  {
   "cell_type": "code",
   "execution_count": 2,
   "metadata": {},
   "outputs": [],
   "source": [
    "class RAAdata(object):\n",
    "    def __init__(self,text,vital,inter):\n",
    "        self.text = text\n",
    "        self.vital = vital\n",
    "        self.inter = inter\n",
    "        \n",
    "def load_RAA_data(path, cv = True): \n",
    "    df = pd.read_excel(path)\n",
    "    interset = set()\n",
    "    interdict = dict()\n",
    "    narratives = df['Narrative']\n",
    "    narratives = [i for i in narratives]\n",
    "    inters = df['Interventions']\n",
    "    vitals = df['Vitals']\n",
    "    vitals = [i for i in vitals]\n",
    "    interventions = []\n",
    "    for item in inters:\n",
    "        inter = item.strip('{}').split('}{')\n",
    "        inter = [i.split(':')[-1].strip().lower() for i in inter]\n",
    "        c_int = []\n",
    "        for j in inter:\n",
    "            interset.add(j)\n",
    "            if j in interdict:\n",
    "                interdict[j] += 1\n",
    "            else:\n",
    "                interdict[j] = 1\n",
    "            c_int.append(j)\n",
    "        interventions.append(c_int)\n",
    "    for inter in list(interdict):\n",
    "        if cv and interdict[inter] < 20: del interdict[inter]\n",
    "    data = [RAAdata(item,vitals[idx],interventions[idx]) for idx,item in enumerate(narratives)]\n",
    "    \n",
    "    return data,interdict\n",
    "\n",
    "def fullmatch(regex, string, flags=0):\n",
    "    \"\"\"Emulate python-3.4 re.fullmatch().\"\"\"\n",
    "    return re.match(\"(?:\" + regex + r\")\\Z\", string, flags=flags)\n",
    "\n",
    "# preprocess utils\n",
    "def cleanHtml(sentence):\n",
    "    cleanr = re.compile('<.*?>')\n",
    "    cleantext = re.sub(cleanr, ' ', str(sentence))\n",
    "    return cleantext\n",
    "\n",
    "def cleanPunc(sentence):\n",
    "    cleaned = re.sub(r'[?|!|\\'|\"|#]',r'',sentence)\n",
    "    cleaned = re.sub(r'[.|,|)|(|\\|/]',r' ',cleaned)\n",
    "    cleaned = cleaned.strip()\n",
    "    cleaned = cleaned.replace(\"\\n\",\" \")\n",
    "    return cleaned\n",
    "\n",
    "def keepAlpha(sentence):\n",
    "    alpha_sent = \"\"\n",
    "    for word in sentence.split():\n",
    "        alpha_word = re.sub('[^a-z A-Z]+', ' ', word)\n",
    "        alpha_sent += alpha_word\n",
    "        alpha_sent += \" \"\n",
    "    alpha_sent = alpha_sent.strip()\n",
    "    return alpha_sent\n",
    "\n",
    "stemmer = SnowballStemmer(\"english\")\n",
    "def stemming(sentence):\n",
    "    stemSentence = \"\"\n",
    "    for word in sentence.split():\n",
    "        stem = stemmer.stem(word)\n",
    "        stemSentence += stem\n",
    "        stemSentence += \" \"\n",
    "    stemSentence = stemSentence.strip()\n",
    "    return stemSentence\n",
    "\n",
    "def weighted_precision_recall_f1_util (y_test, y_pre, weight = None):\n",
    "    tp, fp, fn = [0. for _ in range(len(y_pre[0]))], [0. for _ in range(len(y_pre[0]))], \\\n",
    "    [0. for _ in range(len(y_pre[0]))]\n",
    "    for idx in range(len(y_pre)):\n",
    "        for i in range(len(y_pre[idx])):\n",
    "            if y_pre[idx][i] == 1 and y_test[idx][i] == 1: tp[i] += 1\n",
    "            elif y_pre[idx][i] == 1 and y_test[idx][i] == 0: fp[i] += 1\n",
    "            elif y_pre[idx][i] == 0 and y_test[idx][i] == 1: fn[i] += 1\n",
    "    precision = [tp[i] / (tp[i] + fp[i]) if tp[i] > 0 or fp[i] > 0 else 0. for i in range(len(tp))]\n",
    "    recall = [tp[i] / (tp[i] + fn[i]) if tp[i] > 0 or fn[i] > 0 else 0. for i in range(len(tp))]\n",
    "    f1 = [2 * precision[i] * recall[i] / (precision[i] + recall[i]) \\\n",
    "         if precision[i] > 0 or recall[i] > 0 else 0. for i in range(len(tp))]\n",
    "    return np.average(precision, weights = weight), np.average(recall, weights = weight), \\\n",
    "np.average(f1, weights = weight)\n",
    "\n",
    "def weighted_precision (y_test, y_pre, weight = None):\n",
    "    precision, _, _ = weighted_precision_recall_f1_util (y_test, y_pre, weight)\n",
    "    return precision\n",
    "\n",
    "def weighted_recall (y_test, y_pre, weight = None):\n",
    "    _, recall, _ = weighted_precision_recall_f1_util (y_test, y_pre, weight)\n",
    "    return recall\n",
    "\n",
    "def weighted_f1 (y_test, y_pre, weight = None):\n",
    "    _, _, f1 = weighted_precision_recall_f1_util (y_test, y_pre, weight)\n",
    "    return f1\n",
    "\n",
    "def show_results(scores):\n",
    "    metrics = ['test_precision_weighted','test_recall_weighted', 'test_f1_weighted',\\\n",
    "            'test_precision_micro', 'test_recall_micro', 'test_f1_micro']\n",
    "    for metric in metrics:\n",
    "        print metric + ':' + '%.2f' % np.average(scores[metric])\n",
    "        \n",
    "def risk_factor(gt, probs, preds):\n",
    "    risk = []\n",
    "    for idx,case in enumerate(probs):\n",
    "        r = 0\n",
    "        for i,prob in enumerate(case):\n",
    "            if preds[idx][i] == 1 and gt[idx][i] == 0:\n",
    "                r += prob * int2fp_score[num2int[i]] / sum(gt[idx])\n",
    "            if preds[idx][i] == 0 and gt[idx][i] == 1:\n",
    "                r += prob * int2fn_score[num2int[i]] / sum(gt[idx])\n",
    "        risk.append(r)\n",
    "    return sum(risk) / len(risk)\n",
    "\n",
    "def trans_prob(probs):\n",
    "    transed_prob = [[0.] * len(probs) for _ in range(len(probs[0]))]\n",
    "    for idx, res in enumerate(probs):\n",
    "        for i, p in enumerate(res):\n",
    "            if len(p) < 2: transed_prob[i][idx] = 1. - p[0]\n",
    "            else: transed_prob[i][idx] = p[1]\n",
    "                \n",
    "    return transed_prob\n",
    "\n",
    "def show_test_results(gt, res, prob, class_weight):\n",
    "    print \"precision_micro\" + ':' + '%.2f' % precision_score(gt, res, average = 'micro')\n",
    "    print \"recall_micro\" + ':' + '%.2f' % recall_score(gt, res, average = 'micro')\n",
    "    print \"f1_micro\" + ':' + '%.2f' % f1_score(gt, res, average = 'micro')\n",
    "    print \"precision_weighted\" + ':' + '%.2f' % weighted_precision(gt, res, class_weight)\n",
    "    print \"recall_weighted\" + ':' + '%.2f' % weighted_recall(gt, res, class_weight)\n",
    "    print \"f1_weighted\" + ':' + '%.2f' % weighted_f1(gt, res, class_weight)\n",
    "    print \"risk_factor\" + ':' + '%.4f' % risk_factor(gt, prob, res)\n",
    "    \n",
    "def filtering(res, prob, threshold):\n",
    "    for idx, case in enumerate(res):\n",
    "        for i in range(len(case)):\n",
    "            if prob[idx][i] < threshold:\n",
    "                res[idx][i] = 0\n",
    "                prob[idx][i] = 0.\n",
    "    return res, prob"
   ]
  },
  {
   "cell_type": "code",
   "execution_count": 3,
   "metadata": {},
   "outputs": [],
   "source": [
    "# read labeled cases\n",
    "docu = './RAA_train.xlsx'\n",
    "df = pd.read_excel(docu)\n",
    "train_narratives = df['Narrative']"
   ]
  },
  {
   "cell_type": "code",
   "execution_count": 4,
   "metadata": {},
   "outputs": [],
   "source": [
    "docu = './RAA_1000_test.xlsx'\n",
    "df = pd.read_excel(docu)\n",
    "test_narratives = df['Narrative']"
   ]
  },
  {
   "cell_type": "code",
   "execution_count": 5,
   "metadata": {},
   "outputs": [],
   "source": [
    "##SKIP##with open('test_vec_list.txr','w') as fo:\n",
    "##    pickle.dump(test_vec, fo)"
   ]
  },
  {
   "cell_type": "code",
   "execution_count": 7,
   "metadata": {
    "collapsed": true
   },
   "outputs": [],
   "source": [
    "##SKIP##with open('test_vec_list.txr') as fo:\n",
    "##    test_vec = pickle.load(fo)"
   ]
  },
  {
   "cell_type": "code",
   "execution_count": 8,
   "metadata": {},
   "outputs": [],
   "source": [
    "##SKIP##len(test_vec)"
   ]
  },
  {
   "cell_type": "code",
   "execution_count": 6,
   "metadata": {},
   "outputs": [],
   "source": [
    "narra,intdict = load_RAA_data('./RAA_train.xlsx')\n",
    "test_narra, _ = load_RAA_data('./RAA_1000_test.xlsx', cv = False)\n",
    "risk_route = './Intervention Safety Sheet.xlsx'\n",
    "df_risk = pd.read_excel(risk_route)\n",
    "int2fn_score = dict()\n",
    "int2fp_score = dict()\n",
    "for row in df_risk.iterrows():\n",
    "    name = row[1]['Intervention'].split('\\'')[1]\n",
    "    FN_score, FP_score = 0, 0\n",
    "    if not pd.isnull(row[1]['If NOT Done When Indicated']):\n",
    "        FN_score = int(row[1]['If NOT Done When Indicated'])\n",
    "    if not pd.isnull(row[1]['If Done When NOT Indicated']):\n",
    "        FP_score = int(row[1]['If Done When NOT Indicated'])\n",
    "    if not FN_score or not FP_score or (name not in intdict):\n",
    "        continue\n",
    "    int2fn_score[name] = FN_score\n",
    "    int2fp_score[name] = FP_score\n",
    "int2num = dict()\n",
    "num2int = dict()\n",
    "for i,key in enumerate(int2fn_score):\n",
    "    int2num[key] = i\n",
    "    num2int[i] = key\n",
    "#n = NLP()\n",
    "# load technical n-grams\n",
    "fo = open('ngrams.txt')\n",
    "ngrams = set()\n",
    "for line in fo:\n",
    "    if line == '\\n': continue\n",
    "    ngrams.add(line.strip('\\n'))\n",
    "fo.close()"
   ]
  },
  {
   "cell_type": "code",
   "execution_count": 8,
   "metadata": {},
   "outputs": [
    {
     "name": "stdout",
     "output_type": "stream",
     "text": [
      "set(['prior war', 'story multipurpose building', 'pt cardiac rhythm', 'improved respiratory status', 'adequate waveform', 'blue tote', 'epigastric stomach', 'show poor respiratory effort', 'relief prompting', 'cease resusciation', 'mild resp', 'initial assessment patient', 'oriental man', 'strong support system', 'aspirate bone marrow', 'center consol', 'spinal surgery', 'borderline tachypniec', 'glucose today', 'jail staff', 'weakness secondary heat exposure', 'present complaint', 'dental abscess', 'pregnancy test', 'marked relief', 'epigastric abdominal pain', 'family argument', 'appointment tomorrow', 'alert answered', 'friend call', 'cardiac arrest protocol', 'weakness today', 'coat left', 'outside motel', 'outside temperature', 'state follow', 'confirm initial reading', 'recheck blood sugar pt', 'first duo neb set', 'minimize condition', 'mcg fentanyl', 'rheumatoid arthritis', 'vagina hurt', 'basketball game', 'minor accessory muscle usage', 'emesis slot', 'compare rotation', 'new nebulizer last night', 'advise female reporting', 'dual cross check', 'euvoglcemic pt', 'place vehicle', 'evaluation yesterday', 'door handle', 'money today', 'right sight', 'food intake', 'corner store', 'sustain life', 'history several blood', 'pt onto', 'difficulty breathing call', 'unkn medical history', 'aortic aneurism', 'significant pain', 'grassy median', 'year old male complaining', 'chewable aspirin', 'achy abdominal pain', 'rigid teeth', 'soft non tender', 'eaten dinner', 'house staff', 'pt assesesd', 'apparent contact', 'abnormal distention', 'monitor swap', 'drub box exchange', 'bus driver', 'central abdominal area', 'utilize home supplemental oxygen', 'skin dry', 'large party', 'patient hit', 'laceration noted', 'heart burn', 'determine damage', 'loud thud', 'bottom foot', 'legs show', 'limp gait', 'poss cardiac involvement', 'female presenting', 'breathing though', 'medical inc information', 'draw sheet', 'collect insurance info', 'hx available', 'her trash', 'atrovent nebulizer', 'bipolar disorder', 'ceasarean scar', 'upper abdominal discomfort', 'tablet problem', 'gall bladder removal', 'ground inside', 'cream sandwich', 'laborered breathing', 'atrovent nebulized', 'recent dialysis', 'crew transported pt', 'treatment duo neb', 'time breathing', 'iron infusion', 'find male patient', 'list prescription', 'witnessed pt', 'appreciable palpable', 'abrasion lt cheek', 'administration indication', 'full dose', 'water craft', 'weather related temperature', 'prenatal care', 'extra oxygen', 'jerking movement', 'normal skin color', 'commercial tube', 'yellow sputum', 'head dx', 'menstrual period', 'verify patient', 'septic technique', 'definitive care', 'recent change', 'sexual assault', 'obvious blood', 'states nothing', 'patient unabel', 'asthma exacerbation approx', 'ambulatory upon arrival', 'unclear purpose', 'equal lung', 'second seizure', 'stroke scale cinn', 'ventricular rhythm', 'skin warm dry', 'successful saline lock', 'languange line', 'respiratory arrest secondary heroin', 'cpap administered', 'poor venous access', 'copious bloody', 'eat last night', 'spontaneous pneumo', 'assessment pt', 'intermittent sharp pain', 'triage chair', 'cerebral palsy', 'additional pertinent', 'possible small', 'noticed speech', 'fine motor', 'stony point mall', 'visible respiratory distress', 'urgent need', 'communication center', 'subclavian site', 'obvious dislocation', 'much bleach', 'mental status post', 'access location', 'medical control', 'bad headache', 'son report family member', 'acute distress ambulatory', 'additional medicla history', 'hospital information sheet', 'fall asleep', 'unknown exact amount', 'heroine overdose', 'patient respiratory improvement', 'past surgery', 'care partner', 'pt starting', 'patient unresponsive apneic', 'staff choice', 'patient first', 'arm seizure activity', 'bag drip', 'moderate bleeding', 'trauma medical', 'facility bed', 'patient saturation', 'manic depression', 'normal heart rate', 'pt place', 'continued seizure activity', 'pedimate device', 'iv stuck', 'tobacco use', 'positive herniation', 'neurologic pathology', 'last evaluated', 'find male sitting', 'birth control', 'unresponsive female', 'first time', 'oral liquid tylenol', 'second pulse', 'severe delay', 'difficult bowel', 'further advise', 'female voice', 'call unit', 'police station', 'atropine administration', 'decrease resp', 'computer console', 'hospital ed', 'law enforcement', 'sign due', 'doctor tomorrow', 'external rotation', 'pursed lip', 'pictured person', 'electronic refusal form', 'patient id', 'medical clinic', 'ml bolus', 'conversion becuase pt', 'dose inhaler', 'valproic acid', 'agonal patient', 'possible pregnancy', 'unlocked bedroom', 'decrease anxiety', 'lt side forehead area', 'clear drainage', 'full relief', 'pain management appt', 'unconscious apnoeic', 'minor difficulty', 'care home', 'pressure infusion', 'asleep several', 'vcu staff', 'first floor apartment home', 'other business', 'cold day', 'old male pt', 'agonal effort', 'life threat', 'leg movement', 'sparadic suction', 'sidewalk guarding', 'sacral spinal tenderness', 'turn her head', 'reveal minor wheezing', 'pt sorta', 'spontaneous movment', 'use stairchair', 'left nare', 'subclavian dialysis port', 'dispatch location', 'possible combative person', 'intact upper', 'current complaint', 'lunch time today', 'fire compmany', 'apneic male', 'occassional unifocal', 'form floor', 'good capnography waveform', 'regular bilateral', 'convience store', 'obese adult male', 'past medical hx', 'right pupil', 'pt signature obtained', 'couch awake', 'current cough', 'obtained due', 'menstural cycle', 'patient tachypnea', 'anything yesterday', 'pt behaviour', 'last scene', 'spam sandwich', 'third pulse', 'fresh needle stick', 'plastic noted', 'sz call', 'inhaled neb', 'appriorate hospital', 'female overtop', 'oral mucosa moist', 'dry skin', 'artifact interference', 'staff note', 'pt arm', 'shark fin', 'vehicle struck', 'nausea medication', 'erythema present', 'prior call', 'face expression', 'small heart attack', 'stemi alert', 'friend present', 'major external', 'cervical immobilization', 'low blood sugar', 'recent cathetherization', 'intact gag reflex', 'person medication cross', 'same address', 'holiday party', 'front axle', 'other symptom', 'mild expiratory wheeze', 'possible nausea', 'yo white female', 'verbal assessment', 'sofa bed', 'fall breath', 'per pt choice', 'hemorrhage call', 'irregular heart', 'concrete step', 'strawberry glucose gel', 'bgl rating', 'brief synopsis', 'rectal cancer', 'next rhythm check', 'sheet slide', 'room bent', 'sickle cell anemia', 'twice yesterday', 'hospital cardiologist', 'need help', 'combative confusion', 'mg asa po', 'normal gross movement', 'duo neb venturi mask', 'thick yellow mucus', 'deny pain', 'full plate', 'rapid response', 'dispatched complaint', 'assess bronchoconstriction', 'slow random gasps', 'treatment number', 'sharp chest', 'infirmary staff', 'sickle cell crisis', 'upper arm pain', 'wheel chair', 'opoid overdose', 'pt airway patent', 'occasional diarrhea', 'pt dizziness', 'unknown caller', 'crack cocaine last night', 'slide board', 'alert ambulatory', 'multiple other unknown', 'subsequent rhythm', 'seizure cessation', 'redirect her', 'eaten anything today', 'oral glucose packet', 'daily vitamin', 'degenerative disc disease', 'trouble breathing', 'headache pain', 'other hx', 'refusal nature', 'head tilt', 'possible house arrest', 'roll pt', 'unchanged overall', 'medication section', 'save error', 'concrete stairs leading', 'noticeable rash', 'anxiety medication yesterday', 'issue infront', 'straight past', 'chronic muscle weakness', 'bite area', 'cause pt additional anxiety', 'past couple', 'notable initial pulse', 'pt discharge paperwork', 'initial patient', 'determined patient', 'line capnography', 'negative hx', 'sidewalk unresponsive', 'anything unusual today', 'tender upon palpation', 'atrovent neb', 'drug box', 'next month', 'impeded pt', 'warfarin today', 'adult home staff', 'cough medicine', 'shoed sinus rhythm', 'oral adjunct congruent', 'strong central', 'slaine loc', 'immune dz', 'mom pt', 'pelvic stable', 'ambulatory female', 'care troponin', 'last exacerbation', 'sharp constant pain', 'hypodermic syringe', 'sepsis protocol', 'try anything', 'complaining substernal chest pain', 'accessory muscle use', 'flash pulmonary edema', 'other blood', 'provide adequate ventilation', 'visit patient', 'home recliner', 'blood gluocse', 'last cocaine use', 'steroid shot', 'broncho vesicular breath', 'hospital dose', 'stomach pain', 'trauma indicated', 'initial pulse check', 'vomitted several', 'rhythm check', 'acute illness', 'tried begging', 'facility patient report', 'mg administered', 'initial computer interpretation', 'slow movement', 'ovarian cancer', 'decerebrate posturing', 'basement area', 'left axis deviation', 'pt sat', 'cardiac episode', 'heat exposure', 'male syncopal episode', 'wife road', 'single home albuterol', 'lateral position', 'negative hemoccult', 'anxiety possible endocrinology', 'provide protection', 'last drink', 'allow family', 'pt returned home', 'standing position', 'recent bronchitis diagnosis', 'lap crying', 'weak distal', 'left leg amputation', 'reveal pt', 'baseline approx', 'poor access presentation', 'cardiac arrest', 'pt behalf', 'negative tracheal deviation', 'extract pt', 'state trip', 'pt leg', 'posible uti pmh', 'pt food', 'unknown original location', 'regular gait', 'patient first prior', 'blurry vision onset', 'regular strong', 'second nebulizer', 'started last night', 'extreme proximity', 'unresponsive initial', 'cont enroute', 'normal function', 'room air oxygen saturation', 'hospital equipment', 'big mask', 'sat pt', 'motorcycle helmet', 'dual crosscheck', 'uncuffed tracheostomy', 'huge improvement', 'finish nebulizer treatment', 'recall her', 'head ache', 'fourth round', 'recent difficulty', 'stable pt', 'male left scene', 'husband drive', 'report mild', 'right quad', 'dash board', 'rescue inhaler use', 'regional specialty hospital', 'good vital', 'reciprocal depression', 'pt verbalized', 'regular access', 'little accessory muscle use', 'real possibility', 'intial relief', 'frothy blood', 'grey honda', 'effort returnd', 'critical nature', 'ventolin inhaler', 'nausea decreasing', 'transport patient home', 'extremity movement', 'initial fluttering', 'dull chest pain', 'physician yesterday', 'normal number', 'heroin approx', 'report change', 'manage condition', 'aortic stenosis', 'rehab program', 'mild work', 'find pt ambulatory', 'frequent cough', 'syncope fall', 'computer impression', 'reveal wheezing', 'post icatl state', 'old female pt', 'unsteady gait', 'second day', 'pinpoint pupils', 'rapid speech', 'left testicular torsion', 'naloxone causes heart rate', 'hard suction', 'last attempt', 'local hotel', 'find pt sitting upright', 'adult tube', 'normal skin', 'several staff', 'food lion', 'recall reason', 'large rectal', 'expatory wheezing', 'drug problem', 'nasal capnography', 'interview pt', 'male laying', 'visible injury', 'intubate pt', 'today post injection', 'great distress', 'weakness making', 'bilateral exp', 'breathing present', 'concious alert', 'mild inspiratory', 'erased due', 'crew spoke', 'drug addict', 'airway management', 'immediate decrease', 'upper gum', 'destination facility', 'cellular phone', 'pt ra', 'thick white puss type', 'electrical fire', 'save time', 'self control', 'use tongue depressor', 'breathing enroute', 'poor selection', 'regular radial', 'cocaine use', 'normal spontaneous', 'medic unit clear lung', 'right field', 'provide treatment', 'pt request', 'severe smell', 'monitor sinus tach', 'pt heart rate', 'third attempt', 'daycare center', 'something fall', 'specific insurance', 'fast rate symmetrical rise', 'pulse oximetry', 'apartment chain', 'chest woke', 'nursing home staff notification', 'influenza vaccine', 'hospital necessary', 'yesterday morning sometime', 'right quad abdominal pressure', 'green bilious vomit', 'immediate confusion', 'find female patient ambulatory', 'rt foot', 'advise caller hung', 'course wheezing', 'transporte semi', 'mother road', 'right upper thigh deformity', 'obvious disability', 'residence door', 'turnover due', 'chin lift fashion', 'cm horizontal superficial abrasion', 'unconscious diabetic male', 'patient denied recent', 'additional information', 'non maintainable', 'scene last month', 'equipment loss', 'mother present', 'advised staff', 'need breathing', 'shallow bradypneic', 'possible opiate overdose', 'team lift', 'planned narcotic administration', 'include pain', 'information gathering', 'equipment exchange', 'last seizure appox', 'protective reflex', 'abnormal motor', 'crack cocaine', 'strong smell', 'medic due', 'same duration', 'normal conversation', 'construction site', 'arabic only', 'house arrest', 'spontaneous eye fluttering', 'cool body temperature', 'last several', 'hypoglycemia last week', 'al safety', 'toilet water', 'regular occurence', 'successful oral intubation', 'epigastric region', 'chief complaint', 'constant movement', 'obvious stress', 'female provider', 'pain improved', 'keep passing', 'sharp substernal', 'fruity odor', 'superficial minor abrasion', 'close mouth', 'patient nude', 'butter sandwich', 'stroke screen', 'green er', 'medication yesterday evening', 'her card', 'clonic movement', 'terminal cancer', 'appropriate time', 'small red area', 'room pf apartment', 'got worse', 'slight respiratory distress', 'ovarian cyst last year', 'suction catheter', 'slight shallow', 'normal bi lateral', 'crisis bldg', 'female pt lying', 'holter monitor', 'equal bilateral', 'her last baby', 'bilateral expt', 'bar stool', 'check asystole', 'initial oxygen saturation', 'prior experience', 'point pt', 'one provider', 'known blood loss', 'inhalation injury', 'patient down', 'suicidal ideation', 'normal size', 'supplemental coverage', 'difficult due', 'stable pelvis', 'exhibiting moderate respiratory distress', 'swollen face', 'rehab staff', 'gross movement', 'neg jvd', 'patient upright', 'spinal discs', 'her apartment home', 'cot unassisted', 'respiratory distress level', 'case manager', 'right fetal position', 'vs obtained', 'quadrant abdominal', 'upload vital', 'positive sensation', 'tracheal tube placement', 'narc confirmation', 'ear pain', 'shallow labored', 'grasp pen', 'contact crisis', 'other change', 'inhale strong enough', 'acceptance signature', 'real short', 'past history', 'kidney problem', 'pulled today', 'severe right', 'nemsis document error', 'hear crew', 'garage floor', 'questionable fever', 'good complaince', 'other detailed other', 'unspecified abd', 'administration improvement', 'left humoral head', 'similar episodes', 'worsened last night', 'main impact', 'overall pain', 'medical attention', 'hosptial room', 'therapist today', 'blown tire', 'lift clamp', 'didnt want', 'apartment number', 'couch unable', 'floor face', 'risky procedure', 'real sick', 'safe transfer', 'patient stating respiratory relief', 'handheld nebulizer', 'grand mal', 'decreased need', 'insurance plan', 'medical office', 'building awake', 'consider possibility', 'left lateral wrist', 'fecal matter', 'angio edema', 'slow push', 'metal chair', 'unknown liver', 'bilateral medial malleolus', 'intermittent pain', 'year old female look', 'pt onscene', 'plastic container', 'due respiratory', 'rear area', 'neighbor last night', 'provider interpretation', 'accu check pt', 'body rigidness', 'large elderly male', 'advise medical alarm activation', 'prearrival notification', 'ambulatory onscene', 'locate insurnace info', 'capnography line', 'bone marrow present', 'female pt', 'front fender', 'rapid weak pulse', 'lumbar spine', 'initial value', 'mild seafood', 'physiological left axis deviation', 'approximate age', 'pt distress', 'suitable vein', 'event medical team', 'female down', 'extensive contamination', 'possible cocaine use', 'waveform capnography', 'lot yesterday', 'assisted onto stretcher', 'flat cool surface', 'therapeutic effect', 'suction several mucus', 'necrotic tissue', 'main complaint', 'possible insulin', 'marginal reduction', 'report history', 'multiple neb', 'narcotic pain management', 'low suger', 'several long', 'exit wound', 'point harness supine', 'anxious family member', 'critical medical', 'rigid body', 'additional bgl', 'atypical presentation', 'change overall', 'feeling faint', 'doctor appointment', 'own medical', 'attend dialysis', 'airway patent trachea', 'emergency alarm', 'strong desire', 'pale skin', 'dorsal hand', 'route care', 'similar symptoms', 'her peanut butter', 'medial left ankle', 'attempt unsuccessful', 'cardiac ischemia', 'right headspace', 'assume care', 'complete occulusion', 'stony pint surgery', 'bench outside', 'cardiac monitor showing', 'etoh smell', 'possible food', 'eye response', 'other home', 'fine ventricular fibrillation', 'narcan nasal', 'time condition', 'condition stable enroute', 'concrete bench', 'blood last night', 'approached open', 'bp cuff', 'unstable rhythm', 'patient starting', 'warm dry skin', 'public road', 'specific complaint', 'warm normal', 'pt poor historian', 'trauma observed', 'heart issue', 'upon inspiration', 'help take', 'wooden arm chair', 'til resource', 'last time patient', 'dialysis appointment yesterday', 'productive cough appox', 'nontender pelvic stable wit', 'previous heart', 'upper right quadrant', 'good air exchange', 'precautionary measure', 'acute distress lying', 'personal vehicle', 'breathing difficulty', 'arrive pt', 'power nap', 'one week', 'capital police', 'several abd hernias', 'fentanyl iv', 'noted change', 'entire torso', 'police car', 'consistent pain', 'insurance information', 'severity today', 'increased bp', 'narcotic today', 'prison staff', 'pt work', 'diabetic hypoglycemia', 'last antibiotic', 'wife present', 'bipolar type', 'right hand access', 'nasal administration', 'charge nurse', 'rhonchi noted', 'good skin turgor', 'low blood', 'respiratory relief', 'many needle', 'general body', 'cant breathe', 'monitoring secondary narcotic administration', 'sign computer', 'dark ground', 'experience orthopnea', 'flags down', 'manic type', 'shallow work', 'abdominal assessment', 'shirt wet', 'pedi mate', 'pt identification', 'indicate faint', 'first intervention', 'social security office', 'term memory', 'lengthy conversation', 'ate something solid today', 'whole lot', 'full meal', 'eaten today', 'yoa female', 'drainage present', 'pin pointed', 'provider check card', 'obvious tonic clonic jerking', 'bathroom pt', 'high call', 'sharp shock', 'chippenham hospital', 'smoking crack', 'xiphoid process', 'alll safety', 'great deal', 'cut throat', 'ventilatory effort', 'clear coherent', 'pain decrease', 'pt family state', 'sudden onset shortness', 'coughing last night', 'clear phlegm', 'inappropriate verbal response', 'patient home', 'right side deficit', 'abd soft', 'her high blood pressure', 'burning pain', 'vehicle pursuit', 'inpatient rehab clinic', 'general decline', 'head appox', 'performing chest', 'initial patient unresponsiveness', 'left eye perrl', 'right nostril', 'shallow laboured bbs tight', 'entering her home', 'possible hyperglycemia', 'skin strip', 'past wed', 'same area', 'front porch', 'positive improvement', 'good level', 'right leg', 'good pleth', 'facility assist', 'unresponsive lasting appox', 'legal responsibility', 'slight use', 'agonal normal', 'history history', 'wheeze yesterday', 'pulled onto', 'significant number', 'irregular hb', 'reevaluate blood', 'sandwich pt', 'initial assessment pt', 'yellow er', 'other vs', 'pool water', 'patient held onto', 'spinal cord injury', 'daily morning', 'nursing home room', 'impulsive behaviour', 'symmetrical strength', 'ask repetitive', 'patient cyanotic pulseless', 'ml nacl', 'front door', 'condition worsen', 'new presenting complaint', 'cross shoulder', 'pt familiy', 'playing solitaire', 'pt baseline incontinent', 'officer injury', 'screen door', 'note improvement', 'aortic aneuyresm', 'maintain respiratory rate', 'interrupt pt care', 'yo black female', 'definitive date', 'prolonged period', 'story single family', 'pain left', 'negative pronator', 'second dose', 'distress respiration', 'heart beat', 'doesnt change', 'reporting only temporary relief', 'stab site patient', 'cheek due', 'top half slumped', 'home inhaler', 'cough productive', 'yof ambulatory', 'unknown speed', 'adventitious lung', 'drainage bag', 'first administration', 'patient strawberry', 'patient cyanotic', 'palpate pedal', 'previous hypoxia', 'time call', 'bowel sound', 'other available insurance', 'consciousness normal color', 'tablet issue', 'large bruise', 'pt pta', 'ask staff', 'complete dose', 'equal smile', 'procedural bed', 'noted urticaria', 'wet sheet', 'family request', 'placed patient', 'female present', 'indicaes satidfactory saturation', 'close monitoring', 'angioedema last year', 'insulin last', 'patient kept grimacing', 'active seizure activity', 'acute cardiovascular problem', 'next pulse chest patient', 'previous fracture', 'erratic movement', 'large hernia', 'stay home', 'stop smoking', 'ekg monitored', 'pt full body', 'stomach area', 'faint carotid', 'lose consciousness', 'right flank area', 'bicyclist struck', 'other food', 'left thigh pain', 'hospice car', 'adult dose', 'glob trotter', 'resus bay', 'medical chart', 'motorcycle accident', 'examination chair', 'moderate amount', 'dialysis today', 'gunshot wound', 'changed insurance', 'alpha side', 'initial report', 'right due', 'basement office', 'none today', 'third toe', 'smoke weed', 'stung twice', 'alcohol recovery facility', 'pulled pt', 'knee amputee', 'shoulder replacement', 'abdominal pain rate', 'other personal', 'scene inform', 'dialysis fistula right forearm', 'collection pt', 'inital complaint', 'original position', 'wound pain', 'significant tenderness', 'lymph edema', 'assist family', 'mucoid fluid', 'good skin color', 'her headache', 'behavioral problem', 'today morning', 'second intervention', 'minimal damage', 'patient seated', 'various other health', 'yro male', 'good square waveform', 'manual pediatric', 'gull stone surgery', 'first time pt', 'previous drug', 'right mastectomy', 'care signature', 'same side', 'ental status improvement', 'sweaty pt', 'match call time', 'much distress', 'obvious instability', 'signature label', 'pain breathing', 'expiratory prior', 'little short', 'chronic discoloration', 'adequate respiratory effort', 'seizure approx', 'ingested illicit', 'lfet humeral head', 'cva htn', 'chronic disability', 'glucose tablet', 'minimal discomfort', 'pt right hand', 'second child', 'door screaming', 'single story single family', 'patient condition change', 'expressed wish', 'new street', 'lasting presentation', 'neb machine today', 'auth rep', 'multiple medicaiton', 'high enough', 'tow company', 'high today', 'breathe better', 'same day', 'left breast', 'front stoop', 'elderly female', 'exam today', 'rectal temp', 'total slow', 'local bar tonight', 'resolve second issue', 'thick mucus', 'second nebulizer due', 'her foot', 'person bit', 'facility suction', 'transport ventilator', 'normal muscular tone', 'patient urged crew', 'tube abnormality', 'separate normal saline', 'midsternal area', 'pts temp', 'care report', 'tidal volume', 'formal diagnosis', 'second successful attempt', 'own name', 'diabetic neuropathy', 'call address', 'third administration', 'pt medication list', 'small elevation', 'muscle usage', 'clear snow', 'black coat', 'sweat shirt', 'hour pta', 'unseasonably warm sunny afternoon', 'bp elevation', 'bed room', 'cold shelter', 'son call', 'urticaria noted', 'doesnt feel', 'other medical', 'purse left', 'possible asthma exacerbation', 'avascular necrosis', 'bed inside', 'pt history', 'nare place', 'privet residence', 'noted needle', 'pain onset', 'single provider cross check', 'pd pt', 'room door', 'noted sz activity', 'shut till', 'arrival ar', 'used home nebulizer approx', 'office type building', 'maintain patency', 'left wrist injury', 'roomate place', 'blue conductive gel', 'several family', 'feel awful', 'glucose checked', 'help feed', 'rate resembling', 'versed administered', 'female semi fowler', 'burning substernal', 'something cut', 'audible fluid', 'improvement patient', 'breath secondary', 'air entry', 'assess sensory function', 'witness section', 'complete dinner', 'local area', 'substantial cardiac', 'family request release', 'right side weakness', 'other elevation', 'real time', 'pt responsive', 'minor respiratory', 'diminished upper', 'home oxygen therapy', 'possible high fever', 'breath unaffected', 'erratic rolling', 'ground beside', 'short shark', 'last incident', 'registration office', 'health care student', 'physical trauma', 'weather change', 'cardiac enzyme imbalance', 'expressive fashion', 'past smoker', 'minor wheezing', 'lap belt', 'severe problem', 'original info', 'bilateral upper lung', 'pt transport', 'significant other noted', 'continuous fluid administration', 'patient presentation', 'constant sharp mid', 'adult male sitting', 'consult health care provider', 'similar type', 'office staff', 'seek medical treatment', 'guppy breathing', 'other information', 'net loss', 'obvious tounge', 'deep breath', 'hospital care', 'pt begine', 'productive cough today', 'bluw tote bag', 'social worker', 'medical interpreter', 'intermittent confusion', 'respiratory function improving', 'facial burn', 'increased hunger', 'car awake', 'mg asa', 'basic adjunct', 'much success', 'unknown insurance', 'adult son', 'obvious moderate respiratory distress', 'severe resp distress', 'peritoneal dialysis port', 'continuous oxygen', 'normal meal', 'online medical direction', 'style meal', 'female pt diff', 'trumpet size', 'normal oxygen saturation', 'right shoulder blade', 'pt mom', 'shoulder become', 'persistent hypoglycemia', 'vehicle struck rt', 'pt diaphoretic', 'available prior', 'impending nausea', 'single home administration', 'side door', 'someone punch', 'cardiac monitor revealing', 'second blood', 'metallic taste', 'possible cholecystitis', 'gauge cathoder', 'medication overdose', 'external trauma', 'playing basketball yesterday', 'good bilateral lung', 'slight irregularity', 'considerable distress', 'same amount', 'decreased level', 'min extrication', 'decline transport', 'pt ate food', 'low rate', 'unremarkable other', 'carried patient', 'pregnant approx', 'good work', 'home hospital', 'tactile stimulus', 'complete sentence', 'er pain', 'side headlight area', 'pt inconsistent', 'excessive salivation', 'iv approx', 'pain beginning', 'party last night', 'normal dealer', 'fr suction catheter', 'tightness retrosternal pain', 'complaint post', 'mm none reactive', 'same pt', 'heavy pressure', 'multi family apartment building', 'half down', 'sob due', 'administered epinephrine', 'radial pulse present', 'acute shortness', 'dollar bill fall', 'adamant pt', 'sensory intact', 'breathe so', 'become worse', 'hand pain', 'unknown quality', 'home multiple', 'ivp report', 'arm injury', 'salvation army', 'tachycardic rate', 'upright couch', 'extricate unit', 'observed baseline', 'pt altered', 'lateral forearm', 'rapid abnormal eye movement', 'white bandage', 'sypathetic response', 'presumed cardiac', 'entire neck', 'abdominal pain call', 'church pew', 'pt hypoxic', 'paramedic supervisor', 'have asthma', 'left kidney', 'left distal leg', 'old surgical scar', 'third party caller', 'different supplier', 'father state', 'bare weight', 'ate breakfast', 'unknown due', 'feel swollen', 'unknown change', 'ground level fall landing', 'weak cyrtoid pulse', 'pt resp', 'abdominal pain priority', 'regular post ictal time', 'ventilation continued upon arrival', 'mg zofran slow', 'provider crosscheck', 'provider drug cross check', 'facility medical record number', 'bit tongue', 'yellowish sputum', 'pt sister', 'her mother', 'complete list', 'her medication', 'normal coloration', 'strike head', 'improvement secondary oral glucose', 'hospice care', 'occlusive pressure', 'methadone treatment last night', 'slight difficulty swallowing', 'fine vfib', 'entire nebulizer treatment', 'status improvement', 'gaining consciousness', 'cheese last night', 'additional blood', 'neg paradoxical movement', 'pt withe adequate', 'myoclonic seizure', 'scene provide', 'endocrinologist tomorrow', 'patient boyfriend', 'minor ride', 'opoid abuse', 'significant labored', 'ext due', 'possible cardiac surgery', 'patent breathing', 'extreme abdominal pain', 'mandibular line', 'distressed due', 'ventilator pt', 'moderate damage', 'furniture today', 'recent contact', 'notable respiratory effort', 'exh whz', 'hallway class room', 'unequal strength', 'significant opiate abuse', 'loud voice', 'jelly sandwich', 'birth month', 'open laceration', 'anticipated narcotic administration', 'tach capnography', 'multi level apartment building', 'dehydration level', 'her motel', 'blood pressure briefly', 'daily planet', 'friend standing', 'numerical number', 'doctor provide', 'expiratory wheezing', 'doctor fix', 'minimal amount', 'reg int', 'subcutaneous tissue', 'right side pain', 'initial result', 'ambulance transport', 'stomach cancer', 'get info', 'pressure bag', 'talk calmly', 'first treatment', 'wheezing present bul', 'arrived second', 'housemate present', 'due neb treatment pt', 'brain surgery', 'pt encounter', 'medical center patient', 'coconut oil', 'etoh today', 'heart beating', 'traffic crash', 'denied pain', 'convincing bronchospasm', 'manual rate', 'assessment noted', 'upper air way', 'cervical stabilization', 'pt applied', 'kidney infection last month', 'improved chest', 'asthmatic exacerbation', 'normal state', 'possible spinal', 'pt wife', 'medical assessment', 'uploaded due', 'kidney transplant', 'bottom row', 'critical medical die', 'bloody urine production', 'nonverbal autistic', 'rest rate', 'medical evaluation', 'good purposeful movement', 'unusual activity', 'peanut butter sandwhich', 'emergency department diversion', 'seizure last night', 'tight chest', 'pelvis intact', 'total protein', 'unsuccessful attempt', 'supplemental home oxygen', 'second prescription', 'unknown medical', 'cigarette ash', 'excessive speech', 'noted human', 'whole event', 'transported due', 'arrival unresponsive', 'patient normal yesterday', 'patient observed', 'only responsive', 'sore throat', 'pt extrication', 'patient today', 'new insurance card', 'rales noted', 'ambulance crewmember', 'alert conscious', 'unknown man', 'private business', 'copious saliva', 'sec pain', 'french toast', 'local methadone clinic', 'cant confirm', 'psychoactive drug influence', 'scene removing', 'motor function present', 'soft nontender', 'male awake', 'scene blood', 'medication refill', 'second heart attack', 'provide further information', 'second staff member', 'respiratory distress pt', 'own albuterol', 'patient contact time', 'white vomitus', 'person sheet slide', 'pain appox', 'rapid breathing', 'patient size', 'same plastic', 'lock est', 'head first', 'capnography wave form', 'her left forearm', 'ankle fx', 'incoherent manner', 'clear mucous', 'worse thing', 'ulcerative colitis', 'psych facility', 'normal work', 'left knee', 'night time', 'rate tachypneic', 'alarm panel', 'normal mental acuity', 'facial instability', 'open word', 'only feeling', 'allow assessment', 'dining room', 'medical care', 'nasal cannual', 'full coherency', 'narrow flight', 'her last hospitalization', 'final effort', 'mm mark', 'ausculable breath', 'aortic valve stenosis', 'fruit juice', 'finger stick glucose check', 'serious bronchospasm', 'line medical control', 'vaginal area minimal', 'behavioral clinic', 'female laying', 'husband rode', 'rear seat', 'lethargic demeanor', 'diabetic problem priority', 'sometime yesterday evening', 'systolic blood pressure', 'tracheal deviation', 'open sore', 'periodically increase', 'third tube', 'sheet draw', 'domestic dispute', 'severe pain', 'trach mask', 'pt cont', 'low flow', 'full range', 'person assist', 'usual daily activity', 'comfortable position', 'didnt care', 'nasal route today', 'neb mask due', 'little shaky due', 'chronic issue', 'pt states normal', 'returned home', 'pt supine', 'male family member', 'vomited ten', 'inline nebulization', 'clinic chair', 'door expressing', 'apparent moderate distress', 'unidentified pill', 'normal saline en route', 'called yall', 'successful due', 'active vomiting', 'dentist office today', 'daughter rode', 'mcg dose', 'transcutaneous pacemaker turn', 'unsteady hand', 'postictal period', 'bougie placement', 'phlebotomy attempt', 'year old male pt', 'allow hospital treatment', 'treatment section', 'witnessed family', 'pain approx', 'pt shakes', 'patient left hand', 'obvious drug', 'negative head', 'sound clear upper lobes', 'incident transport', 'oxygen prescription', 'post treatment', 'upper thigh distal', 'arm numbness', 'night time medication', 'pain described', 'normal doesnt feel', 'female lying', 'nausea last night', 'upper abd', 'pt report', 'public sidewalk', 'thick dark color phlegm', 'crew patient', 'obvious distress', 'recent exacerbation', 'apartment building lobby', 'pt confirmed history', 'cardiology appointment', 'wheezing present', 'overall poor health', 'limited mobility', 'unconscious person', 'denying abdominal pain', 'patient described', 'possible cardiac arrest', 'food substance', 'open heart surger', 'school today', 'ed staff', 'living residence', 'medication reaction', 'last test', 'initial incident', 'saline bag', 'vertical superficial', 'high flow', 'ate food prior', 'new blood pressure medication', 'complete loss', 'reactive dog', 'open front door resistance', 'round mass', 'extra insulin', 'other illicit drug use', 'left side chest pressure', 'room upon arrival', 'man draw sheet', 'audible gurgling', 'pt noted', 'known diabetic', 'lung cancer patient', 'futher change', 'original state', 'hot environment', 'apartment address', 'ovarian rupture', 'sign signature', 'found supine', 'other person', 'her last period', 'several swollen', 'perform proper assessment', 'see pt', 'home health aid', 'portable equipment', 'ham hospital', 'onion chip', 'performed rapid', 'surgical cricothyrotomy', 'allow access', 'new supplier', 'spinal infusion', 'repeat bgl', 'good compliance', 'good bowel movement today', 'frequent hypo', 'repeat auscultation', 'further improvement', 'appropriate waveform', 'limited range', 'temp strip', 'mild diffuse tenderness', 'adequate perfusion', 'hospital alert', 'pt monitored', 'abdominal wound', 'local man', 'urinary continence', 'possible temperature', 'fluttering sensation', 'normal saline minus', 'possible old inferior damage', 'unknown infection', 'administered duo neb', 'yom laying', 'protect own', 'wife expressedt', 'decrease level', 'nitro sublingual', 'left posterior', 'possible side', 'chronic nasal congestion', 'acute bronchitis', 'tube read', 'high risk', 'concert venue', 'place pt', 'diminished breath', 'high rise', 'feeling sweaty', 'terrible night', 'mucosal atomizer', 'resuscitation room', 'funeral home staff', 'magnesium infusion', 'authorized representative', 'main entrance', 'pink pill', 'wine yesterday', 'air oxygen saturation', 'minor hypercapnia', 'sniffed heroin', 'drunk water', 'pulsating mass', 'emergency phone', 'pt blood pressure', 'home healthcare', 'tight pain', 'adequate chest rise', 'home concentration', 'rectal temperature', 'increasedin pain', 'home chair', 'such pain', 'consciousness improvement', 'full tonic clonic', 'last night', 'illregular illregular', 'young girl', 'narcotic waste', 'firefighter rode', 'fistula placement', 'front lawn', 'her face', 'stop shivering', 'scene patient', 'continuous nausea', 'other info', 'playing ground', 'adult male outside signaling', 'coronary occlusion', 'confirmed history', 'original crew', 'abdomen soft', 'begin complaining', 'unresponsive male patient', 'superficial laceration', 'rule cardiac involvement', 'infiltrate present', 'course rhonchi lung', 'regular strong radial', 'back pack', 'possible weed', 'last use', 'public safety', 'upon placement', 'rhonchi left side', 'critical medical rm', 'posterior exam', 'other substance abuse', 'entire time', 'quality improved', 'dry heave', 'adenosine administration', 'posterior tibial pulse', 'recent visit', 'trauma bay bed', 'access ramp', 'funeral home', 'stroke last month', 'partial set', 'patient initial assessment', 'blackout today', 'break room', 'whz approx', 'low oxygen saturation', 'wrong wrong insulin today', 'hypertensive crisis', 'several home', 'clear wit', 'pt tachy', 'other pathology', 'provide insurance info', 'ulcer prevention', 'watery blood', 'large mass', 'international student', 'vehicle hop', 'thick yellow phlegm', 'continued chest pain', 'give much information', 'same situation', 'consistent sinus rhythm', 'bad enought', 'irregular respiratory', 'noted due', 'include insulin', 'trigeminal neuralgia', 'properly oxygenated', 'exact cardiac', 'nose noted', 'sharp abdominal', 'blood loss', 'diabetic last', 'street corner', 'cell offering', 'medial corner', 'patient difficult', 'heroine approx', 'numeric capnography', 'asa administered', 'super glue', 'pt location', 'determined prior', 'post administration', 'drug house', 'heroin use today', 'second friend', 'involuntary muscle', 'many unknown', 'blood pressure medicine', 'weak radial pulse', 'duty rpd officer', 'respiratory distress', 'mixed race', 'case scenario', 'last decent', 'direct visulization', 'breathing adequate rate', 'lobes bilat', 'something sugary', 'bilateral chest rise', 'bilateral pedal', 'point significant abdominal distension', 'weak carotid', 'pt medical hx', 'court room', 'wikth alleviation', 'primary care physician', 'constructive critism', 'possible slight', 'pain radiating', 'spinal tenderness', 'pt indicated', 'discharge dx', 'cerebral edema', 'feeling nausea', 'cancer treatment', 'hypoglycemia episode last night', 'continuos cardiac', 'jefferson town housing', 'interfacility sick patient', 'next door', 'previous puncture', 'amiodarone administration', 'informed decision', 'narcan pt', 'hospitalized multiple', 'continued chest', 'increased edema', 'protocol book', 'purple face', 'indicate decreased breath', 'year old son ws', 'black plastic taped', 'assessment unremarkable', 'clean ekg', 'lumbar midline region', 'color change', 'impaired speech', 'short period', 'open dislocation', 'difficult respiration', 'upon assessment', 'pt wallet', 'right humeral', 'patient dose', 'shift change', 'bilat shoulder pain', 'insulin use', 'pt advised', 'other behavioral', 'pt voiced', 'possible kidney', 'pt walks', 'close door', 'pt remaind aysistolic', 'third time snorting', 'bad stuff', 'medication resupply', 'brief moment', 'medication administration checklist', 'cot frame', 'critical bed', 'transport equipment', 'increased shortness', 'note full medical history', 'ground diarrhea', 'significant decrease', 'left bandage', 'normal saline post administration', 'medical advise', 'intubation performed', 'patient presented', 'specific plan', 'anterior ischemia', 'spontaneous eye', 'revealed respiratory', 'health breakfast', 'apartment building stating', 'occasional agonal', 'upper left arm', 'patient small size', 'hot room', 'agonal shallow', 'advanced directive', 'apt building', 'obvious breathing', 'oxygen adminisration', 'right patella', 'normal capillary refill', 'possible abdominal pain', 'unknown last time', 'gms oral glucose', 'dexamethasone iv', 'scapular tenderness', 'sided pain', 'drain excess fluid', 'yro female', 'region upon palpation', 'agonal improved', 'exact date', 'continuous mechanical', 'funny feeling', 'occasional shortness', 'stable unit', 'shock applied pt', 'short trail', 'other vagal maunver', 'year old male patient', 'assess cardiac rhythm', 'trauma bleeding', 'vcu hospitality house', 'pulse absent', 'outside lying', 'refusal statement', 'right side flank', 'male resident', 'moderate nausea', 'albuterol treatment', 'obvious death', 'pith seat', 'minimal relief', 'diabetic episode', 'ischemic lung tissue', 'mild exp wheezing', 'patrol care', 'verbal responsive', 'seizure event', 'confusion secondary', 'patient ambulatory inside', 'good reading', 'pulmonary disease history', 'stuck pt', 'medication administration', 'fine last night', 'minor abrassion', 'knee strap', 'drugbox change', 'discernible cause', 'side plaza', 'crew cleared', 'unsuccessful due', 'soccer game', 'positive audible', 'have sudden onset', 're assessment', 'sudden onset chest', 'new onset weakness', 'obvious track', 'unremarkable pt', 'inline nebulizer treatment', 'initial hospital choice', 'esophageal spasms', 'low bp', 'upper thigh', 'possible lateral', 'nasal congestion', 'standard state', 'jaw numbness', 'pt state today', 'sacral ulcer', 'opposite leg', 'improved level', 'display intermittent', 'clinical improvement', 'troubleshoot issue', 'golf ball', 'magnesium sulfate', 'party caller', 'multi provider', 'nebulizer several', 'stage cancer', 'heavy delay', 'heavy vaginal', 'borderline personality', 'perioral cyanosis', 'kidney failure', 'large hematoma', 'extensive respiratory', 'transfer paperwork', 'military service', 'obese female supine', 'downstairs neighbor', 'nitro tablet', 'scene starting', 'external dialysis catheter', 'broken thermometer', 'cardiac work', 'seizure call', 'pain other', 'home oxygen tank', 'immediate right upper leg', 'applied tourniquet', 'shallow box waveform', 'emergency room physician problem', 'saline bolus', 'profuse diaphoresis', 'tachypneic labored', 'witnessed seizure activity', 'mitral valve replacement', 'day room chair', 'other damage', 'warm dry', 'suitable location', 'acute respiratory failure', 'improvement secondary narcotic administration', 'sciatic nerve pain', 'mg sublingual', 'periumbilical abdominal', 'staff state patient', 'her treatment', 'room per facility staff', 'other discoloration', 'faint bowel', 'side chest', 'uniform shirt', 'food consumption', 'regular treatment', 'her front porch complaining', 'child seat', 'spiral fracture', 'job interview', 'head side', 'mobile home', 'atrial tachycardia', 'staff pt', 'yo male patient ambulatory', 'side flank pain', 'hand saline', 'secondary treatment', 'slept wrong', 'full cycle', 'gross traumatic', 'hrs last night', 'cervical paraspinal tenderness', 'spontaneous respiratory rate', 'upper half', 'normal depth', 'residual right', 'baseball cap', 'see medical help', 'mother everyone', 'aspirin administration', 'slight confusion', 'medial right leg', 'anxiety disorder', 'ml fluid bolus', 'yof complaining', 'advised crew', 'checked pt', 'regular sinus rhythm', 'sat down', 'further elaborate', 'positive deployment', 'sodium bicarb', 'receive assistance', 'single home', 'hemorrhagin laceration', 'same woman', 'many liquids', 'let crew assess', 'breath state', 'green stuff', 'bedside report', 'hip area', 'multiple vehicle traffic accident', 'deny drug use', 'patient agreeing', 'her porch', 'consciousness approx', 'wide complex ventricular tachycardia', 'drug card', 'work today', 'silver car', 'slow reactive', 'unknown date', 'temporary improvement', 'provider choice', 'pain sub sternum', 'combative nature', 'effected arm', 'left forearm', 'bad day', 'weak carotid pulse', 'staff request', 'pt ate pizza', 'equal bilateraly', 'nare bvm', 'auto accident', 'pt sign refusal', 'patient pulseless', 'equal bilaterall', 'st marys er', 'altered language line', 'left side pressure', 'synocpal episode', 'upon physical exam', 'breath help', 'left external jugular', 'bag yesterday', 'eaten anything', 'portable tank', 'fluid enroute', 'beside mom', 'second level', 'duo neb face mask', 'female subject', 'staff positive pregnancy', 'recent rx', 'wide complex', 'limited space', 'additional staff', 'protect pt', 'body scan', 'slight exp wheeze', 'severe diaphoresis', 'mg amiodarone', 'trachial deviation', 'transient episode', 'fire company', 'know policy number', 'next thing', 'current shortness', 'arrival tonight', 'sinus rhythm', 'increased dizzyness', 'nasal canaula', 'generalized tenderness', 'unreactive pupils', 'same residence', 'strong peripheral', 'routine treatment', 'recent trauma alcohol', 'dark vomit', 'ashy grey', 'pain assessment', 'leg ladder splint', 'pt denied chest pain', 'blue tie', 'noticed swelling', 'previous history', 'wife hit', 'proper ventilation', 'hypoglycemic episode last week', 'audable wheezing', 'open front door', 'pulmonary embolism', 'pleuritic chest pain', 'constipation relief', 'negative distention', 'difficult extrication', 'pt rolling', 'new onset', 'experience shortness', 'pulled old', 'pt refusal', 'further medical history', 'er today', 'constant direct visualization', 'met resistance', 'home medical bed', 'assist ventilation', 'slow breathing', 'room mate', 'visual disturbance', 'arm lying', 'genitalia stable', 'end expiratory', 'school health', 'mid epigastric region', 'hearing problem', 'patient deceased', 'immobilized patient', 'initial oxygen saturation reading', 'third male standing', 'abdominal pain compliant', 'health care staff', 'performed enroute', 'waxy appearance', 'report surgical history', 'right ac', 'ad dry', 'rate decrease', 'light headedness pta', 'saturation level', 'neg erythema', 'low sugar', 'pt stood', 'initiated transport', 'broken elevator', 'spastic behavior', 'asa po transport', 'noted pt', 'headache rating', 'slow step', 'water today', 'hypoglycemic episode', 'large group', 'initial respiratory effort', 'abnormal shape', 'medication pump', 'patient unsure', 'provide information', 'boxwood building', 'room unresponsive supine', 'rebreather mask', 'pelvic injury', 'vague information', 'travelling approx', 'unclear arm', 'much time assisting', 'home oxygen concentrator', 'blood sample', 'only minimal response', 'fire stand', 'transport her', 'decreased urination', 'pt inability', 'deep inspiration', 'help secure truck', 'tightness sensation', 'neighbour call', 'eat cereal', 'other stent', 'apparent neurological', 'previous health', 'whole adult', 'building unresponsive', 'need help man', 'patient denies', 'experience difficulty', 'pt yelling', 'line neb', 'anterior aspect', 'suctioned multiple', 'own strength', 'possible sz activity', 'home couch', 'wound approx', 'patent trachea midline', 'band width', 'provider captured patient', 'patient denied', 'head pain', 'other bleeding', 'pulse troughout', 'adequate abc', 'appropriate exit', 'hip pain', 'last hospitalization', 'gotten much worse', 'female complaining', 'quick response', 'incresed weakness', 'en route', 'weak central', 'accesory muscle use', 'black tote bag', 'pt vocal', 'combative stating', 'poor appetite', 'bowl motion', 'iron deficiency', 'further care stating', 'physical impairment', 'medication cross check procedure', 'abdominal ultrasound', 'intermittant chest', 'kidney stone pain', 'emission basion', 'pain get worse', 'apparent syncopal', 'stridor heard', 'equal weakness', 'report incident', 'draining bloody emisis', 'adequate tidal volume', 'reliable meausrement', 'negative extremity drift', 'clinic room', 'neb treatment administration', 'patient immobilized', 'cord injury', 'funeral service', 'officer assumed custody', 'provide list', 'hyperactive state', 'talkative entire', 'slow way', 'maintain oxygen', 'occasional pvc', 'breathe funny', 'nursing shift', 'alert stating', 'left side hand', 'single familiy home', 'correct address', 'jerking motion', 'pulse present', 'patient intubated', 'right shoulder pain', 'pt lying face', 'first other', 'tube confirmation', 'full cardiac monitor', 'ground floor', 'current difficulty', 'cognitive gap', 'few artifical', 'unresponsive body', 'white vehicle', 'abnormal menstrual cycle', 'little air movement', 'give verbal', 'tight expiratory', 'residential senior', 'second neb', 'pt skin warm', 'assess deliberate', 'moderate superficial abrasion', 'allergic rxn', 'pt upper', 'little powder', 'dark color', 'mid umbilical pain', 'patient care transferrd', 'wife poor historian', 'gathering equipment', 'find hyperactive male', 'focal weakness', 'intermittent epistaxis', 'mild distress', 'left urgent care center', 'specific diagnosis', 'finger amputation', 'employee down', 'destination pt', 'anterior nothing', 'mild discomfort', 'police stand', 'included decrease', 'fluid poured', 'vodka lying', 'critical pt', 'ot er staff', 'facility vs preferred facility', 'different person', 'treatment crew', 'frequent atrial', 'access delayed', 'unresponsive male pt supine', 'exam table inside room', 'business call', 'her hip', 'equal bilaterlaly', 'assigned bedside', 'year old female difficulty', 'insurnace card', 'scoop stretcher', 'elderly adult female', 'current symptoms', 'pt asthma', 'loud verbal stimulation', 'broken metel fence', 'hospital transport', 'urticaria present superior', 'motel room floor', 'visible seizure activity', 'sign tab', 'crew access', 'several round', 'opiate abuse', 'current status', 'metal spoon', 'pt registration', 'food down', 'other signature', 'active hepatic cancer', 'normal treatment today', 'subsequent overdose', 'driver side', 'single story town home', 'pregnant last week', 'access residence', 'headache become worse', 'correct endotracheal tube placement', 'inline nebulizer', 'obvious dyspnea', 'large bump', 'patient mother', 'truck pt', 'productive high pitch cough', 'discomfort level', 'prescribe last night', 'have partial seizure activity', 'mm elevation', 'provider oversight', 'shallow tachypneic irregular', 'duoneb tx', 'loss possible arterial bleeding', 'lock attempt', 'pediatric cardiac arrest', 'abnormal edema', 'upper lobe', 'healthcare staff', 'rapid pt turnover', 'book bag', 'vaginal cancer', 'extremity amputation', 'illregular rate', 'make food', 'comfort straps', 'marijuana use', 'uncuffed pt', 'substernal pressure', 'working telephone number', 'current state', 'potential nausea', 'answer anyone', 'present state', 'chronic smoker', 'slight deformity', 'have multiple', 'facility staff state', 'oral glucose tubes', 'unknown medical history', 'friend state pt', 'brief syncopal', 'ambulatory male pt', 'flank pain', 'improved respiratory function', 'old scar', 'active green mucous production', 'change anything', 'cardiac stress test', 'contusion present', 'patient encounter', 'strenuous activity', 'hospital pt', 'initial rhthym', 'retreat hospital', 'fall asleep mid conversation', 'acute infarct', 'oral trauma', 'labored effort', 'easier clearance', 'negative epigastric', 'paced rhythym', 'possible cardiac event', 'ableto speak', 'first unit', 'full name', 'sixth floor', 'child care', 'street curb', 'fire personel', 'use home', 'suction tube', 'cinema location', 'porch step', 'her stomach', 'right upper quadrant', 'additional defib', 'pt blood sugar', 'foot tall brick wall', 'iv administration', 'last asthma incident', 'insulin pump right side', 'good airflow', 'suction pt', 'alley entrance', 'poor cap refill', 'unknown length', 'inserted pt', 'chest compression', 'couch unconscious', 'jail medical staff', 'hear pt moaning', 'vehicle pt', 'stretcher safety', 'advise caller', 'other visible', 'dystonic reaction yesterday', 'gain insurance info', 'provider cross', 'lot today', 'left femur', 'upper teeth', 'head movement', 'er bed', 'several recent', 'bug repellent', 'dry tongue', 'unknown problem male slump', 'obvious sternocleidomastoid', 'wife heard', 'recent dental history', 'prolonged expiratory phase', 'per secondary request', 'extended phase', 'further assess', 'static postion', 'mg epinephrine', 'other male', 'ambient temperature', 'secondary fall', 'right upper abdominal quadrant', 'incident due', 'several venipuncture', 'unknown dose', 'second breathing treatment', 'clothing onto', 'pt age', 'stretcher outside', 'yellow bed', 'pmh mi', 'weekly pill box', 'overdose third unit', 'section hall bed', 'last similar episode', 'room critical bay', 'original patient', 'diabetic person', 'focal seizure', 'cranberry sauce', 'driver license', 'scene rode', 'staff inform', 'dry ceral', 'floor beside', 'degree heart', 'first treatment reservoir', 'weak palpable', 'arrival hospital staff', 'intermittent respiratory distress', 'mentation today', 'transferred care', 'overall weakness', 'pt grimacing', 'her kitchen leaning', 'right hand', 'beauty supply shop', 'same type', 'begin vomiting', 'divided dose', 'initial agonal', 'business state pt', 'epigastric pain radiate', 'small gauge', 'pain pill use', 'breast cancer diagnosis', 'supplement oxygen', 'pt nurse choice', 'right proximital tibia', 'problem enroute', 'suctioning prior', 'daily lunch trip', 'pt benefit', 'folic acid', 'family convinced pt', 'necessary information', 'complete responsiveness', 'facal droop', 'itchy throat', 'non labored', 'specific injury', 'heel pain', 'right side', 'ekg noted', 'possible baseline', 'patient taking', 'feel better', 'unstable gait', 'cervical rod placement', 'brand new today', 'pt signature', 'empty stomach', 'increased stress', 'bath tub', 'bilateral mild', 'continuous suction', 'husband felt transport', 'avoid assault', 'supervise patient', 'speech impairment', 'keep anything', 'gastric ulcer', 'possible acidosis', 'lock box', 'whole arm', 'heroin use problem', 'psych history', 'baseline vital', 'remarkable improvement', 'black female lying supine', 'sepsis pt', 'improvement secondary fluid administration', 'weak pt', 'patient resistance', 'new signature', 'registration while', 'own oral glucose', 'pt struck', 'sharp mid', 'resident complex', 'infarct location', 'spontaneous ocular motor', 'right side tib fib', 'open bag', 'same manner', 'hospital bracelet', 'glucose unable', 'last night feeling', 'measure blood sugar', 'high risk pregnancy', 'pt address', 'injured son', 'apartment prior', 'nitro tabs', 'bedroom prone', 'last asthma complication', 'boyfriend patient', 'moderate vomiting', 'tonic clonic seizure', 'ongoing exacerbation', 'heroin tonight', 'clammy pale cool', 'previous cardioversion', 'peripheral vein', 'fluid warmer', 'clear due', 'increase ease', 'staff upon', 'pt walked', 'report apparent seizure', 'administration pt', 'non reactive', 'today worse', 'additional medical information', 'intermittent due', 'half hour', 'new dealer', 'bed side', 'accessory muscle use present', 'padded board', 'cardiac arrest patient', 'present situation', 'feeling sob', 'regular diabetic patient', 'only info', 'head look', 'someone drive', 'current psych', 'significant area', 'ausculable epigastric', 'secure head', 'urine collection bag', 'torso area', 'male left', 'patient contact patient', 'accident occured', 'poor quality', 'opposite wall', 'medical staff', 'substantial amount', 'pain abut', 'water bath', 'present lung', 'doctor last week', 'registration person', 'unkn etiology', 'corrodid pulse', 'floor inside', 'recheck post', 'morning briefly', 'naval line', 'mac blade unsecessful', 'inch vertical laceration', 'unspecified respiratory problem', 'trauma team', 'extensive mental health history', 'abdominal distrention', 'hard time passing', 'overall improvement', 'past day', 'carotid pulse present', 'pt contact time', 'morning cup', 'mild sedation', 'son rode', 'pain control', 'monitoring anf fluid administration', 'purse kept', 'insurance provider name', 'noted mouth', 'chest pian', 'reproducible pain', 'maintain monitoring equipment', 'finished water', 'tachycardic sinus', 'living area', 'gray turner sign', 'lasting apportion', 'provider impression pt', 'lateral hip', 'scene departure', 'good waveform capnography', 'different wifi', 'expeditious ability', 'involuntary movement', 'further evaluation', 'turnover report', 'described above', 'labored due', 'intermittent nausea', 'side humeral head', 'window sill', 'home chair lift', 'obvious gallop', 'her condition', 'substernal chest pain', 'cardiovascular surgery', 'exam room', 'check pt', 'expritory phase', 'find male unresponsive', 'feel ill last night', 'triage department', 'pt seated', 'antibiotic therapy', 'strength appropriate', 'borderline tachycardiac', 'first floor medical office', 'quick turnover', 'leftover tissue', 'grocery store', 'immediate confirmation', 'front pocket', 'her son', 'discernable personal', 'rapid respiratory rate', 'jail awake', 'auto pulse malfunction', 'frequent dehydration', 'notified enroute', 'small rapid', 'heart medication', 'cease resucitation', 'overdose arrest', 'pulse check', 'transort infusion', 'time change', 'become bradypneic', 'additional change', 'extreme amount', 'obvious external', 'frontal portion', 'immediate distress', 'sternal pain', 'initial evaluation', 'middle aged female', 'pt oral pharynx', 'ventilatory support', 'ate bad pizza', 'minor nausea', 'information regarding', 'epi io', 'time last week', 'pedestrian struck', 'patient found', 'similar patient', 'improved state', 'flat due', 'regular medical care', 'right testicle', 'ekg bradycardia', 'baseline mentation', 'pt arrived', 'shallow laceration', 'other flu', 'patient pressure', 'wheat bread', 'dashboard deformity', 'white sputum', 'equal grips', 'pulling type pain', 'auscultated lung', 'year old daughter', 'medication rx today', 'pt restrained', 'single episode', 'blue liquid', 'noting hemodynamic stability', 'normal diaper', 'respiratory alkalosis', 'patient tolerating transport', 'continued bvm', 'opioid drug use', 'full patient history', 'several angry', 'right side paralysis', 'transfer self', 'sugar book', 'previous cardiac arrest', 'drinking water', 'per girlfriend', 'onscene crew', 'left side sharp chest', 'acceptable rate', 'motor sensation', 'other status', 'unknown last', 'normal orientation', 'prosthetic leg', 'stage kidney failure', 'hypotensive state', 'year old male unresponsive', 'unconscious unresponsive pt', 'her oxygen', 'slight dizzyness', 'girlfriend pt', 'wrist pain', 'first ambulance', 'flu medication', 'extremity attempt', 'second assessment', 'recent health history', 'normotensive blood pressure', 'dry mucosal', 'first attempt', 'gastric reflux', 'numerous small', 'secondary device', 'chicken broth', 'physician request', 'apparent involuntary jerking', 'blood volume loss', 'capnography sensor', 'patient felt', 'inline duoneb', 'family dog', 'escherichia coli', 'receive pt', 'secure pt', 'little dizzy', 'care transfer', 'drug paraphenalia', 'clinic today', 'temperature today', 'long enough', 'lateral leg', 'sick person', 'feel weird', 'hit anything', 'cooking sausage', 'adventitous breath', 'regular pulse', 'left pant leg', 'physical impairement', 'emergency room', 'pain value', 'smoke inhalation', 'apparent distress', 'symbicort inhaler', 'time unit', 'rollator walker', 'alert status', 'respiratory function', 'hot water', 'poss cardiac arrest', 'previous vomiting', 'whole way', 'psyciatric issue', 'family member', 'patient pupils', 'syncopal episode yesterday', 'fx ribs', 'peanut allergy', 'voluntary movement', 'torso straps', 'gather pt', 'pt medication', 'her asthma', 'clear bilateral breath', 'posterior head', 'repeat nebulizer treatment', 'clean sheet', 'group therapy', 'motorized stair chair', 'healthcare provider', 'patient acceptance signature', 'provide emergent', 'hospital ventilator', 'constant substernal', 'unresponsive condition', 'find pt supine lying', 'report dizziness', 'office building', 'drainage bulb', 'evaluation pt', 'her last asthma attack', 'mild change', 'viable child', 'pt seat', 'outside apartment', 'dorm room', 'soft tissue', 'lateral malleolus', 'assessment change', 'sought medical attention', 'drug abuse', 'zofran administration', 'glass door', 'friend change', 'right occiput', 'beer last night', 'right upper arm pain', 'her residence last night', 'injury packet', 'cocaine use last night', 'st segment', 'inferior lip', 'bleeds noted', 'full treatment', 'partial complex seizure lasting', 'exact amount', 'brachial artery', 'attempted die', 'further dose', 'empty tub', 'lateral deviation', 'face pt', 'focal sz', 'past usage', 'rate severity', 'rollator seat', 'upper gunshot', 'restroom trailer', 'ox rise', 'scene time', 'palm size', 'nausous right', 'condition unchanged enroute', 'gross disarray', 'low saturation', 'laceration approx', 'other hospital', 'cement sidewalk', 'metacarpophalangeal joint', 'stabilization treatment', 'warm ambulance', 'extension ladder', 'severe allergic reaction', 'gas company', 'hostile scene', 'patient lying', 'temporal epidural hematoma', 'slight weakness', 'normal dialysis', 'green sputum', 'family info', 'abrasive road', 'yesterday night', 'administer normal saline', 'additional orange', 'hospital house', 'fetal position', 'recent fever', 'unchanged en route', 'patient thought', 'obvious apparent distress', 'wheelchair beside', 'mask duoneb', 'safer access', 'right nipple', 'home physical therapist', 'pt stay', 'postical period', 'asa po', 'rhoncherous lung', 'reading sinus rhythm', 'intermittent dyspnea', 'normal flow', 'obvious issue', 'picked pt', 'peg tube', 'possible asthma attack', 'complex elevator', 'increased rate', 'mobile home park', 'bladder area', 'care giver', 'patient noted improvement', 'elevated heart rate', 'pt verbalized decrease', 'appropriate turnover', 'mean time pt', 'med compliant', 'irregular pattern', 'generalized abdominal', 'steroid use', 'slight facial droop', 'insuling her doctor', 'hospital style', 'skin nwd', 'ipratropium bromide', 'daughter near vehicle', 'fatty liver disease', 'mild cough', 'continue care', 'same time last year', 'sulfate drip', 'much energy', 'ground face', 'arthritis pain', 'fluid therapy', 'primariliy heard', 'weak respiratory drive', 'pt states nothing', 'portable bathroom trailer', 'representative signature', 'pt preference', 'methadone clinic', 'peg site', 'correctional office', 'nausea vomiting', 'administration checklist', 'good bag compliance', 'contrast dye', 'worsening abdominal', 'someone pick', 'family reported pt', 'dark tarry stool', 'tube inducer', 'drug use today', 'wet skin', 'collar bone', 'lung problem', 'similar incident', 'sor discomfort', 'other injury', 'drug overdose', 'short averaging', 'side flank', 'side facial droop', 'convince pt', 'mildly slow', 'previous allergic reaction', 'ineffective spontaneous', 'pt husband', 'other medical treatment', 'right carotid pulse', 'pt dyspnea', 'specify amount', 'calm patient', 'focal neurological deficits', 'work place', 'alcohol yesterday', 'park path', 'chest tightness', 'snorting heroin tonight', 'elementary school', 'residual wheezing', 'pt hit', 'insulin dependent', 'patient claimed history', 'inconclusive due', 'extreme nausea', 'answer question', 'constricted pupils', 'leg approx', 'non tender', 'central access', 'request lue', 'eat dinner last night', 'poor capillary refill', 'erratic constant movement', 'fluctuating mental status', 'movie theatre', 'pt dry', 'intra nasal', 'store floor', 'dialysis pt', 'colostomy bag', 'dry heaving', 'head injury last week', 'office bed', 'soft splint', 'today approx', 'her left hand', 'dentist today', 'secondary admission', 'sedative effect', 'doctor appt', 'pt respiratiory effort', 'additional medical history', 'basketball court', 'altered mentation', 'first arrival', 'past week', 'minor improvement', 'pink sputum', 'last bowel movement', 'small dose', 'limited relief', 'yo male subject', 'heroin addict', 'steady flow', 'pinky finger', 'way yesterday afternoon', 'foot pain', 'confirm history', 'assess orientation', 'full dialysis', 'er due', 'narcotic admin', 'today difficulty', 'female hypertensive', 'rhonchi lung', 'agonal respiration', 'desk chair', 'discharge paperwork', 'ecg accu check', 'last good meal', 'speak answer', 'resource team', 'status en route', 'significant deformity', 'recent travel', 'bench seat', 'give report', 'soft cravat', 'complete relief', 'red pick', 'assess patient', 'ahard stick', 'affected extremity', 'naloxone administration', 'previous heroin use', 'substernal sharp', 'feeling funny', 'female conscious', 'grease fire', 'low dose aspirin regiment', 'other associiated sx', 'pt baseline mental status', 'resent trauma', 'medical campus', 'jugular vein distension', 'heart pounding', 'general wellness', 'dfib pt', 'husband unsure', 'outdoor patio', 'volunteer rescue', 'street bench', 'combative state', 'answer simple', 'receiving mechanical ventilation', 'hospital rhonchi heard', 'proximal anterior thigh', 'heart rate', 'medical procedure', 'ga iv', 'her throat', 'residential area', 'unremarkable cardiac', 'fluids administration pt', 'briefly awake', 'rectal area', 'right knee laceration', 'pt sensorium', 'portable vent', 'actual temperature', 'male seated', 'ictal state', 'left extremity', 'indicated hemodynamic stability', 'access point', 'upper right abdominal', 'yo male awake', 'left elbow', 'dexamethasone withheld', 'fentanyl patch', 'stiff rigid position', 'pt voiced improvement pt', 'expiration date', 'time patient mentation', 'monitor cardiac output', 'pedigree information', 'billing informtion', 'heart transplant', 'nurse practitioner', 'reveal rhonchi', 'saliva production', 'sudden improvement', 'nebulizer today', 'cc syringe', 'bariatric patient', 'extremity strength', 'appoitment tomorrow', 'immobilize extremity', 'patient demonstrated', 'manic episode', 'main stretcher outside', 'previous episode', 'patient mom', 'show improvement', 'better today', 'beaufont healthcare', 'take none', 'hair line', 'gathering history', 'significant amount', 'single family home', 'pain tender', 'social work', 'additional sublingual', 'single family house', 'oral adjunct', 'severe dizziness', 'second toe', 'sclera pink', 'pt guarding', 'twisted right knee', 'facility social worker', 'low hemoglobin', 'high heat', 'allergy status', 'fourth dose', 'pale clammy', 'driver seat', 'floor aparment', 'instructed crew', 'temperature sticker', 'assistance ofher husband', 'call box', 'tolerate shoulder', 'recent gall bladder surgery', 'broken arm arm', 'pt move', 'chest wall excursion', 'adult male reporting', 'pt accept treatment', 'campus dormitory', 'stuttering episode', 'autopulse board', 'sinus tache', 'other recent', 'bleedy emesis', 'gait steady', 'pt remain calm', 'care provider', 'doc appointment', 'need oxygen', 'pt understood nature', 'additional evaluation', 'airbag deployed', 'tracheal distention', 'found pt lying', 'insulin yesterday', 'supra groin tender', 'facilitate assessment', 'low pulse ox', 'right hip pain', 'pt nothing', 'single gunshot wound', 'little headache', 'daughter present', 'striking anything', 'problem last month', 'selection dose', 'further assistance', 'seek medical care', 'agonal breath', 'her menstral cycle', 'couple dozen', 'change plan', 'food bag', 'head lac', 'room yesterday afternoon', 'possible inferolateral depression', 'extremity equidistant', 'current vent', 'regular pedal', 'administered po', 'family didnt', 'sinus tachy', 'cold pale', 'morning starting', 'normal room air', 'last thing', 'moderate respirtory distress', 'mild tonic clonic sz', 'moderate distress family', 'neck pain', 'reveal expiratory', 'move furniture', 'idiopathic angiodema', 'foot pursuit', 'pt assured', 'last neb treatment', 'call volume', 'supplemental oxygen', 'shockable rhythm', 'examination patient', 'anterior hand', 'clean shirt', 'new box', 'paradoxical breathing', 'glucose check', 'front passenger', 'neb treatment albuterol', 'anterior part', 'small lack', 'uncooperative wont follow', 'new connector', 'pt last night', 'pulse regular strong', 'expressed concern', 'day smoker', 'obvious increased rate', 'patient incontinent', 'little muscle mass', 'home concentrator', 'drug admin', 'pt felt', 'poured ice water', 'combative fashion', 'follow second', 'chronic pian', 'yo female sick person', 'thick mucous', 'patient stepmom state', 'per daughter', 'motor movement', 'pt slow', 'try treatment', 'continued discomfort', 'external defibrillator', 'patient representative', 'coarse expiratory', 'deny history', 'quality pt', 'success today', 'possible syncopal episode', 'left humeral head', 'medical center', 'equipment contamination', 'upper respiratory infection yesterday', 'hx htn', 'doc signature', 'yo female ambulatory', 'make contact', 'patient deny drug use', 'base line last night', 'nose bleeding', 'intermediate hall', 'apparent nonpurposeful asymetrical motor', 'initial narcan administration', 'other evidence', 'multiple positive', 'unsuccessful needle', 'house party', 'other menstrual', 'office staff report pt', 'attempt restraint', 'low pressure', 'shallow resps', 'manual cuff', 'clear airway', 'contact child', 'staff signature', 'crew staged', 'mailing address', 'monitor put', 'patient sleeping', 'mitral valve insufficiency', 'equipment replenishment', 'near total relief', 'aganol respiration', 'several different family', 'box cutter', 'occasional pacer', 'pt left knee', 'provide complete medical history', 'pit bull', 'poor lung', 'mental state', 'mg po', 'report patient', 'narrow identification', 'law enforcement choice', 'tube present', 'family provide', 'cyanosis decision', 'small office area', 'major bleed', 'other previous medical history', 'dark red stool', 'light sleeper', 'call tomorrow', 'regained spontaneous', 'sodium bicarbonate', 'inch nitroglycerin paste', 'first day', 'become apparent', 'hospitality house elevator', 'gastro paresis', 'patient insurance information', 'unknown new cardiac issue', 'become lethargic', 'candy bar', 'cardiac monitor sinus', 'excessive amount', 'little information', 'bad reaction', 'toilet bowel', 'ambulated due', 'heavy sensation', 'old connector', 'red light', 'clear understanding', 'shirt sleeve cut', 'entered room', 'room residence', 'intermittent seizing', 'short box wave', 'upper legs', 'wear cardiac', 'slow flush', 'home awoke', 'undiagnosed infection', 'labs drawn', 'carry pt', 'mild expiratory', 'female companion', 'pt last ate', 'emergency room last week', 'adventitious breath', 'pressure yesterday', 'midline sternal surgical scar', 'stab wound', 'facility statement', 'medical center pedriatriac', 'patient threw beer', 'heave pressure', 'active shunt', 'grip strength', 'distention noted', 'bilateral expiratory wheezing', 'obtaine insurance', 'power chair', 'sugar level today', 'duoneb treatment', 'transport request', 'same result', 'third treatment', 'seat wall', 'leg crack', 'audible expiratory', 'closest available unit', 'female lying supine', 'emergent interfacility transport', 'assisted her', 'eat something', 'state onset', 'observable decrease', 'inhaler daily', 'bad enough', 'want help', 'find other viable', 'clear upper', 'low leg', 'vodka last night', 'fourth administration', 'gastric endoscopy', 'gauge normal saline', 'other deformity', 'low due', 'alcohol use last night', 'severe work', 'discharge home', 'several reoccurrence', 'exhibit agitated behavior', 'post fluttering', 'ga left', 'yoa male', 'dorm room bathroom', 'numerous rhythm', 'electrolyte imbalance', 'venous sample', 'other family', 'albuterol tx', 'trauma bay report', 'segment depression', 'understood risk versus', 'trouble urination', 'dialysis treatment today', 'post op pain', 'successful treatment', 'humerus head', 'tibial pulse', 'home neb treatment', 'baseline home oxygen level', 'capno nasal cannula', 'police officer bc', 'nothing left', 'lethargy improved', 'substance abuse', 'battery failure', 'ankle monitor', 'plaza parking lot', 'notable diaphoretic', 'whole time', 'food today', 'decreased resps', 'broken balcony', 'chair pt', 'duo neb patient', 'ordered cease resuscitation', 'physician staff', 'baseline set', 'examination room', 'primary role', 'private room', 'cuff patient hand', 'behaviour disturbance', 'new onset edema', 'normal amount', 'unchanged state', 'other appropriate', 'long patient', 'small black sedan', 'optometrist office', 'oropharyngeal airway', 'apparent difficult breathing', 'current leg', 'cc flush', 'narrow corridor', 'air saturation', 'small carbon', 'spontaneous pneumothorax', 'request assistance', 'change enroute', 'granddaughter call', 'due pt', 'ate cereal', 'previous incidence', 'visible hemorrhaging', 'bowl movement', 'dangerous amount', 'plasma donation today', 'block wall', 'facility request', 'kitchen table', 'diffuse wheeze lung', 'pms gait', 'spine injury', 'patent airway', 'feeling much better', 'patient patient', 'oral cavity', 'find female pt', 'little nausea', 'medical necessity', 'manual pressure held', 'similar presentation', 'stool inside', 'administered sublingual', 'oral suction', 'first degree', 'current medical problem', 'anything po', 'face jaw', 'unconscious call', 'physician signature', 'distal end', 'active tonic clonic seizure', 'continued assessment', 'cc bag', 'first dose', 'person sheet', 'laceration site', 'rightward gaze', 'auscultation breath', 'home lying', 'stone walkway', 'other medical condition', 'revealing sinus', 'previous past medical history', 'medical center room', 'male operator', 'apparent puncture wound', 'snorted heroin', 'upper quad', 'vague story', 'patient respiratory effort', 'cardiac dysrhythmia', 'response time', 'provide insurance', 'home phone', 'noon day', 'recognize presence', 'poor condition', 'nausea today', 'route obstruction', 'shallow rapid respiration', 'down her', 'full dialysis treatment yesterday', 'minimal report', 'city beach bar', 'crack use', 'boiler room', 'administering oral', 'aortic dissection', 'large hematomas', 'pulse intact', 'uncross her', 'second transport unit', 'single story', 'patient administered duoneb treatment', 'call consist', 'few spontaneous', 'possible down time', 'left arm numbness', 'open elevator', 'abnormal vaginal', 'indian style', 'pt sniffed heroin', 'patient left', 'dentist office', 'right wrist saline lock', 'monitor patient condition', 'diabetic status', 'assessment section', 'get exact timeframe', 'immediate increase', 'whole day', 'brain surg', 'have increased rate', 'unknown age', 'personal endocrinologist', 'baseline per patient', 'bag compliance', 'poor vision', 'episode today', 'head trauma', 'past several', 'chest pain yesterday', 'pressure tourniquet', 'cheese sandwich', 'left pinky finger', 'jaw trust', 'strong peripheral pulse', 'last ultrasound', 'surgery center', 'cutaneous circulation', 'airway cleared several', 'richmond community hospital', 'breath outside', 'side table', 'current episode', 'inside home', 'cardiac rhythm disturbance history', 'first check', 'specific area', 'tenderness noted', 'male report', 'pelvic region', 'respiratory distress noted', 'receive today', 'last kidney stone', 'prescribed amoxicillin', 'nitro paste', 'indicate expiratory wheezing', 'fence post', 'nm post tx', 'lasting much shorter', 'stretcher ad', 'pt trachea', 'sternal rub', 'visual distress', 'pt ran', 'accurate reading', 'entire abdominal wall', 'lateral rotation', 'chest expansion', 'absent bowel', 'nebulizer machine', 'school bus', 'pt stated nausea', 'heroin use', 'proximal medial', 'light headedness', 'states patient', 'reflect correct chronological order', 'notable room air', 'public transit bus', 'home peritoneal dialysis', 'recreational heroin use', 'reciprocal elevation', 'trash bin', 'general malaise', 'info incomplete due', 'slow regain', 'prednisone started yesterday', 'acute pedal edema', 'other previous cardiac history', 'pressure felt', 'nasal canuala', 'foreign body', 'supine next', 'upper field', 'normal activity', 'entire dose', 'demographic medical paperwork', 'right proximal tibia', 'chest pressure', 'sinus tach arrhythmia', 'combivent treatment', 'brand peanut butter', 'bicep unsuccessful', 'light palp', 'breathing treatment', 'due date', 'regular dealer', 'inhaler yesterday', 'mcg fentanyl en route', 'periumbilical area', 'narrow complex', 'mesaure inital', 'starting hurtin', 'dual neb treatment', 'ippenham hospital', 'pt located', 'post arrest', 'airway intact', 'advise male', 'pedis present', 'right arm injury', 'medical facility day room', 'dose left nare', 'symmetrical chest expansion', 'receiving staff', 'short tranx', 'little movement', 'provide date', 'large palm', 'lift vehicle', 'patient signed', 'cool dry', 'narcotic drug administration', 'pain inc', 'possible update', 'cookie today', 'surgical site', 'find male pt', 'inline duoneb treatment', 'pt tx', 'pupil response', 'bougie assistance', 'age appropriate behavior', 'son report pt', 'security guard', 'couch chair', 'pain management last night', 'patient feeling', 'active complaint', 'perpendicular pool', 'muscle mass', 'slight diaphoretic', 'fall down', 'car move', 'mild shortness', 'ekg sinus rhythm', 'diaphoretic male pt', 'hand method', 'first acquisition', 'thin skin', 'mg dose', 'surgical consult', 'baseline confusion hampered assessment', 'palpable pulse', 'call information', 'last hour', 'decreased motor', 'back yard', 'couch unresponsive', 'eat food', 'second car', 'chest rise fall', 'table pt', 'recent hospital admission', 'history kidney disease', 'potential basilar skull fracture', 'normal range', 'full seizure', 'become raspy', 'appear normal size', 'lock door', 'flexed hip', 'thyroid surgery', 'use stretcher', 'horizontal laceration', 'treatment program today', 'peripheral pitting edema', 'ed report', 'experienced chest pain', 'overnight area', 'intravenous push', 'pd rode', 'heavy object yesterday', 'appropriate ventricular', 'sudden onset', 'current htn', 'access security', 'posterior forearm approx', 'anti psych', 'pale diaphoretic skin', 'limb lead reversal', 'police officer', 'ankle pain', 'outside dancing', 'standing paient', 'someone yesterday', 'minimal constriction', 'car accident', 'empty suboxone fall', 'oh lord', 'breathing rapid', 'bring drawn', 'mixed use', 'glucose tab', 'pt mom choice', 'pt unresonsive', 'ankle injury', 'heart strain', 'saline flush', 'current heart rate', 'unusual behavour yesterday', 'blood approx', 'fluid challenge', 'left buttock', 'breathing tx', 'circulatory status', 'staff saw', 'pt lying supine', 'atrial fibrilation', 'find female alert', 'difficulty yesterday morning', 'someone ran', 'structure fire', 'syncopal attack', 'pole whole crew', 'wall tenderness', 'capnography post', 'femoral pulse present', 'answer provider', 'intense pressure', 'manor residence', 'male lying prone', 'remember anything', 'breath tonight', 'bilateral foot pain', 'mid umbilicus', 'open her', 'left ankle injury', 'relief pt', 'other complaint', 'anterior wrist', 'posterior arm', 'bilat strength', 'become available', 'full list', 'wall outside', 'logistic vehicle', 'medication intervention', 'officer signature', 'gray sedan', 'man lift', 'phsyical therapy', 'mom carried pt', 'care transferred', 'pt assessment', 'patient begin', 'resemble track', 'proper insurance', 'patient mentation', 'upload cardiac monitor', 'special equipment', 'small sedan', 'speak coherent', 'right tibia', 'empty space', 'mild burning sensation', 'low grade fever', 'provider drug card check', 'drug exchange', 'initial vital', 'head area', 'sudden intense pain', 'per protocol', 'recent medical', 'alcohol intoxication', 'initial assessment', 'ambulatory female pt', 'red blood', 'tube secure', 'rapid rhythm', 'right person', 'find her', 'current resp distress', 'advise possible overdose', 'conjunctiva normal', 'obese male lying supine', 'pms present', 'left eye brow', 'street address', 'sharp pressure pain', 'lastb week pain', 'recent history', 'medication admin', 'great historian', 'buccal region', 'first floor', 'original signature', 'noted ectopy', 'anterior placement', 'recent death', 'kidney removal', 'feel sick', 'bilateral poor air entry', 'large open', 'cot due', 'diabetic call', 'point seat', 'let crew', 'bilateral upper', 'floor supine', 'palpable carotid pulse', 'medical insurance card', 'year old male ambulatory', 'unbuckle safety', 'overhead regulator', 'street entrance', 'left nostril', 'poor vascular status', 'non remarkable sinus tach', 'resus bay bed', 'condition unchanged', 'fluid bolus', 'crew signature', 'trauma report', 'extremity lift', 'pt speaking', 'mother signature', 'insulin today', 'whole sandwich', 'bbs junky', 'medication cross check performed', 'left chest', 'heat emergency', 'held patent', 'indoor soccer field', 'bolus administered due', 'decreased value', 'pt accept', 'same age', 'attention deficit general weakness', 'spontaneous relief', 'mg zofran', 'shallow rate', 'school administrator', 'uncooperative pt', 'support shoulder', 'bilateral pedal edema', 'heart rate problem', 'incident unclear', 'acute kidney disease', 'pt extreme agitation', 'monitor condtion', 'new syringe', 'right lymph', 'unusual due', 'brief interval', 'bystander report', 'breathing adequate depth', 'pt deneis head', 'head tilt chin', 'medication check card', 'lane traffic', 'cspine injury', 'exam hemiparesis', 'thee stair chair', 'let pt sit', 'ekg acquisition', 'oxygen desaturation', 'black truck', 'pain management doctor', 'pt vital', 'tachypnic rate', 'front exam room', 'pt agreet', 'concerned today', 'second row seat', 'neurological deficits', 'initial contact pt', 'word burst', 'moderate discomfort', 'atrial enlargement', 'own residence', 'groin today', 'stemi asa', 'patient refusing', 'minor shortness', 'electronic refusal', 'positive history', 'previous stent', 'door suv', 'facility report', 'dull pressure sensation', 'verbal consent', 'lunch prior', 'other option', 'major damage', 'palliative care nurse practitioner', 'use ice', 'high flow oxygen', 'clean environ', 'pt daughter', 'dark redness coloration', 'specific tenderness', 'second female patient', 'bluecross insurance', 'acute pain', 'pancreatitis exacerbation', 'stomach hurt', 'heart stent', 'resume uninterrupted', 'patient sock', 'problem changd', 'normal morning neb treatment', 'upper stairwell', 'subclavian dual', 'starting last saturday', 'main road', 'chronic alcohol abuse', 'right flank', 'immediatley performed', 'lpm portable', 'unknown rate', 'lead place', 'floor pulseless', 'post medication cross', 'female staff member', 'cardiac stent', 'bit swollen today', 'room lying supine', 'recent dizziness', 'warm pack', 'cervical spine pain', 'treatment ant transport', 'top lip', 'vegetable lasagna', 'lock initiated', 'left side', 'second floor home', 'patent self', 'served dinner', 'duo nebulizer', 'dirt ground', 'irregular bilateral radial', 'patient claimed', 'seizure history', 'hispanic male', 'difficult breathing', 'albuterol neb treatment', 'home health care nurse', 'patient uncooperative', 'throbbing pain', 'lil bit', 'cardiac valve problem', 'eye appointment', 'congestive heart failure', 'diameter circle', 'ferrous sulfate furosemide', 'conference room', 'door way', 'diabetic emergency', 'top her', 'moderate distress due', 'wave form capnography', 'early morning', 'trauma noted', 'poor mask seal', 'minor damage', 'normal strength', 'hospital property', 'dark colored urine', 'verbal report', 'ecg noted sinus', 'cough making', 'water heater', 'difficulty breathing', 'hospice till transport', 'chair unresponsive', 'initial resp rate', 'bystander saw patient', 'pain didnt get', 'different tablet', 'violent behavior', 'deferred due', 'court apartment', 'unconscious fainting', 'mild wheezing', 'ausculation revealed bilateral', 'bacterial infection', 'good lung', 'noted contusion', 'variable rate', 'hill park', 'warm upon', 'red bio bag', 'step daughter', 'patient received', 'dance injury', 'limited accessibility', 'patient indicated', 'ate peanut butter', 'anterior shin', 'neck stuff', 'other way', 'unresponsive female pt lying', 'patient inside', 'heroin yesterday morning', 'hip deformity', 'pt pulseless', 'scene maneuvering pt', 'intermittent essential tremor', 'uncertain insurance', 'recent trauma', 'complete resolution', 'full past hx', 'adenosine iv push', 'breath yesterday', 'past fri', 'second grand mal seizure', 'secondary head', 'necessary tonight', 'heroin user', 'slight shortness', 'sleep last night', 'mild difficulty', 'daytime heat', 'full complete', 'single family town home', 'good capillary', 'spinal process', 'cant pinpoint', 'tube failure', 'swollen tongue', 'inhalation bronchospasm', 'audible rhonchi', 'emergent call', 'absent ventilatory effort', 'shallow effort', 'curved waveform', 'slight tenderness', 'sign acceptance', 'making patient contact', 'subtance admin', 'combo neb treatment', 'alarm family', 'patient room', 'today playing baseball', 'court staff', 'company name', 'tube passing', 'left jaw', 'skin color', 'limited nutritional intake', 'similar sharp', 'chair complaining', 'daily due', 'inch nitro paste', 'unopened bottle', 'breathing problem call', 'eat normal sized', 'story single story residence', 'eastern male', 'many small', 'routine home health', 'armchair beside bed', 'diarrhea pill', 'jacket left', 'general appearance', 'started feeling', 'asthma medication', 'instant improvement', 'coronary artery', 'great cap', 'right quadrant pain', 'ocular motor', 'attack last night', 'occasional cough', 'unconscious secondary', 'swallow oral glucose', 'doctor yesterday', 'large branch', 'old address', 'spine pain', 'sure glucose level', 'close proximity', 'red puffy', 'shoulder deformity', 'medical ward', 'transported semi', 'better upon', 'repeat sugar', 'monitor applied', 'scooting across', 'nitroprusside drip', 'adult day care program', 'unknown down time', 'second administration', 'social service', 'story house', 'language card', 'moist skin', 'room table waiting', 'full set', 'home health care provider', 'thorax pain', 'unknown baseline mental status', 'recent hospitalization', 'neuro assessment unremarkable', 'enable movement', 'per request', 'provide full report', 'knee dislocation', 'atrial fib', 'theatre mother', 'male patient supine', 'home owner', 'initial capnography reading', 'medication compliance', 'lactos intolerant', 'old female', 'oral temperature', 'heroine use', 'last normal', 'headache area', 'right arm rest', 'insertion attempt', 'prompting family', 'pt lab', 'personal stuff', 'status post', 'wrist band', 'decreased heart rate', 'normal heart', 'pt upstairs postictal', 'normal status', 'new shortness', 'right tricep area', 'ankle turn', 'speak several', 'nearby tree', 'front yard', 'patient give', 'pt sittingi', 'long pt', 'hour wait', 'patient covered', 'bbs clearer pulse rate', 'advance equiptment', 'acute renal failure', 'report reproduction', 'symmetrical expansion', 'left btk amputation', 'male sitting', 'possible seizure', 'pupils pinpoint', 'minor lac', 'alley way', 'seizure activity last approx', 'urinary frequency', 'prevent further injury', 'edema present', 'grand total', 'upon second ecg', 'rescucitation attempt', 'caudae tip', 'diffuse pain', 'strong equal', 'pt describes sharp', 'breathing absent', 'entire resuscitation', 'self slide', 'speech impaired', 'thoracic area', 'bloody discharge', 'physical exam due', 'asthma pill', 'grandmother down', 'multi story hotel building', 'position seat', 'begin transport', 'recall duration', 'history significant asthma', 'pmhx section', 'update location', 'peripheral edema', 'unresponsive witnessed', 'patient vomited', 'sclera yellow', 'physical presentation', 'printer error', 'urgent intervention', 'right patient right medication', 'drinking alcohol', 'pt tongue', 'trouble shot', 'female patient ambulatory', 'unrealiable pleth', 'feel comfortable', 'other insurance', 'pink warm', 'atraumatic other', 'knee pt', 'intercostal space', 'anticoagulation therapy', 'initial distress level', 'only allergy', 'overnight observation', 'thick white emesis', 'minor resp distress', 'patient let', 'antibiotic last night', 'strong carotid pulse', 'increase respiratory rate', 'hang blood', 'cardiac pathology', 'maintain secure', 'latter half', 'pt life', 'audible whz', 'baseline strength', 'first floor motel room', 'stroke scale reassesesd', 'brother today', 'administered iv', 'calm tonight', 'atrial conduction problem', 'pt finish', 'flank area', 'home doctor', 'unable due', 'last month', 'next couple', 'slight improvement', 'small area', 'ice cream last night', 'advise male subject difficulty', 'induce miscarriage', 'greenfield filter', 'poor dietary', 'possible ischemia', 'negligible volume', 'fluid volume', 'current pain', 'think pt ate dinner', 'unstable sinus bradycardia', 'transport destination', 'middle region', 'left suprapubic region', 'brought pt', 'additional seizure', 'transport pt signature', 'myclonic seizure activity', 'upper anterior arm', 'pt affect', 'tachycardic pt', 'bed pulseless', 'tracheostomy present', 'pronounced facial grimace', 'nursing home paper', 'treatment patient', 'dizzy today', 'second choice', 'duo neb mask', 'last mensus last week', 'facility signature', 'atrial pacemaker', 'big toe', 'provider insurance information', 'tongue obstruction', 'good marrow drawback', 'football practice', 'left upper arm pain', 'acute onset distress', 'typical seizure pattern', 'daughter onscene', 'attempt communication', 'minimal success', 'sign epcr', 'pupil reactivity', 'facial tenderness', 'report travel', 'carbon dioxide tension', 'pt fianaly', 'much better', 'medic crew', 'cooler air', 'respond appropriatley', 'abnormal gait', 'note patient', 'chair inside apartment', 'normal approx', 'per staff pt', 'bad pain', 'current dialysis treatment', 'unknown exact', 'skin flushed', 'overall behavior', 'right ej', 'subjective tab', 'diabetic pt', 'bacon egg', 'possible puncture', 'primary care doctor', 'thought pt', 'rhythmic jerking', 'prescribed nitro', 'oropharynx due', 'hallway bathroom', 'breath appox', 'emergency department room', 'notable ischemia', 'compound fracture', 'feels weak', 'group home combative', 'high probability', 'gotten pt', 'pt log', 'hour period', 'bilateral ankle pain', 'pt billing', 'her left breast', 'losing consciousness', 'pt hx', 'adequate chest', 'albuterol treatment tonight', 'irritable bowel syndrome', 'pm last night', 'drying her', 'chronic vomiting', 'smoking cocaine', 'rt side face', 'sharp stabbing pain rating', 'patient calming', 'cath lab staff', 'slow carotid pulse', 'much last night', 'finger squeeze', 'respiratory rate', 'mild relief upon arrival', 'rock cocaine today', 'living situation', 'follow instruction', 'undetectable blood pressure', 'ga right wrist', 'difficult work', 'cocaine usage', 'ambo pt', 'present clear', 'decreased appetite', 'denied loss', 'response per', 'home albuterol', 'bloody saliva', 'intial contact', 'mac blade', 'noted temp', 'right facial droop', 'saline connected', 'decreased sensation', 'peripheral cyanosis', 'medication dosage', 'major difficulty', 'lead confirmation', 'dry tissue', 'pt breathing', 'hrs today', 'patient complain', 'minute history', 'minimal verbal response', 'undiagnosed cardiac issue', 'computer desk', 'rigor mortis', 'diabeic problem', 'obvious erythema', 'same level', 'oral glutose', 'respiratory problem', 'post ictal state', 'pt medical', 'other abdominal organ', 'oxygen vent', 'pt unconscious', 'degree burns', 'frequent decerebrate', 'few other pt', 'uncooperative behavior', 'minimal distress', 'new dog', 'patient answered', 'disc surgery', 'breath pt', 'maintain conversation', 'bilateral equal', 'give pt anything', 'right dose', 'good bag', 'alert pediatric pt', 'oxygen saturation adequate', 'hypertensive state', 'waste signature', 'left shoulder pain', 'dry cough', 'house stating', 'sterile saline', 'get something', 'priority call', 'second duo neb', 'dilapidated residence', 'strong femoral', 'poison ivy', 'negative distension', 'rhonchi present', 'needed medication', 'feel good last night', 'regular dialysis yesterday', 'respiratory call', 'blood glucose level', 'pt trach mask', 'electrical conductivity', 'large amount', 'bundle branch block', 'poison control', 'feeling lethargic', 'bill left', 'male last night', 'medical attention sooner', 'wheelchair ramp', 'dialysis schedule', 'male presenting', 'bed last night', 'peripheral paresthesias', 'knee amputation', 'cardiac activity', 'clear diminished breath', 'skins normal temperature', 'lumber spine', 'mg slow', 'initial cardiac', 'appt today', 'single story structure', 'provide hx', 'seek help', 'patient refused transport', 'insulin administration', 'treatment room', 'improved spontaneous', 'her body', 'coarse ventricular fibrillation', 'pt impression', 'full size mattress', 'auditory inspiratory', 'agitation line', 'paper towel', 'white coat', 'lucid enough', 'general relief', 'active seizure', 'advise female pain', 'morning insulin', 'motor ability', 'unknown route', 'normal bed', 'electrical line', 'facility transfer', 'stair access', 'medical treatment', 'faint radial', 'different nebulizer', 'positive respiratory', 'catch throw', 'electricity today', 'yellow hue', 'computer interpretation', 'brain tumor', 'considerable amount', 'outpatient doctor', 'slow intravenous', 'home medication', 'pulmonary doctor', 'male trache', 'emulsion combination', 'mood disorder', 'borderline sinus tachycardia', 'patient flat', 'medical status', 'unresponsive prior', 'route patient', 'sharp anterior', 'portable oxygen', 'continued distress today', 'different glucometer', 'yo female pt', 'cell phone', 'palpation increase pain', 'blue pill', 'floor half way', 'pt exam reveal pt', 'clonic sz lasting', 'upgraded priority', 'triple bypass heart surgery', 'saline continued', 'floor unresponsive thirty', 'behaviour disturbance control', 'headache appox', 'baseball size', 'lift pt', 'forceful expritory phase', 'adolescent male', 'wheelchair pulseless', 'problem diagnosis', 'take last night', 'difficutlt yesterday', 'lateral recumbant', 'same activity', 'man down', 'small bowel obstruction', 'acute basilar artery thrombosis', 'pain management', 'worse time today', 'room table', 'basketball standby', 'home last night', 'arrival apneic', 'skin pink', 'breathing decreasing', 'paced rhythm', 'cancelled prior', 'pt unaware', 'bed yellow', 'laundry detergent', 'lung compliance', 'patient screaming', 'occassional nausea', 'bottom number', 'extreme pain', 'severe abdominal pain', 'lead confirmed', 'limited time', 'male friend', 'diabatic medicine', 'shoulder pain', 'parole office', 'female standing', 'confirming wife', 'staff brought', 'mid umbilical region', 'medical direction', 'open area', 'significant reduction', 'adult group psychiatric home', 'cardiopulmonary arrest', 'intermittent chest pain starting', 'next several', 'passenger compartment', 'worse today', 'ileostomy bag', 'internal system', 'further medical evaluation', 'confind space extracation', 'lateral border', 'pitting pitting', 'pt pelvis', 'other substance', 'available identification', 'monitored untll', 'herion use', 'stop pt', 'abnormal waveform', 'lose consicouness', 'minor relief', 'greenish production', 'year old male struck', 'own accord', 'glide scope', 'funny taste', 'moderate rate', 'church food pantry yesterday', 'assessment revealed pt', 'apparent weakness', 'insertion site', 'full size pick', 'use caution', 'appox estimate blood loss', 'lying down', 'additional assistance', 'kitchen approx', 'inpatient hospitalization', 'pt mother', 'equal radial', 'tube place', 'burning sensation', 'oral glucose administration', 'jerk entire transport', 'sheet transfer utilizing', 'slight expiratory wheezing', 'male sick pt', 'major bleeding', 'ground pulseless', 'fluid build', 'seek medical assistance', 'positive capnography reading', 'positive aspiration', 'male patient lying', 'male iambulatory', 'home arm', 'exam bed', 'shoulder discomfort', 'pull pt', 'feeling dizzy', 'opioid overdose', 'nebulized treatment', 'right leg injury', 'past heart', 'confirmed time', 'initiating transport', 'last hypoglycemic episode', 'second defibrillation', 'clear speech', 'nebulizer machine twice', 'limited verbal response', 'adult female lying supine', 'inhaler multiple', 'enough water', 'surgical scar', 'brief improved mentation', 'other obvious', 'red patient', 'next rhythm', 'open heart surgery', 'return home', 'access road', 'facemask nebulizer', 'hall wall', 'obvious discomfort', 'little relief', 'irr hb', 'audible stridor', 'crepitus pain', 'rapid intravenous push', 'pill bag', 'pt size', 'open apartment door', 'motion restriction', 'multiple hospital', 'leg board', 'extra close eye', 'semi fowler position', 'constant today', 'accepted transport', 'combative patient', 'temperature beginning', 'cervical pain', 'started pt', 'nemsis error', 'sent home', 'excretory wheezes', 'last time anyone', 'nassal capno', 'poor respiratory', 'cushion saturation', 'cough medication', 'same pain return', 'several psychiatric', 'normal pulse rate', 'condition due transport', 'side pt', 'her family', 'rail road', 'brief time', 'ventilation pt', 'pt cleaning', 'admit her', 'physical touch', 'previous smoker', 'express concern', 'story town house', 'pharmacy staff member', 'repeat glucose level', 'reassessed en route', 'third trimester pregnancy', 'inspiratory delay', 'post seizure combativeness', 'positive orthostatic', 'absent rate', 'first reading', 'renal dialysis', 'legal situation', 'signature screen', 'own medication', 'sheet plastic', 'verbal normal', 'first arrival pt', 'daughter held', 'noter seizure', 'slurring speech', 'short report', 'front passenger side', 'arm abscess', 'doctor apt today', 'pt rate', 'fresh puncture mark', 'ambulance prior', 'pt further', 'nasal canula', 'adult male resident', 'initial pain', 'polyphonic wheezing', 'front corner bedroom', 'implied consent', 'increased air movement', 'pink color', 'atraumatic epistaxis', 'multiple bags', 'shoulder belt', 'anterolateral ischemia', 'elevate right leg', 'supplemental secondary', 'auscultated past', 'sign tablet', 'credit card', 'ground around', 'baseline undulation', 'present distress', 'minor change', 'capillary refill', 'spontaneous resolution', 'equal chest rise', 'piggyback line', 'right neck', 'photo holder', 'right elbow', 'extricate pt', 'side court', 'sub sternal chest pain', 'pt information', 'city street', 'locate male', 'expiratory unable', 'third rhythm', 'find male unresponsive lying', 'pt temp', 'diarrhea last week', 'continued shortness', 'lunch time day', 'potential implantation', 'shelter entrance', 'lead wire', 'bay bed', 'touch skin', 'right thigh unknown', 'sharkfin waveform', 'laundry mat', 'female provider patient', 'small frame', 'petty larceny', 'provide brief', 'same time', 'petite mal', 'other hand', 'cement block wall', 'ingestion today', 'right poximital tibia', 'eased patient', 'nursing staff member', 'recent medical hx', 'yo male patient lying', 'found syringe', 'right humerous', 'quit smoking', 'possible illegal', 'residential neighborhood', 'lucid period', 'other female', 'cold air', 'bronchospastic exacerbation', 'point non reactive', 'abnormal breathing', 'cause pt', 'trauma bay', 'restaurant yesterday', 'facility staff signature', 'left upper quadrant', 'refusal vs', 'recovery btw sz activity', 'tachypneic breathing', 'lung sound', 'heavy load', 'dialysis staff', 'bloody tinge around', 'treatment history', 'right pulse', 'other care', 'pt last bowel movement', 'humeral landmark', 'medial side', 'continuous normal saline', 'marked improvement', 'ate curry', 'bed triage', 'begin breathing', 'entire chest', 'her appointment', 'urinary incontinence', 'nitro tab', 'noted voice', 'front portion', 'cage area', 'work crew', 'move wrist', 'arrival heatlhcare', 'first home treatment', 'half way', 'possible infiltration', 'refusal discussed', 'self ambulatory', 'road way', 'safer extrication', 'chair lasting', 'severe shortness', 'unpleasant taste', 'hour tonight', 'pt experienced improvement', 'moderate edema', 'non distended', 'white discharge', 'immediate normal saline', 'short statement', 'monitor fault', 'allow crew', 'dueo neb', 'multiple track', 'man carry', 'full treatment yesterday', 'daughter signe', 'numerous track', 'slow respiratory rate', 'legs give', 'sheet application', 'different antiarrhythmia medicine', 'crack cocaine yesterday', 'little inspiratory', 'sharp epigastric pain', 'pt rep', 'pt hold', 'yellow green', 'pt mom pt', 'knew injury', 'hospital trauma bay', 'multiple myeloma', 'low blood pressure', 'top seatbelt', 'last known', 'second albuterol treatment', 'evening patient states pain', 'anything down', 'pt reav', 'second bag', 'mental status improving', 'slow intravenous push', 'renal disease', 'spilled hot water', 'pt verbalization', 'sacral cyst pain', 'inpatient clinic', 'sublingual nitroglycerin', 'fiance pulled pt', 'many alcoholic', 'emergent interfaculty transport', 'night shift employment', 'room saturation', 'breathe much', 'call sheet', 'administration site', 'turned her', 'exact time', 'same week', 'severe htn', 'frequent unifocal', 'patient displayed full range', 'cc diff breathing', 'previous encounter', 'home glucometer', 'assistant ate', 'eventual decrease', 'moist cool', 'extra man power', 'bilateral knee', 'time nothing', 'provider much information', 'staff deny', 'reveal bilateral', 'proximal lateral', 'room area', 'appropriate pharmacy', 'pt attempt', 'extensive history medical history', 'airway assessment', 'person speaking', 'definitive answer', 'home nitro', 'obvious respiratory arrest', 'global facial cyanosis', 'oral glucose self', 'noticeable amount', 'her chest', 'pt encouraged', 'onscene someone', 'witnessed social event', 'noon today', 'fall symmetrical', 'tool box', 'left pupil', 'high quality', 'mild respiratory distress', 'computer chair', 'local nursing home', 'brain tissue', 'manual cardiac compression', 'home health', 'crouched position', 'year old female patient', 'assess condition', 'family choice', 'open fx', 'address change', 'heart problem per', 'pt removed', 'strong motor function', 'localizng pain', 'uterine cancer', 'familiar area', 'superior chest', 'floor trash', 'asleep multiple', 'pt agitation', 'brain bleed', 'intracranial air', 'uncooperative patient', 'high chloresterol', 'anterior headache', 'pt ambulated', 'artifact due', 'ground today', 'inappropriate conversation', 'her cardiologist', 'impending hypoglycemia', 'substernal area', 'pt combativeness', 'insurance card', 'diuretic medication', 'next pulse', 'head injury', 'additional past medical history', 'spinal fusion', 'erratic behavior', 'incident noted', 'right breast', 'color improving', 'code room', 'heart problem en route', 'hyperglycemic pt', 'morning prior', 'siren malfunction', 'second degree burn', 'poor air entry', 'manual support', 'swallow oral', 'left scene', 'pull collar', 'keep pet bird', 'second male', 'final reading', 'immediate improvement', 'dizziness wouldnt', 'patient lying prone', 'appeared short', 'passenger car', 'bed diaphoretic', 'high blood pressure reading', 'possible pnuemonia', 'airway placement', 'normal moisture', 'pt church member', 'inch nitropaste', 'morning onto', 'other noted', 'tracheal cartilagenous', 'mid hypogastric region', 'gross deformity', 'normal saline administered', 'traction splint application', 'left finger', 'slow rate', 'last eat dinner', 'room rate', 'slow ivp', 'arrival found', 'similar pain', 'same rate', 'cadiac arrest', 'arrival sedation', 'balloon procedure', 'severe diarrhea last week', 'local fire department', 'pelvis stable', 'complete ceasation', 'stable status', 'significant result', 'violent manner', 'ground unresponsive', 'seat onto', 'require assistance', 'same pain', 'baseline mobility', 'tech repair company', 'fentanyl reduced pain level', 'proximal tibia', 'high sugar', 'apneic pt', 'possible pt', 'multiple pt turnover', 'similar reaction', 'cafe drinking cup', 'rx abx', 'previous dystonic reaction', 'steroid therapy', 'cardiac arrest call', 'exam room floor', 'abdominal assesment', 'secure scene', 'spit aprox half', 'patient denied drug', 'initial cardiac monitoring', 'preliminary assessment', 'ate bologna', 'seek medical evaluation', 'provieder cross check', 'lateral aspect', 'trachea midline', 'upper arm', 'needle biopsy', 'minor edma', 'pt turnover', 'periodic nausea', 'second provider ausculation', 'ga left forearm', 'crew discussion', 'specific pain', 'possible miscarriage', 'radial pulse', 'ongoing bacterial infection', 'pt oral glucose', 'patient distress level', 'find female pt lying', 'accept transport', 'scleral erythema', 'current medication', 'frequent unproductive dramatic', 'mild upper', 'family stating patient', 'second officer', 'aggressive posture', 'first patient contact', 'veterinary clinic', 'mental status return', 'backboard carry', 'dental pain', 'repeat ecg', 'cant breath', 'right route', 'rational explanation', 'nursing office', 'probe head', 'give reason', 'effective effort', 'thought sluggish reaction', 'pt reassessment', 'her bra', 'await arrival', 'black line passing', 'blood transfusion last week', 'blue needle', 'numerical sequence', 'pt states something', 'coverage provider', 'first apartment', 'large knife', 'breath appx', 'lab work', 'patient noted', 'bowel motion', 'sign report', 'valve stenosis', 'pain persist', 'toilet bowl', 'patient turnover', 'feed pt sugar', 'coarse rhonchi', 'requested priority', 'increased resp distress', 'prescribed trazodone', 'shallow depth', 'seek medical help', 'tri pod', 'normal oral mucosa', 'unnamed person', 'inferior margin', 'elderly female pt', 'extremity edema', 'warm saline bag', 'normal bgl', 'patient awake', 'pt txf', 'esophageal spasm', 'pt overall condition', 'obvious deformity due', 'sheet transfer', 'certain food', 'consumption last night', 'hour prior', 'female seated upright', 'residence state', 'pt intubated', 'ate cold watermelon', 'pro air', 'park rear path', 'immune deficiency', 'leathery skin', 'stop shaking', 'direct patient', 'red coup', 'aware pt', 'easy chair', 'normotensive euvoglycemia', 'campus police', 'heavy diaphoresis', 'initial request', 'labored breathing', 'patient placed', 'previous hospital', 'labored shallow', 'female lethargic', 'additional body', 'upon administration', 'intermittent shortness', 'id band', 'healthcare professional', 'pt respiratory rate', 'lead left', 'due dyspnea', 'unknown pill', 'accessible sugar substance', 'seat herself', 'mind en route', 'feeding tube', 'follow basic', 'antiarrhythmia medicine', 'asthma today', 'partial denture', 'family intervention', 'sedated due', 'significant amount last night', 'long delay', 'negative tracheal', 'pt found', 'yellow fleam', 'receive transport', 'flash upon electrocution', 'something balling', 'arrival pt', 'patient administered', 'normal saline', 'agonal idioventricular', 'positive pressure', 'river rescue', 'blood present', 'concerned patient', 'reflex movement', 'illit drug use', 'function distal', 'small surgical scar', 'artificial ventilation', 'dialysis last week', 'similar headache', 'sublingual nitroglycerin tab', 'crew treatment', 'her bowels', 'locate address', 'complex tachycardia', 'her footing', 'ptient lying', 'discharged home', 'pt admin', 'heroin addiction', 'borderline bradycardic', 'urine yesterday', 'obvious respiratory delay', 'last time pt', 'tactile stimuli', 'amidarone withheld', 'pt injure', 'assisted subject', 'handle failure', 'nontraumatic hip dislocation', 'occupational therapy', 'glucagon administered', 'elbow pain', 'comm center', 'confirm information', 'severe dyspnea', 'pale color', 'somebody playing football', 'own cell phone', 'respiratory infection last week', 'abnormal findings', 'nsl tko', 'aox person place', 'refusal included undiagnosed problem', 'second story', 'able report', 'injection site', 'patient son advised patient', 'patient family member', 'medical record number', 'lateral recumbent position', 'commercial tube holder device', 'original destination', 'cardiac hx', 'pt transported fowler position', 'normal crew', 'chair seat', 'pt stating', 'her vehicle', 'box wont', 'iv lock rt hand', 'resp drive', 'avoid chronic use', 'tricare insurance', 'short distance', 'additional seizure activity', 'radio traffic', 'small room', 'verbalize improvement', 'airway adjunct', 'public park', 'flag football game', 'single onsie', 'ground level fall yesterday', 'lateral recumbant positon', 'call report', 'discussed steady state nutrition', 'pediatric nebulizer', 'irregular agonal', 'swollen hand', 'lead performed', 'midclavicular line', 'produce sputum', 'little increase', 'minimal expiratory', 'flexed head', 'carried pt', 'appropriate spontaneous', 'prison cell', 'electric unicycle', 'fire standby', 'appropriate rate', 'transport time', 'insurance info', 'apartment main hallway', 'provided herein', 'bariatric needle', 'borderline low blood pressure', 'tube placement', 'chronic renal failure', 'gross bleeding', 'stick glucose check', 'diversion screen', 'minimal work', 'epigastric pain', 'patient vomiting', 'current dizziness', 'hot grease', 'necrotic smell', 'direct admit', 'prostate cancer', 'nursing facility', 'frontal impact belonging', 'seated position seat', 'obvious impaired gait', 'insect debris', 'marijuana ingestion', 'femoral artery', 'speciality resource center', 'mg dexamethasone slow', 'spontaneous respiratory effort', 'strong painful', 'front office', 'upper abdominal pain', 'pta rfd', 'electrical rhythm', 'dry blood', 'post glucagon patient', 'post partum', 'significant hypertension', 'mobile home trailer', 'equal strength', 'fever today', 'small bulldozer', 'massive facial', 'her second pregnancy', 'second surgery', 'prescribed pain medication', 'contact pt', 'relayed patient information', 'back home', 'periorbital ecchymosis', 'slurred speaking', 'mg aspirin', 'linoleum floor', 'nontender pelvic', 'previous cardiac cath', 'treatment outside', 'common cold', 'last pm', 'appropriate cardiac center', 'normal output', 'side right side', 'rails upright', 'patient unwilling', 'alcohol consumption', 'electrode cable', 'hightened anxiety state', 'impaired due', 'decreased work', 'ride home', 'second floor corner room', 'alcohol use', 'worried pt', 'saline administration', 'varying intensity', 'colon cancer', 'many other', 'secondary insurance', 'anterior midline', 'inferior ischemia', 'further assessment', 'main concern', 'left pt', 'dance studio', 'correct patient', 'asks command', 'catch breath', 'comm pt', 'full body', 'eat anything today', 'full dialysis yesterday', 'patient signature', 'developmental delay', 'resuscitation cart', 'prescribed singulair', 'ground next', 'possible infection', 'normal reactive', 'place capnography', 'stridor mild', 'staff member', 'acetone smell', 'acute increase', 'nd transfer', 'seated position', 'vcu yesterday', 'unconscious subject', 'rectal bleeding', 'pin point', 'prior medical hx', 'oral intubation', 'pulseless electrical activity', 'scene yesterday', 'initial apenic', 'transport decision', 'noticeable redness', 'pt ambultory', 'outstanding warrent', 'mg tablet', 'anxiety attack', 'numerous injection', 'site insertion', 'aprivate residence', 'large cup', 'sever distress', 'release yesterday', 'orthostatic vital', 'strenuous work today', 'pt allergy', 'left dorsal hand', 'bar area', 'homeless population', 'fall yesterday', 'strong central pulse', 'negative change', 'little better', 'respiratory condition', 'give insurance information', 'cardiac cath', 'minimal change', 'new prescription', 'full cardiac monitoring', 'upper right extremity', 'bicep saline lock', 'upper thoracic spine', 'equiptment failure', 'patient approach', 'pulled fluid', 'hotel sink section floor', 'previous hx', 'equal upper extremity strength', 'expiratory delay', 'liver cancer', 'arm saline lock', 'pediatric room', 'intermittent pressure', 'cardiac epi', 'food product', 'story residence', 'lateral displacement', 'first improved', 'myocardial infarction', 'pinpoint exact area', 'water bowel', 'fainting call', 'second bolus', 'short life', 'porch outside', 'diabetetic problem', 'possible od', 'sickle cell', 'breathing difficulty yesterday', 'pulse oximeter reading', 'lethal dose', 'urine output', 'pain increase', 'same issue', 'unsuccessful peripheral', 'child care arrangement', 'large ditch', 'bradycardic idioventricular rhythm', 'hospital campus', 'old room', 'first infusion', 'various hospital', 'humeral head tubercle', 'chocolate peanut butter egg', 'posterior medial portion', 'child care issue', 'verbal argument', 'medical restraint pt', 'bar last night', 'pt duo neb', 'paperwork ready', 'only vomit', 'normal sinus rhythm', 'shallow ineffective', 'further drug', 'last rhythm check', 'lab team', 'her respiratory rate', 'iv lock', 'cross chest', 'ambulance transfer', 'blanket roll', 'oral presentation', 'ingredient list', 'onto bed', 'appetite today', 'anterior leg', 'baseline blood sugar', 'gait pattern', 'open residence', 'positive response', 'inhaler numerous', 'constant screaming', 'third floor apartment', 'mild distress due', 'adjunct placement', 'chemical sedation', 'fluids pressure', 'home nebulizer machine', 'drug hx', 'current left hip pain', 'inhaler today', 'left face', 'active pain', 'lat upper', 'psoriatic arthritis', 'nurse siganture', 'monitor malfunction', 'ate dinner', 'much food', 'show female', 'foot amputation', 'left hand', 'total lift', 'placed pt', 'bad asthmatic', 'snorting heroin', 'possible fracture', 'fried chicken', 'gain entry', 'right flank pain', 'last june', 'liver failure', 'gasping respiration', 'call security', 'lung issue', 'status epilepticus', 'front room', 'hospital stretcher', 'staff left', 'medication container', 'dependent diabetic', 'vomited clear liquid', 'pt eat food', 'airway obstruction', 'much movement', 'improved consciousness', 'full alertness', 'tobacco today', 'motor vehicle', 'office meter', 'chest congestion', 'dirty skin', 'safety risk', 'pt voice relief', 'normal dose', 'pt state', 'serious illness', 'stretcher outside door', 'effective spontaneous', 'weak bilateral radial', 'improved lung', 'defib pt', 'home use rate', 'portable chest', 'small table', 'response upgrade', 'allergy list', 'taking blood', 'gradual onset', 'complete occlusion', 'hit something', 'atrial fibrillation', 'mouth due', 'gm oral glucose', 'cataract surgery', 'knee last night', 'year old male supine', 'pts status', 'initial condition', 'left ear', 'sharp left', 'nasal canual', 'patient calm', 'yellow flem', 'sick person call', 'various administration', 'fowler position', 'eating chicken', 'breath wheezing', 'likely pregnant', 'possible drug use', 'active prescription', 'indicated global depression', 'hit her', 'soda bottle', 'manual cpr', 'smoked cocain', 'anterior proximal forearm', 'pain alleviation', 'side shoulder pain', 'pt dexi', 'post ectal state', 'ground floor apartment', 'poor reading', 'postictal phase', 'warming shelter', 'clean dry', 'acute broncitis', 'apartment unknown amount', 'end collision', 'regular vomit', 'motor vehicle accident', 'track mark', 'initial destination', 'quarter pound hot dog', 'low grade', 'postical state', 'resucitation bay', 'palpable femoral', 'muscle tone', 'lunch yesterday', 'burn sheet', 'utilizing video laryngoscope', 'home healty aid', 'intermittent numbness', 'distinguish type', 'report telephone number', 'look well', 'ambulatory due', 'nurse pt', 'significant weakness', 'little assistance', 'provide relief', 'other car', 'take pain', 'other drug use', 'unconscious pt', 'machine beside', 'second vehicle', 'good situation', 'right lateral recombant', 'clavicle fx', 'tonic clonic movement', 'aware possible', 'cold sx', 'inhaler use', 'verified due', 'low amplitude wave present', 'bloody appearance', 'respiratory drive', 'proximal right', 'revealed pt', 'rehab unit', 'sinus rhythym', 'local motel', 'unknown subject', 'offering support', 'observing her grandson', 'appropriate sensorium', 'yo male ambulatory', 'continued enroute', 'sinus rythem', 'skin normal temperature', 'entire abd', 'crew assess', 'room ate', 'pt fall', 'respiratory status', 'pt return', 'monitor her', 'pt eat', 'incident today', 'other possible', 'hallway laying', 'palpable crepitis', 'patient regained moderate ability', 'visual swelling', 'medication adminstration', 'avoid condition deterioration', 'unknown duration', 'patient unresponsive following', 'diabetic seizure', 'short transport', 'iv unsuccessful', 'provide insurance information', 'normal waveform capnography', 'home staff unsure', 'kidney stone', 'patient neighbor', 'condition change', 'pen ham', 'usual supplemental', 'performed due', 'last friday', 'own apartment', 'sinus tachy arrhythmia', 'normal intake', 'moderate compliance', 'make sense', 'intersection sign', 'incomprehensible noise', 'unresponsive agonal', 'pt slid', 'sugar level', 'carbon monoxide', 'little hard', 'abdominal distention', 'patient last week', 'large abrasion', 'blood draws', 'post narcan administration', 'capnography shark fin', 'fracture site', 'side medication', 'daughter deny drug', 'room availability', 'stridor due', 'nostril flaring', 'recall telephone number', 'pain upon palpation', 'chest pian call', 'expiratory wheeze', 'non reactive improved', 'take anything', 'clavicle area', 'vaginal delivery', 'respiratory support', 'degree weather', 'passenger compartment damage', 'hot house', 'her neighbor', 'several hypoglycemic', 'last site', 'last dose', 'partial signature', 'short board', 'other position', 'last few', 'consistent history', 'nursing staff spoke', 'patient side', 'intercostal retraction', 'neg ecchymosis', 'equal breath', 'flank area pain', 'staff say', 'same incident', 'paradoxical motion', 'difficult access', 'hospital representative', 'glucose recheck', 'prescription pain', 'bed stating', 'bilateral pedal edema distal', 'characterize pain', 'motor function', 'wheezing upper lung', 'year old son', 'few venous access', 'same sheet', 'bundle branch', 'right upper quad', 'new diagnosis', 'utility pole', 'gag reflex intact', 'medication time', 'patient alive', 'ml normal saline', 'same dealer', 'nebulizer spilling', 'lateral knee', 'chair inside house', 'room air saturation', 'intact pulse', 'intubation reading', 'complete support', 'negative accessory muscle use', 'severe edema', 'indoor soccer facility', 'parking lot', 'inferior wall', 'entire code', 'second unit request', 'partial occlusion', 'alongside hospital', 'contain mixture', 'open hand', 'rx administration', 'free lunch', 'blood sugar level', 'told family', 'slurring her', 'lost information', 'tough book', 'specialty center', 'anthem logistic', 'initial defibrillation', 'mg chewable aspirin', 'her migraine', 'consturction site', 'critical medical bed', 'pt agreement', 'patient verbalized improvement', 'negative psoas test', 'notable swollen portion', 'patient tolerated', 'use today', 'mechanical failure', 'prescribed pain medicine', 'aspirin oral', 'parole officer', 'right knee pain', 'exchange drug box', 'found pt', 'soft physical', 'stop bench', 'midnight last night', 'oral intake', 'route pt', 'swollen shut', 'ask pt', 'unresponsive lying', 'clear mucous production', 'left humerus', 'weight lifting yesterday', 'oxygen nasal canula', 'lung history', 'asbestos exposure', 'phone line', 'breathing rate dropped', 'pacemaker problem', 'entire right ankle region', 'duo neb albuterol', 'autopulse alarmed', 'water rescue', 'clear bilateraly', 'right temple appox', 'white pigmented spot', 'breath call', 'medical facility staff', 'whole incident', 'good heart rate', 'convulsion time', 'pt mental health facility', 'chair upright', 'normal status yesterday', 'exam neg', 'single vehicle accident', 'suprapubic pressure', 'white foggy haze', 'maintain pt', 'right posterior deltoid', 'weak pulse', 'pt circumference', 'verbal guidance', 'oral glucose due', 'report baseline oxygen', 'transport auto pulse', 'clear white', 'prevent her', 'stabilized pt', 'care turnover', 'ambulance crew', 'irregular rhythm', 'cocaine yesterday', 'previous surgical', 'cant see', 'current position', 'brain injury', 'overall work', 'faculty staff', 'sickle cell pain', 'patient care provider', 'body work', 'fourth vehicle', 'vertical incision', 'family make pt', 'obvious dehydration', 'male friend present', 'patient dry', 'patient tonight', 'temporal area', 'push anyone', 'left eye orbit', 'heart problem', 'diminished wheeze', 'tissue test', 'dose due', 'last surgery', 'energy level', 'secondary hypoglycemia', 'narcan administration', 'second lucid', 'previous heart attack', 'muscle pain', 'green capsule', 'dress shirt', 'monitor error', 'second duoneb', 'report hx', 'various states', 'small inconsistent', 'abd pad', 'good waveform', 'per staff', 'pain nothing', 'police matter', 'sub sternal chest', 'auto pulse', 'own arm', 'opening driver', 'chronic bronchitis', 'invasive capnography', 'periodical shallow breathing', 'couch yesterday', 'several adult', 'witnessed security', 'decadron admin', 'her residence', 'use accessory', 'septic shock', 'notable skin irriatation', 'weird feeling', 'severe hypotension', 'baseline mental status', 'fargo bank', 'orthostatic hypotension', 'pt exam', 'staff report', 'ready fo rwork', 'parking deck', 'clear mucus', 'fit pt', 'steady decline', 'normal glucose', 'internal defibrillator', 'pork chop', 'cough syrup', 'start feeling', 'unilateral weakness', 'pt complaint', 'pt paperwork', 'hypotensive pt', 'gall bladder', 'additional discomfort', 'home neb machine', 'own weight', 'point seat belt', 'anxious pt', 'respiratory wheezing', 'triage area', 'facility representative', 'further response', 'yo female', 'none else home', 'entrance wound', 'intraosseus access', 'transport due', 'current date', 'vertical scar', 'cc normal saline', 'chemical sedated', 'assist due', 'bergundy vehicle', 'patient speaking', 'check procedure', 'unkn person', 'midnight tonight', 'cane shaft', 'thick blood', 'increased respiratory effort', 'upward gaze', 'scene minimal movement', 'accurate pulse', 'emergent care', 'severe upper abdominal', 'hall bed', 'felt fine last night', 'feeling indigestion', 'her request', 'pt aslo', 'pt demanded pain', 'blue color', 'state patient', 'femoral pulse', 'ml bag', 'marijuana today', 'receive treatment', 'bilateral expiratory', 'little bit', 'capnography nasal cannula', 'breath today', 'obvious moderate', 'region tenderness', 'insurance provider', 'pt improved en route', 'first contact', 'last overdose', 'symmetrical rise', 'clear yellow liquid', 'full diversion', 'strange taste', 'sober unit', 'own stomach', 'possible death', 'patient house', 'current pic line', 'side neck pain', 'pt unresponsive lying', 'bed delay', 'commercial tube device', 'much methadone', 'cerebal palsy', 'acid reflux', 'small reduction', 'transport home', 'point seat belt transport', 'previous traumatic event', 'patient regain', 'health care worker', 'pt legs', 'know phone number', 'reported difficulty', 'old drug box', 'asthma medicine', 'heart race', 'chinese food', 'self conversion', 'hi slast drink', 'lateral leg pain', 'full breath', 'church entrance', 'stable vital', 'bolt upright', 'open line', 'prolong hospital stay', 'novisible trauma', 'patient refuse', 'know pt', 'knocker ball', 'female patient', 'staff calld', 'cm laceration', 'family present', 'thing morning', 'patient placd', 'patient place', 'saw something', 'reach pt', 'trauma bed', 'living room', 'sign refusal form', 'wearing compression', 'packaging patient', 'per family', 'nursing number', 'iv saline lock', 'partial thickness burn', 'jail system', 'last paracentesis', 'entire event', 'opiate use', 'bedroom speaking', 'bilateral compression', 'time period', 'bowl problem', 'abdominal rigidity present', 'intermittent irregularity', 'head laceration', 'auditory hallucination', 'possible pneumonia', 'apartment complex', 'initial normal', 'adult female', 'initial vital sign', 'decompress air', 'regular use', 'monitor remained', 'medical aide', 'response bag', 'pt narcan', 'severe cervical spinal tenderness', 'feel weaker', 'residence hall', 'hot water bottle', 'good meal', 'home residence', 'further aggression', 'regular drug', 'possible lung cancer', 'swath right arm', 'increase work', 'radiation today', 'spontaneous respiration improvment', 'line nebulizer', 'left sided', 'turnover pt', 'female patient lying', 'patient wife', 'custody pt', 'stable condition', 'pt moving', 'updated pt condition', 'medical facility', 'medical hx opioid abuse', 'left orbit', 'respiratory comprimise', 'stay awake', 'pt home oxygen', 'caude tip', 'joint ache', 'denied itching', 'pain present', 'insurance hx', 'fire lieutenant', 'unreadable due', 'decrease artifact', 'inital reliable', 'telephone number', 'umbilical region', 'obese male', 'recent cold', 'parasternal intercostal space', 'psychiatric history', 'insulin injection', 'side effect', 'catatonic state', 'noted various small', 'second truck', 'regaining consciousness', 'kidney disease', 'entrance approx', 'nand pt assessment', 'rate atrial fibrillation', 'time pt', 'noticed blood drip', 'mid periumbilical area', 'observation table', 'ton truck', 'recent heart attack', 'health insurance', 'drank enough water today', 'arrival onscene', 'epi administration', 'cot pain', 'placed advanced', 'additional connector', 'shallow regular', 'right medication', 'further change', 'involuntary motor', 'congestion rest', 'recent memory', 'provider assistance', 'pt assessed', 'numeric value', 'upstairs bedroom floor', 'brief amount', 'rapid weak', 'heart block', 'suitable peripheral', 'pedal edema present', 'additional traumatic', 'shallow agonal', 'color cyanosis', 'accessed patient', 'report unknown medical history', 'wooden fence', 'passanger side vehicle', 'mild congestion', 'point tenderness', 'unknonw problem', 'male meet', 'tightness secondary', 'tilt chin lift maneuver', 'site selection', 'incomplete relief', 'initial examination', 'check blood', 'esophageal cancer', 'breathing rate', 'accessory muscles', 'gm magnesium', 'wall injury', 'weird mofo', 'main community', 'increased lightheadedness', 'administered nebulized', 'nursing staff report', 'enter building', 'anxiety medicine', 'noted expiratory', 'similiar symptom approx', 'patient distress', 'normal temp', 'chronic kidney', 'possible crack', 'many basic demographic', 'entire bag', 'mild tachycardia', 'pt insurance', 'high pitched', 'immediate response', 'empty bottle', 'entire bar', 'high pollen index', 'bilateral chest', 'feeling sharp pain', 'iv saline line', 'normal speach', 'brady improved', 'patient woke', 'drank nothing today', 'diuretic therapy', 'nebulizer mask', 'upper intact', 'cocaine abuse', 'possible rhonchi', 'unspecified cancer', 'apparent awareness', 'pt mentation', 'patient rm', 'incident tab', 'sick patient', 'cocaine today', 'verbal improved', 'single dose', 'young adult male', 'other co', 'brief report', 'intact other', 'seek medical attention', 'major bleeding present', 'patient winced', 'subdural hematoma', 'painful flexion extension', 'frequent respiratory', 'sub sternal dull', 'clear pt', 'single story group home', 'reduced limb power', 'skin intact', 'closest appropriate facility', 'monitor condition', 'week hospital admission', 'hold food', 'psychiatric problem', 'health care facility', 'cold sweat', 'include dizziness', 'poss aflutter', 'upstroking waveform', 'pt right forearm', 'bus state', 'safety secondary patient', 'initial pupil check', 'darker color', 'significant damage', 'break approx', 'pt stand', 'sudden urge', 'firefighter rate', 'whiskey today', 'report possible exposure', 'several inverted', 'further eval', 'forearm area', 'scene outside', 'seasonal pollen', 'transferred pt care', 'pain relief', 'undergoing treatment', 'site state activity', 'clinic prior', 'rt hip area', 'agonal snoring', 'good seal', 'protein bar', 'persistent hypertension today', 'left thigh', 'hand saline lock', 'flexible cath', 'immunotherapy today', 'appear unremarkable', 'accept treatment', 'political state', 'slurred speech', 'position comfort', 'non violent', 'pt crew', 'left tibial tuberosity', 'anxious pale', 'neck appx', 'anxious adult', 'rapid heart', 'ate something', 'urloric acid', 'rational timeline', 'school nurse', 'red motorcycle', 'her nausea', 'scale negative', 'drive half way', 'pt condition improved', 'heart attack last week', 'initial glucose', 'extrication time', 'wheel carrier', 'multiple unknown food', 'jail facility', 'routine dialysis', 'soft food', 'possible domestic situation', 'due infiltration', 'good shape', 'narrow qrs', 'several other', 'bvm ventilation', 'multiple paraensis', 'secondary lawn', 'filing cabinet', 'duo nebs', 'yellow mucous', 'neg head', 'pt stability enroute', 'suicide attempt', 'same rhythm', 'wait unit', 'medial upper', 'family doctor', 'possible cardiac cause', 'medical restraint', 'poor pleth', 'general pain', 'park bench', 'forth extra effort', 'pulse palpable', 'equal bilateral radial', 'new self', 'previous use', 'dope today', 'official rode', 'advise female', 'few week', 'fall injury', 'white mucous', 'front end', 'few different', 'dialysis nurse', 'patient comfort', 'treated condition', 'symmetical facial', 'weekend vacation', 'request ad', 'bathroom floor', 'pt encoutner', 'single house', 'muscle weakness', 'depression medicine', 'right ankle', 'black chair', 'normal oxygen', 'child ate', 'past thursday difficulty', 'heavy smoker stating', 'cardiac doppler', 'officer rode', 'circumference puncture wound', 'low potassium', 'barley eaten', 'unknown cause', 'pt regained strength', 'dresser supine', 'pt mother choice', 'much heroin', 'apartment building entrance', 'unresponsive only', 'appropriate shape', 'fentanyl slow ivp', 'previous hospital visit', 'assist crew', 'eye fluttering', 'irregular menstrual cycle', 'wheelchair brought', 'weak gait', 'pump house wall', 'bed pan', 'plastic bag', 'explain pt condition', 'distal right leg', 'suv pulled', 'paraphernalia found', 'pt combative', 'gaseous sensation', 'male suffering', 'interior roof', 'unknown problem', 'labored tachypneic', 'unchanged nausea', 'breast cancer', 'criss cross', 'onto floor', 'skin warm', 'adult female subject identifying', 'laryngeal edema', 'increase pt', 'white issue', 'recent injury', 'describes pain', 'certain point', 'min pt', 'good flow', 'bed unresponsive', 'retirement community', 'heard screaming', 'administered prior', 'negative stroke exam', 'dangerous staircase', 'regular distal', 'throat cancer', 'ball park staff', 'her upper body', 'upper right arm', 'diaphoresis enroute', 'neb tx', 'feeling sleepy', 'severe abdominal', 'rapid intramuscular injection', 'upstairs office', 'urinary catheter', 'major trauma', 'her last seizure', 'assist breathing', 'regain consciousness', 'ambulance main oxygen', 'tenderness superior', 'medical alarm company', 'patient movement', 'patient oxygen', 'painful upon palpation', 'prior cardiac history', 'new admit', 'enroute pt', 'patient shook', 'extensive decon', 'mid sternal area', 'vomiting blood', 'small quantity', 'pharmacy staff', 'slow heart rate', 'week her', 'stick glucose level', 'renal failre', 'intraosseous catheter', 'right external jugular', 'pt pain level', 'legs pt', 'unknown type', 'time care', 'located pt', 'extrimity strength', 'adult female pt', 'right calf', 'good strong', 'asthma inhaler', 'chronic back pain', 'full care pt', 'indicate coarse', 'tried anything', 'ug fentanyl', 'frequent urination', 'minimal exertion', 'clothing cut', 'tear present', 'print tote bag', 'transfer patient', 'french catheter', 'nurse signature', 'poit seatbelt', 'initial location', 'soft expiratory', 'pull equipment', 'bad yesterday', 'college dorm', 'ground level', 'medication list', 'minimal accessory muscle usage', 'cool clammy', 'pt uses metformin', 'per mom pt', 'ground prone', 'other obvious distress', 'same vehicle', 'patient face', 'rubber elastic bandage', 'pt lift', 'cardiac chest pain protocol', 'last episode', 'acute cardiac event', 'multiple abdominal', 'intermediate hall bed', 'grand mal activity', 'little help', 'dark red', 'other shift', 'possible deformity', 'poss pneumonia', 'hot dry skin', 'pt update', 'patient family advised patient', 'financial strife', 'give provider', 'little change', 'pinky nail size', 'move head', 'crew left', 'plasma center', 'audible wheezes', 'unconscious today', 'unknown substance', 'weight loss', 'other response', 'unconscious unresponsive', 'blous rate', 'wet productive cough', 'iv push', 'pt homeless', 'apparent gait', 'hang something', 'exspiratory wheezing', 'afford food', 'sclera pale', 'affected range', 'other alcohol', 'minor uncontrolled bleeding', 'patient grabs', 'viral respiratory infection', 'narcotic drug box exchange', 'correct scene', 'advised purse', 'turn blue', 'power port', 'arrive destination', 'cigarette smoke', 'large truck', 'patient repeat', 'picnic table', 'cool skin', 'low angle rescue', 'muscle activity', 'clinic table', 'pt head', 'neck surgery', 'unknown exact date', 'movement deviation', 'ate several', 'hypostensive blood pressure', 'second nebulizer treatment', 'temperature tab', 'rise shallow', 'junky cough', 'dull heavy pressure', 'previous osteomyelitis', 'patient pain', 'narcan administered iv', 'prednisone tablet', 'oral oxycodone', 'plunger drawn', 'drive way', 'upload monitor', 'access third floor', 'work desk', 'menstrual cycle last night', 'total alleviation', 'successful detox', 'personal identification', 'steep incline', 'next week', 'dorsal aspect', 'medication schedule', 'baseline oxygen', 'sided abdominal', 'hr house', 'utility vehicle', 'placed semi', 'umbilical area', 'continue treatment', 'weak diaphoretic', 'trachial obvious injury', 'extra pill', 'unknown trauma', 'normal exit', 'mag patient', 'pt transported emergent', 'intervention ecg', 'yellowish green mucous', 'impending seizure', 'small quarter', 'appointment today', 'supine patient', 'injecting heroin', 'daily routine', 'safety vest', 'persistent dull pain', 'home oxygen use', 'water burn', 'appropriate distance', 'femoral site', 'team nursing staff', 'patient unable', 'smoked today', 'pt upper chest', 'neb tretment', 'crew performed', 'parietal lobe', 'upper left', 'bed inside room', 'bystander pt', 'normal feeding', 'dispense quantity', 'cardiac involment', 'lost consciousness', 'ambulatory male subject', 'side sharp pain', 'provide report', 'administer medication', 'mg dexamethasone', 'upstairs room', 'skin warm pink', 'single occupant', 'warm upstairs', 'possible aspiration', 'audible air movement', 'significant assistance', 'school address', 'tachypneic presentation', 'gaze deviation', 'manual traction', 'history significant foe', 'normotensive value', 'female sick pt', 'wave abnormality', 'yo male patient', 'front desk', 'intact post tx', 'patient requested', 'auscultate due', 'feel right', 'narcan administered', 'cab cut fire', 'compact pickup', 'zip code', 'pt harness', 'ipsilateral pupil dialation', 'appeared diaphoretic', 'strong regular', 'abdominal quadrant', 'electric wheel chair', 'take custody', 'drug approx', 'fight everyone', 'squared waveform', 'further review', 'thick white mucous', 'witnessed witnessed', 'fitness test', 'additional delay', 'pt self', 'rapid pulse', 'venous distention', 'potassium chloride', 'successful cardioversion', 'medial hx', 'inserting insurance information', 'staff advise', 'unknown provider', 'large bowl', 'striking vehicle', 'carotid pulse intact', 'school school', 'lateral transfer', 'prescribed dilantin', 'dirt trail', 'insurance infomation', 'equal clear', 'blurry vision', 'saboxone today', 'sign treatment', 'personal residence', 'office chair', 'drug adjustment', 'tranx time', 'recent pneumonia diagnosis', 'much subcutaneous tissue', 'asthma last month', 'previous cardiac', 'tibia site', 'cant eat', 'restrain legs', 'level fall', 'poor recall', 'pt respiratory', 'accidental inversion', 'rest arm', 'allow provider', 'consecutive nml', 'breathing agonal', 'place several', 'rear bedroom', 'chemotherapy treatment', 'pt activity', 'withheld due', 'mildly anxious', 'rear entrance', 'last heart attack', 'ventilatory compliance', 'bedside drainage bage', 'patient lying supine', 'resuscitation team', 'oral glucose administered', 'eat prior', 'male become', 'family report', 'apartment family residential home', 'possible broken arm', 'excessive accessory muscle use', 'peaked waveform', 'dizzy stating', 'printed due', 'bilat leg pain', 'extensive hx', 'patient demonstrated reasonable', 'key fob', 'general increase', 'experienced increased', 'access patient', 'discharge noted', 'mild exsesory', 'improvement secondary medication administration', 'continuos cardiac monitoring', 'act abnormal', 'radio channel', 'point crew', 'sudden increase', 'fine yesterday', 'complication drawback', 'second blood pressure', 'cardiac monitoring', 'slight cough', 'peripheral pitting', 'thick green mucus', 'normal circulatory', 'weak today', 'insurance status', 'local business', 'anterior portion', 'prepared dinner', 'report bgl', 'reception desk', 'have involuntary', 'limited patient', 'unconscious state', 'peritoneal dialysis patient', 'asthma yesterday', 'unknown status provide', 'little unsteady', 'diarrhea stating', 'generic sleep aid', 'monitor sinus rhythm', 'patient normal', 'last evaluation', 'glass beside', 'initial cardiac rhythm', 'placement confirmation', 'chair onto', 'left scapula', 'floor fire department', 'upper respiratory infection', 'rubber floor', 'board splint', 'coud die', 'breath due', 'arm pit pain cyst', 'unsteady staircase', 'frequent albuterol nebs', 'sugar pill', 'directing crew', 'broad street', 'her waist', 'patient assisted', 'capnography monitored', 'rollover crash', 'small oxygen', 'large crowds', 'prednisone prescription', 'provider report', 'second floor apartment', 'language line', 'wave form', 'successful insertion', 'scare nature', 'possible dementia', 'patient state', 'pt seizure activity', 'her bed', 'persistent vomitting', 'gross hemorrhage', 'acid use today', 'patient defibed', 'take pt', 'care center', 'arouse mid assessment', 'building office', 'engine compartment', 'pt sitting', 'house drunk', 'condition remained unchanged', 'pharmacy signature', 'only document', 'dialysis access', 'chest excursion', 'diff size', 'specific psych illness', 'non rigid', 'perform air lift', 'pt laid', 'several porch', 'heroin ingestion', 'need attention', 'construction elevator', 'hemodynamicaly stable pt', 'difficult stick', 'unresponsive state', 'cold water', 'baseline weakness', 'home meter', 'outside fire house', 'current nausea', 'motel room door', 'decrease agitation', 'recent fracture', 'successful conversion', 'fifth time', 'bilateral axilla', 'deny medical history', 'status improved en route', 'unspecified cardiac history', 'induced myocardial infarction', 'recent medical history', 'patient recovering', 'right forehead', 'previous flare', 'conscious alert female', 'outside home', 'leg fracture', 'ausculable reath', 'necrotizing fasciitis', 'other church', 'scale assessment', 'upright infront', 'cant afford', 'headache today', 'show asystole', 'mild ronchi', 'chipenham er bed', 'middle aged man lying', 'exportory wheezing', 'pt bag left', 'want transport', 'forearm yesterday', 'pt effort', 'familiar basline', 'elderly female pt lying', 'die right', 'pt sent caregiver', 'her legs', 'sick pt', 'great toe', 'palpable central pulse', 'hotel priority', 'primary caregiver', 'pt belligerent', 'endocarditis last week', 'insuline today', 'pt right leg', 'appropriate hospital due', 'become conscious', 'unconsciousness secondary', 'fluid bolus administration', 'former dialysis', 'other heart', 'patient other', 'anterior chest', 'allergic reaction', 'sinus tach', 'temperature cool', 'normal vital', 'regular ventricular', 'local group home', 'chronic pancreatitis', 'billing information', 'heat set', 'tri pod position', 'sterile water', 'normal stress', 'dental chair', 'computer malfunction', 'tumor resection', 'upstair room', 'white powder', 'ventricular fibrilation', 'transport truck', 'same simple', 'nonproductive cough', 'fine prior', 'occasional wet', 'peritoneal dialysis', 'diabetic hypoglycemia issue', 'teenaged daughter', 'deviation noted', 'dark blood', 'refelct improvement', 'pacemaker installation', 'foyer area', 'glucometer read', 'report improvement', 'fall pt struck', 'soot present', 'other medical problem', 'prior medical', 'first rhythm', 'pool entrance', 'canula capnography', 'man power', 'street drug use', 'full dialysis treatment', 'medical advice', 'patient oxygen saturation', 'traffic accident priority', 'include blue', 'sz history', 'nobody int', 'anxious due', 'notable change', 'common entrance', 'neck injury', 'notable ease', 'additional unit', 'other psych', 'other psychiatric', 'nucchal rigidity', 'female dizzy', 'pt cancer', 'person pt', 'street intersection', 'diffuse rhonchi', 'trash bag', 'culvert pipe', 'weak hand', 'minimal rhonchi', 'generalized sharp pain', 'cafe chair', 'right pedal pulse faint', 'home care nurse', 'like voice', 'undergoing chemotherapy', 'transfer pt', 'aziela retirement community', 'hip tender', 'scene fire', 'ground sputum', 'patient respiratory rate', 'staff patient', 'understandable speech', 'patient laid', 'different facility', 'hospital bed upon arrival', 'address last night', 'left upper body', 'skin graft', 'kidney cancer', 'report blood', 'indicated shallow depth', 'last intubated', 'spontaneous pulse', 'rapid head', 'unusable while', 'co trauma', 'talk sister', 'plain albuterol', 'ambulance phone', 'capillary refill present', 'pt pain move', 'bus ride', 'upper resp cold', 'mild heart attack', 'additional translation', 'listed address', 'dark emesis', 'vomited multiple', 'cleaning carpet', 'provide pt', 'normal reaction', 'small cell', 'hemorrhage control', 'appropriate unciation', 'home neb', 'hernia repair', 'vomited several', 'sinus bradycardia', 'pt unable sit', 'hiatal hernia', 'oxygen level', 'last intake', 'eat lunch', 'crew use', 'vomited right', 'blood thinner', 'other bowel', 'nebulizer solution', 'ascertain pt', 'toplace patient', 'pt states today', 'dou neb mask', 'rescue inhaler today', 'possible early repolerazation', 'short time', 'sternal non', 'normal presentation', 'reporting intake', 'new medical', 'patient laying supine', 'morning feeling', 'warm normal saline', 'equal chest risel', 'department store', 'diminished sensation', 'constant sharp', 'facility use', 'crew ask', 'need food', 'pain worse', 'overall time', 'brief period', 'aggressive fluid', 'second capnography result', 'long backboard', 'noted pt improvement', 'hold conversation', 'scene pt', 'next pulse check patient', 'septal deviation', 'normal shortness', 'fluid overload', 'pt cough', 'pt upward', 'added prior', 'faint wheezing', 'exploratory surgery last week', 'right foot', 'confirm identify', 'wave inversion', 'possible risk', 'pain started last night', 'ambulatory female pt walking', 'provide limited history', 'pt behaving', 'second attempt', 'visible effort', 'stabilized patient', 'nursing facility staff', 'last day', 'purposeful motor', 'aspirin admin', 'left lumbar', 'porta cath', 'fine expiratory', 'ga left hand', 'surgical wound', 'right anterior chest wall', 'premature birth', 'leg amputation', 'baseline dementia', 'normal post', 'patient asks', 'inch space', 'medical bracelet', 'catheter error', 'speak secondary', 'heavy pressure pain', 'lawn enforcement', 'critical medical bay', 'main living room', 'capnography betwen', 'early repolarization', 'public bone', 'right side severity', 'other pain', 'upper accessory', 'gabapentin arthritis', 'minor injury', 'drug habit', 'home address information', 'defibrillation shock', 'patient today ate', 'iv left', 'side chest pain', 'extreme tenderness', 'her mucus plug', 'vaginal pain', 'refusal guidance', 'enroute due', 'son report', 'asthma exasperation', 'skin cool', 'medication compliant', 'home treatment', 'distress patient', 'involuntary tremor', 'additional medication', 'home address', 'fall breath rhonchi', 'son road', 'experiencing stomach pain', 'weak femoral', 'adult daycare facility', 'several behavioral medication', 'oral glucose gel', 'hernia mesh', 'minute period', 'gum elastic bougie', 'nebulizer crew', 'phone system', 'pt doctor', 'left side pain', 'drainage tube', 'scene initiating patient care', 'place date', 'equal round reactive', 'iv access', 'small intestine', 'pressure bag hung', 'sugar check', 'story home', 'occasional respiratory distress', 'speak full', 'receives dialysis', 'same complaint', 'quality wnl', 'stepped outside', 'doesnt want', 'catch her breath', 'someone bit', 'new home', 'spinal motion restriction', 'wide open', 'alcohol last night', 'inch tape', 'adequate depth', 'brisk reactivity', 'verbalized improvement', 'fire investigator', 'school rode', 'diabetic problen', 'public high school', 'high rate', 'slight upstroke', 'include transport', 'white residue', 'other internal', 'get information', 'correct dose', 'room facility staff', 'absent improved', 'food court', 'wifes request', 'repeat glucose check', 'point contacted chief', 'male alert', 'right epigastric region', 'stretcher pt', 'high blood pressure medication', 'last alcohol', 'appropriate amount', 'appropriate facility', 'particulate matter', 'dialysis center staff', 'hear pt', 'new nebulizer treatment', 'aseptic technique first', 'clutching stomach', 'grand mal seizure', 'obvious severe respiratory distress', 'have difficulty', 'new card', 'basic info', 'her shoulder', 'white powdery substance', 'nuchal rigidity', 'appearsn normal', 'groin area', 'possible paraphenalia', 'substance use', 'normal cool', 'fid pt', 'lateral side', 'air movement heard', 'facility last week', 'scene meeting', 'have chest pain', 'unkown caliber', 'sublingual nitroglycerine', 'improved gross extremity motor', 'short response time', 'right recovery position', 'heavy drug usage', 'didnt call', 'normal warm', 'white vaginal discharge', 'scene administration', 'pt yesterday', 'chronic diarrhea', 'bleed uncontrol', 'tracheal dev', 'eat substantial meal', 'shallow int', 'right eyebrow', 'nasal discharge', 'subcutaneous air', 'purple shirt', 'dragon mask', 'headache starting', 'right abdominal', 'pt medication left', 'experienced urinary', 'radiating pain', 'provide signature', 'many other medical', 'same event', 'administer pain management', 'multiple previous', 'normotensive pt', 'minimal swelling', 'incident report', 'pt residence', 'extreme respiratory distress', 'chronic kidney disease', 'per friend', 'beginning assessment patient', 'liquid intake', 'trachea mid line', 'use morphine', 'suitable site', 'multiple staff', 'active bleeding', 'mg narcan rapid', 'noticed pt', 'adult defibrillator', 'adequate amount', 'facility medical staff', 'pt insistent', 'bathroom door shut', 'aspirated marrow', 'something similar happen', 'non rebreather mask', 'lounge chair', 'health history', 'current chest', 'low bgl', 'level kitchen area', 'hostile behavior', 'coachable rhythm', 'eye contact', 'drug kit', 'bell yesterday', 'audible inspiratory', 'safety harness', 'richmond firefighter', 'upper abdominal area', 'pt actual location', 'intitial contact', 'large laceration', 'rectal bleed', 'unresponsive pt lying', 'recent increase', 'right drug', 'final review', 'extricate patient', 'ecg noted sinus tach', 'inline neb treatment', 'vaginal discharge', 'wake pt', 'caller hung', 'zipper pocket', 'pt care unit transport', 'bus station', 'unk prob', 'little demographic information', 'apartment door', 'bilateral leg pain', 'other minor', 'past hysterectomy', 'significant pain upon movement', 'staff worker', 'pt cyanotic', 'light sensitivity', 'added due', 'fine bilateral wheezing', 'notify staff', 'open wound', 'bone exposure', 'cellular metabolism', 'severaly diaphoretic', 'park ranger', 'yo black female lying', 'indicate normotensive pt', 'arm weakness', 'phone today', 'living room couch', 'medical power', 'patient tranported', 'carried pt upstairs', 'dispatch information', 'patient skin', 'deliver medication', 'teeth intact', 'activity room', 'warm room', 'need water', 'sound clear', 'paused due', 'wrong spot', 'painful withdrawal', 'convntion hall post', 'bitten tongue', 'needs cane', 'get patient', 'question pt', 'have focal seizure', 'total hip replacement', 'nursing home bed', 'normal dry', 'pt trauma', 'oral medication', 'cardiac change', 'own vomit', 'own today', 'prescribed medication sfor albuterol', 'include extreme pain', 'transport pt home', 'patient purse', 'same active ingredient', 'front damage', 'jaw pain', 'hx signficant', 'secondary attempt', 'outpatient office', 'active treatment', 'destination delay', 'temperature warm', 'significant external', 'ga left wrist', 'year old female pain', 'recreational heroin ingestion', 'pt baseline', 'prescription drug', 'simple understandable speech', 'shoulder injury', 'coherent answer', 'basement bedroom', 'nasal flaring', 'pulseless ventricular fibrillation', 'small aneurism', 'pt swung', 'respiratory effort improvement', 'normal saline solution run', 'experienced similar', 'neck supple', 'periumbilical pain', 'ceased resusitation', 'box swap', 'unknown recreational', 'further treatment', 'floor location', 'quick syncopal', 'medical diversion', 'patient defibrillated', 'additional vital', 'bilateral equal breath', 'tolerate oral medication', 'hour number', 'upper lobes', 'unkn problem', 'acute inferior myocardial infarction', 'assisted ventilation', 'heart family', 'facility nurse', 'numerous large', 'member statement signature', 'see medic', 'per facility staff', 'neb transport', 'short amount', 'her apartment building', 'quick improvement stating', 'lays flat', 'old dialysis access', 'boyfriend partner', 'initial ra', 'suprapubic abdominal pain', 'excess work', 'ambulance supine', 'pt woke', 'wish further', 'second hand', 'unit pt', 'reasonable understanding', 'own nasal', 'refuse care', 'exhibit difficulty', 'major depression', 'good strong pulse', 'gain concsciousness', 'heart start', 'aseptic technique first attempt', 'peripheral edema present', 'hand fourth finger', 'steering wheel airbag', 'last tuesday', 'pass tube', 'way last night', 'moderate front end damage', 'hour session', 'dull ache', 'severe inspiratory', 'pressure sensation', 'beer yesterday', 'package pt', 'none tender', 'lunch today', 'crew drug box', 'allow transport', 'include evaluation', 'clear sputum', 'course lung', 'move leg', 'limit arm movement', 'follow movement', 'next hour', 'eat anything', 'commit suicide', 'found apnoec', 'cardiac capable hospital', 'same discomfort', 'front passenger corner', 'hospital today', 'stroke scale assessment', 'fast approx', 'same issue last night', 'shirtless male pt', 'poor health', 'exhibit spontaneous motor', 'female seated', 'total resolvment', 'alongside hospital bed', 'hospital choice', 'bad hot dog', 'male pt lying', 'skin appearance', 'oral glusoe', 'sharp right side', 'lpm oxygen', 'sheet carry', 'cough ensued', 'lateral thigh', 'traffic accident', 'head tilt chin lift', 'warm core', 'mental impairment', 'sleep tonight', 'patient describes pain', 'per actuation', 'report givent', 'decadron iv', 'good bilateral', 'incorrect radio', 'provide address', 'localized sensitivity', 'improvement secondary medication infusion', 'error message', 'pain radiate', 'residential treatment area', 'surgical scare center', 'umbilical region dose', 'extreme agitation', 'possible femur injury', 'primary care office', 'residential apartment', 'unknown prob', 'heart murmor', 'birth date', 'states improvement', 'left hand abrasion bleeding', 'unresponcive male possibley', 'normal speech', 'mental stuff', 'car engine', 'presence lying', 'right leg pain', 'patient lung', 'leg injury', 'full body immobilization', 'left groin', 'second individual', 'code cart', 'crew safety', 'find single family home', 'general impression assessment', 'trachea midline equal rise', 'cliff ledge', 'bed chuck', 'room beside', 'nurse states', 'take effect', 'exam chair pt', 'pt info', 'decub ulcer', 'young woman', 'upon manual evaluation', 'hyperglycemic hx', 'fix problem', 'outpatient appointment', 'breathe real good', 'minor discomfort', 'lead cardiac monitoring', 'labored respiratory effort', 'feels normal', 'representative available', 'ekg sinus trach', 'acting liker', 'physical combativeness', 'past hx', 'right quadrant', 'impromptu splint', 'past medical history', 'adult defib', 'quick assessment', 'lawn chair', 'voluntary guarding', 'tablet medication', 'speak clear', 'pitting edema', 'strong bilateral', 'distress level', 'green mucous production', 'adult male patient ambulatory', 'hypertensive pt', 'use heroin', 'insurance policy number', 'difficulty yesterday evening', 'patient observed en route', 'such heavy', 'safe extrication', 'patient allergy', 'unknwn name', 'first triage room', 'notable hematoma', 'cool temperature', 'patient reporting', 'same statement', 'drug box swap', 'vital medication', 'accurate perfusion', 'triage room', 'pertinent history', 'transport post', 'substernal pain', 'check log', 'admnistered due', 'cervical spinal tenderness', 'skin cool pink', 'patient appeared', 'access pt', 'patient describes', 'key left', 'obvious repiratory distress', 'noticed patient', 'corneal transplantation surgery', 'movement wih', 'cooperative behaviour', 'second inline nebulizer treatment', 'midline equal rise', 'feel transport', 'adult brief', 'rollater walker', 'coffee ground emesis', 'tear noted', 'st degree', 'pt clothing', 'multiple unknown medication', 'slight relief', 'pregnant female', 'store clerk', 'unspecified cardiac surgery', 'exertional dyspnea', 'multiple medical', 'night pt', 'possible intravenous drug use', 'intense chest', 'right lumbar paraspinal region', 'know patient', 'initial substernal chest pressure', 'arrival high quality', 'unsteady manner', 'breathing problem priority', 'hard time breathing', 'colon infection', 'chest pain appox', 'injury evident', 'suit jacket left', 'resuscitation cease', 'use home nasal', 'revealed bilateral', 'spontaneous circulation', 'admitted several', 'ostomy bag', 'abdominal cramping', 'drink anything', 'her inhaler', 'initial adenosine administration', 'increased spontaneous', 'first thing', 'possible lateral ischemia', 'other remarkable laboratory', 'drank beer', 'treatment yesterday', 'scene confirm', 'natural gas', 'slow elevator service', 'girlfriend present', 'limited movement', 'pt withdraws', 'frank bloody', 'overall tenderness', 'concrete floor', 'normal level', 'mucosal atomizer device', 'uncontrolled htn', 'night er', 'feeling itchy approx', 'arm pit', 'infrequent productive cough', 'snort something', 'first vial', 'recent diagnosis', 'pt insurance information', 'pt locate', 'localized abdominal pain', 'street intersection location', 'equal grip strength', 'long term group home', 'altered pt', 'stimuli due', 'dialysis yesterday', 'bilateral pneumothorax', 'purulent discharge', 'quadrant pain', 'ebt card', 'apartment building', 'personal insurance card', 'respiratory improvement', 'small piece', 'blocker use', 'relayed pt report', 'initiate autonomous', 'other elderly', 'neb pt', 'recusitation order', 'prior hospitalization', 'thermal burn', 'appropriate cooperation', 'hear problem', 'unconcious dm', 'severe respiratory', 'motor vehicle collision', 'residential complex', 'second flight', 'confused behavior', 'low thyroid', 'family behaviour', 'small wallet', 'female short', 'unattainable due', 'increased shallow resp', 'blood transfusion', 'few min pt pain', 'complete info present', 'oral antibiotic', 'advise possible food', 'multiple sz', 'shock treatment', 'white sclera', 'previous trauma', 'series monitor', 'tarry appearance', 'neb treatment', 'nasal flairing noted', 'pt pulse', 'saturday morning', 'apartment gathering', 'vaginal bleeding', 'deny pt', 'second floor hallway', 'first floor lobby', 'respiratory discomfort', 'bad shape', 'apartment room', 'limited information', 'feel anything', 'motorcycle vs truck', 'building entrance', 'aseptic technique second attempt', 'patient sinus rhythm', 'month old male', 'driver state', 'abnormal position', 'possible fever', 'wks pregnant', 'unconscious female', 'male unresponsive lying', 'severe asthma', 'natural position', 'follow simple command', 'upper lateral', 'verify placement', 'moderate vaginal bleeding', 'snorting heroin today', 'whole body weakness', 'history heroine use', 'weak peripheral pulse', 'respiratory ailment', 'chinese food restaurant', 'pain last night', 'finger stick glucose', 'problem call', 'combative upon', 'radial pulses equal', 'overall condition post', 'brain aneurism', 'male ambulatory', 'story apartment building', 'other seizure activity', 'same phrase', 'low voltage qrs', 'standing outside', 'time place', 'tried hot coffee', 'forward striking', 'treatable cause', 'sudden onset chest pain', 'autopulse failure', 'eat breakfast', 'scooter type chair', 'find ambulatory female pt', 'work arrest', 'crowd control', 'overrode diversion status', 'truck driver', 'pt reported', 'rehabilitator center', 'soft ad', 'decon truck', 'form capnography', 'side open door', 'activity post', 'medication crosscheck procedure', 'unproductive cough', 'bad cough', 'nursing report', 'exhibit hostile behavior', 'walked upstairs', 'pt lung', 'course rhonchi', 'family onscene', 'scared thinking', 'arrival report', 'appropriate reading', 'other history', 'exp phase', 'reveal diffuse', 'patient prone', 'patient breakfast', 'patient granddaughter', 'info due', 'extreme anxiety', 'ultrasound today', 'postictle period', 'possible weak pulse', 'wish transport', 'sort throat', 'allow signature', 'st marys er bed', 'large apartment building', 'constant heaviness', 'sign paperwork', 'pulse elevated', 'cot sheet', 'erratic eye movement', 'room floor apneic', 'found pt face', 'pursed lip breathing', 'describe nature', 'dual nebulizer', 'ivp transport', 'fluid resuscitation', 'buccal mucosa', 'right eye', 'right side sharp chest', 'ambulance entrance', 'ice pack placement', 'pain feeling', 'deny dyspnea', 'patient request', 'specific relief', 'recall sequence', 'provider cross check', 'witness statement', 'patient drank', 'pt heel', 'other medication', 'real weak', 'soft mass', 'registration problem', 'lot space', 'insurnance information', 'resuscitation order', 'own extrication', 'discontinue inhaler use', 'assess crepitus', 'full fowler', 'citrus fruit', 'bedroom floor upstairs', 'nebulizer treatment', 'insurance information pt', 'heart function', 'heart racing', 'distal edema', 'possible due', 'green mucus', 'substance waste signature', 'allergy shot', 'place supine', 'initial low', 'insulin dosage', 'confirm patient', 'vcu green er bed', 'signature statement', 'her typical shortness', 'require intervention', 'pt lying prone', 'significant artifact', 'asthma attach', 'hospital notified', 'enough money', 'first lock', 'facility staff', 'assess movement', 'muscle tissue', 'acute respiratory distress', 'lead obtained', 'problem responded priority', 'other month', 'home nebulizer treatment', 'adult wit psychiatric', 'symmetrical facial', 'noted en route', 'provide brief history', 'filled today', 'trauma alert', 'pt assisted', 'home utilizing stair chair', 'moist towel', 'beside road', 'sterile gauze wrap', 'church today', 'show acute bronchospasm', 'second time', 'other liver', 'defective lead', 'confirm access', 'mini heart', 'little respiratory relief', 'upper left quadrant pain', 'minute wait', 'renal dz', 'find male', 'ml en route', 'transient hypotension', 'wife finishing', 'last cardiac output', 'thunder storm', 'diabetic hypoglycemia yesterday', 'public transporting', 'brain mass', 'mutual friend', 'saw doctor yesterday', 'worse tonight', 'ed room', 'heard bad news', 'pregnant due', 'albuterol nebulizer treatment', 'heavy winter', 'distress ovetr', 'body lift', 'onscene priority', 'signature obtained', 'patient lying unresponsive', 'excurtion pt', 'continued manual', 'receiving pediatric', 'normal movement', 'occipital area', 'initiate treatment', 'symmetrical facial feature', 'refusal signature', 'treatment today', 'pneumonia last month', 'pt naked', 'inform crew pt', 'left foot', 'medical room', 'her sleep', 'cardic rhythm', 'idioventricular rhythm', 'altered mental status', 'patient couldnt sleep', 'first vehicle', 'day program', 'ataxic gait', 'due combination', 'move pt', 'clean dry bandage', 'non stop', 'form stair chair', 'clear elevation', 'skin tear', 'respiratory difficulty', 'room report', 'check card', 'further care', 'significant trauma', 'cont treatment', 'pt status', 'faclity signature', 'double vision', 'normal value', 'her cancer treatment', 'pinpoint hole', 'transport stating', 'neb mask', 'leg restraint', 'sewage problem', 'visible damage', 'convenience store', 'nursing facility staff report', 'extensive seizure hx', 'baseline incontinence', 'incorrect address', 'report man', 'moderate acute respiratory distress', 'administration lung', 'adult defibrillation', 'constant mechanical assistance', 'gastroparesis treatment', 'couldnt feel', 'whole bag', 'extremity deficit', 'become aggressive', 'bedside drainage', 'high blood', 'breathing funny', 'phone contact', 'multiple healthcare', 'befor transport', 'inadequate muscular tone', 'regular basis', 'retirement village', 'suspected etiology', 'wife sign', 'pain medicine', 'high rise apartment building', 'ankle bracelet', 'pt stated', 'distress noted', 'lateral face', 'cleaning solution', 'patient vomited prior', 'medication cross', 'etoh use', 'left middle finger', 'get heroin', 'own head', 'final examination', 'story multi apartment', 'high cholesterol', 'something tonight', 'normal blood pressure', 'pt airway', 'overall condition', 'global edema', 'unit vs', 'rapid heartbeat', 'stretcher secured', 'video laryngoscope', 'dental office today', 'whole house', 'office doctor', 'exact injury', 'vaginal cuff', 'multiple psychiatric', 'subject shook', 'inside ad noticed pt', 'beta blocker use', 'ventilatory assistance', 'second half', 'clear breath', 'further seizure', 'health care office', 'video laryngoscopy', 'immediate safety risk', 'seizure activity upon arrival', 'sour cream', 'mag sulfate', 'brown emesis', 'hand top', 'slow radial', 'leg jerking', 'good box', 'new complaint', 'gag reflex', 'her chair', 'basement door', 'extreme distress', 'patient medical paperwork', 'approx age', 'current medicaiton', 'general abdominal', 'needle insertion', 'dialysis renal pt', 'bed assisted pt', 'hospital oxygen', 'normal baseline ability', 'health insurance info', 'focal neurological', 'pt takent', 'entire life', 'patient insisted', 'pulmonary disorder', 'church event', 'capillary refill less', 'nebulized mask', 'artifact present', 'coronary syndrome', 'incident leaving patient', 'immobilize right leg', 'resuscitation bay', 'patient standing', 'sedation medication', 'improvement post duoneb treatment', 'feeling groggy', 'similar problem yesterday', 'maintain sugar', 'get home', 'albuterol home', 'labored tachypneic breathing', 'soccer practice', 'pupil constricted', 'amount today', 'describe further', 'white pt', 'negative stroke screen', 'adeqate depth', 'pediatric defibrillation', 'parking lot pavement', 'branch block', 'high chair', 'upper lip', 'unknown medical hx', 'hospital stating', 'pacemaker history', 'hold hand', 'jansport backpack', 'obvious trauma', 'visualized due', 'contraindicated due', 'itching problem', 'single person assist', 'hospital band', 'law enforcement custody', 'locate medication pill', 'support trunk', 'neb albuterol', 'pt drug user', 'social security check', 'possible skull fx', 'unspecified dysrhythmia', 'report pain', 'gap insurance', 'man please', 'tightness worse', 'clear windy', 'house onset', 'tote bag', 'unknown downtime', 'patient car', 'middle school', 'storage area', 'kitchen area', 'her albuterol inhaler', 'day care', 'pediatric nebulizer mask', 'second syncope episode', 'find nobody', 'sticky liquid', 'patient family', 'left side dull pain', 'police custody', 'nausea worsening', 'minimal movement', 'floor apneic', 'mid line umbilicus', 'tried multiple', 'witheld due', 'wall pain', 'stroke scale', 'confused manner', 'pt unable', 'female supine', 'fire station', 'recitify hypoglycemia', 'crew member', 'prolonged unsuccessful resuscitation', 'leg laceration bleeding', 'urination present', 'diminished lung', 'emergency department bed', 'intermittent spasms', 'initial interpretation', 'heard wheezing', 'frothy sputum', 'underneath vehicle', 'assisting pt', 'noted pain', 'found lying', 'diabetic proboem', 'home health nurse', 'normal sensation', 'small dog', 'phone number', 'minor vaginal discharge', 'strenuous work', 'severe distress due', 'likely divert', 'reporting shortness', 'pt condition', 'her left arm', 'abdominal stimulator', 'wheeze en route', 'other abrasive action', 'feeling weak', 'pt deceased', 'additional hospital', 'provider abdominal pain', 'suprapubic tenderness', 'low respiratory drive', 'large steep hill', 'healing place', 'beauty supply', 'intubation equipment', 'little response', 'critical care transport', 'rhythm slows', 'speak fuller', 'invasive resuscitation', 'suicide several', 'noted edema', 'prolonged resuscitation', 'st segment depression', 'substernal non', 'immediate presence', 'sleep due', 'traffic stop', 'legal guardian', 'patient refusal', 'pain today', 'woke today', 'short transport time', 'patient informed', 'large surgical scar', 'opioid abuse', 'strong radial pulse', 'temperature right', 'confirm address', 'serial nebulizer', 'fluid infusion', 'small blue tote bag', 'accu check', 'drain fluid', 'good result', 'auto pulse failure', 'red trauma team', 'call state', 'cardiac catheterization', 'chest pain starting yesterday', 'other recent general illness', 'new symptom', 'directed nurse', 'pt past medical history', 'critical medical condition', 'wheel bent', 'pain appx', 'good round', 'lead monitor', 'interfacility transfer', 'group home left', 'severe difficulty breathing', 'expressed moderate alleviation', 'cervical spine', 'pacer htn', 'floor ontop', 'criminal involvement', 'respiratory history', 'last syncopal episode', 'side paralysis', 'mg diphenhydramine', 'house work', 'mild hypertension', 'medical equipment', 'other potential', 'different hand vein', 'right thigh', 'true blood sugar', 'further due', 'major issue', 'intraventricular hemorrhage', 'visible response', 'dizzy yesterday', 'obvious visible hypoxia', 'abdominal pan', 'past few day', 'inline capnography', 'woke pt', 'last treatment', 'trauma bay staff', 'previous week', 'business staff', 'occurred due', 'attic apartment', 'new history', 'minimal resistance', 'obvious step', 'medical coverage', 'minimal wheezing', 'apartment common area floor', 'mg naloxone', 'further interview', 'empty oxycodone bottle', 'reported injury', 'maximum assistance', 'drowsey staff', 'positive waveform capnography', 'long laceration', 'indicate hypertensive pt', 'none post', 'irregularly irregular', 'sensory present', 'hospital notified enroute', 'alert male pt sitting', 'medication cross check', 'insert due', 'nursing staff performing', 'sitting upright', 'white devil', 'hospital diversion', 'week history', 'cardiac chest pain', 'psychiatric home', 'hospital yesterday', 'pt crying', 'seizure disorder', 'acute stemi', 'pulmonary fibrosis', 'assessment patient', 'patient improved', 'little shaky', 'her glucose monitoring kit', 'minute duration', 'possible pericarditis', 'extracted patient', 'frequent stimulus', 'passenger seat', 'complaint return', 'nare good compliance', 'chest discomfort', 'glucose rechecked', 'her insulin', 'playing football', 'insulin pen', 'exercise fine motor control', 'second possible pt', 'unconscious male', 'patient vehicle', 'recent renal failure', 'point safety', 'first round', 'dinner last night', 'asthma exacerbation secondary heroin', 'second story apartment', 'unknown caliber', 'delivering breakfast', 'dicongical gaze', 'post tx', 'tree stump', 'today pt', 'entire duration', 'swallow her food', 'apartment home', 'slow regular', 'cold weather', 'ambulance bay', 'patient son', 'pt reporting', 'living room floor', 'get treatment', 'bilat expiratory', 'constant sharp pain', 'left supraclavicular area', 'pt ws', 'diminished consciousness', 'primary assessment', 'husband bring', 'patnet airway', 'move self', 'paper copy', 'story family', 'adult day care', 'pt stated difficulty', 'community er bed', 'last hospital admission', 'repeat glucose', 'center chest', 'female unconscious', 'granddaughter rode', 'gravid emesis', 'grey hound bus station', 'constant pressure', 'obturator muscle test', 'double knee replacement', 'next appointment', 'walker chair', 'low speed', 'nausea noted', 'resp rate', 'sepsis consideration', 'work tonight', 'side deficit', 'video scope', 'point provider', 'unable confirm additional history', 'midline area', 'pediatric female patient', 'noted progressive', 'cardiac arrest equipment', 'single wound', 'patient guardian', 'small child', 'school year', 'leaky heart valve', 'brain contusion', 'caremore insurance', 'chest tube', 'initial reading', 'front living room', 'suicide today', 'medical health', 'right building', 'straight answer', 'obvious ectopy', 'same shallow', 'itchy rash', 'light blanket', 'hone number', 'knee pain', 'noting hypotension', 'good turgor', 'nay other', 'entire resuscitation attempt', 'different hospital', 'pt doesnt believe', 'initial sinus tach', 'poor tidal volume', 'last treatment approx', 'well time', 'several different', 'facility stretcher', 'pt unresponisve', 'lasyt week', 'important due', 'unconscious male pt', 'family inform', 'optima family care', 'tender pelvic', 'medication check', 'neighborhood event', 'postictal episode', 'feel pain', 'back pain post injury', 'much improved', 'walker left', 'note significant resistance', 'subsequent seizure acitivity', 'care turn', 'suger recheck', 'her coffee', 'bowel movement', 'home floor', 'hold pen', 'retirement home', 'drawsheet method', 'own personal nebulizer', 'tolerate water', 'black male supine', 'several carpeted stairs', 'hp arrival', 'severe respiratory distress', 'provider signature', 'arrival find', 'trouble swallowing', 'much air', 'dilate respiratory effort', 'adequate respiratory rate', 'approx noon today', 'bulldozer dropped', 'room trauma', 'frontal breast area', 'bag left', 'become better', 'patient contact', 'story townhouse building', 'hard cough', 'lose conciousness', 'nothing further today', 'medical response', 'female awake', 'sinus congestion', 'make good contact', 'milk crate', 'border line', 'increased pain', 'other medical history', 'see her', 'crew confirmed pt', 'single vehicle', 'dull left side', 'next check', 'assess pt', 'normal insulin', 'minor facial pain', 'heroin abuse', 'dry skin moisture', 'card use', 'weakness last night', 'second evaluation', 'presbyterian church', 'recheck pt', 'witnessed sz', 'typical complication', 'drool form', 'unusual behavior', 'auscultation tube condensation', 'dance floor', 'lobby chair', 'high fowler', 'abdominal abnormalitie', 'colostomy site', 'second round', 'portable oxylator', 'hospital vent', 'trailer park', 'prevous stroke', 'tractor trailer', 'fluid retention', 'peripheral neuropathy', 'provide further demographic information', 'significant difficulty', 'black male lying', 'recent abdominal complaint', 'unk hx', 'low quality', 'cardiac monitor import record', 'nelson clinic', 'adequate balance', 'meet unit', 'pressure point', 'mg narcan', 'describes vomit', 'pt est', 'large gulps', 'pulse strong', 'kidney pain', 'utility room', 'insulation debris', 'other paraphernalia', 'white foam', 'current condition', 'emergent transport', 'large quantity', 'assisted onto', 'constant low suction', 'tight pressure', 'obvious major respiratory distress', 'intercostal muscle', 'pain yesterday night', 'abdominal tightness', 'residential lack', 'family history', 'verbal confusion', 'her morning insulin', 'arm heaviness', 'recumbent position', 'basketball player', 'drug cross check', 'poor sleep cycle', 'restaurant floor', 'right deltoid', 'minimal bleeding', 'local anesthesia', 'prescribed ferrous sulfate', 'noticeable respiratory distress', 'daughter bang', 'small cyst', 'per wife', 'pressure center', 'pt spit', 'neurosurgical consult', 'left side chest pain', 'continued deterioration', 'care taker', 'previous exam', 'substernal region', 'diffuse expiratory', 'patient signed form', 'panic attack', 'chain apartment building', 'initial intervention', 'year female ambulatory', 'tight last night', 'residence front door', 'nebulized saline', 'recent weight gain', 'obvious airway obstruction', 'little resistance', 'day bus ride', 'sat air', 'stating pt', 'witnessed store associate emerge', 'maintenance person', 'front grass', 'previous day', 'collapsible chair', 'additional equipment', 'light work', 'bedroom door', 'obvious open fx', 'alret malen pt', 'rapid trauma', 'previous partial amputation', 'occasional agonal breath', 'hurt real bad today', 'vehicle heard', 'only medical history', 'dark room', 'soft spoken', 'discernable personal patient', 'route due', 'time speaking', 'adverse reaction', 'patient blood sugar', 'left lung lobes', 'sick due', 'girlfriend shook', 'breathing machine', 'last menstrual cycle', 'visible bleeding', 'reliable history', 'obvious laceration', 'ankle hitch', 'global body pain', 'acting lethargic', 'pressure bag fluid', 'replacement device', 'menstrual cycle', 'substernal cp', 'health care', 'verify information', 'seek treatment', 'commerical device', 'ptsd pt', 'male pt ambulatory', 'accompany pt', 'proximal tibial site', 'apparent difficulty breathing', 'pt pupils', 'help her', 'definitive diagnosis', 'chronic hypertension', 'other pmh', 'bad anxiety', 'pt post', 'patient vital', 'business manager', 'oral cancer', 'little combative', 'oxygen saturation', 'symbicort yesterday', 'left bicep', 'parking space', 'static position', 'couldnt intubate', 'extreme combativeness', 'male voice', 'life alert', 'patient care report', 'patient fall injury', 'unit male', 'capnography reading', 'acute bronchitis last year', 'eat much', 'initial administration', 'persistent white mucous', 'present location', 'secondary complaint', 'group home', 'standby unit', 'upper pain', 'post surgery', 'left ankle crack', 'active telephone number', 'track movement', 'different direction', 'night table', 'unidentified substance', 'point harness', 'strong bilateral radial', 'other carrier', 'cold pack', 'manual compression', 'equipment malfunction', 'home treatment tonight', 'maintence person', 'poor historian due', 'hit suv', 'ambulance bench seat', 'pt refused', 'narcan slow', 'defib pad', 'surgery today', 'bug virus', 'sudden onset pain', 'daughter state patient', 'likely recur', 'noting patient', 'current president', 'porta johns', 'person medication cross check', 'elderly male', 'nausea improved upon arrival', 'indicate diffuse', 'stretcher onto', 'white thick sputum', 'ablation last year', 'have diffuse bilateral inspiratory', 'ventilator need', 'left cargo pocket', 'motel room report', 'passenger front door', 'tell her', 'hospital contact', 'positive reaction', 'pediatric bed', 'obvious injury', 'rx diltiazem', 'trauma team care', 'pt birthday', 'hoarse voice', 'kitchen cutlery', 'staff present', 'low potatssium', 'render aid', 'work floor', 'extensive psych hx', 'other unknown allergy', 'pt groan', 'seek immediate medical attention', 'equal bilateral grip', 'patient attempts', 'bone cancer', 'irregular pulse', 'nasal cannula', 'right arm', 'controlled substance', 'sending facility staff', 'isosorbide clopidogrel', 'recall today', 'staff availability', 'possible hospitalization', 'life care', 'family report pt', 'occasional sharp pain', 'patient denies shortness', 'hurt worse', 'abdominal movement', 'many physical', 'incomplete right bundle branch', 'didnt work', 'cardilogist yesterday', 'her oral temperature', 'same way', 'ate carrot cake', 'patient access', 'ventilate pt', 'cot straps', 'notable damage', 'yellow mucus', 'critical medical team', 'uncontrollable due', 'stander pt', 'breathing staff', 'due adequate', 'inter facility transport', 'onset approx', 'sudden onset abdominal pain', 'cot semi', 'mother rode', 'ladder approx', 'hotel bed', 'bilateral arm', 'pt treatment', 'noted distention', 'poor air movement', 'fire response', 'spinal tap', 'heart dz', 'patient accucheck', 'labored resp', 'seizure control', 'poor respiratory effort', 'provide single word', 'medical office building', 'initial arrival', 'private apartment', 'rectal pain', 'cm wide wound', 'second floor bedroom', 'closer hospital', 'gauge establishd', 'tightness approx', 'dialysis shunt', 'sign language', 'little success', 'pulmonary edema', 'last approx', 'improved respiratory', 'interfacility call', 'medial portion', 'heavy pressure sensation', 'blood draw', 'eye injury', 'unknown age male', 'room lying', 'juvenile pt', 'cellulitis infection', 'report pt receiving insulin', 'abdominal mass', 'bad diarrhea', 'assisted crew', 'general confusion', 'car aid', 'group home staff', 'frequent patient', 'her albuterol rescue', 'new housing', 'fall ofc', 'hospital last night', 'central line access', 'use bathroom', 'catching her', 'rhythm change', 'get better', 'steroid treatment', 'same question', 'have poor', 'close call', 'worse breathing difficulty', 'church service', 'find pt unresponsive lying', 'movement patient', 'disoriented eye opening', 'approximate transport time', 'stress test', 'standard size', 'pt neighbor', 'oxygen mask', 'senior retirement', 'improvement enroute', 'life information', 'unconscious patient', 'point straps', 'light rain', 'drainage noted', 'specific change', 'yellowish tint', 'abdominal pian', 'card board box', 'home albuterol treatment', 'theatre staff member', 'pubic hair', 'regular radial pulse', 'inline neb', 'ground beside her car', 'medical information', 'daughter state', 'display same reaction', 'last bolus', 'normal non', 'front hood', 'additional capnography', 'tablet yesterday', 'denied drug use', 'sprained right knee', 'single story nursing', 'day till', 'patient broke', 'pt family pt', 'single story nursing facility', 'initial transport', 'impaired pt', 'distress scale', 'blood labs drawn yesterday', 'initial rhythm asystole', 'hypotensive post', 'chemical exposure', 'few other unknown', 'critical care access availability', 'richmond community er', 'shot something', 'provide significant relief', 'neurological activity', 'adult female complaining', 'wide adhesive', 'nothing acute', 'provider drug card', 'pain post', 'rib pain neg crepitus', 'clear thick', 'skin normal warm', 'small bowel', 'hotel room upon', 'bathroom door', 'prevent aspiration', 'previous medical', 'unknown problem female', 'tightness today', 'treatment duo neb treatment', 'utilizing restroom', 'fecal incontinence', 'mild nasal', 'pain starting yesterday', 'bite crew', 'physician pt', 'pt past heron', 'high level', 'previous fall', 'own nitro', 'note pain', 'bag concentration', 'bill sent', 'decrease respiratory rate', 'self medicate', 'told wife', 'second fall', 'family hx', 'poor source', 'station area', 'profane language', 'bedroom lying', 'patient assessment', 'second floor apartment home', 'ate garlic', 'repasentaive signature', 'labored rapid', 'order signature', 'intersection priority', 'radiate anywhere', 'kitchen appliance', 'treating hypoglycemia', 'basic mentation', 'medicaid card', 'assessed pt', 'bilateral flank pain', 'full history', 'continued high', 'find anyone', 'aggressive treatment plan', 'transport portion', 'thigh proximal', 'much alcohol', 'jaw pain starting', 'smoked cocaine', 'patient declined', 'trauma call', 'pt complain', 'swallow food', 'transport distance', 'anaphylaxis reaction', 'patient transfer', 'upon home treatment', 'warm bag', 'bilateral wheezing', 'ill appearance', 'notable distress', 'feeling ill today', 'home administration', 'pt strapped', 'universal muscle', 'last replacement', 'real sharp', 'female deputy', 'lead unremarkable', 'doesnt get', 'full thickness', 'her room mate', 'ett tube', 'short txp', 'clammy skin', 'burn trauma', 'ventricular fibrillation', 'medical emergency', 'sinus tachycardia rhythm', 'cardiac involvement', 'intact distal pulse', 'dialysis patient', 'become calm', 'revealing hypotension', 'return tonight', 'effective due', 'atypical affect', 'etoh abuse', 'prednisone yesterday', 'brief period unresponsiveness', 'second accurate', 'due inability', 'pm last nite', 'obvious organomegaly', 'distress pt', 'patient sat', 'son present', 'entire body', 'other shoulder', 'numerous pulse', 'significant distress', 'drug hx exception', 'pt drink', 'adjacent bedroom', 'resp effort', 'heart rhythm', 'toilet tissue', 'position pt', 'narcotic pain', 'pill medication', 'recent surgical procedure', 'parental request', 'secondary medication', 'pressure feeling', 'her breath', 'big rock', 'acute injury', 'manual cervical spinal', 'pt caught', 'box waveform', 'mild deformity', 'obvious acute respiratory distress', 'additional substance use', 'absent epigastric', 'recovery position', 'thorax chest pain', 'maxillary region', 'atrial fibulation rate', 'psych hx', 'find female', 'reliable historian', 'her front', 'heavy dull', 'potential pregnancy', 'hospital nurse', 'conscious oriented', 'recreational drug', 'right lung', 'paper work', 'behavioral health history', 'unilateral weakness present', 'decompress stomach', 'pain starting', 'close eye', 'obvious gallup', 'outward bleeding', 'sporadic spontaneous', 'memory loss', 'provide treatment crew', 'testicular pain', 'position change', 'good wave form', 're confirmation', 'adjacent pod upon', 'mid cervical pain', 'spine board immobilization', 'eating lunch', 'studio style residence', 'breathing fast', 'upper epigastric region', 'negative gastric', 'bone infection', 'find sister', 'other remarkable', 'right jaw', 'heart transplant list', 'good respiratory effort', 'trouble vision', 'pt states improvement', 'time failure', 'aortic aneurysm', 'dull pain', 'hospital time', 'extra fluid', 'non invasive capnography', 'obvious effort', 'touch sine', 'last menstral cycle', 'last apartment', 'state forth party caller', 'point harness restraint', 'cause bleeding', 'axciallary area', 'continued improvement', 'pt explained', 'physical assessment', 'parenteral access', 'patient transported', 'noted upon physical exam', 'recent attack', 'secondary alcohol dependence', 'extracted pt', 'cloudy response', 'enough food', 'continue monitor', 'recent diarrhea', 'fragile vasculature', 'prod cough', 'front residence', 'post treatment patient', 'chippenham er', 'feeling feverish', 'arm due', 'printer paper', 'left abdominal pain', 'scheduled medicatiion', 'rear door', 'regional specialty center', 'capnography monitoring', 'cooperation level', 'seizure witness', 'possible sepsis', 'shallow decreased rate', 'current chest pain', 'info incomplete', 'pt started crying', 'pt side advising pt', 'assessment process', 'clinical department', 'transport infusion', 'last meal', 'public intoxication', 'apparent narcotic overdose', 'poor vasculature access', 'field sobriety test', 'found unresponsive', 'lead retaken', 'intubated due', 'increased dosage last night', 'complete bypass', 'attempted due', 'facial deformity present', 'pt aware', 'puke bag', 'provide baseline', 'urticaria present', 'house fire', 'cspine pain', 'beta blocker', 'grass yesterday', 'borderline hypertensive', 'edema noted', 'pt name', 'patient admitted', 'patient report', 'medication change', 'tongue surgery', 'vital cardiac', 'significant exertion', 'repeat finger', 'difficulty remembering', 'give history', 'bronchitis last night', 'several medical', 'degenerative osteoarthritis', 'overall pt', 'pt int', 'facility staff choice', 'dry sterile burn sheet', 'feed pt', 'her last ablasion', 'right upper chest', 'aganol resp', 'cardiac rythym', 'husband alive last night', 'initial patient contact', 'medication yesterday', 'short proximity', 'breathing problem', 'non responsive', 'rough rectangular pattern', 'sodium bicarb administration', 'her previous dose', 'recovery group home', 'neck tenderness', 'print report', 'finger nail', 'spontaneous abortion', 'occasional cigarette', 'diminished tidal volume', 'external blood loss', 'albuterol yesterday', 'find patient ambulatory', 'hospital room', 'pepper spray', 'acute resp', 'regular bilateral radial', 'cardioversion couple', 'good tube placement', 'adequate volume', 'croupy cough', 'whole day yesterday', 'unconscious man', 'clinic bed', 'syncopal episode', 'awful pain', 'male pt lying supine', 'treatment center', 'initial concern', 'other toe', 'loud thump', 'breathing shallow', 'transported nonemergent', 'heart catheterization', 'expansion right side', 'significant bleeding', 'recent bone marrow transplant', 'such today', 'constant pain', 'occasional loose stools', 'obvious injuries', 'medical hx', 'medic unit becuase', 'striking head', 'local establishment last night', 'sharp pressure chest pain', 'first neb treatment', 'destination information', 'hard stick', 'throat clear', 'current headache', 'other time', 'other nurse', 'vocal chord displacement', 'sick person priority', 'abd pain', 'prepared medication', 'home dinner', 'room pulseless', 'exploratory heart catheterization yesterday', 'hospital clinic visit', 'point seatbelt', 'primary care', 'story residence residence', 'exam unremarkable', 'respiratory compromise', 'pt placed', 'nursing home staff', 'her car', 'patient denied vaginal', 'moderate blood loss onscene', 'lead showed', 'manual pressure', 'warm patient', 'reliable arm drift', 'absent air movement', 'strip club', 'rhonchirous lung', 'pt experienced', 'wrong tab', 'generalized body weakness', 'normoglycemic pt', 'hour pharmacy', 'patient care team', 'several agonal', 'pleural separation', 'dark red blood', 'ccs blood loss', 'radial pulse rapid', 'passanger side', 'crew proceed', 'rapid rate', 'fistula present', 'migrane headache', 'interior stairwell', 'belt buckle', 'other asthma', 'slow responsiveness', 'care encounter', 'chef office', 'mg glucagon', 'whole life', 'portable suction failure', 'appetite secondary', 'leg fx', 'slight nausea', 'second ambulance', 'emerency department', 'yellow jacket', 'narcan iv', 'routine check', 'electrolite imbalance', 'short delay', 'bed number', 'preform assessment', 'cough syrup use', 'current dental infection', 'finger stick glucose level', 'room couch', 'dialysis treatment', 'breakfast today', 'pill organizer', 'patient supine', 'relief tonight', 'other obvious external', 'tube measuring', 'right arm pit', 'report paresthesia', 'become lodged', 'surgical scar extending', 'vision loss', 'thick vomit', 'vertical lac', 'fluid pill', 'turgor appropriate', 'wasnt working', 'outside front', 'basketbal court', 'sharp generalized', 'glucagon injection', 'multiple medication', 'gain access', 'na die', 'report observation', 'passenger door', 'sublingual nitro', 'pt denied headache', 'seizure activity', 'mean time', 'refusing treatment', 'limited medical history', 'showing sinus', 'location description', 'small cut', 'hypoglycemic event', 'open fracture', 'form stretcher', 'roommate doused pt', 'ate lunch', 'get insurance', 'rib pain', 'fall victim', 'hand injury', 'outer door', 'patient states nothing', 'family friend', 'thoughout treatment', 'male right lateral recumbent', 'urology sooner', 'last seizure', 'previous incident', 'poor management', 'demographic info', 'pt found lying', 'entire patient care', 'oral airway', 'ront area', 'report number', 'easy access', 'lpm home oxygen', 'external stimulus', 'sugar water', 'processive difficulty', 'notable increased work', 'pt become', 'sensory function', 'pulse felt', 'retreat er bed', 'sign bc', 'baseline deficits', 'hotel room', 'same signature', 'visible grimace', 'occasional head', 'full billing', 'provide full name', 'heroin overdose', 'tingling sensation', 'inward rotation', 'significant change', 'treated due', 'right wrist fracture', 'patient hs', 'additional naloxone', 'new insulin', 'likely decrease', 'medicine today', 'pain level', 'hard time catching', 'unknown internal', 'recent incident', 'chest pain', 'definitive cardiac care', 'severe dull', 'adminstration blood', 'beer today', 'become combative', 'vague location', 'bounding carotid', 'minor assistance', 'pain dose', 'revealing apnea', 'pt covered', 'patient shallow', 'care today', 'family unsure', 'fungal infection', 'own care', 'ns bolus', 'dull substernal', 'severe hypertension', 'persistent dry cough', 'sweet oder', 'white throothy sputum', 'geratic independent', 'vacant house', 'patient removal', 'secondary shortness', 'core warm', 'somebody give', 'resp infection', 'pt refusing', 'appropriate seal', 'transport button', 'animal control', 'face sheet', 'last year', 'onto stretcher', 'safety straps', 'downgraded priority', 'soaked paper', 'return trip', 'vaccine adjuvant', 'kitchen floor', 'sputum production', 'ash tray infront', 'poor chest rise', 'front step', 'lift gate', 'further information', 'panel malfunction', 'felt anxious', 'family gathering', 'laying down', 'pt acuity', 'scene state patient', 'soft nontender pelvic', 'sleep feeling', 'sign due distress level', 'poor oral', 'repiratory rate', 'injury site', 'room air pulse ox', 'productive thick sticky sputum', 'initial sinus tachycardia', 'improve level', 'wrong last', 'feeling worse', 'other illness', 'pt family', 'benadryl last night', 'want treatment', 'muscle ache', 'flail segment', 'medical treatment room', 'unwitnessed fall', 'regular bilat', 'hospital treatment', 'severe acid reflux', 'bathroom sink', 'tko rate', 'recent albuterol', 'copious watery', 'home kitchen', 'uniformly wide', 'inoperable hear crew', 'blood volume', 'cardiologist next week', 'patient physician choice', 'full motor', 'green bile', 'left upper chest', 'pt transported', 'first contact pt', 'physical therapy', 'center part', 'vomiting consist', 'breath threw', 'pt friend', 'obvious delay', 'patient refused', 'home albuterol neb treatment', 'emergency department', 'full report', 'significant improvement', 'family state', 'pt accept rx', 'extended period', 'pt pupil', 'normal skin warm', 'reasonable blood pressure', 'major cardiac history', 'much history', 'minor work', 'much information', 'secondary possible opioid', 'rocking chair', 'obvious relief', 'anterior thigh', 'complete head', 'difficulty flushing', 'attempt report', 'male complaining', 'home life', 'male pt hemorrhage', 'slid down', 'brown sputum', 'abnormal sensation', 'inside store', 'pulmonary condition', 'group home member', 'irregular waveform', 'chair inside residence', 'wooden floor', 'down time', 'responded today', 'resp issue', 'other paper', 'refusal process', 'frail weight approx', 'bed alert', 'suspectd dehydration', 'reassessed multiple', 'medication administraton', 'approx early', 'normal bathroom', 'tightness yesterday', 'subs laundry mat', 'green sputum production', 'family patient', 'husband collapse', 'deny illicit drug use', 'porch awake', 'seizure en route', 'residence lying', 'pulse present pt', 'global improvement', 'confused speech', 'faster rhythm', 'age appropriate', 'neg mucus', 'tonic seizure', 'metestatic lung cancer', 'white male lying supine', 'difficulty breathing yesterday morning', 'little gray', 'joint pain', 'her menstrual cycle', 'patient carried', 'down hill', 'audible expiratory wheezing', 'entire way', 'trauma team nursing staff', 'possible narciotic od', 'st patty', 'copious amount', 'proximal humerus', 'finish dialysis', 'last time urinary catheter', 'head hurt', 'entering call', 'locate suitable location', 'complete dialysis', 'pain hallway', 'home pregnancy test', 'original provider', 'mild substernal tenderness', 'apartment crew', 'working space', 'family witness', 'sternal radiating', 'moderate relief', 'contribute further history', 'pt didnt need', 'pt please sit', 'mid sternum', 'wide open flow rate', 'white van', 'bed intermediate hall', 'ha pmhx', 'gathering personal information', 'reporting newl', 'ekg sinus tache', 'multiple linear', 'way behind', 'initial capnography', 'saline drip', 'arouse her', 'patient regained consciousness', 'spinal stepoff', 'right kneecap last month', 'repeat vs', 'improvement post neb tx', 'accidental ingestion', 'person crosscheck', 'past few', 'med port', 'suction container', 'radial epicondyle', 'change mind', 'persistent productive cough', 'basket ball', 'semi responsive alert', 'next night', 'increased resp', 'fall last week', 'patient feel', 'chronic urine retention', 'narcotic box', 'feel nausea', 'illicit substance use', 'psychiatrists office', 'large bore', 'passenger space intrusion', 'first witnessed', 'current smoker', 'deformity due', 'other asthma attack', 'respiratory effort', 'black coup', 'noted patient', 'breathing problem en route', 'style house', 'naloxone patient', 'recent drug use', 'metro bus system', 'adult size', 'bilateral upper lobes', 'her transportation', 'transfer info', 'arrive time', 'pts neuro doc', 'bone marrow transplant', 'field competition', 'inhaled medicine', 'pt interaction', 'insurance policy', 'first duo', 'observe anyone', 'medication adminsitration checklist', 'double defibrillation', 'describe nature activity', 'patient reporting single episode', 'reflect adequate ventilatory effort', 'only person', 'tube placement check', 'anterior wall chest pain', 'substance account', 'church yesterday morning', 'complete stabilization', 'stretcher sheet', 'upper chest', 'patient states pain', 'edematous legs', 'lead preformed', 'feeling relief', 'normal nonlabored', 'obtained pertinent demographic information', 'stomach flu', 'sedentary lifestyle', 'diabetic problem', 'sidewalk infront', 'pt states sudden', 'occipital lobe', 'receive mail', 'very lethargic', 'beige truck', 'uncontrolled hemorrhage', 'drink alcohol', 'secondary vehicle crash', 'frontal headache', 'cardic event', 'excessive bleeding', 'male confuse', 'former alcoholic', 'street corner bench', 'medical alarm service', 'point lift', 'pursue outpatient care', 'left leg', 'nursing home yesterday', 'second preferred hospital', 'recent heroin use', 'pt drove home', 'secondary substance abuse', 'hotel room bathroom', 'clinical officer', 'small container', 'tachypneic vs', 'poor intake due', 'sphenoid sinus', 'good flush', 'local clinic', 'acute onset respiratory distress', 'pacemaker upper left chest', 'other thing', 'residence due', 'continued diarrhea', 'appropriate conversation', 'draw sheet method', 'slight elevation', 'electric scooter', 'clean room availability', 'purulent drainage', 'hospital admission', 'head restraint system', 'spontaneous conversion', 'articulate health history', 'heart condition', 'critical medical pt', 'coaching breathing', 'intial rating', 'pamphlet route', 'offer reassurance', 'other medical complaint', 'local high school', 'outside portion', 'regular dose', 'albuterol rescue', 'denim purse', 'positive numeric', 'vomiting bile', 'waste balance', 'trauma bay room', 'her sinus', 'improvement respiratory rate', 'extreme vigor', 'pronounced dead', 'chest pain priority', 'make verbal contact', 'kitchen line', 'hand normal saline run', 'chest pain today', 'person draw sheet', 'monitor blood sugar', 'patient reporting feeling', 'significant medical history', 'yoa female ambulatory', 'anterior wall', 'positive loss', 'coronary artery occlusion', 'witness signature', 'high school', 'extensive artifact', 'blood work', 'report general pain', 'other friend', 'single stent placement', 'airway open', 'mail box', 'her grandson', 'seizure medication yesterday', 'get worse', 'feel pt', 'home health provider', 'treatment machine', 'tonic clonic activity', 'renal cancer', 'strong pedal', 'new resident', 'pt refusal form', 'her mind', 'assist control', 'know anything', 'club tonight', 'use home nebulizer', 'neck area', 'give accurate', 'watching replay', 'right front', 'bilat upper', 'member signature', 'intermittent jerking movement', 'intial report', 'field impression', 'non productive cough', 'regular insulin', 'pt unsure', 'new address', 'patient confirms', 'history od emphyzema', 'post ictle state', 'visit family today', 'want ambulance transport', 'language barrier', 'manual evaluation', 'further decline', 'witnessed pt residence', 'unknown gestation', 'moderate dizziness', 'pt adament', 'pt siting', 'normal blood sugar', 'gram heroin', 'phlegm today', 'pain yesterday evening', 'contact phone number', 'spider bite', 'fire alarm', 'hip revision', 'isolated numbness', 'old minor', 'bilateral miosis', 'last awake', 'baseline oriented pt', 'home staff', 'provide reassurance', 'gauge catheter', 'personality disorder', 'coherent conversation', 'refused breakfast', 'yo female lying supine', 'ladder painting', 'bath room', 'recent vaginal birth', 'sterile gauze', 'insuline dependant', 'turnover delay', 'left abdominal area', 'albuterol nebulized', 'repeat accucheck', 'distal leg weaping', 'experienced seizure', 'medical alert condition', 'alarm cord', 'yesterday patient', 'minor difficulty speaking', 'appear frothy', 'pulse rate', 'house arrest ankle bracelet', 'inc work', 'protect skin', 'equal bilat', 'second tx', 'front proch', 'headquarters communication center', 'morning bc', 'ecg monitor', 'significant respiratory distress', 'recent general illness', 'outside hotel', 'broken leg', 'illegible signature', 'expiratory phase', 'pain rle', 'stick glucose', 'lasix several', 'conscious alert pt', 'flu staff', 'story apartment', 'pain deformity', 'equipment resupply', 'few small', 'pupil pinpoint', 'hot ground', 'correct time', 'start need help', 'overall skin condition', 'laundry room', 'patient stability', 'same onset', 'affected extemity', 'dull left', 'vaginal area', 'call physician', 'tenderness present', 'vomiting starting', 'reflect accurate time', 'pt states pain', 'explained situation', 'little distress', 'red tote bag', 'rhythmic tonic seizure', 'adequate ventilatory effort', 'heart murmur', 'renal failure', 'pt calmed', 'partial avulsion', 'clear lung', 'underneath compression', 'sublingual nitroglycerin tablet', 'syncopal event', 'clear bbs', 'palpate stomach', 'scene road', 'transported downstairs', 'post due date', 'rapid transport', 'body control', 'requiring varification', 'equal excursion', 'minor drool', 'intercostal space lateral', 'deep inhalation', 'green colored phlegm', 'business card', 'midaxillary line', 'facial pain', 'lead ecg', 'administered due', 'gtt set', 'ambulance pt', 'additional help', 'mild activity', 'give day', 'male seizure', 'fannie pack', 'transport failure', 'tachypneic rate', 'reach mother', 'improve post medication administration', 'bipap machine', 'juvenile grandson', 'facility office', 'intermittent rhythm', 'single family residence', 'witnessed front door', 'physical education', 'assessment witnessed', 'obvious functional support', 'signature portion', 'normal vomitus', 'verball stimuli', 'secured pt', 'crack cocaine use', 'speak post', 'clonic convulsion', 'obtaine information', 'strong radial', 'steady decrease', 'begin administration', 'mental compacity', 'other pmhx', 'adult male driver', 'note pt', 'security officer', 'home today', 'psychiatric emergency', 'drank alcohol today', 'slight reciprocal change', 'pupillary response', 'neb treatment today', 'plastic cover', 'mg inhalation', 'comms ctr', 'ache non radiating', 'waiting room', 'redness present', 'opposite side', 'vehicle collision', 'skin condition', 'boyfriend pt', 'stretcher due', 'ambulatory pt', 'general illness', 'other past medical hx', 'uneven due', 'minimal distress enroute', 'noted low', 'unknown problem man', 'rt hand', 'spinal motion restricion', 'heavy jacket', 'dialysis center', 'dull heavy chest pain', 'facial droop present', 'cot poc', 'heart palpitation', 'second floor bathroom', 'kept supine', 'yof supine', 'pt hand', 'provide insurance card', 'abdominal area', 'syncope episode', 'significant psychiatric history', 'residential street', 'inch puncture', 'mid chest pressure', 'adult tube tamer', 'erased last name', 'distal hole', 'past feel', 'obvious evidence', 'past hour', 'response distance', 'elaborate further', 'local concert', 'strong rapid', 'intact pt unresponsive', 'obvious major pain', 'floor apartment', 'story old school', 'cot towel', 'possible narcotic overdose', 'epi pt', 'audible wheezing', 'poor motor control', 'list available', 'unresponsive patient', 'sloping waverform', 'low respiratory rate', 'constant mumble', 'located vehicle', 'duoneb attachment', 'left anterior side', 'seat passenger', 'calmer demeanor', 'feeling suicidal', 'appear pale', 'health care provider', 'prescribed naproxen', 'familial disorder', 'difficult today', 'same mental status', 'signed pt', 'get anything', 'poor perfusion', 'new psychiatric', 'pt upon pt', 'first degree burn', 'strong rate', 'baseline motor', 'revealed diminished', 'right glute', 'dispatched address', 'audible soft', 'right bundle branch block', 'high pain level', 'patient nausea', 'pt voiced improvement', 'mild bilateral', 'bite site', 'dramatic increase', 'improved alertness', 'apparent discomfort', 'aspiration saliva', 'tourniquet placement', 'radial pulse strong', 'left deltiod', 'mid clavicular line', 'hospital per pt request', 'home residence priority', 'obvious pain', 'touch temp strip', 'poor peripheral perfusion', 'past several day', 'included mild sedation', 'sometime last night', 'obvious shortness', 'own tongue', 'boxed waveform', 'appropriate child', 'other reason', 'full treatment today', 'medical student', 'private pool', 'point care', 'moderate bilateral', 'bit blade', 'active coumadin', 'minimal air movement', 'cough anything', 'tube equal rise', 'point crew let staff', 'fluid flush', 'spinal immob', 'staes noone', 'open horizontal surgical', 'help alleviate', 'provider medication cross', 'crack cocaine abuse', 'obvious medical history', 'good capnography', 'court tomorrow morning', 'visualize pt', 'chemical restraint', 'complaint per', 'sharp non', 'large decrease', 'chair beside', 'increase distress', 'today becasue', 'toilet seat', 'closest appropriate hosptial', 'air conditioning', 'external jugular', 'critical hall', 'use tonight', 'benign early repolarization', 'residence last night', 'petit mal', 'slight spontaneous head movement', 'left er', 'rock beer', 'lividity noted', 'dinner tonight', 'please calm', 'nearby hot dog', 'male semi', 'fixed gaze', 'home breathing', 'difficult compliance', 'caregiver request', 'anterior muscle', 'weird crap', 'lateral dorsal foot', 'evicted today', 'new today', 'deep avulsion', 'father road', 'street location', 'gilipin court', 'fetus likely', 'possible new onset', 'unconscious agonal', 'pediatric pt', 'mild tachypnea', 'nasal capnography set', 'respiratory arrest', 'coconut soap last night', 'floor last room', 'suprapubic catheter', 'grey sedan', 'cardiac complaint', 'reception desk room', 'iv line', 'occasional dizziness', 'anterior palm', 'atrovent added', 'seizure lying', 'total relief', 'cardiologist next month', 'her rescue inhaler', 'provider medication crosscheck', 'blood pressure', 'patient drooling', 'primary physician', 'witnessed seizure', 'alert activated', 'deployed patient', 'right cataract surgery tomorrow', 'posterior tibial', 'minor deformity', 'site state patient', 'pain midsternal', 'her fall', 'crew read', 'accesorry muscle use', 'health insurence', 'trouble regulating', 'outpatient procedure', 'narrow path', 'patient bedside', 'iv site', 'reassured pt', 'past friday', 'unnatural position', 'chest starting last night', 'preventative medication', 'facility chair', 'pack left', 'exercise muscle', 'large bucket', 'porta john', 'peanut butter pt', 'pain call', 'pink froathy sputum', 'diffuse thoracic', 'palpation ant', 'slight edema', 'pulse strength', 'accessory effort', 'alternate entrance', 'complete alleviation', 'gradual improvement', 'resiratory infection', 'proper bowel movement', 'hand held nebulizer', 'dialysis catheter', 'type pain', 'provider respite', 'stool noted', 'first floor bedroom', 'movie land', 'spontaneous arm', 'unlocked front door', 'pt sound hoarse', 'pt road', 'orthopedic surgeon', 'recent improvement', 'head neck', 'accessory muscle', 'appointment last week', 'agitation level', 'suction unit', 'sz hit', 'remained uncontrolled', 'diabetic problem call', 'net distance', 'official confirm time', 'right shoulder', 'year old female', 'new cot', 'past fistula', 'assumed patient care', 'surgical suture line', 'neurological baseline', 'gastritis last month', 'surge floor', 'pt appearence', 'roller bandage', 'bilateral lung', 'patient denied pain', 'rehab facility', 'colorectal surgeon', 'pt warm', 'moderate respiratory distress', 'third floor', 'recent child', 'town home', 'traumatic injury call', 'narcan nassal', 'have increased ease', 'mag oxide', 'original vital', 'third flood', 'pediatric female pt', 'initial fall', 'face mask', 'pts choice', 'mucus plug', 'single female driver', 'brief consultation', 'mark patient', 'jen care', 'paroxysmal nocturnal dyspnea', 'high heart rate', 'scene today', 'way today', 'left lung', 'moderate alleviation', 'arrest team', 'provide additional information', 'staff feel', 'minor inspiratory', 'fire room', 'vomiting enroute', 'appeared wide complex', 'yo male lying', 'patient due', 'further distress', 'indicate moderate hypoxia', 'facility security', 'heroin today', 'acute distress', 'morbid obesity', 'biting family', 'front seat passenger seat', 'alert male pt', 'obvious pinpoint', 'mal seizure', 'exact diagnosis', 'anterior rib', 'pt departure', 'pain better', 'stay compliant', 'several different psychiatric', 'subsequent ecg', 'resuscitation attempt', 'normal oral', 'family insist', 'triple bypass surgery', 'pressure infusion bag', 'inhaler several', 'cardiac rhythm', 'similar episode', 'knee injury', 'lot closer', 'critical bay', 'afford insurance', 'presumed heroin', 'unresponsive gunshot victim', 'deep breathe', 'lateral recombant', 'familial cardiac history', 'yo black male', 'hall way', 'large vertical scar', 'good care', 'health hx information', 'continued abdominal', 'electronic error', 'er yesterday', 'full medical history', 'sheet slid', 'heart patient', 'same yesterday', 'dialysis appt', 'unknown fever', 'right upper extremity', 'sunday eve', 'low blood glucose', 'loud noise', 'main cot', 'brief episode', 'perform bvm enroute', 'multiple different supervisor', 'right upper quadrant pain', 'white male', 'placed herself', 'sharp substernal pain', 'find conscious', 'coherent statement', 'facility statment', 'exact same', 'cash register', 'sickle cell disease', 'patient self sliding', 'staff directing', 'full coherent', 'car last week', 'few seconds', 'irregular rate', 'immediate complaint', 'only nebulizer', 'playing outside', 'ongoing assessment', 'confused state requesting presence', 'jaw movement', 'shoulder area', 'possible dystonic reaction', 'old drug', 'significant weight', 'states onset', 'isolated complaint', 'posterior wound', 'few day', 'born full term', 'time pt mom', 'lumbar spine region', 'combative behavior', 'respritory distress', 'front desk clerk assist', 'sick last week', 'nervous tick', 'ground apneic', 'eye brow', 'usual presentation', 'successful cuff inflation', 'wheezing heard', 'patient fall', 'open front', 'st elevation', 'patient obese', 'code team', 'other driver', 'few alcoholic', 'stridor present', 'attempted iv', 'tube threw', 'unspecified mental health problem', 'rapid shallow', 'demographic information', 'vertical surgical', 'inconclusive stroke scale', 'minor facial', 'aware presence', 'treatment last night', 'patient abandonment', 'found patient unresponsive', 'risk starting', 'awake patient', 'good intake', 'receive dialysis today', 'new weakness', 'evaluated noting', 'mild dependent edema', 'have tenderness', 'destination time error', 'borderline diabetic', 'dark green sputum', 'extreme duress', 'rapid push', 'yof exiting', 'recreational use', 'possible allergie', 'only spontainious', 'police stanby', 'arm shook', 'pink tote bag', 'wound care', 'inside apartment', 'organic brain dz', 'proper seal', 'initiated wide open', 'difficulty locating pt', 'dark yellow sputum', 'accident gsw', 'relocate ambulance', 'request request', 'unknown history', 'seizure frequency', 'intense nausea', 'report male', 'past involvement', 'lpm blow', 'bloody vomit', 'irregular pedal', 'neb administered', 'driver seat awake', 'visible loss', 'cot pt', 'intravenous heroin', 'possible atrial fibrillation', 'mg albuterol', 'expired albuterol neb', 'accessory muscle use evident', 'pushed slow', 'air way', 'alert male', 'unbearable level', 'heavy ball', 'duo neb treatment', 'cherry flavor', 'familey plan', 'bilateral rhonchi', 'mask nebulizer', 'sure pt', 'drug usage equipment', 'left shoulder', 'oxygen sataution', 'administration pain', 'much space', 'extensive cardiac history', 'assessment performed', 'campus tour', 'patient name', 'periumbilical region', 'emergency contact info', 'insulin pump', 'recent weight loss', 'inhaler helps', 'interfaculty transfer', 'autopulse pt', 'absent pre decompression', 'breathing diffculty', 'health insurance card', 'office laid', 'slight improvment', 'inhaler inside', 'positive pregnancy', 'extensive seizure', 'room medical bay', 'heavy pain', 'red rectal hemorrhage', 'time spent', 'treatment due safety', 'quiet audible', 'hip replacement', 'state witnessed patient', 'girlfriend road', 'asymmetrical mass', 'simple command', 'additional oxygen', 'meniscus implant', 'first episode', 'position aound', 'wouldnt start', 'wouldnt wake', 'lead placement', 'gaining consciousness patient', 'pain scale', 'er pt', 'access parent', 'difficulty enroute', 'groggy pt', 'available enroute', 'observed mouth', 'neuro assessment', 'right ankle injury', 'apartment kitchen floor', 'wall elevation', 'crawl space', 'reactive bilat', 'low blood sugar reading', 'noted femorial', 'cardiac patient', 'decision delay', 'gauze inside', 'good bilateral air', 'systolic blood', 'yo witha diabetic problem', 'manual ventilation', 'exact recreational', 'femur fracture', 'left eyebrow', 'occasional sharpness', 'right knee injury', 'mother tending', 'restricted trail', 'plaza azalea building', 'strong walking', 'left bedroom', 'her house', 'safety betls', 'reg rate', 'immediate evaluation', 'brief history', 'clear agonal', 'difficulty last night', 'patient kneeling', 'report active nausea', 'ejection fraction', 'oxygen delivery', 'equal bilateral chest rise', 'walk home', 'bloody clot', 'moderate apparent distress', 'short lucid interval', 'mild hypoxia', 'nebulizer inline', 'occasional sinus', 'non diabetic hyperglycemia', 'medical alarm activation', 'normal baseline', 'instructed pt', 'laundry matt', 'recent electrical fire', 'patient slid', 'prior cardiac event', 'patient read', 'observe pt', 'pain unaffected', 'last child birth', 'family situation', 'clear liquid', 'initial dose', 'ant past medical history', 'little difficulty', 'assessing injury', 'per nare', 'fire engine', 'cross check', 'alcohol level', 'responsive state', 'upon palpation', 'her building maintanence employee', 'naloxone administration pt', 'possible allergic', 'clammy moisture', 'episode similiar', 'epineprine administration', 'assisted pt', 'doctor today', 'balance assistance', 'oral visualization', 'pupils fixed', 'ausculable heart', 'patient advised', 'appropriate manual tracton', 'apparent shortness', 'sign stating', 'last winter', 'upper body', 'moist moisture', 'continued due', 'white phlegm', 'witness pt refusal', 'pt standing', 'initial call', 'previous diagnosis', 'full body pain', 'information left', 'sinus infection', 'boxlike waveform', 'staff call', 'pt color', 'last stay', 'unresponsive male', 'normal respiratory status', 'ost administration normal saline', 'nearby indicating possible history', 'assesory muscle use', 'pt refusal signature', 'strip mall building area', 'recent episode', 'sleep today', 'non rebreather', 'unconscious female pt', 'outer portion', 'soccer jersey', 'medical pendant alarm activation', 'blood stain', 'iv lt', 'told pt', 'destination doe documentation', 'nebulizer set', 'first floor apartment', 'tonic type', 'full body weakness', 'iv saline bolus', 'indicate hypertension', 'global pain', 'assist pt', 'clear bilateral', 'third round', 'car vs', 'salon staff', 'right teeth', 'overall body', 'shallow resp', 'daily dose', 'patient verbalized', 'venous bleed', 'slight redness', 'parked unit', 'unknown due date', 'nonstop cough', 'meet close', 'retreat yesterday', 'birth certificate', 'illicit drug use', 'bagged pt', 'sharp pain', 'low testosterone', 'male driver', 'move legs', 'pt awoke', 'house funagaid', 'male lying', 'brady rate', 'breast feeding', 'pt repeat', 'toe problem', 'recent sz', 'lpm home', 'steady gait', 'access difficulty', 'rapid assessment', 'notebook paper', 'patient explained', 'reflect accurate chronological order', 'black mold', 'help pt feel', 'unobtainable due', 'further intervention', 'glucose reading', 'area pain', 'side teeth', 'pt lying', 'eat dinner', 'occasional heroin use', 'circulation intact', 'cardiac implant', 'her prednisone', 'begin new cycle today', 'pt shot multiple', 'normal effort', 'use albuterol', 'pack smoking', 'athletic field', 'provide history', 'pt tolerated mask', 'pt awoke today', 'vomited prior', 'abnormal rhythm hx', 'pressure pill', 'initial rhythm', 'single story family', 'strange noise', 'ow intact', 'duoneb administration', 'pop several', 'floor behind', 'sudden worse', 'facility states patient', 'deny abdominal complaint', 'medical billing information', 'dizzy pt', 'dry vomit', 'grand mal seizure activity', 'patient underwent surgery', 'unscheduled emergency', 'obvious edema', 'quality good', 'asleep yo', 'threw water', 'numerous test', 'injured extremity', 'nausea whlie', 'localizes pain', 'describe pain', 'evening insulin', 'ileostomy site', 'swollen airway', 'minor twitch', 'euvoglucemic pt', 'dilusional stating', 'rapid radial pulse', 'treat hypoglycemia', 'family member ride', 'continuous monitoring', 'arm movement', 'focal motor movement', 'right time', 'breath last night', 'regular normal', 'pt stabilization', 'abdominal soft', 'pacemaker cardiac implant devise', 'hx asthma', 'starting feeling', 'drug use', 'hospital approx', 'saline lock', 'noted hoarseness', 'patient daughter', 'skin pale diaphoretic', 'anterior hip', 'pain center', 'spontaneous eye movement', 'receiving facility', 'little anxiety', 'patient ate dinner', 'cardiac diease', 'deficits secondary', 'truck infront', 'recent administration', 'severe metabolic acidosis', 'initial hypotension', 'high likelyhood', 'allergy band', 'staff report pt', 'unexplained hair loss', 'other recent illness', 'right sided chest', 'same drug', 'care due speech', 'standard stretcher', 'sharp epigastric region pain', 'persistent prolonged expiratory phase', 'brandy next', 'cleared hospital', 'inch long', 'hear palpitation', 'deep breathing', 'anterior ankle', 'opiate crisis', 'her backpack', 'abdominal wound direct pressure', 'constant prompting', 'drank cold water', 'transport decession', 'unknown blood', 'bad side', 'neighbor yesterday', 'cervical collar', 'advise transport', 'mini van', 'lung infection', 'pt last', 'engine crew', 'patient additional', 'mini heart attack', 'complete abrasion', 'bougie device', 'left antecubutal', 'hotel staff', 'skin blueish tinge', 'unconscious change', 'cap refill', 'pt nude', 'unknown hx', 'chair inside', 'unspecifed cardiac', 'paralysis deficit', 'old male', 'ice water', 'patient improvement', 'open facility', 'upon initial assessment', 'home bathroom', 'valve replacement', 'her hand', 'obvious protrusion', 'social security number', 'supervisor mixing', 'pt lethargic', 'staff member report pt', 'improved respiratory effort', 'dialysis port', 'alcoholic beverage', 'diaphoretic skin', 'several small yellow', 'cm distal', 'weak heart rate', 'line monitoring', 'stable cardiac', 'grassy area', 'transport location', 'gas pump', 'nasal capnography cannula', 'physical condition', 'severe distress', 'treatment chair', 'bolus rate', 'visible pain', 'sloped waveform', 'medical alert pendent', 'room furniture', 'appropriate phone', 'foley bag', 'report pt', 'self maintained', 'oral glocose', 'obvious accessory', 'left posterior forearm', 'diabetic female unconscious', 'obese size', 'oxygen dosage', 'several syncopal', 'patient unconscious', 'slight difficulty', 'trach tube clearence', 'chest wall presumed', 'tolerable level', 'current living', 'readministered due', 'home visit today', 'minimal thick', 'patient admit', 'visual assessment', 'sporadic arm', 'unknown reason', 'pt room', 'own stair chair', 'her primary care doctor', 'rise equal', 'hospital stay', 'left arm', 'nasal trumpet', 'female room', 'couple other psychological', 'inception yesterday', 'ultimate effect', 'occasional ectopy', 'occasional multifocal', 'initial bolus', 'treat other patient', 'baby asa yesterday', 'multiple other', 'vomit several', 'pt lethargy', 'normal pattern', 'heart valve replacement surgery', 'transport patient', 'constant breathing rate', 'lt hand', 'back pain', 'other traumatic', 'gauge normal saline lock', 'other vehicle', 'hospital staff', 'concious female pt', 'pain underl eft breast', 'point attachment', 'hardwood floor', 'occasional pain', 'void bladder', 'frozen meal', 'fistula site', 'obvious deficit', 'inferior infart', 'prescribed tylenol', 'pivot method', 'autonomous respiratory rate', 'hand placement', 'hard cast', 'child jumped', 'hip fracture', 'chest crepitus', 'pulse site', 'sidewalk outside', 'respiratory arrest secondary', 'heroine yesterday', 'facing south', 'patient transfered', 'patient bent', 'rx timolol', 'other drainage', 'second episode today', 'legs cramp', 'seizure nobody', 'home oxygen', 'blood pressure medication', 'little shortness', 'productive cough', 'second opinion', 'brownie cake', 'upper right', 'normal interval', 'apt tomorrow', 'vent last night', 'sz post', 'experience pain', 'specific spine pain', 'antecubital area', 'sharp heavy pressure', 'move arm', 'internal motherboard error', 'clinical room', 'main office', 'recent cough', 'pt tolerated', 'vital sign', 'long story', 'bilateral wheeze', 'strong palpable radial', 'focal motor seizure', 'religious assembly hall', 'complete medical history', 'refused treatment', 'bystander saw pt', 'anterior axillary', 'full fuction', 'alert male pt lying', 'gotten much worse today', 'pt found ambulatory', 'sustain injury', 'recent strenuous activity', 'confused pt', 'clear en route', 'previous stroke', 'crack use today', 'light green mucous production', 'fall call', 'assitant principle escort', 'initial decreased', 'pt normal room air', 'odor present', 'revealing hypertension', 'check list', 'onto road', 'carried downstairs', 'access attempt', 'mg ipratropium', 'mg decadron', 'purple blanket', 'exhalatory whz', 'weight bear', 'radial pulses', 'left lateral calf', 'billing info', 'inpatient hospital yesterday', 'diaphoretic breathing', 'glucagon im', 'help pt', 'vcu yellow er bed', 'constant cough', 'experiencing chest pain', 'patient ate', 'ga rt', 'signature obtaine', 'ventilation rate', 'atraumatic extremity', 'main stretcher', 'obvious respiratory', 'sign refusal', 'bone disease', 'history cancer', 'baggign pt', 'presenting state', 'give pt breathing', 'year old female nausea', 'direct visualisation', 'knee replacement', 'understand due lethargy', 'alert nonverbal', 'dinner table', 'dialysis appointment', 'stair chair', 'last drank yesterday morning', 'old stooled', 'room air reading', 'critical condition', 'church kitchen', 'administer dexamethasone', 'absent pulse', 'same office', 'second patient', 'multiple sclerosis', 'heavy breathing', 'last ate alfredo yesterday', 'same complaint last year', 'online order', 'lpm supplemental oxygen', 'bilateral equal bs', 'abdominal guarding', 'food left', 'dynamic sensorium', 'full code', 'get insurance information', 'multiple time', 'dose yesterday', 'patient administered duoneb', 'half helmet', 'sheet slide method', 'abdominal history', 'initial auscultation', 'unresponsive supine', 'mid periumbilical region', 'dx anxiety', 'difficult time', 'provider cross check card', 'yof laying supine', 'female pt unconscious', 'alert pt', 'blood thinner use', 'migraine headache', 'pt phone', 'minimal respiratory improvement', 'ambulate due', 'standby mode', 'other incident', 'male walk', 'waveform present', 'tongue deviation', 'sober adult', 'ankle fracture', 'level facility', 'new neurological pathology', 'uncertain return', 'today stating', 'pulseless int ecg', 'drug paraphernalia', 'vehicle accident', 'duo nebulizer treatment', 'stomach bug', 'adequate site', 'central triple luman line', 'hemodynamic normal', 'football leg', 'safe patient handling', 'great pain', 'found ambulatory', 'laid beside', 'her vomitus', 'struck pt', 'locate fourth vehicle', 'treatment pt', 'pulmonary illness', 'same mask', 'other assessment information', 'recent nausea', 'negative pronator drift', 'little phone book', 'full sinal', 'breathing trouble', 'diabetic man', 'left side facial droop', 'report print', 'school office', 'prompting pt', 'minimal transport', 'heart hx', 'arm drift', 'other drug', 'initial treatment', 'white bread', 'pt signed', 'upper torso', 'narcotic use today', 'patient hyperglycemic', 'point patient mentation', 'old peg tube site', 'hospital bedside', 'patient sugar water', 'internal pain', 'exam pt', 'experiencing anxiety', 'transported downstair', 'moderate respiratory', 'constant distress', 'brain cx', 'pm due', 'benign brain tumor', 'solid green light', 'possible cardiac involvement', 'asthma managment', 'patient first staff', 'normal saline bolus', 'patient mental status', 'home nurse aid', 'central line', 'show atrial fibulation', 'active drug', 'acute change', 'recent hospital', 'paradoxical movement', 'quadrant abdominal pain', 'tube color purple', 'diffuse wheezing', 'appropriate level', 'reasonable conciousness', 'upper right chest', 'phyiscal effort', 'firm due', 'class room', 'normal appetite', 'unconscious apneic', 'down last night', 'ausculabl breath', 'doesnt know', 'last pregnancy', 'nitro paiste', 'noted bilat', 'chicken salad', 'prolong decon', 'mayo bridge', 'obese female pt', 'bright red blood', 'false alarm', 'stable underneath laceration', 'direct ingestion', 'feel fine', 'yellow bile', 'church friend', 'ribs hurt', 'patient describes previous history', 'mid shaft', 'small crowd', 'normal wave form', 'apparent evidence', 'hour dialysis treatment yesterday', 'address store', 'move today', 'increase dose', 'much pain', 'pt nurse', 'int impression', 'last weekend', 'motor control', 'signature section', 'family call', 'wks gestation', 'blood glucose', 'cross room', 'trouble breathin', 'active abdominal complaint', 'extreme edema', 'unresponsive improved', 'bus bench', 'throat felttight', 'purplish discoloration', 'patient confused', 'secondary attack', 'facility bp', 'mucus production', 'pt poor', 'fo priority', 'poor compliance', 'patient ambulatory', 'floor apartment home', 'bed assignment', 'astham attack', 'insulin management', 'high due', 'concrete sidewalk', 'ga right forearm', 'suction saliva', 'face mask nebulizer', 'umbilical hernia', 'adult male ambulatory', 'husband pt', 'inter facility', 'fast rate', 'last event', 'stable gait', 'seat arm rest', 'pt feeling', 'old surgical', 'deep respiration', 'visible trauma', 'puncture wound', 'few other', 'treatment multiple', 'multiple family', 'transport wife', 'check vital', 'other abnormal', 'stretcher awake', 'right forearm', 'pt continued', 'jail nursing station', 'little anxious', 'dcap btls', 'complete improvement', 'asa administration pt', 'mile transport', 'chest pain last night', 'necessary due', 'mild relief', 'last attack', 'pt new', 'notable blood glucose reading', 'payor info', 'neuro capability', 'agonal respiratory effort', 'contiguous lead', 'poss food', 'abscess many', 'medical transport driver', 'duo neb', 'time discrepancy', 'yom unconscious', 'generalized abdominal pain', 'board pt', 'restrain patient', 'sickle cell trait', 'general impression', 'blood pressure medication approx', 'cold turkey', 'pt monitor', 'avid smoker', 'upper ext', 'person drug check card', 'emergency inhaler', 'glidescope visualization', 'right subclavian', 'ultrasound machine', 'witness seizure', 'bilateral auscultation', 'antenatal care', 'monitor screen', 'applied combat gauze', 'pupils pearl', 'emergency room bed', 'tech signature', 'breathing equal rise', 'small blue pill', 'arrest protocol', 'outside house', 'car door', 'spinal column', 'green liquid', 'vehicle last night', 'pt extensive medical hx', 'recent hospital discharge', 'right ankle pain', 'hernia surgery', 'crew informed pt', 'half inch lac', 'unwanted movement', 'story apartment house', 'major evidence', 'family member stating', 'pivot patient', 'ativan left', 'medical transport', 'patient care waiting', 'patient adult son', 'noted pinpoint', 'last few day', 'bed complaining', 'noted increase', 'bad morning sickness', 'patient bp', 'greenish sputum', 'initial presentation', 'exact order', 'leg arm', 'vomit bag', 'uneven ground', 'clavicle fracture', 'roller walker', 'auditory impairement', 'spontaneous movement', 'time patient', 'same name', 'hotel management staff', 'abnormal behavior', 'presenting rhythm', 'additional total', 'cancer patient', 'diabetic hypoglycemic emergency', 'work party', 'emesis bag', 'convenience storekeeper', 'pupils remain pinpoint', 'right lateral', 'ambulance crew statement', 'gastric stimulator', 'fussy tonight', 'abdominal accessory', 'substance statement', 'invasive equipment left', 'auditory wheezing', 'many previous', 'pharmacy tech', 'seated upright', 'time activity', 'female unresponsive', 'captain seat', 'her approx', 'second green patient', 'same behavior', 'positive accessory muscle use', 'fter medication administration', 'slight discoloration', 'shin area landing', 'overall improvemnt', 'caught fire', 'respiration rate', 'psych call', 'possible entry', 'slight increase', 'clear urine', 'slim jim', 'lpm supplemental', 'daughter road', 'right next', 'dispatch process', 'normal base line', 'palpate radial pulse', 'calm down', 'ectopic beats', 'initial nasal administration', 'pustuous drainage', 'anterior chest wall pain', 'inadequate irregular', 'peanut butter toast', 'minor wheeze', 'critical care', 'dinner time', 'otherwise unremarkable', 'past year', 'valet area', 'draw blood', 'cervical spinal', 'quick finger pulseox', 'male face', 'per daughter hx', 'abnormal skin color', 'day worsening', 'answer toquestion', 'color pale', 'prolonged expiratory slope', 'cease resuscitation request', 'roof line', 'transported outside', 'patient refusal form', 'inadequate respiratory effort', 'small snort', 'direct interaction', 'negative stroke scale', 'facial expression', 'white car', 'witnessed aspiration', 'pertinent past medical history', 'pt ambulatory', 'oral glucose packet family', 'small stature', 'alcohol abuse', 'provide care', 'provide card', 'appear proximal', 'lateral recumbent', 'critical patient', 'triage staff', 'secondary hypotension', 'thick white sputum', 'room boyfriend', 'dusty floor', 'pay attention', 'rectal diazepam', 'overall pt condition', 'radio battery', 'er complaint', 'crewmember statement', 'lobes symmetrical rise', 'second tube', 'mother make', 'infusion pump', 'ecg noted sinus rhythm', 'ntg paste', 'continued observation', 'access purse', 'absent capillary refill', 'old stab wound', 'patent breathing apneic', 'leg bend', 'active nausea', 'additional care', 'past month', 'find pt lying', 'full tube', 'invasive treatment', 'moderate soa', 'periumbilical tenderness', 'obvious hemorrhage', 'pt chose', 'carrying plastic grocery bags', 'complete symptom resolution', 'poor visualization', 'same thing', 'accidental loss', 'straighten left leg', 'her valve', 'friend rode', 'overall unchanged condition', 'upper abdominal', 'several work', 'aspen collar', 'sharp pleuritic', 'unknown cardiac', 'daughter request', 'football field', 'real bad pain', 'oral glucose', 'nerve pain', 'apparent alcohol intoxication', 'specialty care', 'available er', 'good air', 'upper portion', 'complete assessment', 'pt voiced relief', 'home albuterol nebulizer', 'bilateral foot', 'distal right upper leg', 'drug box change', 'prevent stimulation', 'left upper extremity', 'old anterior', 'right side fascial droop', 'monitored en route', 'spine board', 'cell phone converstation', 'severe cyanosis', 'living facility', 'patient yell', 'door wagon major damage', 'ft ladder', 'step stoop', 'her right', 'decrease rate', 'many medical', 'left untreated', 'euvoglycemic pt', 'new pt', 'full tonoclonic', 'sharp substarnal', 'other patient', 'unidentified spice', 'exam room chair', 'carried outside', 'hospital due', 'mental status impairment', 'decompression site', 'extreme tachypnea', 'drank grapefruit juice', 'right clavicle', 'gray dislocation', 'stress level', 'verbal stimuli', 'severe onset', 'posterior distal', 'her side', 'sub sternal', 'humeral head', 'second rhythm check', 'cheese biscuit', 'unpalpable peripheral', 'rigid posture', 'born premature', 'adequate compliance', 'acute abdominal', 'prevent loss', 'accessory muscle usage', 'obvious puncture', 'first toe', 'positive bilateral lung', 'sharp feeling', 'initial chest pain', 'front entrance way', 'room neb treatment', 'recent hx', 'pt skin', 'ear infection', 'minor blood', 'transport unit', 'non verbal', 'electrical rate', 'open apartment', 'good condension', 'obese stomach', 'family cardiac hx', 'fluid discharge', 'pt level', 'potassium medicine', 'self care', 'male lying semi', 'patient constant', 'indoor soccer game', 'additional weight', 'second adult male', 'yellow bowel', 'third digit', 'homeless shelter', 'get drowsy', 'mild pain', 'occasional agonal respiration', 'increased consciousness', 'small purse', 'pain right', 'cm abrasion', 'inline nebulized medication administration', 'acute anterolateral', 'dystonic reaction', 'sinus arrythmia', 'general cold', 'pt apenic', 'mental capacity', 'cardiac condition', 'abscess today', 'pt displayed tenderness', 'hospital watch list', 'appropriate depth', 'large scar', 'blue ridge', 'recall last night', 'her pain', 'parked next', 'new medication', 'moderate improvement', 'abd rise', 'major headache', 'patient kept', 'soft restraint', 'unknown size', 'bronchitis last week', 'int left forearm', 'sharp abdominal pain', 'illicit drug', 'equal palpable radial', 'unsteady elderly adult female', 'normal skin condition', 'limb power', 'printer problem', 'pain run', 'other diagnosis', 'final infusion', 'lethargic post medication administration', 'nose bleed', 'nelson clinic po', 'cease resuscitation online', 'bed vomiting', 'crew member statement', 'signed report', 'flu vaccine', 'co worker', 'gauze wrap', 'agonal rate', 'hasincreasein oxygen percentage', 'right cheek', 'benadryl en route', 'signed due', 'left nare size', 'pulse amplitute', 'available prescription', 'abdominal pain enroute', 'supervisor vehicle', 'normal pulse', 'residence multiple', 'front walkway', 'ineffective resps', 'recliner complaining', 'her stomach pain', 'decreased lung', 'story single family residence', 'reading atrial fibrillation', 'severe nausea', 'lumbar paraspinal region', 'train station', 'left forearm incase', 'present upon arrival', 'lead cardiac', 'capillary refil', 'past medical', 'minor distress', 'normal breathing', 'lateral movement', 'worsening due', 'stretcher left', 'pt son', 'overall global improvement', 'several pill', 'incomprehensible speech', 'significant medical hx', 'tube pass', 'abdominal border', 'saline lock forearm', 'minute break', 'whole treatment', 'side paraylsis', 'irregular radial', 'second unit', 'seek additional care', 'pull information', 'big crowd', 'grandmal seizure', 'large hostile crowd', 'physician choice', 'skin moist', 'cant take', 'pain sacral area', 'kitchen fire', 'acting age appropriate', 'venture mask', 'post extrication', 'jersey wall', 'secondary cough', 'visible respiratory', 'cheek bone', 'physical pain', 'appropriate tidal volume', 'inappropriate response', 'pt roommate', 'pain mid sternum', 'tried home neb', 'possible panic attack', 'pt intake', 'experience chest pain', 'obvious physical', 'include amlodipine', 'residence smoking', 'speak due', 'slight constriction', 'post cva', 'emergent transfer', 'wide open rate', 'identification information', 'allow medication time', 'full expansion', 'fask mask', 'slight work', 'day pt', 'same spastic behavior', 'undergo surgery', 'home healthcare provider', 'blood sugar', 'hour today', 'confirmed cardiac arrest', 'pupils equal', 'pickup truck', 'rapid ventricular rate', 'golf ball size', 'convey info', 'much change', 'new doctor', 'bronchospasms noted', 'noted dec resp drive', 'slight diff breathing', 'spontaneous movemnt', 'witnessing patient', 'carpeted floor', 'perform assessment', 'last full dialysis', 'small change', 'sharp constant', 'yellowish mucous', 'observed improvement', 'hand grasps', 'generalized weakness', 'pt apneic', 'th floor', 'specific cause', 'bgl obtained', 'improved respiratory rate', 'stability enroute', 'left arm pain', 'recieve patient', 'one beer', 'specific spine', 'renal pt', 'medication today', 'appropriate emergency department', 'deformity upper right arm', 'male approx', 'immediate rush', 'post administration normal saline', 'render comfort', 'detailed assessment', 'point patient', 'palpable heart rate', 'floor apt', 'female sick person', 'prevent pt', 'turned care', 'wood floor', 'pelvis tender', 'historian due', 'face neck', 'superior shoulder surface', 'arrived home', 'active bowel', 'acceptable time benchmark', 'heavy scarring', 'fall chest', 'pt breath', 'chipenham er yesterday', 'bad seasonal', 'tilt chin', 'many prior', 'gallbladder ulcer', 'trauma assessment', 'minor obvious respiratory distress', 'cerebral infarction', 'man stand', 'vomiting today', 'assisted fro chair', 'symptomatic bradycardia', 'possible overdose', 'neb breathing', 'assisted patient', 'narcan patient', 'left side deficit', 'pt ate lunch', 'body pain', 'adult group home', 'pt gait', 'capnography nasal canula', 'similar seizure activity', 'stimulation pt', 'medical history', 'entire trip', 'possible panic', 'increased pain response', 'crew continued', 'physical therapy due', 'obvious trauma noted', 'significant drop', 'skin turgor', 'business priority', 'answer basic', 'steroid today', 'scooter cause', 'difficult location', 'use elevator', 'line capnography monitoring connector', 'severe tachypnea', 'other physiological', 'transfer delay', 'blue cross blue shield', 'chest pain beginning', 'similar complaint', 'pt responsiveness', 'proper placement', 'exchange medication box', 'complaint site', 'feeling malaise', 'previous car accident', 'reaction tongue', 'wall tender', 'same building', 'multiple small', 'shark fin shape', 'airway patient', 'patient sled', 'unclear weather', 'priority one', 'ground bleeding', 'exertion pt', 'intact sensory', 'agonal rhythm', 'specific radiation', 'bar staff', 'chest pressure sensation', 'dyspnea tonighit', 'mg atrovent', 'pertinent medical history', 'room air sat', 'frequent urination last night', 'ectopic pregancy', 'nasal intubation', 'severe dehydration', 'additional feeling', 'device overnight', 'pt refused transport', 'basilar artery thrombectomy', 'other medicine', 'full body muscle', 'physical therapist', 'recent acute', 'prescribed metformin', 'third rhythm check', 'general global pain', 'chicken nugget', 'forgoe amiodarone', 'appropriate section', 'wait time', 'rep signature', 'complete allergy list', 'hospitality house', 'visbile grimace', 'current situation', 'decorticate posture position', 'first few', 'get help', 'continued agitation', 'low heart rate', 'equal chest', 'rhythmic pattern', 'infected surgical', 'hotel room alter', 'couch pt', 'lose consciousness briefly', 'other time today', 'today shortness', 'mental status change', 'struck side', 'tightness pt', 'find conscious female pt', 'pleural friction', 'ot drug administration', 'slept funny', 'sinus arrhythmia', 'ondansetron administration', 'medial aspect', 'incoming trauma', 'shoulder gauze', 'travel oxygen', 'fast heart rate', 'medical insurance', 'present breath', 'emergency activation button', 'time full arrest', 'pt grimace', 'worm dry', 'draw sheet pull', 'patient tolerated transport', 'night club', 'oral glucose give', 'rhthym check', 'previous chest pain', 'office area', 'occasional fever', 'wrong way', 'acute problem', 'evaluation today', 'adipose tissue', 'subdermal mass', 'relief today', 'mg gabapentin', 'subdue pt', 'upper respiratory infect', 'entire transport', 'her driveway', 'cardiovascular problem', 'mild assistance', 'provide social security number', 'pt saw', 'cigarette tonight', 'weakness secondary dizziness', 'experience heart burn', 'repair inguinal hernia', 'call downgraded priority', 'hospital bay', 'pt speaks', 'severe chest pain', 'distal phalanx', 'month old female patient', 'abnormal cardiovascular', 'recent long', 'scar tissue', 'saline solution', 'imperial plaza', 'portable medical alarm', 'female alert', 'fight crew', 'full body seizure', 'partial obstruction', 'abdominal hernia', 'first seizure', 'posterior neck', 'bi polar', 'gross motor function', 'noticable difficulty', 'intact circulatory', 'stop bleeding', 'feverous yesterday', 'insurance member', 'resp distress', 'rapid extrication', 'report medical history', 'unknown person', 'unspecified intellectual disability', 'slurred speach', 'initial pt care', 'hot dog', 'bigeminal pattern', 'beginning assessment', 'bleeding alot', 'behavior yelling', 'patient compartment', 'provider impression', 'sister walking', 'neg td', 'hepatic failure', 'ethnicitywith diaphoresis', 'unlocked apartment building', 'leaving scene', 'enough room', 'general nausea', 'upper extremity', 'male shook', 'flutter alp', 'oxygen administered', 'last call', 'upon pt', 'secondary type', 'dialysis machine', 'comm instruction', 'home nebs', 'cardiac dz', 'statement signature', 'jail health clinic', 'door number', 'much pt', 'beer tonight', 'such behavior', 'direct visualization', 'report nausea', 'contact security', 'front driver', 'forearm saline lock', 'facial droop noted', 'sweet tea', 'left bundle branch block', 'delayed response', 'left eye swollen', 'area tender', 'normal gait', 'meet pt', 'sacral spinal', 'route change', 'full spinal immobilization', 'small red bag', 'glucose improved', 'early lack', 'staff refused transport', 'obvious open fracture', 'previous hernia', 'seizure presentation', 'document error', 'weak femoral pulse', 'recent surgery', 'eat day', 'sharp chest pain', 'medical inc', 'hurt herself', 'pt care transferd', 'inhibitor use', 'ferrous sulfate', 'sufficient area', 'normal rate', 'keep pt calm', 'make pain tolerable', 'pt describes heaviness', 'neuro function', 'concrete wall', 'need something', 'full fowler position', 'axilla wound', 'upstairs apartment', 'asymmetrical weakness', 'friend move', 'curb side', 'top floor', 'good pms', 'mental status last night', 'mechanical ventilation', 'urine incontinence', 'nursing staff state', 'staff recommendation', 'first patient', 'dose time', 'pt body', 'hx significant', 'appeared pale', 'patient choice', 'own glucometer', 'forceful cough', 'left side weakness', 'continued difficulty', 'recent long distance travel', 'note telephone number', 'face pale', 'baseline saturation', 'big black dick', 'fire company responder', 'macgrath video', 'her main complaint', 'minimal waveform', 'stabbing pain', 'doctor til today', 'sudden movement', 'patient status', 'other illicit', 'bilateral weakness', 'nebulizer medication', 'bad trip', 'full sentence', 'quadrapalegic secodary', 'pelvic area', 'find insurance information', 'motor response', 'post medication', 'np student', 'normal self', 'bright red', 'medication information', 'staff confirm pt', 'mg sublingual nitroglycerin', 'overall stability', 'few hrs', 'proximal condyle', 'respiratory arrest arrest', 'assistance complaining', 'second floor', 'noted cardiac pain', 'heart attack', 'gastric discomfort', 'consent due', 'other distress', 'indicate hemodynamic stability', 'family member performing', 'poor turgor', 'global weakness', 'seat belt', 'inform crew', 'baseline status', 'appropriate safety straps', 'bring pt', 'palpable mass', 'offer rational explanation', 'airway positioning', 'drug box exchange paperwork', 'lifted patient', 'labored pt', 'negative speech', 'treatment last week', 'alcohol today', 'her third treatment', 'wine bottle', 'patient stood', 'thick yellow nucous', 'low system', 'asymmetrical face', 'strong regular radial pulse', 'recall patient', 'apparent difficulty', 'prescribed albuterol', 'patient pain level', 'other color', 'last assessment', 'time signature', 'little vomitus', 'spending time', 'bedroom floor', 'possible radiation', 'responding priority', 'group adult home', 'medical translator', 'consume half', 'implanted defibrillator', 'stroke test', 'drug usage', 'terrible access', 'verbal altercation', 'refuse treatment', 'noted asystole', 'possible opiate', 'previous allergy', 'sinus rhytmh', 'unknown shubbery yesterday', 'poor vascular access', 'her awake', 'insurnace information', 'difficulty swallowing', 'possible lat involment', 'quick clot', 'social security', 'information provided onscene', 'leg splint', 'pt abdominal', 'negative loss', 'shopping center', 'little further', 'surgical incision', 'pt expired', 'pt care report', 'mag sulfate iv', 'accepted transfer', 'dyspnea post med administration', 'duoneb helped', 'truck struck', 'current location', 'narcan ivp', 'same problem', 'adult family', 'reading sinus tachycardia', 'pro air inhaler', 'surgical bandage', 'anterior chest wall', 'full bucket', 'much fluid', 'pain stimuli', 'supplemental high flow', 'clear yellow urine', 'iliac region', 'patient roommate', 'additional monitoring', 'blood disease', 'voiced improvement', 'avoid fatigue', 'milrinone infusion', 'ml fluid', 'trauma arrest', 'much relief', 'same location', 'increased difficulty breathing', 'mom choice', 'minute delay', 'surgical diversion', 'mild life', 'irregular breathing', 'recent catheterization', 'docusate sodium', 'sidewalk unconscious', 'poor outcome', 'cell mate', 'gas smell', 'willis hospital', 'tube site', 'short acting', 'general area', 'suctioned due', 'minute check', 'right lateral calf', 'pt alert', 'glucose improvement', 'nasal canula capnography', 'use home glucometer', 'violent kicking', 'recliner chair', 'minor elevation', 'baseline consistent', 'regular check', 'treatment plan', 'her mouth', 'nursing staff', 'inhaled steroid', 'blood glucose monitoring', 'similar exposure', 'shortness breath', 'lock left', 'busy street', 'her urine', 'equal clear bilateral', 'normal arthritis', 'threw cold water', 'damage inspection', 'secondary confirmation', 'advanced directive form stating', 'tightness pain', 'daughter pt', 'sick person enroute', 'indicate borderline elevation', 'third party', 'normal resp', 'per pt request', 'lung cancer', 'upper airway', 'pt mean complaint', 'basement bathroom', 'upstairs bathroom floor', 'artifact post cardioversion', 'inner bicep', 'tonic clonic', 'mumble incomprehensible', 'report observing', 'pt gasping', 'faint pulse', 'traumatic arrest', 'shallow irregular', 'unknown amount', 'midsternal chest pain', 'subsequent auscultation', 'complete dialysis treatment today', 'table next', 'same imaginary knife', 'moderate front', 'interior upper lip', 'heavy artifact', 'main door', 'residence group home', 'capnograpy applied', 'her last treatment', 'specific transport', 'patient allowed', 'attempt successful', 'cold food', 'oral glucose prior', 'onto side', 'old fistula', 'repeate ecg', 'heart valve replacement', 'dominant arm', 'respite care', 'moderate wheeze', 'chest cavity', 'occipital region', 'diminished strength', 'aspirin prior', 'front stairs', 'new information', 'potential aspiration', 'moderate engine damage', 'house yesterday', 'gotten worse overtime', 'arrest etiology', 'help manage', 'cyanotic appearance', 'dextrose administration', 'care enroute', 'previous similar', 'apenic lying', 'unknown problem person', 'wash station', 'shallow breathing', 'clonidine daily', 'cyanotic color', 'helped improve', 'little fast', 'secure environment', 'terrible heart burn', 'insurance section', 'mild artifact', 'transported becuase', 'small abraision', 'let free', 'other occupant', 'second dosage', 'patient signauture', 'bilat inspiratory', 'pale appearance', 'time last night', 'bilateral edema', 'gather information', 'inferolateral ischemia', 'spastic colon', 'persistant cough', 'anterior dead', 'mid lumbar spine', 'eye fasciculation', 'patient belongings', 'trauma bay team', 'tablet failure', 'mild respitory distress', 'global cyanosis', 'pain start', 'inspiratory pain', 'reg rapid', 'pt understands', 'pepper sprayed', 'security guard signing', 'marys ed room', 'pt choice', 'current medical insurnace', 'problem man', 'load pt', 'vodka today', 'room chair grasping chest', 'active ischemia', 'nitroglycerine paste', 'pts suger', 'handy man', 'unknown further hx', 'oxygen down', 'news station', 'wall excursion', 'intermittent chest pain', 'possible drug', 'answer orientation', 'recent bowel movement', 'dark yellow drainage', 'rapid respiration rate', 'agonal breathing', 'period room', 'last week', 'intervention pt', 'home porch', 'alka seltzer', 'unknown baseline', 'right shoulder injury', 'force entry', 'spinal immobilization', 'monitored enroute', 'manual intervention', 'chili last night', 'auto pulse life band', 'patient conscious', 'decreased respiratory rate', 'temporary fix', 'unknown drug', 'upper quadrant pain', 'night last night', 'uncooperative bystander', 'her apartment', 'pt form area', 'multiple myoloma', 'retrograde amnesia', 'san diego', 'minor shaking', 'weak heart', 'intake last night', 'way home', 'dizzy spell', 'confirm safety', 'personal memory', 'male patient ambulatory', 'public street', 'private property', 'staff member signature', 'extremity pain', 'backpack left', 'assisting staff', 'strenuous activity today', 'mild apparent', 'dog bit', 'crew arrival', 'arm pain', 'minimal effect', 'vaginal abscess', 'staff complaining', 'aunt normal yesterday', 'pt states chest pain', 'minor dyspnea', 'delay onsene', 'render aide', 'hand lock', 'insulin dose', 'patient wanted', 'speak report', 'pt representative signature', 'supervisor patient condition', 'medical call', 'area pt', 'cant use', 'rinse pt', 'nebulizer delivery', 'bleeding control', 'determine orientatin', 'right fa', 'small dirt', 'certain pattern', 'insurance number', 'obvious lue deformity', 'convince mom', 'lift assistance', 'patient refusal signature', 'stool drainage bag', 'limited due', 'sinus tahcycardia', 'patient responsive', 'carpel tunnel surg', 'elderly mother', 'unable provide insurance card', 'sit pt', 'regular session', 'extensive cardiac', 'scale bc', 'name pt', 'unsafe rate', 'monitor interpretation', 'first fall', 'post tx pt', 'pt turn', 'vein access', 'rapid ventricular response', 'lay down flat', 'rehab home', 'capnography result', 'poc ecg', 'checked blood', 'mild improvement', 'temperature normal', 'fall priority', 'home nasal cpap mask', 'wet cough', 'respiratpry distress', 'significant hole', 'initial distress', 'lateral slide', 'gym class', 'patient carried arm', 'real sweaty', 'blood tinged mucus', 'wouldnt specify', 'ventiatory effort', 'sharp tightness', 'her tongue', 'urine retention', 'monitor sinus', 'possible head injury', 'apparent post ictal state', 'provide type', 'drank alcohol', 'story multi family', 'ankle caught', 'male patient', 'hospital patient', 'current home address', 'point turned scene', 'convince her', 'intentional overdose', 'nasal cann', 'total dose', 'awake pt', 'pt movement', 'house manager', 'story building', 'left antecubital', 'master bedroom bathroom', 'last hospital visit', 'cold nausea', 'upper center', 'bilateral medial', 'prescribed nebulizer treatment', 'hospital man', 'honey packet', 'gin chair', 'per family choice', 'new access', 'heroin od', 'wheezing bilateral', 'lead ekg', 'clavical region', 'low room', 'normal color', 'unresponsive pt', 'many prenatal', 'last menstrual period', 'one dose', 'daughter advising', 'paraspinal tenderness', 'small abrasion', 'poor medication adherence', 'spanish speaking', 'sounds clear', 'current presentation', 'front doorstep', 'her breathing', 'dull pressure', 'lamb burger', 'furniture warehouse', 'sinus rhthym', 'chronic pain problem', 'down playing video', 'feeling chest pain', 'mild reduction', 'come pick pt', 'hair cap', 'loaded onto', 'discontinue resuscitation', 'psychiatric unit', 'pain localized', 'city jail', 'tunnel vision', 'advising pt', 'daughter tonight', 'intermitten chest pain', 'couch inside', 'specific abdominal pain', 'poor venous structure', 'wall intact', 'ambulatory outside', 'much production', 'seigal center', 'real stiff', 'bilateral radial', 'non compliant', 'clonic seizure', 'abnormal eye movement', 'high cholesteral', 'possible narcotic', 'side entrance', 'year old female lying', 'couple time', 'nasty attitude', 'engine area', 'repair herniated discs', 'nausea post', 'first neb tx', 'abdominal bleeding', 'male prone', 'prevent hypoxia', 'previous contact', 'nasal narcan', 'hem mor age', 'sharp decline', 'advise possible pregnancy', 'previous condition', 'ronchous cough', 'good air movement', 'make eye contact', 'normal kidney function', 'stroke hx', 'anterior mouth', 'old scalp', 'liquid emesis', 'firm mass', 'liver dz', 'malfunctioning elevator', 'left lateral position', 'arm chair', 'doe snot', 'pt describes pain', 'room number', 'pt withdrawing', 'oxygen tank', 'noted abd distension', 'square waveform', 'tolerate movement', 'minor intrusion', 'destination hospital', 'refusing care', 'last stall', 'persistent hypoxia', 'pt secured', 'unknow cause', 'route patient condition', 'large blanket', 'left lateral', 'hour upon', 'dispatch address', 'previous respiratory', 'personal inhaler', 'potato salad', 'head note', 'own dinner', 'patient lifted', 'closer facility', 'stay close', 'motel room', 'year old female heart', 'relief last night', 'recent traumatic', 'hip replacement surgery', 'tonic clonic sz', 'continuous normal saline bolus', 'midline supragroin', 'minute time period', 'frank blood', 'non reproducible', 'mild diffuse', 'left arm injury', 'same call', 'report possible history', 'phone information', 'portable suction', 'high call volume', 'same pan', 'other trauma', 'skin normal moisture', 'perfusion status', 'additional history', 'upon turnover', 'bilateral leg', 'knee immobilizer', 'wheezing bilat', 'accepted possible', 'finding pt', 'refusal signed', 'obvious chronic', 'post ictal', 'possible heat exposure', 'insulin dependant type', 'monitor showing', 'additional injruy', 'neuro exam', 'right leg yesterday', 'necessary equipment', 'blood today', 'back porch', 'drug box prior', 'triamcinolone topical cream', 'obvious dfficulty', 'doctor recommended discharge', 'acute onset weakness', 'provide medication list', 'rib area', 'obtained patient', 'speak only', 'pt ate breakfast', 'limited articulation', 'present position', 'moderate resp distress', 'feeling better', 'inner city community hospital', 'pt weakness', 'prevent dog', 'conscious alert', 'copd exacerbation', 'per law enforcement choice', 'frequent bad', 'white thick mucus', 'provider split', 'ribs tender', 'few cold', 'large unconscious man lying', 'positive color change', 'end tidal', 'hear rate', 'additional time', 'metal bar', 'leg weakness', 'involuntary facial', 'cerebrovascular disease', 'female friend', 'transferred pt', 'metformin use', 'front bed room', 'skin tense', 'slid patient', 'urine due', 'anything today', 'medical alert', 'lightheadedness today', 'tooth pain', 'transport vs', 'fire alarm stand', 'pt awake', 'checking blood', 'right lateral recumbent position', 'breath away', 'behalf tonight', 'breathing tachypneic', 'single provider', 'heat rate', 'muscle use', 'pt obese', 'minor amount', 'pt state minor relief', 'cancer pt', 'dangerous cardiac', 'various other', 'dry mouth', 'verbal due', 'movement pain', 'lay prone', 'lock box key fob', 'walking stick', 'locate niece', 'chronic user', 'pt carried', 'recent medication dosage', 'unit cleanup', 'severe bradycardia', 'living room area', 'upstairs bedroom', 'possible thyroid problem', 'pulmnonary edema', 'coincide wit', 'left ankle pain', 'frequent multifocal pvc', 'adult mask nebulizer', 'bilat ribs', 'documentation medication kit exchange', 'chest pain starting', 'cocaine addiction', 'warm environment', 'anticoagulant therapy', 'staff member escort', 'sleeping well', 'equal air movement', 'female ambulatory', 'chest rise', 'constant chest pain', 'knee give', 'drug administration', 'junctional rhythm', 'painful scar', 'poor medical historian', 'syncopal episodes', 'chair outside', 'iv saline', 'jaw lift', 'normal circulatory assessment', 'first choice', 'patient bandaging', 'ed entrance', 'mouth agape', 'her last time', 'last time provider', 'second reading', 'poor access', 'down down', 'strong family history', 'suspected pneumonia', 'muscular abdominal pain', 'asthma beginning last night', 'age group', 'bad pineapple', 'left hip area', 'scene state', 'primary language', 'patient sweaty', 'outside front door', 'vomiting post tx', 'leaning foreword', 'bolus push', 'drink juice', 'consitent waveform capnography', 'year old female alert', 'right nare', 'way pt', 'epigastric discomfort', 'cardiac cath yesterday', 'respiratory effort inadequate', 'wit report', 'sinus tachycardia', 'unifocal pvc', 'starting yesterday', 'unconsciousness due', 'sudden instance', 'boyfriend road', 'hard time', 'social smoker', 'doctor apt', 'abdominal pain left', 'pt car', 'monitor capnography', 'good wave', 'acute bronchospasm', 'white frothy', 'medic truck', 'slight ataxia', 'wall rise', 'possible dehydration', 'residual numbness', 'demographic paperwork', 'plastic grocery bag', 'old house', 'administration patient', 'nasopharyngeal adjunct insertion', 'hypoglycemia base', 'old dealer', 'illicit substance', 'feeling generalize weakness', 'foul smell', 'crew assistance', 'scene stating', 'mental status', 'single syllable', 'little production', 'cocaine dependency', 'medication use', 'nasal cavity', 'panic disorder', 'saline bag hung', 'yard work today', 'occasional atrial', 'gastroparesis flare', 'feeling ill', 'pt vehicle spun', 'calcium chloride', 'lot behind apartment', 'soft cot', 'pain yesterday', 'clear equal bilat breath', 'left side radiating', 'cement wall', 'turgor noted', 'pill bottle', 'normal mental status', 'external part', 'seizure yesterday', 'identify insurance information', 'year old female complaining', 'abdominal muscle use', 'destination turnover delay', 'exhibiting respiratory distress', 'lpm duo neb', 'sheet pull', 'verbal fight', 'air mattress', 'sister facility', 'stop seizure activity', 'extensive history', 'cardiac arrythmia', 'sinus tachycardiac', 'upper quadrant abdominal', 'further conversation', 'change tablet', 'night stand', 'today bc', 'right lateral recombant position', 'open self', 'none heard', 'shallow excursion', 'dark colored', 'denied recent illness', 'skin tone', 'amp calcium chloride', 'patient relaxed', 'pt injected heroin', 'new peritoneal dialysis port', 'tight feeling', 'midazolam administration', 'basket ball court', 'dialysis site', 'addtional medical history', 'pt laying', 'new staff', 'presumed congestion', 'long list', 'due drug box exchange', 'recent evaluation', 'pt comfort', 'head responsive', 'bucket style helmet', 'present illness', 'new unit', 'plastic basin', 'pump setup', 'tolerated tranport well', 'light palpation', 'pt heaved', 'route administration', 'ammonia level', 'carotid pulse', 'direct contact', 'positive cincinnati', 'occasional ectopic', 'hand restraint system', 'cardiac surgery', 'pt administered medication', 'small pick', 'transport pt', 'sharp sensation', 'tenderness upon palpation', 'heading home', 'describe emesis', 'drank approx', 'full pt history', 'same assessment', 'open airway', 'female right lateral', 'borderline tachypneic', 'intialy pt', 'cardiac event', 'air deployment', 'substance admin', 'other clinical', 'increasing severity', 'equal hand grasps', 'layer jacket', 'frequent productive cough', 'pressure bag application', 'bloody emesis', 'impact appox', 'obvious anxiety', 'high bp', 'scar removal', 'medication process', 'dialysis recliner', 'little improvement', 'increased intercostal', 'heroin usage', 'last cycle', 'bag hung', 'lateral superficial lacs', 'refused lung', 'urine noted', 'formed padded board splint', 'postictal state', 'sharp substernal chest pain', 'daughter sign', 'acessory muscle usage', 'use physical force', 'ashen color', 'white female', 'upper right side', 'ambulatory inside', 'scene command', 'husband let', 'administer nebulizer', 'possible recent', 'cab container', 'good pallor', 'today everything', 'lay motorcycle', 'become arousable', 'reading sinus', 'diabetic issue', 'her blood pressure', 'negative sensory', 'complete treatment', 'duo neb treatment pt', 'obvious grimace', 'normal yesterday', 'pt privacy', 'numeric scale', 'good breath', 'sharp cp', 'office facility', 'none pt', 'neck pain last night', 'wet clothing', 'initial pt contact', 'utter inteligible', 'entire incident', 'normal mentation', 'critical medical room', 'pain medication', 'senior apts', 'normal sickle cell pain', 'manual reading', 'year old male difficulty', 'fire crew', 'glucose level', 'initial abnormal glucose', 'per caller pt', 'psych problem', 'pt experienced nausea', 'male pediatric pt lying', 'unresponsive secondary', 'uncomplicated cesearan delievery', 'yo female patient', 'movement increase pain', 'same position', 'preferred destination', 'patient anxious', 'end stage', 'excess mucus production', 'excess nasal', 'proximal medial right', 'focal motor activity', 'palpable carotid', 'decreased pt', 'ventilatory status', 'accessory muscle present', 'heroin hx', 'brief post ictal period', 'bicycle today', 'perfuse diaphoresis', 'initialy contact', 'weak yesterday', 'alcolhol use', 'chest starting', 'brain cancer', 'weather shelter', 'denied transport', 'require continuous monitoring', 'vision disturbance', 'year old male', 'abdominal central area', 'concerned due', 'last ate', 'first level', 'pt home health nurse', 'provider cross check performed', 'pacemaker defibrillator patient', 'pt describes', 'discernable personal patient belongings', 'minor respiratory distress', 'emergency transport', 'rehabilitation facility', 'intravenous injection', 'day course', 'albuterol inhaler last night', 'excessive drug use', 'vascular access', 'report use', 'entire upper anterior', 'pt care area', 'front hallway', 'apparent acute distress', 'stacked cardboard', 'additional pulse oximeter', 'coin laundry matt', 'gas stove', 'routine lab', 'husband stating', 'upon arrival', 'good rom', 'combination neb treatment', 'normoensive pt', 'unknown origin', 'same reason', 'additional allergy', 'same episode', 'negative response', 'shuffling gate', 'pt walks several', 'hanover emergency room', 'potassium burn', 'staff delay', 'felt weak', 'hasnt let', 'bilateral soft wheezes', 'pt safety', 'nitro patch', 'exit home', 'day history', 'mid left', 'painful urination', 'minor left', 'urgent care facility', 'second choice destination', 'physical altercation', 'numerous medication', 'underwent cardiac catheterization', 'probation drug screen today', 'past drug abuse', 'keep throwing', 'adequate ventilatory status', 'consume alcohol tonight', 'vcu police', 'denied hx', 'decreased oxygen saturation', 'incomplete due', 'severe agitation', 'skin clod dry', 'second line', 'medical past hx', 'airbag diploid', 'alley due', 'audible upper respiratory congestion', 'extensive medical hx', 'deuo neb', 'severe inhalation', 'substance signature', 'ekg sinus tach', 'initial contact', 'fine man', 'her weakness', 'rite aid', 'trauma stretcher', 'place last night', 'cardiac arresst', 'increased accessory muscle use', 'pt contact', 'medication loss', 'treatment pt lung', 'show pt', 'pt roommate pt', 'pan handle', 'tachy arrhyhtmia', 'inc difficulty breathing', 'mild alleviation', 'slow improvement', 'place time', 'original observation', 'achey sensation', 'inch blade', 'constant abdominal pain', 'albuterol neb', 'pain enroute', 'upper respiratory congestion', 'active chemotherapy', 'bp cuff inflation line', 'affected hand', 'recent alcohol use', 'non elevation', 'normal bowel', 'pt stated pain', 'secure patient', 'chronic nausea', 'positive change', 'drank last night', 'worsening abdominal pain', 'respiratory issue', 'patient oral', 'voice briefly', 'handicap van', 'infiltration noted', 'outward rotation', 'bilateral respiratory', 'recent coronary blockage', 'sternal region', 'full movement', 'self pay', 'possible multiple', 'pressure ulcer prevention', 'adult female reporting', 'absent normal', 'unit priority', 'provide discriptive information', 'jt movement', 'access second floor', 'irregular heartbeat', 'distal ulna radius', 'yeast infection', 'female prone', 'other physical', 'respitory rate', 'noted accessory muscle use', 'aparment building', 'pt ate dinner', 'finish pt care', 'previous fracture history', 'female arguing', 'patient exam', 'history alcohol abuse', 'trauma suspected', 'lobby elevator', 'medication last night', 'good man', 'refuse transport', 'pain pill', 'pt hypothyroidism', 'pt side', 'primary damage', 'female nearby', 'negative ectopy', 'patient condition', 'small heart', 'triage nurse', 'downgraded en route', 'additional increase', 'way resp rate', 'opiate overdose', 'home albuterol nebulizer machine', 'pulmonary hypertension', 'obvious stroke', 'apartment residence', 'mild sob', 'discharged yesterday', 'ground home', 'limited use', 'work didnt work', 'noticed facial', 'natural child', 'laying supine', 'observed injury', 'provide pain score', 'public building', 'bang her head', 'pt room air', 'further insurance', 'apartment hall way', 'fatigue present', 'pain change', 'find supine', 'bone protrusion site', 'continued distress', 'lift assist', 'temporary relief', 'significant enibriation', 'small car', 'building infirmaryfor', 'opioid use', 'passersbys report', 'common area', 'sharp left side', 'unspecified kidney problem', 'couch conscious', 'cot strps', 'entire diaper', 'blue powder', 'traumatic brain injury', 'hospital last week', 'pt self splinting', 'throat area', 'patient eyes', 'low initial', 'second check', 'skin probe', 'horizontal scar', 'other significant', 'miss dialysis', 'patient acuity', 'abnormal shortness', 'minor laceration', 'stage pregnancy', 'music class', 'sharp headache', 'paperwork form salvation army', 'possible medication administration', 'drink etoh today', 'obvious source', 'address due', 'hospital bed', 'epigastric tenderness', 'back injury', 'pt monitored continuously', 'dialysis facility', 'strenuous routine', 'home dull pressure numbness', 'further monitoring', 'safety concern', 'conscious alert male pt', 'jump seat', 'unknown diagnosis', 'rhythm check pt', 'current frontal headache', 'surgery consult', 'single story residence', 'pt unresponcive', 'left eye', 'monitor roue', 'post immobilization', 'find pt prone handcuffed', 'tightness last night', 'pt received', 'unk other', 'pt restraint', 'contact time', 'hypoglycemia protocol', 'possible focal seizure activity', 'meat department', 'patient dx', 'same size', 'general warm', 'present equal', 'antibiotic treatment', 'conscious female', 'paced ventricular rhythm', 'crew report', 'respiration return', 'toothache last night', 'asthma last night', 'report knowledge', 'additional vomiting', 'anxiety worse', 'direct chord visualization', 'last name', 'her skin', 'immediate life', 'sleep apnea', 'dental infection', 'respiratory stability', 'patient awoke', 'sharp retrosternal', 'partial dose', 'same difficulty', 'court prior today', 'degree turn', 'shot heroin last night', 'seek emergency care', 'last hoorah', 'her weight loss surgery', 'right forearm saline lock', 'medical tape', 'her jaw', 'adequate rate', 'info inc', 'substantial meal', 'wife pt', 'gross injury', 'assist unit', 'memorial regional hospital', 'ambulance crew signature', 'detox center', 'right lateral recumbent', 'pt slid self', 'past respiratory', 'pulled food', 'care facility', 'fourth medication', 'accurate report', 'requested transport', 'pt addiment', 'one hour', 'conduct cardiac evaluation', 'boarded ambulance', 'pt possibley', 'epi pen', 'seat child seat', 'possible inferior infarct', 'administered inline', 'nerve damage', 'homeless man', 'additional dextrose', 'upside bathroom', 'warm pale', 'transport pri', 'possible femur fx', 'open door speaking', 'obvious seizure activity', 'low reading', 'er staff witout incident', 'difficulty speaking', 'hospital report', 'confirmed transport', 'gas station', 'white substance', 'additional manpower', 'leg soreness', 'usual last night', 'chest wound', 'st depression', 'obvious improvement', 'esophogeal veracious', 'her hip pain', 'renal transplant', 'repeat glucose level check', 'intact cranial', 'clear movement', 'time today', 'intermittent cough', 'tree company', 'alert pale', 'waveform caphnography', 'pain severe', 'dark red steady bleed', 'spontaneous eye opening', 'administration patient speaks', 'closest facility', 'initial room air', 'unlocked apartment', 'cough mucus', 'minimal improvement', 'airway patent', 'left hip surgery', 'posture accessory muscle use', 'liver cirrhosis', 'turnover care', 'janduice color', 'lose respiratory drive', 'small amount', 'step ladder', 'floor dialysis center', 'lateral tongue', 'medical transpor', 'second request', 'movement stating', 'hot pale', 'third round epi', 'grape juice', 'sensory overload', 'regular waveform', 'abnormal distention noted', 'albuterol nebulizer', 'ambulance complaining', 'trnspor time', 'shoulder strain', 'apparent incontinence', 'indicate rhochi', 'registration staff', 'arrival stating', 'get lunch', 'tourniquet applier', 'important state', 'grass outside apartment building', 'year old female supine', 'anything pop', 'calm state', 'corrective surgery', 'poor circulation', 'other call', 'small brick wall', 'similar episode last night', 'bed perpendicular', 'repeat albuterol treatment', 'lazy boy arm chair', 'soft board', 'patient transported supine', 'juice patient', 'pt skin color', 'other identification', 'chronic edema', 'medial history', 'front passenger seat', 'large passenger van', 'pt continued sr', 'construction worker', 'occassional multifocal', 'rehab left', 'pt nodded', 'equip replenishment', 'upstairs hallway', 'dryer room', 'pt bp', 'day today', 'degree heart block', 'door barking', 'minimal effort', 'school staff member', 'rapid thready', 'sharkfin style waveform', 'playing basketball', 'color pale cool', 'shrimp lo', 'leg spint', 'clear flem', 'pt due', 'psych call change', 'memorial regional medical center', 'reporting significant headache', 'unilateral left', 'acting right', 'recent head trauma', 'additional confirmation', 'ischial strap', 'maintain good compliance', 'wrist successful', 'local church', 'pt attempted', 'celiac disease', 'glucagon administration', 'albuterol inhaler', 'status epilepsy', 'nebulizer everyday', 'call doctor', 'oxycodone prescription', 'pressure pain', 'noticable distress', 'positive waveform', 'wire mess', 'other treatment', 'gym staff', 'right chest pressure', 'her granddaughter', 'front left', 'moderate difficulty', 'baby aspirin', 'other location', 'alert someone', 'skin cool dry', 'adult male standing', 'unnatural lateral position', 'fish sandwich', 'minor expiratory', 'facial grimace', 'tonic clonic seizure activity', 'son state', 'respiratory assistance', 'posterior portion', 'lateral ischemia noted', 'other associated', 'alert today', 'good sensory', 'possible injury', 'regular pcp', 'office today', 'commercial device', 'difficulty breathing due intensity', 'tight fit', 'lunch bag', 'doctor request', 'conscious male pt', 'pt rated pain', 'hospital farther', 'capnography waveform', 'severe damage', 'likely early repolarization', 'pt parent request', 'previoux hx', 'left lobe', 'improved tidal volume', 'insulin amount', 'concern condition', 'pt interview', 'pt loaded', 'cerabal palsey', 'allow full assessment', 'lasted appox', 'prison yesterday', 'weak movement', 'provider assisting ventilation', 'last successful bowel movement', 'amount time', 'select due', 'triple bypass', 'tympanic temp', 'neutral forearm', 'emergent response', 'tred mill', 'blood mucus', 'underneath pt', 'suction pulling', 'husband signing', 'stair chair poc', 'personal business', 'constant difficult', 'purposeful eye', 'same symptom', 'full cardiac arrest', 'ventricular tachycardia', 'stent placement', 'single story apartment', 'located apartment', 'ipratropium top', 'boy friend', 'whole body', 'chronic venous insufficiency', 'ambulance crew member statement', 'hypocarbic due', 'step son', 'initial encounter', 'aid pt', 'drank anything', 'current pulled', 'pertinent insurance information', 'critical care emergency', 'sharp sub', 'point restraint', 'minor venous', 'other assessment', 'mild edema', 'true change', 'thinner use', 'pt doctor choice', 'transport vent', 'right humerus', 'good leg', 'significant blood', 'encounter pt', 'crew assist pt stand', 'describe quality', 'sidewalk beside unit', 'school security officer', 'half gallon', 'rhythm interpreted', 'diabetic history', 'potential extravasation', 'pot hole', 'tolerated transport well', 'lead crew', 'mid administration', 'dependant drainage', 'pt chest', 'present facility', 'room chair', 'baby asa', 'prolonged rapid heart rate', 'her seizure', 'prearrival notice', 'movement disorder', 'cross street', 'debt card', 'chest wall', 'football shoulder', 'poor hygiene', 'pt home', 'neg result', 'travelling home', 'original dispatch information', 'bus bench whit', 'atrovent neb tx', 'friend truck', 'mac blade bogie', 'little liquid', 'nipple line', 'main living area', 'ultrasound tech', 'resrtaint system', 'right last night', 'potential overdose', 'refer allergy', 'removal truck', 'read temp', 'full assessment', 'patient reportedt', 'schizophrenia medication', 'mental faculty', 'pink frothy sputum', 'system strewn', 'good color', 'reach her', 'administered intramuscularly', 'persistent nausea', 'entire anterior portion', 'residential group home', 'further injury', 'patient fire department', 'yesterday morning', 'ambulate today', 'free other', 'entire treatment', 'last smoked', 'white film', 'her sister', 'pt states medicaid insurance', 'upright position', 'entered residence', 'original condition', 'minimal self effort', 'her father', 'ed lot', 'cuff inflating', 'steady venous', 'incomplete left', 'multiple unknown', 'smoking marijuana', 'hour history', 'secondary port', 'man draw sheet pull', 'proper assessment', 'transported pt', 'normal cephalic presentation', 'general weakness', 'acute abd', 'dorsal middle finger', 'treatment pt breathing', 'her bedroom', 'nebulized medication', 'pulse oximeter', 'minimal response', 'numerical value', 'search warrant', 'medic unit', 'mcv er', 'doctor office', 'lock left hand', 'faulty heart valve', 'breath starting', 'pt initial', 'neb machine', 'have blood', 'sporadic respiratory status', 'phone call', 'extensive diabetic hx', 'slight developmental delay', 'pt distress level', 'family deny', 'esophageal procedure', 'passanger seat', 'hour dialysis treatment', 'male roommate', 'verbalize anything', 'oxygen flow', 'her blood sugar', 'lift fashion', 'lung injury', 'uterine contraction', 'breathing problme', 'scene delay', 'asthma exacerbtion', 'present bilaterally', 'post fentanyl administration', 'rhonchi bilat', 'lying supine', 'described extreme pain', 'bed today', 'day admission', 'fatigue response', 'patient spontaneous respiration', 'altercation hot coffee', 'quick extrication', 'mild sanguinous', 'weak pedal', 'recent past', 'pediatric triage', 'appropriate choice', 'handicap ramp', 'pouring water', 'suprapubic foley catheter', 'constant monitoring', 'pt prescription', 'clear work', 'wall normal', 'baseline level', 'month old female', 'utilized due', 'continuity care', 'significant blood loss', 'business trip', 'allergy medication', 'possible incomplete', 'report presence', 'equal clear breath', 'anything abnormal today', 'food availability', 'nonpurposeful motor function', 'normal mental faculty', 'math class', 'enough time', 'altercation last night', 'pt today', 'excessive movement', 'lasting btw', 'specific head', 'pt shaking', 'medic unit place', 'patient pulled', 'rapid heart beat', 'confirm time', 'mild dry cough', 'personal information', 'day room', 'right upper', 'equiment resupply', 'found patient seated upright', 'breath secondary exacerbation', 'her duo neb treatment', 'cease resuscitation order', 'give pt', 'pain priority', 'recent illness', 'psychological presentation', 'abdominal pad', 'large room', 'thoracic region', 'adult male', 'additional man power', 'find female unresponsive', 'side weakness', 'worsening pain', 'spontaneous return', 'few neb', 'nasal airway', 'machine thing', 'obvious swollen tongue', 'trauma room', 'urine enroute', 'extremity weakness', 'lethargic post', 'poor living', 'recent sick', 'finger stick', 'achey pain', 'further history', 'same time intubation', 'uncontrolled arterial hemorrhage', 'other resident', 'recommend pt', 'sharp sub sternal non', 'peripheral movement', 'abd pain starting', 'ipsilateral hemothorax', 'unlock door', 'loose jaw', 'home rescue inhaler', 'medicare insurance', 'apenic wit', 'pt unresponsive pulseless', 'pt able', 'presence lying prone', 'pink shirt', 'body temperature', 'oral glucose pt', 'keep water', 'chair awake', 'active abdominal', 'bad dentition', 'good possibility', 'little light', 'voiced minimal improvement', 'crack pipe', 'scene crew', 'yr old male', 'recent long travel', 'previous suicidal', 'chair stair', 'high school reunion', 'several alcoholic', 'poor vasculature', 'temperature strip', 'receiving nurse', 'thick accent', 'chronic due', 'ventricular paced rhythm', 'alll appropriate', 'reciprocal change', 'other prior medical hx', 'small kitchen space', 'skin diaphoretic', 'blood glucose check', 'hospital style bed', 'fire truck', 'become unresponsive', 'wrong drug box', 'regular sinus', 'right bundle branch', 'extensive scar tissue', 'jaw fracture', 'hold affected pinky', 'current behavior', 'nasal flairing', 'multi story apartment building', 'significant cardiac', 'identical situation', 'medical condition', 'elevated garden area', 'pulled open', 'next bus', 'prevent deterioration', 'interpreted patient asked', 'elastic abdominal compression', 'conscious patient', 'protected pt', 'oxygen therapy', 'cardiopulmonary status', 'officer request', 'pt denied hx', 'other room', 'front porch area', 'cease resusitation', 'heart rate brady', 'hospital exam chair', 'asystole arrest', 'sit upright', 'large industrial machine', 'full consciousness', 'perform accurate', 'house today', 'common hall', 'dueo neb transport', 'cardiac monitor defibrillator', 'shore line', 'narcotic overdose', 'dependent edema', 'anaphylactic reaction', 'home supplemental oxygen', 'minimal air exchange', 'clonic seizure activity', 'adminsitered additional', 'hernia repair surgery', 'anxiety level', 'different provider', 'year old male alert', 'line right upper arm', 'medic unit complaining', 'paramedic report', 'blood sugar drop', 'oral mucosa normal', 'diabetic medication', 'insurance company', 'capnography post intubation', 'big wallet', 'right buttock', 'hx diarrhea', 'heard pt', 'pt didnt appear', 'original reason', 'monitoring blood pressure', 'present condition', 'compensation information', 'facility lobby', 'pharmacological therapy', 'inward palpation', 'mental status baseline', 'regurgitation today', 'long period', 'paradoxical fashion', 'please help', 'tube holder', 'find pt laying', 'full bathroom', 'ambulatory care clinic', 'house approx', 'continuous trip', 'pt accepted treatment', 'wife fall', 'hard last night', 'call volume time', 'tracheal congestion', 'new food', 'pt once alert', 'call taker', 'positive dizziness', 'short post ictal state', 'diminished income', 'bearing weight', 'other substance use', 'femur deformity', 'patient complaint', 'wrist caught', 'hospital cot', 'skin temperature', 'strong rapid pulse', 'doctor next week', 'central cyanosis', 'normal sinus', 'wall tenderness proximal sternum', 'skin normal color', 'find patient', 'extensive health history', 'substance administration', 'fourth floor', 'decreased urine output today', 'assist patient care', 'physician assistant', 'yesterday family', 'patient remained', 'medical hx due', 'person assistance', 'right humeral head', 'appropriate procedure', 'bottom clothing', 'recheck bgl', 'indegestion pill', 'bilateral leg oedema', 'pt consent', 'significant respiratory improvement', 'pediatric pads', 'minor abrasion', 'face mask neb', 'seizure full tonic clonic', 'fourth digit', 'small indentation', 'mosh pit', 'north end', 'other acute abdominal event', 'hand numbness', 'wont let', 'zofran becasue', 'pill stuck', 'proper waveform', 'visit her', 'sclera white', 'febrile seizure', 'further demographic information', 'possible cva', 'third seizure', 'acute asthma attack', 'bus stop', 'car roll', 'semi responsive', 'cool diaphoretic skin', 'per daughter pt', 'unknown medication', 'large event', 'anxiety medication', 'toilet paper holder', 'fire department', 'intramuscular injection', 'arrival code', 'deep palpation', 'prior transportation', 'er staff', 'recent distant', 'feeling light', 'homeless person', 'dialysis fustula', 'left wrist', 'evaluation fo', 'confused due', 'past cardiac hx', 'advise complainant', 'nursing room', 'equal bilateral lung', 'lung mass', 'lumbar spinal tenderness', 'interior side', 'heavy menstrual bleeding', 'report difficulty', 'posterior side', 'pt reception', 'own motor function', 'verble light', 'few brick', 'baseline yesterday afternoon', 'right forarm', 'finger tip', 'vaginal exam yesterday', 'discharge diagnosis', 'wheel deformity', 'good pulse', 'purple discoloration', 'slight delay', 'pt access', 'give much demographic', 'skin temperature increase', 'multiple alcoholic', 'receivng facility', 'help control', 'extensive medical history', 'patient address', 'specific type', 'basement apartment', 'inform pt', 'third male', 'severe global distention', 'bullet proof vest', 'her seat', 'finish treatment', 'single family', 'light touch', 'lead extraction', 'adult male patient', 'vehicle reporting', 'drink grapefruit juice', 'side street gravel', 'interstate entrance', 'increase resp', 'ate bad chinese food', 'high blood pressure', 'minor stress', 'pt requested', 'low top', 'everyday smoker', 'purposeful movement', 'interstate traffic', 'iv fluid', 'small waveform capnography', 'mild suprapubic tenderness', 'rapid onset', 'normotensive euvoglycemic pt', 'cardiac blockage', 'difficulty call', 'month stay', 'other edema', 'improvement noted post administration', 'persistent tachycardia', 'noticed male', 'male alert standing', 'faster rate', 'change condition', 'pulseless supine', 'obese male adult', 'continued increase', 'current physical state', 'motor cycle', 'god mother', 'obese elderly female', 'nebulized medication administration', 'line albuterol treatment', 'seat belts', 'obvious diff', 'normal capnography', 'right lateral recumbant', 'normal saline solution', 'diffuse lung', 'soccer field', 'utilized portable equipment', 'weak rapid peripheral', 'chronic condition', 'her right arm', 'year old female seizure', 'bed thinking', 'tight lung', 'cough productive clear substance', 'rate pain', 'slight decrease', 'neck radiating', 'supplemental home', 'similar abdominal', 'quick pt report', 'symmetrical expansion upon inspiration', 'constricted nonreactive', 'warm pink', 'right upper medial thigh', 'female driver', 'patient underwent unresponsive', 'patient fatigue', 'problem ata residence', 'brown pill', 'require arousal', 'palliative care scenario', 'relative hypotension', 'staff secondary dementia', 'petit mal seizure', 'backyard today', 'yall yall', 'previous hypoglycemia', 'irreg resp pattern', 'emotional distress', 'limited improvement', 'experienced intermittent chest pain', 'pain reduction', 'respiratory hx', 'find pt', 'monitor pt', 'gin last night', 'dull sharp pain', 'sedate pt', 'surgical scare', 'leg bag', 'destination time', 'initial rate', 'floor outside bathroom', 'poor adherence', 'elevated blood sugar', 'obvious purpose', 'pt abdominal pain', 'short drive', 'rescue inhaler last night', 'ant goin', 'left pocket', 'manual carrying', 'patient arrived', 'medication caddy', 'provider cross check method', 'maintain trunk control', 'history information', 'short shallow', 'minor scratch', 'everyday drinker drinking', 'lateral draw sheet move', 'car seat', 'excessive extremity motor function', 'bad asthma attack', 'suprasternal retraction', 'productive cough present', 'coffee table', 'double pneumonia', 'possible heroin', 'pt other', 'new psych', 'patient handling', 'collect history', 'seizure prevention', 'present conversation', 'due transfer', 'didnt transport', 'fro seizure', 'ambulatory adult', 'pocket book', 'several small female', 'monitor briefly', 'front glass door', 'bench outside front', 'dominant hand weakness', 'nitroglycerin tablet', 'light pool', 'display agitation', 'old injury', 'male bystander', 'residential neighbourhood', 'nearby grassy area', 'anoxic brain injury', 'problem type', 'overall condition enroute', 'strong pulse', 'regained consciousness', 'nauseated pta', 'noted tonic clonic movement', 'new stent', 'physician signed', 'initial blood', 'bloody sputum', 'large purse', 'compact pickup truck', 'obvious bleeding', 'male subject destroying property', 'scene secure', 'passenger vehicle', 'current pregnancy', 'scene male', 'previous cardiac event', 'diamond inn', 'atrial firbrillation', 'place monitor', 'pupil exam', 'secondary spontaneous respiratory improvement', 'transport ambulance', 'couple bowel', 'male found', 'left leg pain', 'conscious sedation', 'past spring', 'respiratory rate depress', 'cardiac reperfusion catheterization', 'normal reading', 'room air pt', 'improved oxygen saturation', 'diffuse inspiratory', 'insulin dependent diabetic', 'gun shot', 'recent venipuncture', 'blue zone', 'playing rugby yesterday', 'wit wheezing', 'skin worm dry', 'oral anatomy', 'retirement center', 'weight gain', 'her feel alot better', 'pt unresponsiveness', 'previous medical history', 'traction splint', 'remember lying', 'acceptable level', 'good pleath', 'wooden porch', 'lateral ankle', 'man extremity lift', 'cherry table yesterday morning', 'find postictal pt lying', 'person sheet pull', 'decorticate posturing', 'brick wall', 'sit onto', 'day light', 'multiple syncopal', 'state complete alleviation', 'take valium', 'smell alcohol', 'neb mask treatment', 'fire house', 'positive due', 'side stream capnographic', 'contact information', 'progressive shortness', 'bank lobby', 'patient apartment', 'chest wheezing', 'elevator activly', 'bulb syringe', 'current temp', 'combative behaviour', 'control bleeding', 'patent choice', 'make access', 'take responsibilty', 'female pt supine', 'upstairs bathroom', 'cocaine last night', 'full pt care report', 'unresponcive male pt', 'drank water', 'witness arrest', 'tightness several', 'ay medication', 'paper bag', 'pt note relief', 'open injury', 'exact onset time', 'equal expansion', 'significant relief', 'sinus pressure', 'wall stable', 'feel soreness', 'posterior elbow', 'whole care', 'scene respiratory rate', 'mg narcan slow', 'geriatric female', 'pain protocol', 'patient lying beneath', 'herion today', 'equal round', 'intermittent abd pain', 'tasks pt', 'lead computer interpretation', 'frequent nebulizer', 'significant discomfort', 'th pain', 'transferred patient', 'last asthma attack', 'clamidia last thursday', 'upper body seizure', 'prescribed psych medication', 'preformed drug box exchange', 'posterior forearm', 'third day', 'left hip pain', 'menstrual cycle yesterday', 'sister state', 'bilateral breath', 'few drops', 'large area', 'actual singnature', 'visual observation', 'third reassessment', 'thready pulse', 'report recurrance', 'left upper arm', 'home bed', 'heavy meal yesterday', 'pt verbalized improvement', 'placing her', 'single treatment', 'possible strep test', 'pt resp rate', 'distal edema note', 'sunrise motel', 'last check', 'focal motor sz', 'improved speech', 'outside bedroom', 'multiple vessel', 'partial vs', 'possible allergic reaction', 'second episode', 'previous episodes', 'line present', 'brief relief', 'ambulance last night', 'prior administration', 'initial complaint', 'stand wound', 'state second', 'kitchen chair', 'safe behaviour', 'nail salon', 'unit number', 'know insurance', 'reef stretcher', 'possible cardiac surgery history', 'patient clothing', 'suctioned patient', 'continued cough', 'resp tech', 'intoxicated homeless', 'hotel manager', 'wife transport', 'fellow student', 'frontal damage', 'abdominal pain beginning yesterday', 'pt states', 'drop set', 'bite stick', 'prone position', 'sudden change', 'reflex arm movement', 'same hip', 'require inter facility transport', 'pts work', 'crepitus present', 'full tonic clonic activity', 'crew entered residence', 'large cut', 'contact family', 'doctor hospital', 'visualize mental', 'frequent oral', 'mildly improved respiration', 'pt compartment', 'skin pale', 'entire face', 'rib cage', 'narcotic medication', 'skip breath', 'subclavian line', 'trouble breathing yesterday', 'revealed sinus', 'residence yesterday', 'bystander left', 'unlocked door crew', 'bed room floor', 'normal respiratory drive', 'lift device', 'person drug cross', 'tendon structure', 'last monday due', 'previous hospitalization', 'reading aprox', 'previous intubation', 'pressure control', 'lengthy list', 'pain quite', 'sought medical care', 'nebulizer treatment today', 'pt mental status', 'caridac monitor', 'normal pr interval', 'throat hurt', 'right arm tremor', 'fascial droop', 'osible deterioration', 'patient transport', 'dry sheet', 'significant dislocation', 'improper address', 'intubate patient', 'street road', 'style bed', 'oz beer', 'guage normal saline', 'vehicle strike', 'oral powder', 'other recent flu', 'pedal pulse', 'rough play', 'subsequent pt refusal', 'notable upslope', 'normal consciousness', 'surgical tape', 'family pt', 'last night pt', 'vent support', 'wrist access', 'new onset sob', 'tylenol yesterday', 'full arrest', 'small scrape', 'need additional help', 'random contraction', 'allergic reaction tongue', 'leg pain body pain', 'arrive son scene', 'optima insurance', 'large puddle', 'motel staff', 'rapid motor function', 'heel injury', 'patient laying', 'sternum chest pain', 'bipolar schizophrenia', 'small community', 'negative facial droop', 'patient localizes pain', 'similiar incident', 'pt enroute', 'normal boxlike waveform', 'last period', 'state anything', 'initial onscene', 'make decision', 'cough last night', 'similar episode last week', 'patient cardiac rhythm', 'contain insurance information', 'slight difficulty breathing', 'frequent anxiety', 'orbit area', 'collect detailed', 'normal baseline due', 'right arm drift', 'pt stability', 'quit alcohol', 'low glucose', 'gtt drop', 'patient talked', 'positive effect', 'noted post ictal state', 'jaw rigidity', 'additional pain management', 'different manner', 'story single family dwelling', 'group senior citizen program', 'answer door', 'pressure type', 'drive thru', 'cool pale', 'small laceration', 'pt sit', 'urine color', 'resp pattern', 'available pt', 'facility transport', 'frequent dry cough', 'slight heart attack', 'dental school staff', 'report female', 'intestinal mass', 'drug seal', 'morning pt', 'unit treatment', 'inch paste', 'assess patient mentation', 'residence many time', 'closed fist', 'normal equal', 'contact medical', 'entire house', 'initial respiratory arrest', 'agonal resps', 'male partner assess', 'normal resp effort', 'unspecified heart', 'current call', 'single story business building', 'emotional support', 'white adult female', 'adult female patient ambulatory', 'spinal stenosis', 'old surgical scar present', 'confused state', 'good rise', 'lying supine complaining', 'second due', 'adequate rise', 'left transplant kidney', 'right side jaw', 'intital interview', 'raspy voice', 'interfacility transport', 'cricothyroid membrane', 'deep palp', 'condition post treatment', 'home pt', 'front porch wit wife', 'diffuse tenderness', 'suicide plan', 'rectal hemorrhage', 'red bed', 'obese adult female', 'obvious left', 'male supine', 'watery emesis', 'need anything', 'long time', 'family dollar', 'runny nose', 'hard tightness', 'her inhaler last night', 'drug user', 'right anterior foot', 'left supine', 'floor priority', 'significant anxiety', 'provider drug', 'patient care', 'indicate hemodynamic stablitity', 'minimal assistance', 'right pedal pulse', 'arrival staff', 'aortic tear', 'right upper anterior arm', 'first time relapsing', 'sz activity', 'tight wheezes', 'give turnover', 'partial relief', 'min accu check', 'obvious bruising', 'own neb', 'possible sz', 'early stage', 'birth defect', 'arrival hospital', 'further medical', 'thyroid cancer', 'accepting transport', 'white pill', 'body rigidity', 'bus exchange depot', 'vascular filter', 'boy watch', 'pain prompting', 'chronic pain', 'apartment complex priority', 'gin tonight', 'front gate entrance', 'ambulance door', 'mid epigastric area', 'supine crew', 'brief scene', 'home health aide', 'saw dust exposure', 'good motor', 'wake her', 'intervention bgl', 'current insurance', 'have dental', 'understood instruction', 'port site', 'verbal response', 'report enroute', 'feeling sick', 'new monitor', 'clear slow', 'note slight improvement', 'pt nausea', 'improper relaxation', 'patient demographic information', 'breathing adequate', 'hospitality house bc', 'radiation treatment yesterday', 'passenger side', 'assist driver daughter', 'adult shelter', 'speak complete', 'additional risk', 'nauseao obvious', 'pt normal', 'possible heroin overdose', 'dextrose bag', 'pt adinistered duo', 'shirt blue jean', 'unidentified powder', 'seasonal bronchitis', 'reliable pleth', 'continued stable', 'upset stomach', 'dose possible', 'hour treatment', 'drug box exchange', 'pain accross lumbar', 'negative edema', 'persistent cough', 'pulsatile mass', 'begin treatment', 'blood sugar check', 'entire cardiac arrest', 'heavy odor', 'skin probe mid', 'yellow box', 'cm horizontal', 'asymptomatic bradycardia', 'ambulated home', 'tube oral glucose', 'downstairs apartment', 'little water', 'unresponsive behind', 'previous crew', 'elective cardiac cath', 'witnessed vomiting', 'peanut oil', 'nebulizer administration', 'incontinence note', 'left proximal humeral head', 'pt fiance', 'patient ambulated', 'obvious increased work', 'utilizing medication administration checklist', 'cool air', 'great pressure', 'day yesterday', 'legal blindness', 'noted level', 'sanguinous fluid', 'pain scale card', 'multiple old track', 'pt bgl', 'heel tomorrow', 'secondary smoking', 'found th', 'anterior pelvic region', 'aortic murmur', 'strong odor', 'drug card check list', 'heavy traffic', 'her home', 'positive result', 'curb outside', 'high blood pressure pill', 'find ambulatory pt', 'unknown male shot', 'home state', 'nova log', 'become responsive', 'possible reaction', 'same food', 'little longer', 'rear exterior', 'white female lying', 'periodic diarrhea', 'gaunt appearance', 'low oxygen', 'alcohol withdrawal', 'deep suctioning', 'peanut butter sandwich', 'strong equal rapid', 'collar method', 'imperial plaza priority', 'patient extrication', 'additional patient information', 'intact pelvis', 'check patient', 'ambulated outside', 'deny knowledge', 'other small', 'apple juice', 'htn anxiety', 'neurological deficit', 'year old female ambulatory', 'assessment post', 'patient cut', 'pt jsut', 'massive amout', 'seize en route', 'nebulizer machine didnt work', 'epinephrine rapid', 'borderline hypotension', 'sick case', 'current diarrhea', 'clean pt', 'pace rhythm', 'female semi', 'defecate right', 'pt assessment showed', 'further exam', 'patient wished', 'initial pt assessment', 'pt resume', 'baseline per son', 'intubated numerous', 'becomes alert', 'rolling office chair', 'her daughter', 'racial nature', 'possible diabetic issue', 'head down', 'other body', 'complete history', 'house cleaning', 'sense yesterday', 'male patient unresponsive', 'bed supine', 'unresponsive unconscious patient', 'diminished bilat breath', 'first time today', 'chair child safety seat', 'starting location', 'find pt supine', 'finish drinking', 'knee amputation patient', 'driver present', 'thigh tenderness', 'euvolglycemic pt', 'ambulatory meeting', 'color pt', 'nursing student', 'yellow sclera', 'yo female lying', 'occasional monomorphic', 'pt vasculature', 'public bus', 'un responsive', 'large kitchen', 'cc normal saline bolus', 'sternal area', 'electrical capture', 'short pierod', 'secondary assessment', 'inch round', 'mask seal', 'dry wit', 'control motor movement', 'try anal', 'refusal versus', 'superficial abrasion', 'give full last name', 'blood pressure decrease', 'black jacket', 'previous injury', 'cord visualization', 'heroine use today', 'lead placed', 'feel well', 'bulb cuff', 'adjunct yellow', 'use form', 'prior heart', 'suitable area', 'continuous reassessment', 'unit approach', 'heart monitor company', 'radial pulse weak', 'complete billing', 'indicating patient candidacy', 'adult medical diversion', 'thumb area', 'crack today', 'water rescue team', 'strong hypoglycemic trend', 'nd stage renal failure', 'normal red', 'presence sitting', 'oral gluocose', 'acute pancreatitis', 'normal seat belt placement', 'give er', 'strenious activity', 'change cellphone', 'new nebulizer', 'obvious respiratory distress', 'patient continued', 'green room', 'female acquaintance', 'axillary ribs', 'profuse pain', 'patient able', 'her husband', 'preferred facility', 'incorrect information', 'right front area', 'none noted', 'month vs', 'pupillary assessment', 'report consumption', 'sharp stabbing', 'complete full', 'little urine output', 'top layer', 'feel drunk', 'recent admission', 'bleeding stomach', 'present radial', 'open deformity', 'zofran iv', 'normal texture', 'sever pain', 'ongoing issue', 'person pick', 'shallow bbs', 'psych problem en route', 'pale dry', 'food breakfast sandwich', 'mowing grass', 'firework explosion', 'prior incidence', 'unknown onset', 'feel worse', 'absent carotid', 'performed rapid triage', 'shallow tachypneic', 'cardiac monitor vor', 'increased oxygen', 'dark yellow', 'monitor transmission', 'independent living facility', 'trouble respiration', 'pt unresponcive pulseless', 'cardiac arrest last year', 'unsteady stable gait', 'projectile vomit', 'maintain capture', 'wheelchair pillow', 'her blood', 'crew departure', 'facility staff member', 'know something', 'large red', 'living room chair', 'video visualization', 'increased constipation', 'odemsa box', 'severe difficulty', 'breathing diff', 'breast line', 'pain pt', 'secure access', 'right shoe', 'pt respiratory effort', 'north bound', 'positive affect', 'suction cannister', 'her own power', 'french speaking', 'moderate distress', 'distraught family', 'light audible', 'pt resps', 'ice cream', 'found her daughter', 'pt give', 'temporary respite', 'abd pain diffuse', 'blood covering', 'fifth intercostal space', 'watch law', 'cardiac stress', 'painful chest tightness', 'ekg show', 'business building', 'box exchange information', 'hypoglycemia incident', 'arm drift noted', 'asthma act', 'hear rhythmic', 'different chronic pain', 'pt full hx', 'patent trachea midline rise', 'school last year', 'fellow employee', 'other stuff', 'husband provide', 'allergic reation call', 'direct video', 'swollen anatomy unable', 'incomplete exhalation', 'trauma protocol', 'slight report distress', 'morning walk', 'avoid pt pulling', 'diastolic heart failure', 'scene family', 'crew statement', 'student health', 'floor underneath', 'deep inspirtation', 'new onset headache', 'new addition', 'pickup location', 'darker skin', 'transport well', 'lungs clear', 'lateral ischemia', 'early stage rectal cancer', 'multiple different', 'central pulse present', 'her name', 'noted slight', 'patient refused cardiac monitor', 'asymmetrical strength', 'pt death', 'patient food', 'pt sought medical attention', 'normal decreased', 'pertinent information', 'immediate medical attention', 'ankle cuffs', 'un equal', 'female school staff member', 'next time', 'guard staff', 'episode prolonged', 'minimal blood loss', 'duo neb face mack', 'venous cannulation', 'neighborhood cut', 'physical exam', 'state pt', 'shoulder shoulder', 'patient spoke', 'grandson translate', 'refusal form', 'pt presentation', 'apparent trauma', 'seizure lasting', 'pt care', 'pt blood', 'mild effect', 'tympanic temperature', 'sat half way', 'concious male pt lying', 'approach pt', 'policy number present', 'cement floor', 'abdominal pain', 'several other rescue', 'side pain', 'fatty liver', 'semi fowler', 'rapid strong', 'sharp mid chest', 'equipment failure', 'initial fentanyl administration', 'knee cap', 'psychiatric treatment', 'pt improved post tx', 'interview wife', 'flat wave form', 'vomitus present', 'crew assisted pt', 'chin lift', 'struck head', 'condition improved', 'adequate oxygen saturation', 'tell crew', 'severe difficulty speaking', 'new radio', 'painful stimuli', 'new call', 'black female', 'current conversation', 'unsuccesful due', 'incident pt', 'forearm pain', 'subject unresponsive', 'initial check', 'left flank', 'concurrent cough', 'hospital record pt', 'possible cardiac issue', 'specific medical history', 'second neb treatment', 'alarm activation', 'hotel room floor', 'patient friend', 'small pickup truck', 'urgency pt', 'parked pickup truck', 'left hip', 'strong carotid', 'early afternoon yesterday', 'magnesium sulfate infusion', 'humid bathroom', 'witness agonal respiration', 'stand pt', 'other past medical history', 'room oxygen saturation', 'upstroke indicative', 'provider basic demographic information', 'tonight patient', 'fluid administraton', 'shallow slow', 'cell phone charger', 'healthcare room', 'physical contact', 'abdominal distension', 'partial right foot amputation', 'bolus en route', 'sharp intermittent pain', 'rug burn abrasion', 'respirator status', 'blood sugar reach', 'nose negative', 'unlocked door', 'signature due', 'suprapubic pain', 'rapid heart rate', 'narcotic use', 'third pulse check', 'verbal reply', 'crew stops resuscitation', 'assessment due', 'urinary retention', 'stair case', 'gluteal region', 'ekg inus rhythm', 'initial manual', 'sinus tach rhythm', 'appropriate due', 'honking horn', 'strong distal', 'continued nausea', 'nurse onscene', 'side walk', 'differential diagnosis', 'dry mucus', 'forced entry', 'paper plate machine', 'post nebulizer treatment', 'table awake', 'last nebulizer treatment', 'medial elbow', 'stop taking', 'cc bolus', 'valet desk', 'ambulance glucometer', 'etoh detox', 'tube tamer', 'patient spilled', 'her room', 'feel stiffness', 'white mucus', 'adult mask', 'rfd arrival pt', 'give her', 'normal urine production', 'equal bilateral breath', 'benign tumor', 'male unresponsive', 'diabetic prone', 'bus stop bench', 'recent head', 'scene due', 'distal tibia', 'guaze prsseing', 'gross dislocation', 'mild uper wheezing', 'policy information', 'granted entry', 'coarse breath', 'asa pta', 'chronic hx', 'treatment area', 'spritual batte', 'cyanotic improved', 'pediatric trauma', 'someone slapped', 'refusing transport', 'provide effective care', 'unk substance', 'further discussion', 'possible cardiac', 'bypass surgery', 'her today', 'noted evidence', 'possible drug abuse', 'frequent unifocal pvc', 'abrupt wakefulness', 'facility state patient', 'mental status improvement', 'upon auscultation', 'va hospital', 'patient stepped', 'posterior rib fracture', 'pain left side', 'located due', 'displayed improvement', 'minimal time', 'pt briefly', 'normal saline lock', 'dose today', 'slight pain', 'specific chest pain', 'pupil check', 'difficult speech', 'big black man', 'neb multiple time', 'asthma exacerbation', 'lying prone', 'front passenger door', 'white outer', 'right foot pain', 'upstairs bedroom pt', 'last time', 'faulty printer', 'appropriate capnography', 'road closure', 'upload cardiac', 'consciousness improved', 'today patient', 'time frame', 'available seatbelts', 'commercial tube holder', 'wife states patient', 'pt incontinence', 'heart attack last year', 'wheelchair bound', 'full body rash', 'possible seizure activity', 'other recreational', 'voice hoarse', 'generalized headache', 'self due', 'patient seated upright', 'single bullet wound', 'take care', 'intermittent productive cough', 'administer entire', 'visible chest rise', 'mild difficulty breathing', 'obvious tachypnea', 'last time medication', 'hospital informing', 'witnessed someone', 'applied properly due', 'patient orange', 'morning family', 'forehead bleeding', 'slight lean', 'poor skin turgor', 'breathing issue', 'appear restless', 'sinus bradycardic rhythm', 'cva hx', 'fucking oxygen', 'grey shortbed', 'opitma health insurance', 'numeric reading', 'allow seat', 'combative due', 'ventilation depth', 'continuous home', 'external deformity', 'feeling unwell', 'finishing treatment', 'patient collapsed', 'limited fluid', 'increased sob', 'speak half', 'slow shallow', 'unassisted adequate', 'unspecified time last night', 'bilateral legs', 'last ate dinner', 'low temp', 'similar body', 'orange juice', 'gm oral', 'rhythm conversion', 'initial care', 'left hand shoulder', 'provided care', 'long term drug use', 'urine control', 'find patient lying supine', 'sonorous agonal', 'respiratory distress today', 'full spinal motion restriction', 'vehicle head', 'seizure medicine', 'light headed', 'low speech', 'health insurance information', 'tough stick', 'begin patient treatment', 'frequent wet cough', 'manic state', 'losing function', 'mm wide wound', 'further info', 'mild headache', 'entry way door', 'clear emesis', 'share contact information', 'pt boyfriend', 'only able', 'left side paralysis', 'tell nursing facility staff', 'trouble speaking', 'pain status', 'other viable', 'single shot', 'complex sat', 'obvious erratic behaviour', 'prescription medication', 'bed trauma', 'sheet method', 'day stay', 'normal time', 'subsequent intubation', 'hospital other', 'pill form', 'capnography device', 'main compliant', 'kitchen bar', 'ovarian cyst', 'correct anatomical position', 'painful stimulus', 'scene report', 'overall presentation', 'ordered rate', 'entire stomache', 'noted distress', 'fire incident', 'home yesterday midday', 'burn injury', 'pulse regular', 'entrance foyer', 'miss class', 'patient eat', 'hr history', 'sensor pad', 'scene safety', 'saline enroute', 'infected tooth', 'inadequate rate', 'officer cleared crew', 'ekg sinus bradycardia', 'multiple facility staff', 'point due', 'her sugar', 'right arm pain', 'medial calf', 'glucose administration', 'good equal', 'yom supine', 'wrong medication', 'negative rigidity', 'entire course', 'use primary site', 'dialysis appointment today', 'answer quality', 'avoid accident', 'alcohol use today', 'pt improved', 'odd shaped kidney', 'mild diaphoresis', 'bed bound', 'stretcher downstairs', 'pt drank', 'decontamination room', 'primary area', 'couple word', 'prepare unit', 'sounds normal', 'right buttock area', 'keep much food', 'decrease urine output', 'unexpected change', 'baseboard heater', 'green phlegm', 'white tank top', 'leg edema', 'last night prior', 'her baby', 'trasferred pt', 'support life', 'stroke alert', 'enter facility', 'family something', 'shoulder dislocation', 'story multi family apartment', 'scale test', 'club last night', 'different language', 'gentle palpation', 'weakness post syncopal episode', 'appear indicative', 'folk festival', 'sudden sharp pain shoot', 'successful intubation', 'lateral angulation', 'original stylet', 'improved chest pain', 'morning time', 'sidewalk pt', 'recent drug', 'light weight', 'pituitary adenoma', 'encouraged patient', 'pt hs', 'breakfast tray', 'obvious emergent distress', 'apartment building complaining', 'left ankle', 'behavioral health', 'city motel', 'couldnt understand', 'internal defib', 'denied chest pain', 'social security card', 'cardiac monitor', 'patient self', 'right knee', 'local sandwich shop pt', 'new call sheet', 'poor range', 'abnormal menstruation', 'irregular heart beat', 'confirm pt', 'left lateral recumbent position', 'rhonchi heard', 'neurological exam', 'low resp rate', 'gather jacket', 'peanut butter', 'regular tachycardia', 'clear vomitus', 'slept last night', 'mm pinpoint', 'rest room', 'second unit response', 'only aspirin', 'speak short', 'much water', 'code blue', 'silent heart attack', 'right temple', 'due significant decon', 'patient blood', 'yellow phlegm', 'community hospital', 'upon ausculation', 'full bag', 'pt poured', 'pt insurance card', 'mechanical ventilator', 'noticeable change', 'mm reactive', 'overall status', 'maintenance worker', 'considerable pain', 'black bag', 'pt refused transportation', 'third gunshot', 'revealed absent lung', 'wrist injury', 'point scale', 'grand daughter', 'equal chest expansion', 'second apartment', 'secure residence', 'ankle strap', 'equal hand', 'undisclosed location', 'breaths per minute', 'total fluid administration', 'pain medication administration', 'asystole crew', 'slight change', 'nebulizer dose', 'posterior shoulder', 'next pulse check', 'bedside table', 'deny lung cancer', 'few hard', 'vomit bright red blood', 'auto pule', 'intracranial hemorrhage', 'family spoke', 'pt prone', 'side street', 'cardiac arrest last week', 'anterior chest pain', 'inhaler last night', 'head forward', 'basement floor', 'eaten lunch', 'normal last night', 'safe patient extrication crew', 'schizoaffective disorder', 'unk excat', 'right hip upon movement', 'get proper patient care', 'good equal rise', 'possible pale', 'pale cool', 'tablet due', 'patient last', 'adult home', 'combat gauze', 'cardiac catherization', 'clean room', 'several gas', 'minor serosanguinous', 'gotten worse', 'soft supple', 'sharp med sternum', 'lead show', 'baseline due', 'consciousness post', 'pepsi drink', 'chest wall tenderness', 'second set', 'multiple scabs', 'other adult', 'crew arrived', 'patient symmetrical facial', 'nod head', 'active abdominal complant', 'patient consent', 'potential neck', 'reporting difficulty', 'side porch', 'open mouth', 'colormetric capnography', 'patient complaining', 'renal insuffeciency', 'normal due', 'patient provide', 'provide medical history', 'wait pt', 'clinic cot', 'mental health', 'ambient noise', 'alarm company', 'initial pt', 'wheeze noted bilat', 'crew explaining', 'lumbar region', 'further description', 'metal table', 'residence today', 'bring insurance', 'south side plaza', 'mild resp distress', 'bystander slept', 'pt possession', 'double bypass', 'multi story', 'keep food', 'fetal heart', 'mental illness', 'cookout last night', 'issue report', 'physical restraint', 'black sputum', 'inadequate depth', 'second floor conference room', 'pt pulse bounding', 'last dialysis treatment', 'patient appeared unstable', 'breath several', 'clear oral', 'overall headache', 'deviation note', 'nature non raidant', 'headache present', 'high grade', 'home use', 'normal axis', 'excessive pain', 'her front porch', 'combative activity', 'notable relief', 'alert female pt', 'degree block', 'simple green', 'mild apparent distress', 'body habitus', 'prevent seizure', 'large blood', 'main room', 'private residence', 'pt couldnt', 'right dosage', 'patient loaded', 'pt voiced minimal improvement', 'brachial pulse strong', 'new assisted facility', 'male pt', 'power cot', 'patient confirmed', 'strange behavior', 'right ear', 'suitable access', 'significant cardiac history', 'mild resp difficulty', 'left ac saline lock', 'complete sentences', 'powdery substance', 'recent stroke', 'small stool', 'warm water', 'extra pain', 'pulmonary medical history', 'key info', 'pupil size', 'pt anything', 'initial assessement', 'recent asthma diagnosis', 'initial address', 'several heavy', 'interior intrusion', 'manual chest', 'semi conscious', 'showed sinus tach', 'chest wall pain', 'patient hypoxic', 'fall today', 'mid line', 'tight expiratory wheezing', 'iv decadron', 'available bed', 'treat patient', 'pt left', 'regular smoker', 'narcotic administration', 'immediate relief', 'closest appropriate hospital', 'unknown number', 'staff unavailable crew', 'patient unresponsive', 'pt last drug use', 'possible history', 'health aid', 'lot better', 'possible use', 'carried down', 'male unconscious', 'initial low blood', 'small amount present', 'stating nothing', 'orthostatic positive', 'zip lock bag', 'staff deny fever', 'deny vomiting', 'scheduled appointment', 'verbal reassurance', 'cochlear implant', 'pupil irregular', 'combvent neb treatment', 'close contact pt', 'airbag deployment', 'verbal assessment due', 'strong heart rate', 'rebound tenderness', 'hysterical laughter', 'hold pressure', 'pace maker', 'appropriate air movement', 'exceptional amount', 'final option', 'spontaneous improvement', 'medication inhaler left', 'upper quadrant', 'significant external hemorrhaging', 'tropical punch', 'verbal stimulus', 'help manage her', 'pt requestd', 'mother sign', 'brief pt report', 'smal amount', 'wrong traffic', 'yield detailed information', 'same room', 'tight sensation', 'recent dx', 'revealing hypoglycemia', 'sternal non radiating', 'seatbelts attached', 'foot ladder', 'community center', 'noted trauma', 'previous wife', 'kidney injury', 'patient describe', 'poor historian', 'tracheal intubation', 'difficult speaking', 'seek definitive medical', 'sharp right', 'pt calm', 'pt call', 'person method', 'medical coverage provider', 'moderate pain', 'warm temperature', 'state inital oxygen', 'exp wheeze', 'male awake layingon', 'independent area', 'bay staff', 'try additional albuterol', 'breath fr', 'labored audible', 'nitro drip', 'starting last night', 'clear nasal', 'ice bath', 'ambulance upon arrival', 'obvious difficulty', 'lung lobes', 'staff state', 'nearby sidewalk curb', 'mild nausea', 'dialysis midday yesterday', 'frontal area', 'cardiac compression', 'sit forward', 'undiagnosed problem', 'legs today', 'arm board', 'inch puncture wound', 'tissue erythema', 'painful right', 'pt seizure', 'oxygen use', 'tracheostomy collar', 'positive deformity', 'bilateral temporal lobe', 'give information', 'access site', 'green light', 'last oral intake', 'empty beer', 'last drank yesterday', 'substernal chest discomfort', 'other extremity', 'shock advise', 'patient responsiveness', 'antinausea medicine', 'urgent care', 'kinda dizzy', 'pt doesnt', 'family house', 'paramedic student', 'wks postpardum', 'previous ischemia', 'mild tenderness', 'audible wheeze', 'sharp throbbing pain', 'dry mucosa', 'spinal pain', 'david chang', 'left lateral recumbent', 'gradual increase', 'front driver side', 'tonight pain', 'intensity prompting', 'entire cervical region', 'supine position', 'thyroid problem', 'shorter cannula', 'significant enough', 'improve briefly', 'pt pcking', 'limited access', 'specific dislike', 'young child', 'yellow color', 'weak radial', 'obvious wound', 'substernal radiating', 'line duo neb', 'improper equipment', 'drug ingestion', 'maintainable airway', 'oral prednisone', 'started feeling unwell stating', 'dark front room', 'non radiating', 'rusty color', 'local hospital', 'dialysis fistula', 'ventricular pacemaker', 'normal pregnancy', 'subject chief complaint', 'severe tonight', 'render care', 'help carry equipment', 'ambulate away', 'staff time', 'painful response', 'administer today', 'diffuse minor', 'require further care', 'occasional uniform', 'anterior shoulder', 'entire liter', 'repeat treatment', 'dry pale', 'fluid loss', 'pt advocate', 'acute onset', 'side stream capnography', 'full mental', 'period fire department', 'skin cold', 'tach borderline', 'low prompting', 'appropriate response', 'care delay', 'little room', 'patent care', 'absent radial', 'throat problem', 'visible trauma bleeding', 'bradycardic pulse', 'colonoscopy today', 'wrong exit', 'recent sickness', 'accepted treatment', 'lateral draw sheet', 'permanent address', 'pale jaundice cool', 'apparent increased work', 'determine orientation', 'gum line', 'find subject', 'pt switched', 'overdose call', 'physical seizure', 'episodal myoclonus', 'normal respiratpry rate', 'recent development', 'verbal stimulation', 'breathing status', 'specific spot', 'normal saline infusion', 'vomitting today', 'pt bent', 'spinal motion precaution', 'high blood sugar', 'new sugar', 'minor pain', 'bleedin noted', 'minor bright', 'community room', 'recall home address', 'elderly male pt', 'stretcher next', 'bedside drainage bag', 'available stretcher', 'abdominal surgery', 'person bougie use', 'speed causing', 'front passenger fender', 'stage renal failure', 'mental retardation', 'jugular vein', 'appropriate safety', 'report intermittent nausea', 'last spoke', 'different pt', 'presenting seizure activity', 'pt gastroparesis', 'second insurance card', 'black fannie pack', 'portable oxygen tank', 'pinpoint pain', 'wife left', 'patient condition en route', 'assessment pulse rate', 'wet diaper', 'injured area', 'sick statement', 'report name', 'red bag', 'same drug box', 'right patient', 'dark blood stain', 'flu shot', 'abnormal vaginal discharge', 'side mastectomy', 'dark colored sedan', 'present alert', 'minimum improvement', 'bloody stool', 'good sensation', 'recent procedure', 'pelvic girdle stable', 'waste basket', 'remember drug', 'hs residence', 'clear equal', 'her right wrist', 'hospital aide', 'chronic arthritis', 'pt respiratory status', 'person time', 'door car', 'located room', 'cough something', 'wave form present', 'indicated intubation', 'basic healthcare information', 'yellow mucous production', 'bedroom chair', 'atrovent due', 'pain response', 'ausculable lung', 'fluid bag', 'agonal resp', 'reporting radiation', 'guard pump', 'person max assist', 'abdominal tenderness', 'contact today', 'significant inprovement', 'diversion status', 'general right', 'upper leg', 'intitial chief complaint', 'brief description', 'pain rating', 'baseline supplemental', 'illegal drug', 'adrenocortical insufficiency', 'middle room', 'other chronic', 'step stool', 'spastic state', 'daily basis', 'pt respiratory drive', 'pt denied', 'midline equal', 'boyfriend nearby', 'hospital discharge', 'next treatment tomorrow', 'mother held', 'speed ball', 'pt states yesterday evening', 'insurance card left', 'follow conversation', 'confused conversation', 'patient butt', 'attempted unsuccesfuly', 'skate land', 'nasopharyngeal airway', 'significant resistance', 'couldnt breathe', 'increased use', 'informs patient', 'single provider medication', 'pt concern', 'uninpaired conversation', 'hospital crew', 'patient signature due weakness', 'residence priority', 'cant remember', 'previous paracentesis', 'abnormal resp rate', 'bed sheet', 'pulmonary contusion', 'new inhaler prescription', 'short neck', 'adult femle pt', 'city sherrif', 'refusal pt', 'unknown alert status', 'perform stroke scale', 'hand compression', 'motor scooter', 'irregular heart rate', 'ambulatory male', 'previous mentation', 'opoid use', 'short word', 'court appearance', 'sharp pain headache', 'emergent use', 'bugee cord visualize', 'other incident enroute', 'foley catheter', 'good effort', 'flu medicine', 'clear color vomit', 'side temple', 'clear stomach', 'hear patient', 'slurred incompressible', 'right top', 'vehicle drove', 'metal bench', 'residual left', 'yo male lying supine', 'pt speech', 'rm air', 'close watch', 'patent trachea', 'multiple hip', 'little piece', 'elevated rate', 'normal voice', 'hold anything', 'pt sugar', 'right toe', 'regular motrin', 'male shot', 'yo male', 'insurance carrier', 'diaphoretic due', 'physical reaction', 'upper right humeral head', 'apex clear', 'her family member', 'patient apneic', 'pt care plan', 'possible exit', 'significant staff delay', 'hypertorphic obstructive cardiomyopathy', 'very tense', 'friend left', 'naloxone slow', 'substernal sharp chest pain', 'respiratory related cause', 'paperwork left', 'air exchange', 'show paleness', 'hrs prompting', 'posterior infarct', 'cocaine tonight', 'patient secondary assessment', 'couch family', 'abdominal pain yesterday', 'echocardiogram yesterday', 'palpable sharp chest pain', 'potassium supplement', 'incision site', 'eye movement', 'her albuterol machine', 'mucosa normal', 'surgery consultation', 'skin baseline', 'adult group', 'intact distal', 'past hernias', 'patient demonstrated muscle strength', 'humoral head', 'normal respiratory rate', 'patient walked', 'feeling nauseous prior', 'current facility', 'oriented pt', 'pulse oximetry reading', 'fecal mater', 'ate normal size dinner', 'multiple pt', 'dispatched priority', 'mild dyspnea', 'blood clot', 'several nebulized albuterol', 'total administration', 'appropriate room air', 'dead sleep', 'move extremity', 'audible breath', 'mm laceration', 'notified comm', 'shot multiple', 'sheet lift', 'emergency call', 'right medial thigh', 'large laceration approx', 'ground level fall', 'surgical team', 'retreat last week', 'last oral intake yesterday', 'left work', 'have insurance', 'marginal improvement', 'abdominal breath', 'lumbar area', 'alcohol withdraw', 'initial pulse', 'chronic left hip pain', 'real hungry', 'mph zone', 'feeling well', 'her insulin last night', 'warehouse environment', 'bed availibility', 'provider method', 'provide other medical hx', 'severe headache', 'event rapid extrication', 'unresponsive subject', 'yellow urine', 'dead skin', 'per patient choice', 'monitor blood', 'intravenous drug abuse', 'saline mist', 'yo caucasian male', 'finding apartment room', 'space pt', 'foot pantry line', 'fourth restraint', 'understanding risk', 'negative st', 'heart failure', 'slow raise', 'urinary output', 'determine level', 'adult diaper', 'carpal pedal spasms', 'eaten full', 'successful placement', 'additional demographic', 'lt cheek', 'arrival patient', 'safe scene', 'flush line', 'come home', 'eat lunch today', 'dark gold', 'machine multiple', 'initial sugar', 'concrete post', 'step mother', 'friend states', 'obvious difficulty breathing', 'patient history', 'abdominal pain last night', 'monitor failure', 'advised patient', 'hospital notification', 'recall medication name', 'sharp mid sternal pain', 'iv attempt', 'entire day', 'medical potential', 'driver position', 'minor expiratory wheezing', 'decreased responsiveness', 'pt instructed', 'bed pt care', 'ground outside', 'same thing last night', 'lead ecg computer', 'eaten due', 'small female child', 'dry weath', 'substance consistent', 'radiation treatment today', 'pink conjunctiva', 'surgical drain', 'localized tenderness', 'cyanotic skin tone', 'face test', 'open lot', 'pts room', 'vertebral stepoff', 'excessive mucus production', 'left patella', 'slight shortening', 'wet area', 'affected leg', 'left anterior chest', 'hospital gown', 'toddler grandson', 'male pt standing', 'different location', 'inch long open laceration', 'avoid injury', 'birthday party', 'minute patient regain', 'distress due', 'glass ampule', 'hospital several', 'right chest', 'left flank pain', 'peripheral vascular disease', 'desk area', 'equal rise', 'watch tv', 'hand chest', 'local fire station', 'fresh air', 'initiating patient care', 'intact mental status', 'continued rhythm', 'adnominal pain', 'adult nebulizer mask', 'pt left work', 'previous alcoholic', 'call patient', 'hospital arrival', 'erratic behavior prior', 'routine appointment', 'monitor print', 'moderate cervical spinal tenderness', 'time line', 'regular rate', 'green bed', 'copious oral', 'index finger', 'unresponsive ad', 'medical team', 'yellow colored sputum', 'communicate recent hospitalization', 'immobilize right', 'pt cooperative', 'her albuterol', 'screen shut', 'obvious inspiratory', 'golf cart', 'exchange drug', 'capnography show', 'couch complaining', 'ambulatory patient', 'brief stint', 'position condition', 'her form', 'white powder substance', 'extra help', 'associated abdominal complaint', 'empty prescription', 'normal respiratory effort', 'low impact event', 'albuterol rescue inhaler', 'immediate tolerance', 'audible strider', 'senior independent living facility', 'improved pain', 'obvious discomfort noted', 'local business area', 'her left shoulder blade', 'pt cousin', 'room response', 'sternal tightness', 'started vomiting', 'witnessed family member', 'small bruise', 'unwitnessed cardiac arrest', 'unk lung problem', 'inaccurate documentation', 'other compliant', 'occasional history', 'muscle strength', 'mild thoracic', 'nursing home', 'oxygen requirement today', 'sensory intact rt foot', 'medication infusion', 'last couple', 'full sensation', 'regular drinker', 'bound sidewalk', 'chest rise equal', 'possible posterior', 'multiple nebulizer', 'staff draw blood', 'opening airway', 'nebulizerat home', 'present due', 'calf pain', 'pcp yesterday', 'patient refusing transport', 'regular heart rate', 'confirmed fever', 'work uniform', 'pt state last night', 'bed availability', 'meal tonight', 'meal today', 'control hemorrhage', 'dry moisture', 'increased tachycardia', 'other medical staff', 'last ate lunch', 'posterior patella area', 'experience nausea', 'wheelchair assembly', 'bilateral radio', 'rt hip', 'substernal nonradiating', 'bilateral hand', 'left lung damage', 'shell fish', 'steering wheel', 'multiple heart', 'see anybody', 'immediate attention', 'her fire', 'today couple', 'several beer', 'nitro yesterday', 'past seizure activity', 'other side', 'apparent normal state', 'other discernable personal patient', 'right hip', 'fever yesterday', 'stroke exam', 'manage difficulty', 'feel relief', 'scene safe', 'voice today', 'spinous process', 'maintaining pump', 'brief syncopal episode', 'actual dx', 'left arm weakness', 'left hip pain palpation', 'pt waveform', 'severe cellulitis', 'furniture delivery', 'serosanguinous oozing', 'motor fuction', 'normal motor response', 'documentation drug box exchange', 'clear bilat', 'recent respiratory', 'medical issue', 'dominant hand', 'real good', 'locate card', 'poor waveform', 'mild abrasion', 'possible dislocation', 'intermentent chest pain', 'good improvement', 'find other', 'reflex motor response', 'underwear area', 'primary care provider', 'asthma attack', 'place last year', 'recall event', 'nasal flair', 'strong wave form', 'lunch time', 'bilateral hip', 'greenish yellow sputum', 'previous night', 'involuntary muscle movement', 'chain saw', 'side craniotomy', 'alternate facility', 'obvious deformity', 'lateral recombant position', 'become coarse', 'body shop', 'achy pain', 'monitor rhythm', 'unreadable amount', 'acute kidney failure', 'briefly lose consciousness', 'arm paralysis', 'major relief', 'ambulance stretcher', 'flat affect', 'line placement', 'center console', 'aspirin oral powder', 'available due', 'supplemental use', 'pt hypotensive', 'similar fashion', 'diarrhea yesterday', 'feeling bad last night', 'increased respiratory rate', 'heroin last week', 'traumatic injury', 'found awake', 'displace tongue', 'patient yesterday', 'left peck', 'motion sickness', 'noticeable skeletal', 'particular difficulty', 'provider presence', 'feeling chest', 'nasal capnography monitoring', 'lethargic pt', 'medical alarm pendant activation', 'distal leg', 'oral glucose patient', 'first assessment', 'patient drug use', 'minimal improvement upon transfer', 'severe tenderness', 'active dental', 'vs monitored', 'ate today', 'blood pressure reading', 'decon team', 'intense heavy pressure', 'wait til', 'noticeable distress', 'condition improved enroute', 'scoot stretcher', 'beside vehicle', 'concert last night', 'inhaler tonight', 'medial wrist', 'manic phase', 'clear bilateral lung', 'frozen pot', 'pt left hand', 'slight bilat', 'rib fracture yesterday', 'couch crying', 'bgl dropped', 'cardiac ablasion', 'obvious change', 'heroine abuse', 'conclusive stroke screen', 'own airway', 'supine fashion', 'feel sever', 'upper limit', 'patient accept treatment', 'report duration', 'gun belt', 'renal stone', 'strenuous physical activity', 'thyroid supplement', 'improved mental status', 'parahm hospital', 'yellow needle', 'end tidal capnography', 'wheel chair inside', 'minimal alcohol', 'current sensation', 'tried home', 'revealed slight', 'harm anyone', 'green sputum yesterday morning', 'capno canula', 'initial fentanyl dose', 'tightness pressure', 'ventilitory rate', 'signature due patient care', 'posterior pharynx', 'self administer', 'medical control signature', 'full body jerking', 'patient put', 'drink alcohol today', 'convulsion activity', 'sharp pressure', 'throat itch', 'graduate college', 'year old woman', 'dementia unit', 'room trauma bay', 'middle finger', 'heart problem engine', 'numb sensation', 'significant dyspnea', 'pt orientation', 'additional note', 'urine incontinent', 'third vehicle', 'floor motel room', 'wide open due', 'successful gastric decompression', 'bowel incontinence', 'stretcher outside supine', 'sub sternal pain', 'global abdominal pain', 'affected area', 'heart monitor', 'productive frequent cough', 'equipment replacement', 'original name', 'causing further injury', 'pt kept', 'neb treatment pt', 'significant heart history', 'abdominal discomfort', 'left upper abdominal area', 'person place', 'new lead placement', 'pump house', 'atrial flutter', 'dialysis tx today', 'unit full fowler position', 'pt family choice', 'control pt', 'scene call', 'diaphoretic moisture', 'constant suction', 'decreased her activity', 'mediction cross check performed', 'consistent basis', 'unknown quantity', 'her dyspnea', 'school official', 'reg strong', 'tow truck', 'warm normal saine drip', 'body experience', 'substernal chest pressure', 'healthy male', 'sob asthma attack', 'cylinder left', 'apparent respiratory distress', 'appropriate cut', 'additonal ambulance', 'passersby call', 'new diet today', 'sz episode', 'first try', 'additional dose', 'intercostal pain', 'normal saline bolus infusion', 'witnessed agonal respiration', 'girlfriend state', 'unresponsive person', 'stable chest wall', 'feeling cold', 'prolonged conversation', 'smoked marijuana', 'other hospital staff', 'moderate work', 'front seat passenger', 'kidney function', 'cath lab', 'absent respiratory effort', 'cease resuscitation', 'weak pulse shallow', 'direct pressure', 'other cardiac history', 'continued pain', 'first pt', 'ceasarean section', 'male lying supine', 'ataxic due', 'large crowd', 'bed rail', 'thyroid cartilage', 'per pt', 'fall compliance', 'bilateral knee pain', 'good circulation', 'female onscene', 'hospital destination', 'rapid trauma assessment', 'room air', 'partial seizure', 'room ait', 'dinner yesterday', 'heart surgery', 'other medical hx', 'current smoker stating', 'family information', 'right tibial pain', 'depth work', 'residence reporting', 'exam table', 'her head', 'broken glass', 'report abdominal pain', 'sharp knot type pain', 'upper left quadrant', 'typmanic temperature', 'steady increase', 'have chest', 'main lobby', 'female attacker', 'closest cardiac care center', 'fluid administtration', 'gauge normal', 'rapid pulse rate', 'severe weakness', 'mild pain alleviation', 'yellow stuff', 'artificial hip', 'possible left mandible fracture', 'oral glucose treatment', 'front entrance', 'drink orange juice', 'refusing medical aide', 'increased diff', 'full pt assessment', 'crew entry', 'information provider', 'aseptic technique', 'deny witnessing traffic accident', 'right forearm pain', 'pravastatin levothyroxine', 'caller patient', 'report decrease', 'mental status pt', 'water fall', 'seizure today', 'anxious secondary', 'female possible dystonic reaction', 'brief grand mal seizure', 'real dry cough', 'entire chest wall', 'allow help', 'green er bed', 'second provider', 'experiencing localized pain', 'conscious male', 'dialysis chair', 'desired range', 'epigastric area', 'polysubstance abuse', 'city park', 'foot crush', 'last heart', 'recent drinking', 'acid base', 'relief prompting her', 'jenn care today', 'secondary previous', 'officer road', 'medicaiton cross check', 'half brick wall', 'coffee ground', 'ectopy noted', 'assist other', 'retain composure', 'harness restraint', 'secondary request', 'iv drip', 'small scratch', 'prior medical history', 'attempted unsuccessful', 'suppplemental oxygen', 'ballistic vest', 'left deltoid', 'uniform change', 'resume erratic behaviour', 'occasional unifocal', 'unwitnessed cardiac', 'humerous site', 'continuous cardiac monitoring', 'cot pt supivisor', 'pt shook head', 'lobby area', 'increased heart rate', 'patient experience', 'adult male lying', 'scene supervisor', 'security staff', 'nitro due', 'calm pt', 'several gun', 'recreational drug use', 'depressed secondary', 'pelvic wrap', 'normal pt', 'job friday', 'salvation arm', 'patient family choice', 'half inch laceration', 'absent lung', 'ice pack', 'person carry', 'ataxic effort', 'small space', 'house call', 'short term memory loss', 'narcotic pill', 'femoral line', 'clear air movement', 'reasonable attempt', 'poquito dolor', 'bilateral pneumonia', 'yom complaining', 'initial dispatch location', 'hospital closest facility', 'pt verbalized pain', 'golden corral', 'pediatric translator', 'blood mix', 'resulting blindness', 'acceptable second option', 'upon arrival patient', 'developmental disability', 'school staff', 'receive dialysis yesterday', 'rapid triage', 'exercise caution', 'front driver seat', 'exacerbation last week', 'normal fetal', 'intravenous drug use', 'unexplained weakness', 'pt compartment intrusion', 'constant heavy pressure', 'straight ota', 'adult residential institution', 'cigarette use', 'better air movement', 'significant other', 'plasma site', 'good intravenous access', 'good movement', 'ambulatory upon', 'open door', 'stent stimuli', 'recent pneumonia', 'male laid', 'pulse check pt', 'last room', 'get air', 'asthma treatment plan', 'report slight difficulty', 'driver get', 'medication box', 'staff immediate', 'second degree', 'gulp air', 'felt something', 'mg ondansetron', 'visualized passing', 'sinus brady', 'previous access', 'previous surgery', 'report continued nausea', 'medical paperwork', 'regain conciousness', 'year old child', 'know social security number', 'home nebulizer', 'service time', 'feel dizzy', 'cardiac rhythm check', 'face apneic', 'use alcohol', 'person rotation', 'gray car', 'depth adequate', 'first cardiac rhythm', 'absent seizure', 'same condition', 'blue tote bag', 'patient secured', 'type chest', 'single seizure', 'sinus tachycardia blood pressure', 'collar placement', 'health care practitioner', 'destination arrival', 'patient blood pressure', 'pulse ox', 'mild cramping', 'noted drainage', 'call bell', 'johnston willis', 'foul odor', 'follow simple', 'her call', 'inline medcation nebulization', 'injured party', 'clear bilaterally', 'right bicep', 'prior medical condition', 'umbilical mass', 'chest wall intact', 'story balcony', 'right upper arm', 'unit restocking', 'ed stretcher', 'pain increaed', 'staff intubated patient', 'refused transport', 'enlarged heart', 'adult male ambulate', 'lobes clear broncho vesicular', 'new recent', 'outter eye', 'other day', 'mitral valve prolapse', 'second oral glucose', 'third time', 'breath improved', 'manual interpretation disagreement', 'mental acuity', 'crew member signature', 'family witnessed arrest', 'balloon end', 'combativeness secondary hypoglycemia', 'constant non', 'take blood', 'possible substance', 'new policy', 'postictal stage', 'generalized global weakness', 'young adolescent', 'search apartment', 'need additional care', 'second treatment', 'possible inferior ischemia', 'new glucometer', 'sharp electric', 'secondary traffic accident', 'steroid inhaler', 'passenger door approx', 'bed onto', 'condition today', 'diarrhea pain', 'front bedroom', 'aortic aneurysms', 'inch laceration', 'pulling sensation', 'tongue swell', 'scene left', 'unresponsive problem', 'hot last night', 'separate incident', 'diabetic refusal', 'personal wheelchair', 'chest pain call', 'difficulty breating seocndary exacerbation', 'detox program', 'pt son sign', 'paint transfer', 'extreme work', 'diff breathing', 'box wave form', 'vital sign equipment', 'cardiac physician', 'person place time', 'own shirt', 'male pt diff breathing', 'progressive increase', 'left side hemiplegia', 'pharyngeal airway', 'short duration', 'hair studio', 'pt vomited blood', 'supportive care', 'little blood', 'make pt', 'hyperactive bowel', 'find patient lying', 'evaluated yesterday', 'cta bilat', 'narcotic adminsitration', 'staff request transport', 'arm jerking', 'city bus stop', 'possible heart attack', 'capno increase', 'different day', 'doc office staff', 'entire interaction', 'baseline sensorium refer', 'large stone', 'fixed deformity', 'nsg staff', 'juvinile detention center', 'mucous production', 'cross check drug', 'arrival seizure', 'past due', 'welfare check', 'sick woman', 'morning sickness', 'pupils pin point', 'pt wheezing', 'residence hallway', 'clear fluid', 'answer medical evaluation', 'mental status lasting', 'person cross check', 'cigaret today', 'let side', 'own opinion', 'repeat check', 'legs feel', 'second floor landing', 'facial droop', 'several heart', 'pt demeanor', 'third dose', 'feeling lightheaded', 'lpm inhalation', 'frequent redislocation', 'chippenham yesterday', 'townhouse apartment', 'witnessed cardiac', 'further pain', 'apparent oppiod overdose', 'min delay', 'pain pressure', 'yo male supine', 'oxygen administration', 'patient constant movement', 'minimal use', 'yo female supine', 'year old male lying', 'cot strap', 'better oxygen saturation', 'sister house', 'cardiologist today', 'asked several', 'positive lung', 'stroke assessment', 'pt reusal', 'fellow church member', 'break pedal', 'unsucessful due', 'slight expiratory', 'severe apparent distress', 'affected limb', 'possible glf', 'auditory expiratory', 'smoked crack', 'unknown protein pill', 'occasional stomache', 'patient medication', 'point safety harness', 'yellow fluid', 'adult female patient standing', 'supply replenishment', 'delay due', 'axis deviation', 'wooden pallet', 'endotracheal intubation', 'butt tray', 'patient stating', 'other staff', 'unconscious half', 'several previous fistula', 'morning around', 'various medical', 'problem priority', 'worsening shortness', 'other sugar', 'respiratory depression', 'jail cell', 'scratchy throat', 'hip injury', 'apparent impact', 'moist mucosal', 'medical center diversion', 'car giver', 'clear vomit', 'bathroom groaning', 'bystander poor historian', 'wrong address', 'little identification', 'indicate normotensive', 'lead due', 'resident apartment complex', 'endotracheal tube', 'case manager today', 'begin normal saline', 'post administration pt nausea', 'sign form', 'banging her head', 'female unresponsive lying', 'pt appeared pale', 'vascular surgery', 'feel numb', 'abnormal exertion', 'gm total', 'right groin', 'additional knowledge', 'syncopal episode last night', 'breath bc', 'orthostatic negative', 'central port', 'patient hooked', 'subject drove', 'mid chest', 'other health history', 'inside vehicle', 'bystander onscene', 'poor appearance', 'adult male complaining', 'vital check', 'right upper lobes', 'report headache', 'male pt supine', 'lung removal', 'normal waveform', 'prescribed inhaler', 'unremarkable respiratory', 'second period', 'vigorous verbal stimulation', 'cocaine overdose', 'cerebral aneursym many', 'drug kit exchange', 'diarrhea today', 'inguinal hernia', 'slight headache', 'home care', 'hypodermic needle', 'liquor last night', 'full continuos cardiac monitoring', 'positive pressure ventilation', 'heard upon auscultation', 'dark tar', 'multiple rib', 'intubation attempt', 'drinking alcohol today', 'right ribs', 'full flight', 'patient information', 'large bandage', 'intoxication level', 'right thigh pain', 'assault call', 'post care', 'degree angle', 'internal rotation', 'first neb', 'cardiac pacemaker', 'pain woke', 'home mdi', 'pupil due', 'anterior forearm', 'access building', 'see mild htn', 'bedside commode', 'blood return', 'meeting room', 'unspecified cardiac', 'right lateral position', 'complete time', 'cant catch', 'style vehicle', 'palpable radial pulse irregular', 'obvious work', 'respiratory diagnosis', 'fibrillatory baseline', 'reapply capnography', 'exact address', 'temporary alleviation', 'box exchange', 'eyes open', 'pt hypertensive today', 'diarrhea last night', 'drinking beer', 'pt gcs', 'moderate blood loss', 'hospital tonight', 'shoulder blade', 'difficulty breathing last night', 'surgical fix', 'her nebulizer', 'store leaning', 'print draft', 'manic behaviour', 'second gunshot wound', 'unnatural fashion', 'treatment facility', 'complete awareness', 'pt hypertensive', 'palpation epigastric region', 'black purse', 'treatment approx', 'go today', 'neurogenic bladder', 'po accu check', 'strong pulse rate', 'head many', 'normal lung', 'arrival pt ambulatory', 'seat impacted', 'wear supplemental', 'excess mucus', 'midline neck pain', 'change transport destination', 'assist patient', 'slight audible', 'pt original destination', 'intermittant audible', 'normal tone', 'difficult vascular access', 'noted improvement', 'severe anxiety', 'anterior field', 'absent chest rise', 'successful capture', 'other illicit drug', 'prevent nausea', 'clot yesterday', 'additional pain', 'pt mouth', 'profound odor', 'pulmonary emboli', 'help ease', 'patient left forearm', 'sharp left side pain', 'full pack', 'medication delivery', 'her vomit today', 'observed patient ambulate', 'arterial bleed', 'distress crew', 'pacemaker lead extraction', 'patient normal mental baseline', 'last oral', 'available representative', 'pull ambulance', 'deep depth', 'new medication yesterday', 'held onto', 'speciality care', 'refer sicker person', 'dexamethasone administered iv', 'appropriate commercial device', 'patient coughed', 'home system', 'breathing upon arrival', 'manic depressive', 'parent request', 'vol control', 'safety belts', 'new pain', 'pulled down', 'further demographic', 'good historian', 'her water', 'astham exacerbation', 'last month patient', 'anaphylactic rx', 'migraine medication', 'warm skin', 'short time span', 'slight wheezing', 'patient presenting', 'jenn care yesterday', 'diffuse abdominal pain', 'unresponsive apnoeic pulseless', 'broad sweep', 'pt response', 'worship center', 'high lumbar spine', 'leg bent', 'hourly vital', 'apt complex', 'country travel', 'diabetic medicine', 'obvious face', 'dystonic rxn', 'indication chest pain', 'spontaneous respiration', 'pt appeared', 'slight st elevation', 'drug addiction', 'liability release', 'skin cold clammy', 'fire dept', 'temperature change', 'found patient', 'pulseless bit', 'find family', 'right upp chest', 'additional flu', 'normal carotid', 'breast bone', 'shopping cart', 'small mount', 'help pain', 'heart disease', 'patient medical history', 'treatment pta', 'pelvis rigid', 'phone left', 'tried pinching', 'marijuana cake', 'tachy rhythm', 'past subarachnoid hemorrhage', 'heavy decontamination', 'pt states hx', 'drink today', 'breathing wierd', 'assessed noting', 'ekg sinus', 'acute gastrointestinal distress', 'didnt take', 'sublingual nitroglycerin tabs', 'equipment complaining', 'clonic activity', 'base line', 'chair due', 'light expiratory', 'pediatric male patient', 'dorm room vomiting', 'strong regular radial', 'class today', 'suspected heroin', 'apparent emotional', 'answer history', 'numerous puncture', 'arm chair yelling', 'inaccurate due', 'deltoid transport', 'second address', 'natal care', 'warm torso', 'monitor showed', 'narcotic abuse', 'physical assessment unremarkable', 'moderate reduction', 'enter room', 'room trauma room', 'prior weakness', 'discovered patient', 'baby daddy', 'pain upon', 'floor leaning', 'prescription bottle', 'normal rythm', 'steep hill', 'gain control', 'pt blanket', 'spider strap', 'placement verification', 'nystagmus movement', 'full cardiac arrest protocol', 'bleeding noted', 'last saw', 'advise pt', 'advise quantity pt', 'neighbor call', 'indicate expiratory', 'obvious resp distress', 'left side sharp pain', 'patient states', 'family throught', 'purple color', 'good bilateral air entry', 'available report', 'patient localized pain', 'scene due response distance', 'further incident', 'complete cessation', 'used nebulizer', 'yo wm', 'several area', 'stop epistaxis', 'hip dislocation', 'patient stated', 'shallow rise', 'flushed well', 'persistent dizziness', 'obvious seizure', 'football game', 'medical alarm', 'safe environment', 'improper suction technique', 'intermediate room', 'apartment room temperature', 'double amputee', 'make other', 'normal temperature', 'patient position', 'second dose woke', 'experienced relief', 'unspecified amount', 'alcohol tonight', 'hood area', 'few empty', 'figured her', 'prior due', 'suprapubic region', 'pressure infuser bag', 'patient patient original oxygen', 'detailed report', 'thigh pain', 'first address', 'print drug box exchange', 'possible stroke', 'old oral antibiotic', 'low secondary', 'room floor', 'wet cloth', 'picc line', 'wheezy lung', 'toilet paper', 'empty pill', 'key holder', 'urticaria approx', 'bedside room', 'lateral flank pain', 'playing rugby', 'clear strawberry gel', 'additional treatment', 'ladder yesterday', 'eyes pin point', 'word dyspnea', 'original unit', 'mild rhonchi noted', 'trach collar', 'administer fluid', 'mid epigastrium', 'aox person place time', 'examine neck', 'notable blood glucose level', 'right upper leg', 'obvious increase work', 'acute numbness', 'pt unresponsive', 'used elevator', 'additional bandage', 'shallow respiration', 'understandable history', 'pt turned', 'ability today', 'first glance', 'several small open', 'current living address', 'intravenous access', 'pt backboard', 'ambulance patient', 'normal anxiety attack', 'nasal congestion making', 'commercial tube tamer', 'unspecified bone', 'didnt take anything', 'right radial', 'right room', 'vomit consist', 'phone report', 'local civic center', 'medication bag', 'rheumatology department', 'left threw scene', 'diabetic comas', 'trach midline', 'seizure medication', 'trooper vehicle', 'clear wave form', 'get pt', 'third dosage', 'pt anxiety', 'stand self', 'strong regular pulse', 'upper lung', 'mild course rhonchi', 'sudden difficulty', 'room assignment', 'ate last night', 'bear weight', 'outside apartment building', 'fentanyl administration', 'slow speech', 'bad asthma', 'patient turned', 'abnormal speech', 'patient alert', 'muscular region', 'occasional spontaneous', 'adult female subject', 'reception area', 'qualit good', 'spontaneous sensorium', 'madison adult home', 'conscious pt', 'crepitus noted', 'insurance paperwork', 'optometry unit', 'previous nerve dmg', 'chaotic nature', 'left hip fracture', 'treatment area door', 'man lying', 'left hand side', 'field supervisor', 'poor anatomy', 'recorded en route', 'other provider', 'first bolus', 'next cycle', 'athletic trainer', 'floor upstairs', 'tympanic thermometer', 'black male', 'patient signed refusal', 'hypertension medication', 'last pulse check', 'adequate chest excursion', 'unknown range', 'profound weakness', 'top number', 'medication check card use', 'spider straps', 'arrival hence', 'visit today', 'due neb', 'oral glucose tube', 'perisistent cough', 'tightness feeling', 'daughter transport', 'nebulized albuterol', 'tubal ligation', 'intercostal region', 'physical activity', 'full cardiac', 'car sheet', 'emergency pull cord', 'her heart', 'burn evidence', 'nontender pelvic stale', 'pt transferred', 'closest hospital', 'determination upon arrival', 'pt catching', 'sharp substernal non', 'first nebulizer treatment', 'apparent genital involvement', 'reveal stridor', 'last ate breakfast', 'equipment restock', 'female requesting', 'iv position', 'battery change', 'right wrist', 'patient ran', 'good chest rise', 'normal qt interval', 'year old male history', 'deficit post', 'rash enroute', 'post glucose administration', 'iv saline loc', 'monitoring equipment', 'front driver side corner', 'trilogy mask', 'vomit bucket', 'normal rx', 'migraine last night', 'unknown time', 'diffuse abdominal tenderness', 'extremity injury', 'personal supplemental', 'posterior hand', 'patient admitting', 'drug history', 'second petit mal seizure', 'usual mental status', 'other medic', 'lobby entrance', 'prior heart attack', 'ingrown toe nail', 'underlying condition', 'chest pain left side', 'front seat', 'slow shallow rate', 'concious male pt', 'provider medication cross check', 'tooth extraction', 'assisted floor', 'medication kit exchange', 'local elementary school', 'breathing equal chest rise', 'general anesthesia', 'secure unit', 'start bvm', 'breathe post tx', 'unrestrained driver', 'stuffy nose', 'outpatient clinic', 'whos family', 'home walker', 'note advise blood sugar', 'segment elevation', 'fluid intake', 'pt family member', 'male possible overdose', 'asa powder', 'feeling shortness', 'receiving chemotherapy', 'apparent distess', 'ate potato', 'abdominal pain today', 'respiratory rating', 'insulin last night', 'policy number', 'burnt cigarette', 'doorway assessment', 'hot temperature', 'previous tumor', 'visible distress', 'benzodiazapine administration', 'abdominal complaint', 'conscious female pt', 'fire chief', 'person lift', 'better motor control', 'mud sternal chest pain', 'admission capability', 'fentanyl administered', 'mid clavicular', 'diffused wheezing', 'capture event', 'convince patient', 'severe scar tissue', 'cyst pain', 'patient safety', 'pituitary gland', 'beginning last night', 'increased respiratory', 'call tonight', 'aspirin due', 'small lunch', 'crew left scene', 'pt told', 'total abrasion', 'rapid improvement', 'frontal sinus', 'daughter report pt', 'front ramp', 'belongings left', 'facility representative signature', 'cervical cancer', 'unknown problem priority', 'advise patient', 'increased difficulty', 'long distance', 'sink area', 'high index', 'surgery yesterday', 'much improvement', 'poor right', 'local school', 'regular respiratory effort', 'full course', 'appropriate hospital', 'good box wave form', 'precipitous drop', 'dining room area', 'front security door', 'excellent compression', 'significant diagnosis', 'hospital physician assistant', 'labor day', 'transport signature', 'contacted anytime', 'convulsion condition', 'inspiratory wheezing', 'juvenile male', 'resuscitation effort', 'cough today', 'clear voice', 'livable condition', 'tripod position', 'witnessed construction', 'room air oxygen', 'normal breathing surgical scar', 'orbital area', 'final glucose check', 'friend drive', 'recent needle puncture', 'ventilatory rate', 'possible coverage', 'original roller', 'obese female', 'neighbor stating', 'leg weaping', 'pulse difficult', 'heroin problem', 'patient become', 'metal stairs last night', 'unk cardiac hx', 'water pill', 'anxiety last night', 'hs lightheadedness', 'positive pink frothy marrow', 'tylenol prior', 'pain episode', 'restraint system', 'inside house', 'patient told', 'tub full', 'sugar yesterday', 'broken ankle', 'building security', 'upper head', 'patient packaging', 'bottom lip', 'traffic light', 'audible external', 'waveform capnography note', 'rapid treatment', 'other noticed', 'vagus nerve stimulator', 'possible fx', 'arrest due', 'pedal edema', 'clear speach', 'admitted yesterday', 'hr blod sugar', 'combative pt', 'yellow room', 'vein distension', 'small improvement', 'normal respiration', 'pt representative', 'effective treatment', 'make intelligible', 'rapid resp', 'parent signature', 'metal status', 'device failure', 'treatment duo', 'pump infusion', 'pt understood', 'good chest', 'nitroglycerine spray', 'clinical cheif', 'baseline abdominal pain', 'palpable distal', 'cooperative accept', 'real bad', 'eat today', 'discuss forcible', 'shirt caught fire', 'drug paraphrenia', 'machine today', 'pt signatue', 'dueo neb tx', 'large passenger', 'equal mobility', 'bottom step', 'cause croup', 'medical staff member', 'revealed atrial fibrillation', 'towel roll', 'sec cap refill', 'overdose pt', 'new supply yesterday', 'hr appropriate', 'pt relax', 'family request transport', 'hour long standoff', 'pt ate', 'arrival sudden onset', 'large bag', 'male subject', 'alert female', 'venous access', 'rapid registration number', 'marijuana tonight', 'unavailable due', 'her doctor', 'dry throat', 'mg yesterday', 'tracheostomy tube', 'tarry stool', 'increased work', 'patient understood', 'require supplemental', 'precious cardiac', 'hypoxic state', 'physical deficit', 'vast improvement', 'display confusion', 'street pt', 'slipped something', 'urine inspection', 'stuffed pt', 'call type', 'uncertain amount', 'baseline unilateral weakness', 'left cheek', 'skin normal', 'current boyfriend', 'small puddle', 'dock area', 'discolored urine', 'glass pipe', 'pt pain', 'airway maintenance', 'scene prior', 'adjacent space', 'current abnormal', 'vasculature access', 'regular resp', 'pain lue', 'sure everything', 'full info', 'yof laying', 'week approx', 'pt seemed', 'new bicycle', 'pt had room air', 'lead provider', 'leg pain', 'orthostatic hypostatic hypotension', 'grand mal sz', 'noting atrial fibrillation', 'provider check', 'previous cardiac history', 'call pt', 'momentary direct pressure', 'mm right pupil', 'normal feeling', 'ingestion tonight', 'fluid administration', 'location change', 'reassessment patient', 'usuale baseline', 'rescue inhaler', 'hemodialysis treatment', 'additional complaint', 'soft symmetrical', 'constant nausea', 'recent ground level', 'overdose subject', 'warm saline', 'dragged patient', 'bedroom knowing', 'real name', 'unspecified substance', 'kidney infection', 'transported priority', 'elective surgical procedure', 'last dialysis', 'pt presenting', 'gaining pt signature', 'waiting area', 'tolerate palpation', 'pt begin', 'real medical', 'fluid leak', 'pt request transport', 'hypoglycemia last night', 'initial systolic', 'patient verbalized minor improvement', 'full sentences', 'ambulatory care center', 'read due', 'isosorbide mononitrate yesterday', 'pt describes chest pain', 'other reciprocal', 'yesterday afternoon', 'pt system', 'upper deltoid', 'blue box', 'third degree heart block', 'air movement', 'future hypoglycemia', 'sacral spine', 'lateral shoulder', 'bilat breath', 'provider thought', 'bilateral shoulder pain', 'pt responded', 'walked pt', 'adult female patient', 'isosorbide dinitrate', 'treat pt', 'local residence', 'nursing station', 'internal heart monitor', 'inch abrasion', 'line access', 'spent much', 'yard work', 'neb albuterol inhaler', 'own power', 'shoulder fluid bolus', 'narcan admin', 'deep painful', 'female laying supine', 'mild swellig', 'unknown name', 'arm dull ache', 'normal distal', 'pulmonary history', 'additional distress', 'unknown quanitity', 'mid sharp', 'previous pneumothorax', 'brownish sputum', 'major improvement', 'use crack cocaine today', 'metabolic status', 'minor bleeding', 'tachypneic pt', 'patient lifted arm', 'heavy pressure chest pain', 'receiving radiation therapy', 'brain involvement', 'intravenous medication', 'left legs', 'other drastic', 'inferior breast', 'jail medical team attending', 'insurance coverage', 'heart history', 'pillow splint', 'phone conversation', 'nasal capnography device', 'patient warm', 'other obvious trauma', 'ash tray', 'previous difficulty', 'provider confirmation', 'home health care', 'rotator cuff injury', 'frothy white sputum', 'pressure infuser', 'recent use', 'improved heart rate', 'blue dusk', 'long hx', 'medication regimen', 'obvious damage', 'past stroke', 'inhaler refill', 'tearful distress', 'purposeful arm', 'supine position fr assessment', 'severe anterior', 'significant respiratory', 'entire right side', 'transport infusion pump', 'open passenger door', 'intermittent diarrhea', 'restrain pt', 'oxygen saturation ta', 'unremarkable changeover', 'mild angioedema', 'probe temp', 'pt pt', 'home yesterday', 'dillusional pt', 'med administration', 'same spot', 'er room', 'much stress', 'taser barbs', 'yo male pt', 'fluid bolus enroute', 'pt jaw', 'unknown assailant', 'other seizure', 'respiratory infection', 'buccal mucosa supple', 'pt unresponsive laying', 'her due date', 'spinal stabilization', 'compliant pt', 'unknown period', 'own inhaler', 'sleep approx', 'reporting relief', 'shaky due', 'collect billing information', 'new medication today', 'residual weakness', 'stent place', 'trace amount', 'unspecified developmental disorder', 'stop sign', 'cot belt system', 'anterior side', 'duoneb nebulizer', 'apparent pain', 'sidewalk beside', 'nasal capnography enroute', 'medical bay', 'pt pulled', 'red triage designation', 'pain increased today', 'blurred vision', 'rt flank region', 'clinic yesterday', 'ventricular hypertrophy', 'truck home', 'possible expiratory delay', 'alive last night', 'green mucous', 'medical command', 'dispatch direction', 'respiration autonomy', 'continuous improvement', 'mm tube confirmed', 'fellow family member', 'hip reduction', 'obvious obstruction', 'stabilization brace', 'medicine spill', 'absent breath', 'blocked coronary', 'loose stool', 'adult day care center', 'conscious pt lying', 'bilateral myosis', 'medical ball park staff', 'bad ad', 'kitchen counter', 'several small', 'hand weakness', 'deliver nebulizer', 'pt cooperation', 'answer crew', 'other respiratory', 'response access', 'patient wheeled', 'high volume', 'basketball today', 'pt waking', 'light yellow urine', 'confirmed placement', 'respiratory failure', 'reveal inspiratory', 'heavy lifting', 'oral glucose enroute', 'revive history', 'motor slight', 'recent life', 'obese pt lying', 'pupils perl', 'needle decompression lung', 'previous pulmonary', 'pediatric male pt', 'wallet left', 'enough air', 'sense capnography', 'thoracic spine', 'distension present', 'monosodium glutamate', 'universal tremor', 'vapor cigarette', 'traumatic substernal', 'second pt', 'nail bed pressure', 'outside activity', 'federal police', 'locate pt', 'hand trauma', 'perform basic math', 'substernal chest', 'last saturday', 'previous girlfriend rode', 'mm endotracheal tube', 'mosby court', 'apneic lying', 'bed unable', 'inline duo neb', 'chronic foot pain', 'hand area', 'pt shook', 'multiple superficial', 'hypoglycemic state', 'home living room', 'experience chest', 'upper posterior arm', 'unresponsive due', 'minor cut', 'passenger area', 'bike approx', 'current therapy', 'facility staff report', 'extra strength', 'witnessed refusal', 'home beside', 'bed sheet pull', 'her dialysis appt', 'original choice', 'heavy weight', 'powder substance', 'abdominal rigidity', 'facility acceptance', 'cardiac history', 'weak thready', 'uncomfortable pt', 'abnormal heart', 'eyes perrl', 'frail female', 'pt assistance', 'provider medication', 'member statement', 'complete pt', 'oral mucosa', 'same source', 'adhesive tape', 'normal treatment', 'face down', 'left ac', 'die today', 'normal gastric', 'nurse desk', 'home machine', 'water broke', 'pt cancer diagnosis', 'patient side upon', 'visual impairment', 'patient stop', 'painful stimuli post'])\n"
     ]
    }
   ],
   "source": [
    "print(ngrams)"
   ]
  },
  {
   "cell_type": "code",
   "execution_count": 9,
   "metadata": {},
   "outputs": [],
   "source": [
    "inter_safety = [dict() for _ in range(len(int2num))]\n",
    "for idx in range(len(num2int)):\n",
    "    inter_safety[idx][0] = 1. / int2fn_score[num2int[idx]]\n",
    "    inter_safety[idx][1] = 1. / int2fp_score[num2int[idx]]\n",
    "inter_safety_dic = dict()\n",
    "for idx in range(len(num2int)):\n",
    "    inter_safety_dic[idx] = int2fp_score[num2int[idx]]"
   ]
  },
  {
   "cell_type": "code",
   "execution_count": 10,
   "metadata": {},
   "outputs": [],
   "source": [
    "total_text = [i.text for i in narra]\n",
    "total_inter = [i.inter for i in narra]"
   ]
  },
  {
   "cell_type": "code",
   "execution_count": 11,
   "metadata": {},
   "outputs": [],
   "source": [
    "train,_ = train_test_split(narra, random_state=46, test_size=.2, shuffle=True)\n",
    "train_text = [i.text for i in train]\n",
    "train_inter = [i.inter for i in train]\n",
    "test_text = [i.text for i in test_narra]\n",
    "test_inter = [i.inter for i in test_narra]"
   ]
  },
  {
   "cell_type": "code",
   "execution_count": 12,
   "metadata": {},
   "outputs": [
    {
     "name": "stdout",
     "output_type": "stream",
     "text": [
      "[u'D: EMS 492 dispatched priority 1 for the unconscious/ fainting. Arrived to find a 28 y/o female, sitting up right on her bathroom floor. No obvious signs of distress noted. Patient is awake and alert to EMS presence. No other Units on scene.     C: Hematuria, dizziness, near syncope, and generalized weakness    H: Pt. history, medications, and allergies noted in report. HPI:  Pt states she woke up today around 8:30 and went to the bathroom. She states while urinating she noticed some blood. She states the next time more blood was noticed. She states she is having 4/10 abdominal pain in the lower quadrants. She states when she stands up she feels really dizzy and feels like she may \"pass out\". She states she made an appointment to see her doctor this morning but feels she cant get herself to the appointment.     A: Patient is A&O x 4. Patient has a GCS of 15. Skin is normal for ethnicity. Airway is patent self-maintained. No increased work of breathing noted. Patient has regular and strong pulses and no obvious bleeding noted. HEENT is clear without signs of trauma. Chest wall normal with = rise and fall, LS clear x 4. Abdomen is normal. No pulsating or non-pulsating masses noted. Patient denies any pain in extremities. PMS intact x 4. No DCAP-BTLS in extremities x 4. Back is clear of any obvious trauma. Vital signs normal for the patient. Patient denies chest pain, shortness of breath, head ache, or recent trauma. She does complain of hematuria, nausea without vomiting, fever/ chills, dizziness, and near syncope.    R: VS, IV 22g right Hand, 700 ML Normal Saline, 4mg Zofran, Monitor NSR, and transport.    T: Patient moved to stretcher. Patient placed in semi-fowlers and secured with 5 point harness. Patient transported to Chippenham Hospital as requested. Patient placed in Hall bed 5 where care and full report given to RN at bedside. Patient belongings left at bedside with the patient. Crew cleared from call with no incidents or complications.     E: NONE', u\"d- dispatched for sick person    a- arrived to find female pt lying on a futon in the back room of a nail salon, conscious and alert    c- pt complains of sort throat    h- pt repors sore throat for 1 day.     a- assessment reveals pt with adequate abc's, skin NWD, alert and oriented and in no acute distress. pt appears tired and weak, but is easily arousable. pt is ambulatory but appears unsteady on her feet. vitals assessed noting a normotesive, euvoglycemic pt. unable to collect detailed HPI due to language barrier. language line was used but failed to yield detailed information aside from chief complaint. EKG acquired noting a sinus rhythm with no abnormalities. EtCO2 and waveform capnography note a normal waveform with EtCO2 elevated at 50mmHg with a RR at 15-16bpm. lungs are clear, heart tones are normal. abdomen is soft and non-tender. bowel sounds present and normal. no neurological deficts noted.     t- through languange line, Chippenham Hospital was agreed upon. pt was turned over in Bed 22 with RN Heather S.     e- delay due to languange line use and turnover at destination, and use of language line and exchange/collection of demographic information to collect billing/MRN information.\", u'D: Dispatched for a priority 1 diabetic problem.     A: Arrived to find a 49yom sittng on the couch of Station 24 complaining of low blood sugar and alcohol withdrawls    C: Tachycardia and tremors    H: Pt has a history of alcohol abuse and diabetes. Pt explanied that his blood sugar was low and that he has been having withdrawls from alcohol. PT expressed that he had not had any alcohol for six hours. When checked Pts blood sugar was found to be over 300. Pt explained that he wanted to sober up and needed to go to Chippenham to do so.     A- A&Ox4, GCS=15, Calm and Cooperative, A- patent, B- normal rate and depth, C- radial pulses present, Skin- warm/pink/dry, D- none, HEENT- no trauma observed, PERRL 4mm bilat., no drainage eyes/ears/nose, no jvd or tracheal deviation, Chest- symmetrical, BS clear and equal bilat., pt denies CP but says that he has chest tightness pt denies SOB, ABD- soft, non-tender, pt denies pain, pt denies nausea,  continent, Upper Extremities- PMSx2, no edema or trauma observed    R: Pts vital signs were obtained. A 12 lead showed nothing but artifact. One attempt at an IV was made but was unsuccessful. Pt did get 324mg of Aspirin.     T: Pt was seated on the cot in a position of comfort with seat belts attached. Pt was transported to Chippenham Hospital ER Room 7 and Pt care was turned over to Jason NR.    E: Pt is very well known at Chippenham by the hospital staff.', u\"D:  Dispatched for seizures.    A:  Respond Priority 1.  On arrival find a male lying in the right lateral recumbent position on a couch.  He is awake, alert and does not appear to be in any distress.    C:  Pt. complains of dizziness.    H:  Pt. states that he stood up to go the restroom when he began to feel dizzy.  He states that the dizziness started prior to using the restroom.  He states that when the dizziness started he also began experiencing chest pain. The chest pain was sub sternal and non radiating.  He rates his pain a 7/10.  He has a PMHx of sickle cell and an unspecified stomach problem.  Pt. medications are unknown.  Pt. denies any allergies.    A:  Pt. is a 68 yo male.  He is A&O x 4; GCS-15; skin is warm/dry; membranes-pink; turgor-normal.  HEENT-normal; pupils-PEARL; no fluid leakage/drainage noted from ears/nose.  Airway is patent; trachea is midline; no JVD noted.  Chest rise/fall is symmetrical; lung sounds are clear bilaterally; respirations are normal/unlabored; no accessory muscle used is noted; pt. complains of chest pain, pain is sub sternal, non-radiating and rated a 7/10; pt. denies difficulty breathing or shortness of breath.  Abdomen is soft/non-tender; no masses noted; no rebound tenderness noted; pt. denies N/V or diarrhea.  PMS is intact in all extremities; radial pulse is strong/equal bilaterally.    R:  Assessment; V/S; IV established in the L-AC with an 18 g catheter and saline lock; pt. is administered 500 cc of normal saline; pt. is placed on the cardiac monitor and a 12 lead ECG is obtained, 12 lead shows pt. to have a normal sinus rhythm with no ST elevation or depression noted.    T:  Pt. is placed on the stretcher in the semi fowlers position and secured with safety belts.  Pt. is transported to VCU Medical Center per pt. choice.  Pt. is monitored en route with improvement noted in the pt's condition.  On arrival the pt. is placed in Rm. #1.  Pt. care report is given to E. Midyette, RN.  Pt. care is transferred to the ED staff.    E:  None.    S:  Signature is obtained from the pt.    MI 3842\", u\"Medic 580 dispatched Priority 2 Assault. RPD dispatched.     Arrived to find 19 year old female, conscious and breathing, supine on the ground in the front yard on the residence in RPD custody. No obvious signs of distress or immediate life threats. No delays in response or treatments prior to arrival.     Laceration of left hand.     Patient reports that she was involved in a domestic dispute and cut her hand while throwing household objects. Patient has a half inch laceration of the left hand between the thumb and index finger. Minor bleeding controlled with a bandage. Patient became hysterical and combative in the back of the ambulance, trying to jump out prior to transport. Patient recieved sedation. Patient denies any other symptoms or pain. Patient provides PMH, medications, and allergies. Denies ETOH/drug use.     Patient presents as anxious, alert and oriented x 4; GCS 15 (E4, V5, M6) with a patent airway. Skin is warm, pink, and dry. Assessment of the head notes no abnormalities; no drainage or discharge from eyes, ears, nose or mouth. Pupils PERRL, 4mm. Negative JVD or tracheal deviation. Patient is breathing with equal and adequate chest rise and fall. Lung sounds clear; no abnormal heart tones. Abdomen is soft, non-tender with normal gastric sounds. Negative distension or pulsatile masses. Pelvis intact. All extremities move spontaneously; PMS x 4. Negative edema. Strong, regular radial pulses present bilaterally. Half inch laceration of the left hand between the thumb and index finger. Minor bleeding. Assessment of the spine is unremarkable. No other bleeding noted.     Vital signs, SPO2, bleeding control, cardiac monitor, medication administration, physical exam. Patient becomes calm and unagitated.    Patient is assisted to stretcher and secured with 5 point harness in Semi-Fowler's position. No changes in patient's condition during transport. Patient is transported to VCUMC and care is transferred to nursing staff in ED. No patient belongings; RPD officer rode along.     PUTS dues to law enforcement custody. Patient does not have insurance information.     Sara Reynoso, NRP 3845\", u'D: Dispatched to the above listed address for a seizure    A: Arrived on scene to find patient lying supine on bed convulsing    C: Patient was a 49 yo W M complaining of hypoglycemia and seizure    H: Caller was a roommate who stated that she heard the patient seizing in the bedroom and called 911. Patient reportedly had a history of diabetes mellitus. Attempted to obtain history, medicaitons and allergies in more detail, however the roommates did not know very much information about patient, and when the patient became more alert he stated that he had diabetes, hypertension, and seizures and took insulin. He did not answer any further questions because he \"feels like you\\'re gonna hurt me even though you\\'re not going to\". Patient was agitated and anxious but cooperative after he awoke from his seizure.     A: Initial assessment patient was unresponsive and actively seizing with convulsions, GCS 3, airway patent, tachypneic and irregularly irregular respirations, foaming at the mouth, pupils dilated 6 mm, no gross traumatic injuries or bleeding noted, pulses bounding, pulse oximetry 96% on RA while seizing, unable to obtain blood pressure, BGL 13    R: History and physical exam as noted above, IV 18G established in right AC on second attempt (first attempt was started in a vein, but there was backflow of blood, so a second IV was established in a vein and the same incident occurred, this incidence occurred when patient was seizing and attempting to take a blood pressure which was unable to be obtained), Dextrose 10% was administered via IV bolus 250 ml with patient\\'s improvement in mental status and BGL to 86, patient became responsive and was confused and agitated and stated that he was afraid, patient became alert and oriented x4 and the first thing he stated when he woke up was \"I didn\\'t do anything wrong, I haven\\'t been drinking or doing drugs\", patient stated that he had an increase in his insulin to 40 units because he has had DKA and that he had not eaten recently    T: Patient refused treatment and transport, strongly encouraged patient to accept treatment and transport which he emphatically declined, advised patient of risks of refusing transport and benefits of accepting transport which he confirmed understanding, advised patient to follow up with PCP, urgent care or ED and request EMS at any time if symptoms persist or worsen    E: delay on scene for patient care    3906', u'D/ Dispatched for a breathing problem.    A/ Arrived to find 68yof standing outside of a residence.    C/ Shortness of breath.    H/ Pt has Hx of CHF and COPD. She says that she has been short of breath for most of the day. She reports shortness of breath throughout the past couple of days. She says that she has had more difficulty tonight, not helped by inhaler at home. She denies Hx of intubation due to asthma, but has used CPAP/BiPAP in the past.    A/ Pt is alert and oriented. She has a patent airway, w/ rapid and labored breathing. Heart sounds are normal. Lung sounds are wheezy throughout, w/ some congestion heard as well. SpO2 = 88-89% on room air. Pt has frequent, wet, unproductive cough. On nebulizer, pt reports only minimal relief. SpO2 = 99% on nebulizer. No change in lung sounds on monitor. Pt denies any pain. NSR on monitor. No evidence of ETOH or substance use. Nothing else noted on exam.    R/ Vital signs measured. Cardiac monitor applied. Nebulizer administered (5mg albuterol, 0.5 mg Atrovent). Decadron administered (10mg, IM). Hospital contacted w/o orders.    T/ Pt assisted to cot, secured w/ all 5 straps, and moved to unit. Transport to MCV w/o incident. Pt and care to ED-R7 w/ rails up. Report to RN at bedside.    E/ n/a    JCK3741', u'D- Dispatched for 43 y/o male, report of chest pain and shortness of breath.  A- Arrived to find 43 y/o male seated on front porch steps of residence, alert and breathing normally, no immediate life threats noted. RFD at patient side upon EMS arrival.  C- Chest pain, SOB  H- Patient reports sudden onset of chest pain and dyspnea about 20 minutes prior to EMS arrival while resting. Patient describes pain as a burning sensation, localizes pain substernally, denies radiation and palpation. Patient does report history of defibrillator placed 3 weeks ago for control of CHF, also reports history of HTN and cardiac stent. Medications unavailable, patient denies allergies.  A- A&Ox4. +ABCs, equal/adequate chest excursion, lung sounds clear bilaterally. Pulses strong and somewhat irregular, sinus tachy-arrhthmia without ectopy, 12-lead appears remarkable for LVH. Abdomen soft, non-distended, patient denies associated abdominal complaint. Patient moves all extremities, ambulation not attempted to report of chest pain. Skin is warm, dry, appears normal in color. Patient is hypertensive, tachycardiac, RR/SpO2 appear unremarkable. Blood glucose 98 mg/dl.  R- 324 ASA PO, cardiac monitoring, 20g IV established left AC NS lock  T- Patient able to rise and seat himself on main stretcher at porch steps, transported semi fowlers with no changes noted en route to MRMC ED room 15. Report given, patient care transferred to Brooke Reamer, RN.  E- MRN obtained  S- No discrepancy    M. Rice 3385', u'D - Dispatched to listed address for a 56 y/o F, Fall, priority 2.      A - Arrived to find pt laying on the ground in backyard of single family home in minor distress.     C - Pt c/o R knee and L shoulder pain, & SOB.     H - PMHx - PMHx includes asthma, CHF, HTN. Medications include listed in report. Allergies include penicillin. - HxPI - Pt reportedly has been short of breath for several days. Pt states she has been using her nebulizer at home with minimal relief. Pt states she slipped and fell in her backyard today. Ground level fall w/ negative loss in consciousness or head injury. Family called 911 for pt.    A - Arrived to find pt laying supine on the ground in minor distress. Initial assessment revealed pt was A&Ox4 w/ a patent airway, breathing slightly labored, skin normal. Pt c/o pain to her R knee and L shoulder. Affected areas slightly tender to palpation. No bleeding noted. Pt denied any loss of consciousness. Pt denied any neck or head pain. Pt stated she felt short of breath and that she had felt this way for several days. Lungs auscultated and revealed wheezing bilaterally. Vitals obtained as noted in report. 4-lead EKG revealed Sinus rhythm w/o ectopy. Vitals monitored during transport as noted in report. Pt stated it felt slightly easier to breath. No further change in pt condition during transport.     R - Vitals obtained and monitored as noted. DuoNeb treatment (5mg Albuterol / 0.5mg Ipratropium) administered via hand-held nebulizer @ 6 L/min, successfully, w/ minor relief. Cardiac monitor applied and 4-lead EKG obtained. No suitable access points noted for IV. 10mg Dexamethasone administered PO, successfully, w/o complication. Condition unchanged.     T - Pt assisted to EMS stretcher and placed in semi-fowlers position, secured w/ all available seatbelts. Pt transported to Chippenham ED and brought to Bay 5. Pt assisted to ED bed and placed in semi-fowlers position w/ rails raised & RN at bedside. Full report given to RN and care was transferred.     E - Billing info incomplete due to info not present.     S - Pt signature obtained.    Eric M. Sheffey, Paramedic, #3968', u'\\xbbDISPATCH-DISPATCHED FOR PRIORITY 1 ANIMAL BITE.    \\xbbARRIVAL-ARRIVED ON SCENE TO FIND PATIENT LYING IN STREET.    \\xbbCOMPLAINT-PATIENT WAS COMPLAINING OF PITBULL ATTACK.    \\xbbHISTORY-\\u2022HPI-PATIENT HAD BEEN ATTACKED BY PITBULLS AND WAS BITTEN ON ARM AND GROIN. \\u2022PMHX:ASTHMA. \\u2022CURRENT MEDICATIONS:ALBUTEROL. \\u2022ALLERGIES TO:NKDA. PATIENT W/O INCIDENCE OF LOC, CP, SOB, ABD PAIN, N/V/D, VERTIGO, SYNCOPE, CURRENT/RECENT ILLNESS, SI/HI, RECENT ETOH/DRUG USE.    \\xbbASSESSMENT-\\u2022AIRWAY:PATENT, \\u2022BREATHING:ADEQUATE, \\u2022CIRCULATION:+2 AT THE RADIUS. PATIENT APPEARED IN EXTREME DISTRESS, WAS AOx4 AND AMBULATORY. BODY SURVEY-\\u2022SKIN:WARM, DRY, NORMAL TURGOR, AND APPROPRIATE COLOR FOR PT; \\u2022HEENT:NORMOCEHALIC, EYES PERRL, SCLERA WHITE, MUCOSA MOIST, EOMI, VISION AND HEARING GROSSLY INTACT, TRACHEA MIDLINE, NO SIGNS OF JVD; \\u2022CHEST:STABLE TO PALPATION, NO SIGNS OF SCE; \\u2022ABD:SOFT, NDNT, W/O GUARDING; \\u2022BACK:SPINE STRAIGHT, ERECT, NT, NO STEPOFF OR CREPITUS; \\u2022PELVIS:STABLE, 3-4INCH LACERATION ACROSS PENIS, POSSIBLE PARTIAL AMBUPATION; \\u2022EXTREMITIES:PMS EQUALx4, ABRASION TO RIGHT ARM, NO CLUBBING OR CYANOSIS; \\u2022NEURO: CNII-XII GROSSLY INTACT, FAST STROKE SCALE NEG. \\u2022INTIAL VITALS; B/P:149/68, HR:121, RR:24, SPO2:96%RA, PAIN:10/10 IN PENIS DESCRIBED AS BURNING AND PROVOKED BY MOVEMENT, GCS:15, CARDIAC RHYTHM:SINUS TACH.    \\xbbRx-PATIENT WAS ASSESSED, BLEEDING CONTROLLED, 20G IV STARTED IN LEFT HAND, 100MCG FENTANYL GIVEN IVP, PLACED ON CARDIAC MONITOR, AND TRANSPORTED HOT.    \\xbbTRANSPORT-PATIENT WAS TRANSFERRED TO STRETCHER AND SECURED WITH 5 STRAPS. TRANSPORTED TO MCV, AND MONITORED ENROUTE. REPORT CALLED VIA UNIT PHONE.    \\xbbEXCEPTIONS-CREW DELAYED FOR DRUG BOX EXCHANGE. SECOND BP UNABLE TO BE OBTAINED.    \\xbbSIGNATURES-PUTS DUE TO DISTRESS LEVEL   ASH3956']\n"
     ]
    }
   ],
   "source": [
    "print(train_text[0:10])"
   ]
  },
  {
   "cell_type": "code",
   "execution_count": 13,
   "metadata": {},
   "outputs": [
    {
     "name": "stderr",
     "output_type": "stream",
     "text": [
      "/home/tay/anaconda3/envs/py2_NIST/lib/python2.7/site-packages/sklearn/feature_extraction/text.py:301: UserWarning: Your stop_words may be inconsistent with your preprocessing. Tokenizing the stop words generated tokens [u'abov', u'afterward', u'alon', u'alreadi', u'alway', u'ani', u'anoth', u'anyon', u'anyth', u'anywher', u'becam', u'becaus', u'becom', u'befor', u'besid', u'cri', u'describ', u'dure', u'els', u'elsewher', u'empti', u'everi', u'everyon', u'everyth', u'everywher', u'fifti', u'forti', u'henc', u'hereaft', u'herebi', u'howev', u'hundr', u'inde', u'mani', u'meanwhil', u'moreov', u'nobodi', u'noon', u'noth', u'nowher', u'onc', u'onli', u'otherwis', u'ourselv', u'perhap', u'pleas', u'sever', u'sinc', u'sincer', u'sixti', u'someon', u'someth', u'sometim', u'somewher', u'themselv', u'thenc', u'thereaft', u'therebi', u'therefor', u'togeth', u'twelv', u'twenti', u'veri', u'whatev', u'whenc', u'whenev', u'wherea', u'whereaft', u'wherebi', u'wherev', u'whi', u'yourselv'] not in stop_words.\n",
      "  'stop_words.' % sorted(inconsistent))\n"
     ]
    }
   ],
   "source": [
    "def preprocess(text):\n",
    "    text = text.lower()\n",
    "    text = cleanPunc(text)\n",
    "    text = keepAlpha(text)\n",
    "    text = stemming(text)\n",
    "    return text\n",
    "\n",
    "vectorizer = TfidfVectorizer(ngram_range=(1,1), preprocessor = preprocess, stop_words = 'english', norm='l2')\n",
    "vectorizer.fit(train_text)\n",
    "x_train = vectorizer.transform(train_text)\n",
    "y_train = [[int2num[inter] for inter in case if inter in int2num] for case in train_inter]\n",
    "encoded_y_train = np.array([[int(num in case) for num in range(len(int2num))] for case in y_train])\n",
    "x_test = vectorizer.transform(test_text)\n",
    "y_test = [[int2num[inter] for inter in case if inter in int2num] for case in test_inter]\n",
    "encoded_y_test = np.array([[int(num in case) for num in range(len(int2num))] for case in y_test])"
   ]
  },
  {
   "cell_type": "code",
   "execution_count": 14,
   "metadata": {},
   "outputs": [],
   "source": [
    "vectorizer = TfidfVectorizer(ngram_range=(1,1), preprocessor = preprocess, stop_words = 'english', norm='l2')\n",
    "vectorizer.fit(total_text)\n",
    "x_total = vectorizer.transform(total_text)\n",
    "y_total = [[int2num[inter] for inter in case if inter in int2num] for case in total_inter]\n",
    "encoded_y_total = np.array([[int(num in case) for num in range(len(int2num))] for case in y_total])\n",
    "class_weight = np.sum(encoded_y_total, axis = 0)"
   ]
  },
  {
   "cell_type": "code",
   "execution_count": 15,
   "metadata": {},
   "outputs": [],
   "source": [
    "vectorizer = TfidfVectorizer(ngram_range=(1,4),vocabulary = ngrams,\\\n",
    "                             preprocessor = preprocess, stop_words = 'english', norm='l2')\n",
    "vectorizer.fit(train_text)\n",
    "x_train_ngram = vectorizer.transform(train_text)\n",
    "y_train = [[int2num[inter] for inter in case if inter in int2num] for case in train_inter]\n",
    "encoded_y_train = np.array([[int(num in case) for num in range(len(int2num))] for case in y_train])\n",
    "x_test_ngram = vectorizer.transform(test_text)\n",
    "y_test = [[int2num[inter] for inter in case if inter in int2num] for case in test_inter]\n",
    "encoded_y_test = np.array([[int(num in case) for num in range(len(int2num))] for case in y_test])"
   ]
  },
  {
   "cell_type": "code",
   "execution_count": 16,
   "metadata": {},
   "outputs": [],
   "source": [
    "vectorizer = TfidfVectorizer(ngram_range=(1,4),vocabulary = ngrams,\\\n",
    "                             preprocessor = preprocess, stop_words = 'english', norm='l2')\n",
    "vectorizer.fit(total_text)\n",
    "x_total_ngram = vectorizer.transform(total_text)\n",
    "y_total = [[int2num[inter] for inter in case if inter in int2num] for case in total_inter]\n",
    "encoded_y_total = np.array([[int(num in case) for num in range(len(int2num))] for case in y_total])"
   ]
  },
  {
   "cell_type": "code",
   "execution_count": 17,
   "metadata": {},
   "outputs": [],
   "source": [
    "scoring = {'precision_weighted': make_scorer(weighted_precision, weight = class_weight),\n",
    "           'recall_weighted': make_scorer(weighted_recall, weight = class_weight),\n",
    "           'f1_weighted': make_scorer(weighted_f1, weight = class_weight),\n",
    "           'precision_micro': 'precision_micro',\n",
    "           'recall_micro': 'recall_micro',\n",
    "           'f1_micro': 'f1_micro'}"
   ]
  },
  {
   "cell_type": "code",
   "execution_count": 18,
   "metadata": {},
   "outputs": [],
   "source": [
    "scores_table = []"
   ]
  },
  {
   "cell_type": "code",
   "execution_count": 2,
   "metadata": {},
   "outputs": [
    {
     "ename": "NameError",
     "evalue": "name 'x_total' is not defined",
     "output_type": "error",
     "traceback": [
      "\u001b[0;31m---------------------------------------------------------------------------\u001b[0m",
      "\u001b[0;31mNameError\u001b[0m                                 Traceback (most recent call last)",
      "\u001b[0;32m<ipython-input-2-391047fbba69>\u001b[0m in \u001b[0;36m<module>\u001b[0;34m()\u001b[0m\n\u001b[1;32m      1\u001b[0m \u001b[0mclf\u001b[0m \u001b[0;34m=\u001b[0m \u001b[0mOneVsRestClassifier\u001b[0m\u001b[0;34m(\u001b[0m\u001b[0mSVC\u001b[0m\u001b[0;34m(\u001b[0m\u001b[0mkernel\u001b[0m \u001b[0;34m=\u001b[0m \u001b[0;34m'linear'\u001b[0m\u001b[0;34m,\u001b[0m \u001b[0mprobability\u001b[0m\u001b[0;34m=\u001b[0m\u001b[0mTrue\u001b[0m\u001b[0;34m)\u001b[0m\u001b[0;34m)\u001b[0m\u001b[0;34m\u001b[0m\u001b[0m\n\u001b[0;32m----> 2\u001b[0;31m scores_1 = cross_validate(clf, x_total, encoded_y_total, scoring=scoring,\n\u001b[0m\u001b[1;32m      3\u001b[0m                          cv=5, n_jobs=-1, return_train_score=False, return_estimator=True)\n\u001b[1;32m      4\u001b[0m \u001b[0mshow_results\u001b[0m\u001b[0;34m(\u001b[0m\u001b[0mscores_1\u001b[0m\u001b[0;34m)\u001b[0m\u001b[0;34m\u001b[0m\u001b[0m\n",
      "\u001b[0;31mNameError\u001b[0m: name 'x_total' is not defined"
     ]
    }
   ],
   "source": [
    "##SKIP for now##\n",
    "###look into incremental training#\n",
    "#Look into sklearn option to spread work across processors#\n",
    "clf = OneVsRestClassifier(SVC(kernel = 'linear', probability=True))\n",
    "scores_1 = cross_validate(clf, x_total, encoded_y_total, scoring=scoring,\n",
    "                         cv=5, n_jobs=-1, return_train_score=False, return_estimator=True)\n",
    "show_results(scores_1)"
   ]
  },
  {
   "cell_type": "code",
   "execution_count": 70,
   "metadata": {},
   "outputs": [
    {
     "name": "stdout",
     "output_type": "stream",
     "text": [
      "62.9412081242\n",
      "precision_micro:0.92\n",
      "recall_micro:0.88\n",
      "f1_micro:0.90\n",
      "precision_weighted:0.88\n",
      "recall_weighted:0.86\n",
      "f1_weighted:0.87\n",
      "risk_factor:0.2360\n"
     ]
    }
   ],
   "source": [
    "##SKIP for now##\n",
    "###look into incremental training#\n",
    "#Look into sklearn option to spread work across processors#\n",
    "clf = OneVsRestClassifier(SVC(kernel = 'linear', probability=True))\n",
    "clf.fit(x_train, encoded_y_train)\n",
    "start_time = time.time()\n",
    "y_pre_1 = clf.predict(x_test)\n",
    "elapsed_time = time.time() - start_time\n",
    "print elapsed_time\n",
    "y_pos_1 = clf.predict_proba(x_test)\n",
    "show_test_results(encoded_y_test, y_pre_1, y_pos_1, class_weight)"
   ]
  },
  {
   "cell_type": "code",
   "execution_count": 34,
   "metadata": {},
   "outputs": [],
   "source": [
    "clf_rf = RandomForestClassifier()\n",
    "scores_2 = cross_validate(clf_rf, x_total, encoded_y_total, scoring=scoring,\n",
    "                         cv=5, n_jobs=-1, return_train_score=False, return_estimator=True)"
   ]
  },
  {
   "cell_type": "code",
   "execution_count": 37,
   "metadata": {},
   "outputs": [
    {
     "name": "stdout",
     "output_type": "stream",
     "text": [
      "[]\n",
      "test_precision_weighted:0.86\n",
      "test_recall_weighted:0.70\n",
      "test_f1_weighted:0.73\n",
      "test_precision_micro:0.90\n",
      "test_recall_micro:0.69\n",
      "test_f1_micro:0.78\n"
     ]
    }
   ],
   "source": [
    "scores_table.append(scores_2)\n",
    "scores_table = []\n",
    "print(scores_table)\n",
    "show_results(scores_2)"
   ]
  },
  {
   "cell_type": "code",
   "execution_count": 19,
   "metadata": {},
   "outputs": [
    {
     "name": "stderr",
     "output_type": "stream",
     "text": [
      "/Users/sileshu/anaconda/lib/python2.7/site-packages/sklearn/ensemble/forest.py:246: FutureWarning: The default value of n_estimators will change from 10 in version 0.20 to 100 in 0.22.\n",
      "  \"10 in version 0.20 to 100 in 0.22.\", FutureWarning)\n"
     ]
    },
    {
     "name": "stdout",
     "output_type": "stream",
     "text": [
      "0.104833841324\n",
      "precision_micro:0.90\n",
      "recall_micro:0.71\n",
      "f1_micro:0.79\n",
      "precision_weighted:0.79\n",
      "recall_weighted:0.68\n",
      "f1_weighted:0.70\n",
      "risk_factor:0.4160\n"
     ]
    }
   ],
   "source": [
    "clf_rf = RandomForestClassifier()\n",
    "clf_rf.fit(x_train, encoded_y_train)\n",
    "start_time = time.time()\n",
    "y_pre_2 = clf_rf.predict(x_test)\n",
    "elapsed_time = time.time() - start_time\n",
    "print elapsed_time\n",
    "y_pos_2 = clf_rf.predict_proba(x_test)\n",
    "show_test_results(encoded_y_test, y_pre_2, trans_prob(y_pos_2), class_weight)"
   ]
  },
  {
   "cell_type": "code",
   "execution_count": 24,
   "metadata": {},
   "outputs": [],
   "source": [
    "clf_dt = DecisionTreeClassifier()\n",
    "scores_dt = cross_validate(clf_dt, x_total, encoded_y_total, scoring=scoring,\n",
    "                         cv=5, n_jobs=-1, return_train_score=False, return_estimator=True)\n",
    "\n",
    "#scores_dt_test = clf_dt.score(X_test, y_test)\n",
    "#Why do we use cross validate. \n",
    "#WHy do we gain our score from cross validate on total and not test data???\n"
   ]
  },
  {
   "cell_type": "code",
   "execution_count": 25,
   "metadata": {},
   "outputs": [
    {
     "name": "stdout",
     "output_type": "stream",
     "text": [
      "test_precision_weighted:0.79\n",
      "test_recall_weighted:0.81\n",
      "test_f1_weighted:0.79\n",
      "test_precision_micro:0.81\n",
      "test_recall_micro:0.80\n",
      "test_f1_micro:0.81\n"
     ]
    }
   ],
   "source": [
    "show_results(scores_dt)"
   ]
  },
  {
   "cell_type": "code",
   "execution_count": 26,
   "metadata": {},
   "outputs": [
    {
     "name": "stdout",
     "output_type": "stream",
     "text": [
      "0.00508499145508\n",
      "precision_micro:0.84\n",
      "recall_micro:0.81\n",
      "f1_micro:0.83\n",
      "precision_weighted:0.80\n",
      "recall_weighted:0.80\n",
      "f1_weighted:0.80\n",
      "risk_factor:0.2847\n"
     ]
    }
   ],
   "source": [
    "clf_dt = DecisionTreeClassifier()\n",
    "# Is it accurate to make a new decision tree each time\n",
    "# Is the outcome determinant?? => typically always the same regardless of run times \n",
    "clf_dt.fit(x_train, encoded_y_train)\n",
    "start_time = time.time()\n",
    "y_pre_dt = clf_dt.predict(x_test)\n",
    "elapsed_time = time.time() - start_time\n",
    "print elapsed_time\n",
    "y_pos_dt = clf_dt.predict_proba(x_test)\n",
    "# What does predict_proba do\n",
    "show_test_results(encoded_y_test, y_pre_dt, trans_prob(y_pos_dt), class_weight)"
   ]
  },
  {
   "cell_type": "code",
   "execution_count": null,
   "metadata": {},
   "outputs": [],
   "source": [
    "import numpy as np\n",
    "import matplotlib.pyplot as plt\n",
    "from matplotlib.colors import ListedColormap\n",
    "from sklearn.model_selection import train_test_split\n",
    "from sklearn.preprocessing import StandardScaler\n",
    "from sklearn.datasets import make_moons, make_circles, make_classification\n",
    "\n",
    "X = x_total\n",
    "y = y_total\n",
    "#y= encoded_y_total\n",
    "X_train = x_train\n",
    "X_test = x_test\n",
    "\n",
    "y = encoded_y_train"
   ]
  },
  {
   "cell_type": "code",
   "execution_count": null,
   "metadata": {},
   "outputs": [],
   "source": []
  },
  {
   "cell_type": "code",
   "execution_count": null,
   "metadata": {},
   "outputs": [],
   "source": []
  },
  {
   "cell_type": "code",
   "execution_count": 43,
   "metadata": {},
   "outputs": [
    {
     "data": {
      "application/javascript": [
       "/* Put everything inside the global mpl namespace */\n",
       "window.mpl = {};\n",
       "\n",
       "\n",
       "mpl.get_websocket_type = function() {\n",
       "    if (typeof(WebSocket) !== 'undefined') {\n",
       "        return WebSocket;\n",
       "    } else if (typeof(MozWebSocket) !== 'undefined') {\n",
       "        return MozWebSocket;\n",
       "    } else {\n",
       "        alert('Your browser does not have WebSocket support.' +\n",
       "              'Please try Chrome, Safari or Firefox ≥ 6. ' +\n",
       "              'Firefox 4 and 5 are also supported but you ' +\n",
       "              'have to enable WebSockets in about:config.');\n",
       "    };\n",
       "}\n",
       "\n",
       "mpl.figure = function(figure_id, websocket, ondownload, parent_element) {\n",
       "    this.id = figure_id;\n",
       "\n",
       "    this.ws = websocket;\n",
       "\n",
       "    this.supports_binary = (this.ws.binaryType != undefined);\n",
       "\n",
       "    if (!this.supports_binary) {\n",
       "        var warnings = document.getElementById(\"mpl-warnings\");\n",
       "        if (warnings) {\n",
       "            warnings.style.display = 'block';\n",
       "            warnings.textContent = (\n",
       "                \"This browser does not support binary websocket messages. \" +\n",
       "                    \"Performance may be slow.\");\n",
       "        }\n",
       "    }\n",
       "\n",
       "    this.imageObj = new Image();\n",
       "\n",
       "    this.context = undefined;\n",
       "    this.message = undefined;\n",
       "    this.canvas = undefined;\n",
       "    this.rubberband_canvas = undefined;\n",
       "    this.rubberband_context = undefined;\n",
       "    this.format_dropdown = undefined;\n",
       "\n",
       "    this.image_mode = 'full';\n",
       "\n",
       "    this.root = $('<div/>');\n",
       "    this._root_extra_style(this.root)\n",
       "    this.root.attr('style', 'display: inline-block');\n",
       "\n",
       "    $(parent_element).append(this.root);\n",
       "\n",
       "    this._init_header(this);\n",
       "    this._init_canvas(this);\n",
       "    this._init_toolbar(this);\n",
       "\n",
       "    var fig = this;\n",
       "\n",
       "    this.waiting = false;\n",
       "\n",
       "    this.ws.onopen =  function () {\n",
       "            fig.send_message(\"supports_binary\", {value: fig.supports_binary});\n",
       "            fig.send_message(\"send_image_mode\", {});\n",
       "            if (mpl.ratio != 1) {\n",
       "                fig.send_message(\"set_dpi_ratio\", {'dpi_ratio': mpl.ratio});\n",
       "            }\n",
       "            fig.send_message(\"refresh\", {});\n",
       "        }\n",
       "\n",
       "    this.imageObj.onload = function() {\n",
       "            if (fig.image_mode == 'full') {\n",
       "                // Full images could contain transparency (where diff images\n",
       "                // almost always do), so we need to clear the canvas so that\n",
       "                // there is no ghosting.\n",
       "                fig.context.clearRect(0, 0, fig.canvas.width, fig.canvas.height);\n",
       "            }\n",
       "            fig.context.drawImage(fig.imageObj, 0, 0);\n",
       "        };\n",
       "\n",
       "    this.imageObj.onunload = function() {\n",
       "        fig.ws.close();\n",
       "    }\n",
       "\n",
       "    this.ws.onmessage = this._make_on_message_function(this);\n",
       "\n",
       "    this.ondownload = ondownload;\n",
       "}\n",
       "\n",
       "mpl.figure.prototype._init_header = function() {\n",
       "    var titlebar = $(\n",
       "        '<div class=\"ui-dialog-titlebar ui-widget-header ui-corner-all ' +\n",
       "        'ui-helper-clearfix\"/>');\n",
       "    var titletext = $(\n",
       "        '<div class=\"ui-dialog-title\" style=\"width: 100%; ' +\n",
       "        'text-align: center; padding: 3px;\"/>');\n",
       "    titlebar.append(titletext)\n",
       "    this.root.append(titlebar);\n",
       "    this.header = titletext[0];\n",
       "}\n",
       "\n",
       "\n",
       "\n",
       "mpl.figure.prototype._canvas_extra_style = function(canvas_div) {\n",
       "\n",
       "}\n",
       "\n",
       "\n",
       "mpl.figure.prototype._root_extra_style = function(canvas_div) {\n",
       "\n",
       "}\n",
       "\n",
       "mpl.figure.prototype._init_canvas = function() {\n",
       "    var fig = this;\n",
       "\n",
       "    var canvas_div = $('<div/>');\n",
       "\n",
       "    canvas_div.attr('style', 'position: relative; clear: both; outline: 0');\n",
       "\n",
       "    function canvas_keyboard_event(event) {\n",
       "        return fig.key_event(event, event['data']);\n",
       "    }\n",
       "\n",
       "    canvas_div.keydown('key_press', canvas_keyboard_event);\n",
       "    canvas_div.keyup('key_release', canvas_keyboard_event);\n",
       "    this.canvas_div = canvas_div\n",
       "    this._canvas_extra_style(canvas_div)\n",
       "    this.root.append(canvas_div);\n",
       "\n",
       "    var canvas = $('<canvas/>');\n",
       "    canvas.addClass('mpl-canvas');\n",
       "    canvas.attr('style', \"left: 0; top: 0; z-index: 0; outline: 0\")\n",
       "\n",
       "    this.canvas = canvas[0];\n",
       "    this.context = canvas[0].getContext(\"2d\");\n",
       "\n",
       "    var backingStore = this.context.backingStorePixelRatio ||\n",
       "\tthis.context.webkitBackingStorePixelRatio ||\n",
       "\tthis.context.mozBackingStorePixelRatio ||\n",
       "\tthis.context.msBackingStorePixelRatio ||\n",
       "\tthis.context.oBackingStorePixelRatio ||\n",
       "\tthis.context.backingStorePixelRatio || 1;\n",
       "\n",
       "    mpl.ratio = (window.devicePixelRatio || 1) / backingStore;\n",
       "\n",
       "    var rubberband = $('<canvas/>');\n",
       "    rubberband.attr('style', \"position: absolute; left: 0; top: 0; z-index: 1;\")\n",
       "\n",
       "    var pass_mouse_events = true;\n",
       "\n",
       "    canvas_div.resizable({\n",
       "        start: function(event, ui) {\n",
       "            pass_mouse_events = false;\n",
       "        },\n",
       "        resize: function(event, ui) {\n",
       "            fig.request_resize(ui.size.width, ui.size.height);\n",
       "        },\n",
       "        stop: function(event, ui) {\n",
       "            pass_mouse_events = true;\n",
       "            fig.request_resize(ui.size.width, ui.size.height);\n",
       "        },\n",
       "    });\n",
       "\n",
       "    function mouse_event_fn(event) {\n",
       "        if (pass_mouse_events)\n",
       "            return fig.mouse_event(event, event['data']);\n",
       "    }\n",
       "\n",
       "    rubberband.mousedown('button_press', mouse_event_fn);\n",
       "    rubberband.mouseup('button_release', mouse_event_fn);\n",
       "    // Throttle sequential mouse events to 1 every 20ms.\n",
       "    rubberband.mousemove('motion_notify', mouse_event_fn);\n",
       "\n",
       "    rubberband.mouseenter('figure_enter', mouse_event_fn);\n",
       "    rubberband.mouseleave('figure_leave', mouse_event_fn);\n",
       "\n",
       "    canvas_div.on(\"wheel\", function (event) {\n",
       "        event = event.originalEvent;\n",
       "        event['data'] = 'scroll'\n",
       "        if (event.deltaY < 0) {\n",
       "            event.step = 1;\n",
       "        } else {\n",
       "            event.step = -1;\n",
       "        }\n",
       "        mouse_event_fn(event);\n",
       "    });\n",
       "\n",
       "    canvas_div.append(canvas);\n",
       "    canvas_div.append(rubberband);\n",
       "\n",
       "    this.rubberband = rubberband;\n",
       "    this.rubberband_canvas = rubberband[0];\n",
       "    this.rubberband_context = rubberband[0].getContext(\"2d\");\n",
       "    this.rubberband_context.strokeStyle = \"#000000\";\n",
       "\n",
       "    this._resize_canvas = function(width, height) {\n",
       "        // Keep the size of the canvas, canvas container, and rubber band\n",
       "        // canvas in synch.\n",
       "        canvas_div.css('width', width)\n",
       "        canvas_div.css('height', height)\n",
       "\n",
       "        canvas.attr('width', width * mpl.ratio);\n",
       "        canvas.attr('height', height * mpl.ratio);\n",
       "        canvas.attr('style', 'width: ' + width + 'px; height: ' + height + 'px;');\n",
       "\n",
       "        rubberband.attr('width', width);\n",
       "        rubberband.attr('height', height);\n",
       "    }\n",
       "\n",
       "    // Set the figure to an initial 600x600px, this will subsequently be updated\n",
       "    // upon first draw.\n",
       "    this._resize_canvas(600, 600);\n",
       "\n",
       "    // Disable right mouse context menu.\n",
       "    $(this.rubberband_canvas).bind(\"contextmenu\",function(e){\n",
       "        return false;\n",
       "    });\n",
       "\n",
       "    function set_focus () {\n",
       "        canvas.focus();\n",
       "        canvas_div.focus();\n",
       "    }\n",
       "\n",
       "    window.setTimeout(set_focus, 100);\n",
       "}\n",
       "\n",
       "mpl.figure.prototype._init_toolbar = function() {\n",
       "    var fig = this;\n",
       "\n",
       "    var nav_element = $('<div/>')\n",
       "    nav_element.attr('style', 'width: 100%');\n",
       "    this.root.append(nav_element);\n",
       "\n",
       "    // Define a callback function for later on.\n",
       "    function toolbar_event(event) {\n",
       "        return fig.toolbar_button_onclick(event['data']);\n",
       "    }\n",
       "    function toolbar_mouse_event(event) {\n",
       "        return fig.toolbar_button_onmouseover(event['data']);\n",
       "    }\n",
       "\n",
       "    for(var toolbar_ind in mpl.toolbar_items) {\n",
       "        var name = mpl.toolbar_items[toolbar_ind][0];\n",
       "        var tooltip = mpl.toolbar_items[toolbar_ind][1];\n",
       "        var image = mpl.toolbar_items[toolbar_ind][2];\n",
       "        var method_name = mpl.toolbar_items[toolbar_ind][3];\n",
       "\n",
       "        if (!name) {\n",
       "            // put a spacer in here.\n",
       "            continue;\n",
       "        }\n",
       "        var button = $('<button/>');\n",
       "        button.addClass('ui-button ui-widget ui-state-default ui-corner-all ' +\n",
       "                        'ui-button-icon-only');\n",
       "        button.attr('role', 'button');\n",
       "        button.attr('aria-disabled', 'false');\n",
       "        button.click(method_name, toolbar_event);\n",
       "        button.mouseover(tooltip, toolbar_mouse_event);\n",
       "\n",
       "        var icon_img = $('<span/>');\n",
       "        icon_img.addClass('ui-button-icon-primary ui-icon');\n",
       "        icon_img.addClass(image);\n",
       "        icon_img.addClass('ui-corner-all');\n",
       "\n",
       "        var tooltip_span = $('<span/>');\n",
       "        tooltip_span.addClass('ui-button-text');\n",
       "        tooltip_span.html(tooltip);\n",
       "\n",
       "        button.append(icon_img);\n",
       "        button.append(tooltip_span);\n",
       "\n",
       "        nav_element.append(button);\n",
       "    }\n",
       "\n",
       "    var fmt_picker_span = $('<span/>');\n",
       "\n",
       "    var fmt_picker = $('<select/>');\n",
       "    fmt_picker.addClass('mpl-toolbar-option ui-widget ui-widget-content');\n",
       "    fmt_picker_span.append(fmt_picker);\n",
       "    nav_element.append(fmt_picker_span);\n",
       "    this.format_dropdown = fmt_picker[0];\n",
       "\n",
       "    for (var ind in mpl.extensions) {\n",
       "        var fmt = mpl.extensions[ind];\n",
       "        var option = $(\n",
       "            '<option/>', {selected: fmt === mpl.default_extension}).html(fmt);\n",
       "        fmt_picker.append(option)\n",
       "    }\n",
       "\n",
       "    // Add hover states to the ui-buttons\n",
       "    $( \".ui-button\" ).hover(\n",
       "        function() { $(this).addClass(\"ui-state-hover\");},\n",
       "        function() { $(this).removeClass(\"ui-state-hover\");}\n",
       "    );\n",
       "\n",
       "    var status_bar = $('<span class=\"mpl-message\"/>');\n",
       "    nav_element.append(status_bar);\n",
       "    this.message = status_bar[0];\n",
       "}\n",
       "\n",
       "mpl.figure.prototype.request_resize = function(x_pixels, y_pixels) {\n",
       "    // Request matplotlib to resize the figure. Matplotlib will then trigger a resize in the client,\n",
       "    // which will in turn request a refresh of the image.\n",
       "    this.send_message('resize', {'width': x_pixels, 'height': y_pixels});\n",
       "}\n",
       "\n",
       "mpl.figure.prototype.send_message = function(type, properties) {\n",
       "    properties['type'] = type;\n",
       "    properties['figure_id'] = this.id;\n",
       "    this.ws.send(JSON.stringify(properties));\n",
       "}\n",
       "\n",
       "mpl.figure.prototype.send_draw_message = function() {\n",
       "    if (!this.waiting) {\n",
       "        this.waiting = true;\n",
       "        this.ws.send(JSON.stringify({type: \"draw\", figure_id: this.id}));\n",
       "    }\n",
       "}\n",
       "\n",
       "\n",
       "mpl.figure.prototype.handle_save = function(fig, msg) {\n",
       "    var format_dropdown = fig.format_dropdown;\n",
       "    var format = format_dropdown.options[format_dropdown.selectedIndex].value;\n",
       "    fig.ondownload(fig, format);\n",
       "}\n",
       "\n",
       "\n",
       "mpl.figure.prototype.handle_resize = function(fig, msg) {\n",
       "    var size = msg['size'];\n",
       "    if (size[0] != fig.canvas.width || size[1] != fig.canvas.height) {\n",
       "        fig._resize_canvas(size[0], size[1]);\n",
       "        fig.send_message(\"refresh\", {});\n",
       "    };\n",
       "}\n",
       "\n",
       "mpl.figure.prototype.handle_rubberband = function(fig, msg) {\n",
       "    var x0 = msg['x0'] / mpl.ratio;\n",
       "    var y0 = (fig.canvas.height - msg['y0']) / mpl.ratio;\n",
       "    var x1 = msg['x1'] / mpl.ratio;\n",
       "    var y1 = (fig.canvas.height - msg['y1']) / mpl.ratio;\n",
       "    x0 = Math.floor(x0) + 0.5;\n",
       "    y0 = Math.floor(y0) + 0.5;\n",
       "    x1 = Math.floor(x1) + 0.5;\n",
       "    y1 = Math.floor(y1) + 0.5;\n",
       "    var min_x = Math.min(x0, x1);\n",
       "    var min_y = Math.min(y0, y1);\n",
       "    var width = Math.abs(x1 - x0);\n",
       "    var height = Math.abs(y1 - y0);\n",
       "\n",
       "    fig.rubberband_context.clearRect(\n",
       "        0, 0, fig.canvas.width, fig.canvas.height);\n",
       "\n",
       "    fig.rubberband_context.strokeRect(min_x, min_y, width, height);\n",
       "}\n",
       "\n",
       "mpl.figure.prototype.handle_figure_label = function(fig, msg) {\n",
       "    // Updates the figure title.\n",
       "    fig.header.textContent = msg['label'];\n",
       "}\n",
       "\n",
       "mpl.figure.prototype.handle_cursor = function(fig, msg) {\n",
       "    var cursor = msg['cursor'];\n",
       "    switch(cursor)\n",
       "    {\n",
       "    case 0:\n",
       "        cursor = 'pointer';\n",
       "        break;\n",
       "    case 1:\n",
       "        cursor = 'default';\n",
       "        break;\n",
       "    case 2:\n",
       "        cursor = 'crosshair';\n",
       "        break;\n",
       "    case 3:\n",
       "        cursor = 'move';\n",
       "        break;\n",
       "    }\n",
       "    fig.rubberband_canvas.style.cursor = cursor;\n",
       "}\n",
       "\n",
       "mpl.figure.prototype.handle_message = function(fig, msg) {\n",
       "    fig.message.textContent = msg['message'];\n",
       "}\n",
       "\n",
       "mpl.figure.prototype.handle_draw = function(fig, msg) {\n",
       "    // Request the server to send over a new figure.\n",
       "    fig.send_draw_message();\n",
       "}\n",
       "\n",
       "mpl.figure.prototype.handle_image_mode = function(fig, msg) {\n",
       "    fig.image_mode = msg['mode'];\n",
       "}\n",
       "\n",
       "mpl.figure.prototype.updated_canvas_event = function() {\n",
       "    // Called whenever the canvas gets updated.\n",
       "    this.send_message(\"ack\", {});\n",
       "}\n",
       "\n",
       "// A function to construct a web socket function for onmessage handling.\n",
       "// Called in the figure constructor.\n",
       "mpl.figure.prototype._make_on_message_function = function(fig) {\n",
       "    return function socket_on_message(evt) {\n",
       "        if (evt.data instanceof Blob) {\n",
       "            /* FIXME: We get \"Resource interpreted as Image but\n",
       "             * transferred with MIME type text/plain:\" errors on\n",
       "             * Chrome.  But how to set the MIME type?  It doesn't seem\n",
       "             * to be part of the websocket stream */\n",
       "            evt.data.type = \"image/png\";\n",
       "\n",
       "            /* Free the memory for the previous frames */\n",
       "            if (fig.imageObj.src) {\n",
       "                (window.URL || window.webkitURL).revokeObjectURL(\n",
       "                    fig.imageObj.src);\n",
       "            }\n",
       "\n",
       "            fig.imageObj.src = (window.URL || window.webkitURL).createObjectURL(\n",
       "                evt.data);\n",
       "            fig.updated_canvas_event();\n",
       "            fig.waiting = false;\n",
       "            return;\n",
       "        }\n",
       "        else if (typeof evt.data === 'string' && evt.data.slice(0, 21) == \"data:image/png;base64\") {\n",
       "            fig.imageObj.src = evt.data;\n",
       "            fig.updated_canvas_event();\n",
       "            fig.waiting = false;\n",
       "            return;\n",
       "        }\n",
       "\n",
       "        var msg = JSON.parse(evt.data);\n",
       "        var msg_type = msg['type'];\n",
       "\n",
       "        // Call the  \"handle_{type}\" callback, which takes\n",
       "        // the figure and JSON message as its only arguments.\n",
       "        try {\n",
       "            var callback = fig[\"handle_\" + msg_type];\n",
       "        } catch (e) {\n",
       "            console.log(\"No handler for the '\" + msg_type + \"' message type: \", msg);\n",
       "            return;\n",
       "        }\n",
       "\n",
       "        if (callback) {\n",
       "            try {\n",
       "                // console.log(\"Handling '\" + msg_type + \"' message: \", msg);\n",
       "                callback(fig, msg);\n",
       "            } catch (e) {\n",
       "                console.log(\"Exception inside the 'handler_\" + msg_type + \"' callback:\", e, e.stack, msg);\n",
       "            }\n",
       "        }\n",
       "    };\n",
       "}\n",
       "\n",
       "// from http://stackoverflow.com/questions/1114465/getting-mouse-location-in-canvas\n",
       "mpl.findpos = function(e) {\n",
       "    //this section is from http://www.quirksmode.org/js/events_properties.html\n",
       "    var targ;\n",
       "    if (!e)\n",
       "        e = window.event;\n",
       "    if (e.target)\n",
       "        targ = e.target;\n",
       "    else if (e.srcElement)\n",
       "        targ = e.srcElement;\n",
       "    if (targ.nodeType == 3) // defeat Safari bug\n",
       "        targ = targ.parentNode;\n",
       "\n",
       "    // jQuery normalizes the pageX and pageY\n",
       "    // pageX,Y are the mouse positions relative to the document\n",
       "    // offset() returns the position of the element relative to the document\n",
       "    var x = e.pageX - $(targ).offset().left;\n",
       "    var y = e.pageY - $(targ).offset().top;\n",
       "\n",
       "    return {\"x\": x, \"y\": y};\n",
       "};\n",
       "\n",
       "/*\n",
       " * return a copy of an object with only non-object keys\n",
       " * we need this to avoid circular references\n",
       " * http://stackoverflow.com/a/24161582/3208463\n",
       " */\n",
       "function simpleKeys (original) {\n",
       "  return Object.keys(original).reduce(function (obj, key) {\n",
       "    if (typeof original[key] !== 'object')\n",
       "        obj[key] = original[key]\n",
       "    return obj;\n",
       "  }, {});\n",
       "}\n",
       "\n",
       "mpl.figure.prototype.mouse_event = function(event, name) {\n",
       "    var canvas_pos = mpl.findpos(event)\n",
       "\n",
       "    if (name === 'button_press')\n",
       "    {\n",
       "        this.canvas.focus();\n",
       "        this.canvas_div.focus();\n",
       "    }\n",
       "\n",
       "    var x = canvas_pos.x * mpl.ratio;\n",
       "    var y = canvas_pos.y * mpl.ratio;\n",
       "\n",
       "    this.send_message(name, {x: x, y: y, button: event.button,\n",
       "                             step: event.step,\n",
       "                             guiEvent: simpleKeys(event)});\n",
       "\n",
       "    /* This prevents the web browser from automatically changing to\n",
       "     * the text insertion cursor when the button is pressed.  We want\n",
       "     * to control all of the cursor setting manually through the\n",
       "     * 'cursor' event from matplotlib */\n",
       "    event.preventDefault();\n",
       "    return false;\n",
       "}\n",
       "\n",
       "mpl.figure.prototype._key_event_extra = function(event, name) {\n",
       "    // Handle any extra behaviour associated with a key event\n",
       "}\n",
       "\n",
       "mpl.figure.prototype.key_event = function(event, name) {\n",
       "\n",
       "    // Prevent repeat events\n",
       "    if (name == 'key_press')\n",
       "    {\n",
       "        if (event.which === this._key)\n",
       "            return;\n",
       "        else\n",
       "            this._key = event.which;\n",
       "    }\n",
       "    if (name == 'key_release')\n",
       "        this._key = null;\n",
       "\n",
       "    var value = '';\n",
       "    if (event.ctrlKey && event.which != 17)\n",
       "        value += \"ctrl+\";\n",
       "    if (event.altKey && event.which != 18)\n",
       "        value += \"alt+\";\n",
       "    if (event.shiftKey && event.which != 16)\n",
       "        value += \"shift+\";\n",
       "\n",
       "    value += 'k';\n",
       "    value += event.which.toString();\n",
       "\n",
       "    this._key_event_extra(event, name);\n",
       "\n",
       "    this.send_message(name, {key: value,\n",
       "                             guiEvent: simpleKeys(event)});\n",
       "    return false;\n",
       "}\n",
       "\n",
       "mpl.figure.prototype.toolbar_button_onclick = function(name) {\n",
       "    if (name == 'download') {\n",
       "        this.handle_save(this, null);\n",
       "    } else {\n",
       "        this.send_message(\"toolbar_button\", {name: name});\n",
       "    }\n",
       "};\n",
       "\n",
       "mpl.figure.prototype.toolbar_button_onmouseover = function(tooltip) {\n",
       "    this.message.textContent = tooltip;\n",
       "};\n",
       "mpl.toolbar_items = [[\"Home\", \"Reset original view\", \"fa fa-home icon-home\", \"home\"], [\"Back\", \"Back to  previous view\", \"fa fa-arrow-left icon-arrow-left\", \"back\"], [\"Forward\", \"Forward to next view\", \"fa fa-arrow-right icon-arrow-right\", \"forward\"], [\"\", \"\", \"\", \"\"], [\"Pan\", \"Pan axes with left mouse, zoom with right\", \"fa fa-arrows icon-move\", \"pan\"], [\"Zoom\", \"Zoom to rectangle\", \"fa fa-square-o icon-check-empty\", \"zoom\"], [\"\", \"\", \"\", \"\"], [\"Download\", \"Download plot\", \"fa fa-floppy-o icon-save\", \"download\"]];\n",
       "\n",
       "mpl.extensions = [\"eps\", \"pdf\", \"png\", \"ps\", \"raw\", \"svg\"];\n",
       "\n",
       "mpl.default_extension = \"png\";var comm_websocket_adapter = function(comm) {\n",
       "    // Create a \"websocket\"-like object which calls the given IPython comm\n",
       "    // object with the appropriate methods. Currently this is a non binary\n",
       "    // socket, so there is still some room for performance tuning.\n",
       "    var ws = {};\n",
       "\n",
       "    ws.close = function() {\n",
       "        comm.close()\n",
       "    };\n",
       "    ws.send = function(m) {\n",
       "        //console.log('sending', m);\n",
       "        comm.send(m);\n",
       "    };\n",
       "    // Register the callback with on_msg.\n",
       "    comm.on_msg(function(msg) {\n",
       "        //console.log('receiving', msg['content']['data'], msg);\n",
       "        // Pass the mpl event to the overridden (by mpl) onmessage function.\n",
       "        ws.onmessage(msg['content']['data'])\n",
       "    });\n",
       "    return ws;\n",
       "}\n",
       "\n",
       "mpl.mpl_figure_comm = function(comm, msg) {\n",
       "    // This is the function which gets called when the mpl process\n",
       "    // starts-up an IPython Comm through the \"matplotlib\" channel.\n",
       "\n",
       "    var id = msg.content.data.id;\n",
       "    // Get hold of the div created by the display call when the Comm\n",
       "    // socket was opened in Python.\n",
       "    var element = $(\"#\" + id);\n",
       "    var ws_proxy = comm_websocket_adapter(comm)\n",
       "\n",
       "    function ondownload(figure, format) {\n",
       "        window.open(figure.imageObj.src);\n",
       "    }\n",
       "\n",
       "    var fig = new mpl.figure(id, ws_proxy,\n",
       "                           ondownload,\n",
       "                           element.get(0));\n",
       "\n",
       "    // Call onopen now - mpl needs it, as it is assuming we've passed it a real\n",
       "    // web socket which is closed, not our websocket->open comm proxy.\n",
       "    ws_proxy.onopen();\n",
       "\n",
       "    fig.parent_element = element.get(0);\n",
       "    fig.cell_info = mpl.find_output_cell(\"<div id='\" + id + \"'></div>\");\n",
       "    if (!fig.cell_info) {\n",
       "        console.error(\"Failed to find cell for figure\", id, fig);\n",
       "        return;\n",
       "    }\n",
       "\n",
       "    var output_index = fig.cell_info[2]\n",
       "    var cell = fig.cell_info[0];\n",
       "\n",
       "};\n",
       "\n",
       "mpl.figure.prototype.handle_close = function(fig, msg) {\n",
       "    var width = fig.canvas.width/mpl.ratio\n",
       "    fig.root.unbind('remove')\n",
       "\n",
       "    // Update the output cell to use the data from the current canvas.\n",
       "    fig.push_to_output();\n",
       "    var dataURL = fig.canvas.toDataURL();\n",
       "    // Re-enable the keyboard manager in IPython - without this line, in FF,\n",
       "    // the notebook keyboard shortcuts fail.\n",
       "    IPython.keyboard_manager.enable()\n",
       "    $(fig.parent_element).html('<img src=\"' + dataURL + '\" width=\"' + width + '\">');\n",
       "    fig.close_ws(fig, msg);\n",
       "}\n",
       "\n",
       "mpl.figure.prototype.close_ws = function(fig, msg){\n",
       "    fig.send_message('closing', msg);\n",
       "    // fig.ws.close()\n",
       "}\n",
       "\n",
       "mpl.figure.prototype.push_to_output = function(remove_interactive) {\n",
       "    // Turn the data on the canvas into data in the output cell.\n",
       "    var width = this.canvas.width/mpl.ratio\n",
       "    var dataURL = this.canvas.toDataURL();\n",
       "    this.cell_info[1]['text/html'] = '<img src=\"' + dataURL + '\" width=\"' + width + '\">';\n",
       "}\n",
       "\n",
       "mpl.figure.prototype.updated_canvas_event = function() {\n",
       "    // Tell IPython that the notebook contents must change.\n",
       "    IPython.notebook.set_dirty(true);\n",
       "    this.send_message(\"ack\", {});\n",
       "    var fig = this;\n",
       "    // Wait a second, then push the new image to the DOM so\n",
       "    // that it is saved nicely (might be nice to debounce this).\n",
       "    setTimeout(function () { fig.push_to_output() }, 1000);\n",
       "}\n",
       "\n",
       "mpl.figure.prototype._init_toolbar = function() {\n",
       "    var fig = this;\n",
       "\n",
       "    var nav_element = $('<div/>')\n",
       "    nav_element.attr('style', 'width: 100%');\n",
       "    this.root.append(nav_element);\n",
       "\n",
       "    // Define a callback function for later on.\n",
       "    function toolbar_event(event) {\n",
       "        return fig.toolbar_button_onclick(event['data']);\n",
       "    }\n",
       "    function toolbar_mouse_event(event) {\n",
       "        return fig.toolbar_button_onmouseover(event['data']);\n",
       "    }\n",
       "\n",
       "    for(var toolbar_ind in mpl.toolbar_items){\n",
       "        var name = mpl.toolbar_items[toolbar_ind][0];\n",
       "        var tooltip = mpl.toolbar_items[toolbar_ind][1];\n",
       "        var image = mpl.toolbar_items[toolbar_ind][2];\n",
       "        var method_name = mpl.toolbar_items[toolbar_ind][3];\n",
       "\n",
       "        if (!name) { continue; };\n",
       "\n",
       "        var button = $('<button class=\"btn btn-default\" href=\"#\" title=\"' + name + '\"><i class=\"fa ' + image + ' fa-lg\"></i></button>');\n",
       "        button.click(method_name, toolbar_event);\n",
       "        button.mouseover(tooltip, toolbar_mouse_event);\n",
       "        nav_element.append(button);\n",
       "    }\n",
       "\n",
       "    // Add the status bar.\n",
       "    var status_bar = $('<span class=\"mpl-message\" style=\"text-align:right; float: right;\"/>');\n",
       "    nav_element.append(status_bar);\n",
       "    this.message = status_bar[0];\n",
       "\n",
       "    // Add the close button to the window.\n",
       "    var buttongrp = $('<div class=\"btn-group inline pull-right\"></div>');\n",
       "    var button = $('<button class=\"btn btn-mini btn-primary\" href=\"#\" title=\"Stop Interaction\"><i class=\"fa fa-power-off icon-remove icon-large\"></i></button>');\n",
       "    button.click(function (evt) { fig.handle_close(fig, {}); } );\n",
       "    button.mouseover('Stop Interaction', toolbar_mouse_event);\n",
       "    buttongrp.append(button);\n",
       "    var titlebar = this.root.find($('.ui-dialog-titlebar'));\n",
       "    titlebar.prepend(buttongrp);\n",
       "}\n",
       "\n",
       "mpl.figure.prototype._root_extra_style = function(el){\n",
       "    var fig = this\n",
       "    el.on(\"remove\", function(){\n",
       "\tfig.close_ws(fig, {});\n",
       "    });\n",
       "}\n",
       "\n",
       "mpl.figure.prototype._canvas_extra_style = function(el){\n",
       "    // this is important to make the div 'focusable\n",
       "    el.attr('tabindex', 0)\n",
       "    // reach out to IPython and tell the keyboard manager to turn it's self\n",
       "    // off when our div gets focus\n",
       "\n",
       "    // location in version 3\n",
       "    if (IPython.notebook.keyboard_manager) {\n",
       "        IPython.notebook.keyboard_manager.register_events(el);\n",
       "    }\n",
       "    else {\n",
       "        // location in version 2\n",
       "        IPython.keyboard_manager.register_events(el);\n",
       "    }\n",
       "\n",
       "}\n",
       "\n",
       "mpl.figure.prototype._key_event_extra = function(event, name) {\n",
       "    var manager = IPython.notebook.keyboard_manager;\n",
       "    if (!manager)\n",
       "        manager = IPython.keyboard_manager;\n",
       "\n",
       "    // Check for shift+enter\n",
       "    if (event.shiftKey && event.which == 13) {\n",
       "        this.canvas_div.blur();\n",
       "        // select the cell after this one\n",
       "        var index = IPython.notebook.find_cell_index(this.cell_info[0]);\n",
       "        IPython.notebook.select(index + 1);\n",
       "    }\n",
       "}\n",
       "\n",
       "mpl.figure.prototype.handle_save = function(fig, msg) {\n",
       "    fig.ondownload(fig, null);\n",
       "}\n",
       "\n",
       "\n",
       "mpl.find_output_cell = function(html_output) {\n",
       "    // Return the cell and output element which can be found *uniquely* in the notebook.\n",
       "    // Note - this is a bit hacky, but it is done because the \"notebook_saving.Notebook\"\n",
       "    // IPython event is triggered only after the cells have been serialised, which for\n",
       "    // our purposes (turning an active figure into a static one), is too late.\n",
       "    var cells = IPython.notebook.get_cells();\n",
       "    var ncells = cells.length;\n",
       "    for (var i=0; i<ncells; i++) {\n",
       "        var cell = cells[i];\n",
       "        if (cell.cell_type === 'code'){\n",
       "            for (var j=0; j<cell.output_area.outputs.length; j++) {\n",
       "                var data = cell.output_area.outputs[j];\n",
       "                if (data.data) {\n",
       "                    // IPython >= 3 moved mimebundle to data attribute of output\n",
       "                    data = data.data;\n",
       "                }\n",
       "                if (data['text/html'] == html_output) {\n",
       "                    return [cell, data, j];\n",
       "                }\n",
       "            }\n",
       "        }\n",
       "    }\n",
       "}\n",
       "\n",
       "// Register the function which deals with the matplotlib target/channel.\n",
       "// The kernel may be null if the page has been refreshed.\n",
       "if (IPython.notebook.kernel != null) {\n",
       "    IPython.notebook.kernel.comm_manager.register_target('matplotlib', mpl.mpl_figure_comm);\n",
       "}\n"
      ],
      "text/plain": [
       "<IPython.core.display.Javascript object>"
      ]
     },
     "metadata": {},
     "output_type": "display_data"
    },
    {
     "data": {
      "text/html": [
       "<div id='41a405c4-cb9b-4483-bf7c-d1fbafa53466'></div>"
      ],
      "text/plain": [
       "<IPython.core.display.HTML object>"
      ]
     },
     "metadata": {},
     "output_type": "display_data"
    },
    {
     "ename": "AttributeError",
     "evalue": "'list' object has no attribute 'shape'",
     "output_type": "error",
     "traceback": [
      "\u001b[0;31m---------------------------------------------------------------------------\u001b[0m",
      "\u001b[0;31mAttributeError\u001b[0m                            Traceback (most recent call last)",
      "\u001b[0;32m<ipython-input-43-b16e22a5d4d6>\u001b[0m in \u001b[0;36m<module>\u001b[0;34m()\u001b[0m\n\u001b[1;32m     47\u001b[0m \u001b[0;31m#    ax.set_title(\"Input data\")\u001b[0m\u001b[0;34m\u001b[0m\u001b[0;34m\u001b[0m\u001b[0m\n\u001b[1;32m     48\u001b[0m \u001b[0;31m# Plot the training points\u001b[0m\u001b[0;34m\u001b[0m\u001b[0;34m\u001b[0m\u001b[0m\n\u001b[0;32m---> 49\u001b[0;31m \u001b[0max\u001b[0m\u001b[0;34m.\u001b[0m\u001b[0mscatter\u001b[0m\u001b[0;34m(\u001b[0m\u001b[0mX_train\u001b[0m\u001b[0;34m[\u001b[0m\u001b[0;34m:\u001b[0m\u001b[0;34m,\u001b[0m \u001b[0;36m0\u001b[0m\u001b[0;34m]\u001b[0m\u001b[0;34m,\u001b[0m \u001b[0mX_train\u001b[0m\u001b[0;34m[\u001b[0m\u001b[0;34m:\u001b[0m\u001b[0;34m,\u001b[0m \u001b[0;36m1\u001b[0m\u001b[0;34m]\u001b[0m\u001b[0;34m,\u001b[0m \u001b[0mc\u001b[0m\u001b[0;34m=\u001b[0m\u001b[0my_train\u001b[0m\u001b[0;34m,\u001b[0m \u001b[0mcmap\u001b[0m\u001b[0;34m=\u001b[0m\u001b[0mcm_bright\u001b[0m\u001b[0;34m,\u001b[0m \u001b[0medgecolors\u001b[0m\u001b[0;34m=\u001b[0m\u001b[0;34m'k'\u001b[0m\u001b[0;34m)\u001b[0m\u001b[0;34m\u001b[0m\u001b[0m\n\u001b[0m\u001b[1;32m     50\u001b[0m \u001b[0;31m# Plot the testing points\u001b[0m\u001b[0;34m\u001b[0m\u001b[0;34m\u001b[0m\u001b[0m\n\u001b[1;32m     51\u001b[0m \u001b[0max\u001b[0m\u001b[0;34m.\u001b[0m\u001b[0mscatter\u001b[0m\u001b[0;34m(\u001b[0m\u001b[0mX_test\u001b[0m\u001b[0;34m[\u001b[0m\u001b[0;34m:\u001b[0m\u001b[0;34m,\u001b[0m \u001b[0;36m0\u001b[0m\u001b[0;34m]\u001b[0m\u001b[0;34m,\u001b[0m \u001b[0mX_test\u001b[0m\u001b[0;34m[\u001b[0m\u001b[0;34m:\u001b[0m\u001b[0;34m,\u001b[0m \u001b[0;36m1\u001b[0m\u001b[0;34m]\u001b[0m\u001b[0;34m,\u001b[0m \u001b[0mc\u001b[0m\u001b[0;34m=\u001b[0m\u001b[0my_test\u001b[0m\u001b[0;34m,\u001b[0m \u001b[0mcmap\u001b[0m\u001b[0;34m=\u001b[0m\u001b[0mcm_bright\u001b[0m\u001b[0;34m,\u001b[0m \u001b[0malpha\u001b[0m\u001b[0;34m=\u001b[0m\u001b[0;36m0.6\u001b[0m\u001b[0;34m,\u001b[0m\u001b[0medgecolors\u001b[0m\u001b[0;34m=\u001b[0m\u001b[0;34m'k'\u001b[0m\u001b[0;34m)\u001b[0m\u001b[0;34m\u001b[0m\u001b[0m\n",
      "\u001b[0;32m/home/tay/anaconda3/envs/py2_NIST/lib/python2.7/site-packages/matplotlib/__init__.pyc\u001b[0m in \u001b[0;36minner\u001b[0;34m(ax, *args, **kwargs)\u001b[0m\n\u001b[1;32m   1868\u001b[0m                         \u001b[0;34m\"the Matplotlib list!)\"\u001b[0m \u001b[0;34m%\u001b[0m \u001b[0;34m(\u001b[0m\u001b[0mlabel_namer\u001b[0m\u001b[0;34m,\u001b[0m \u001b[0mfunc\u001b[0m\u001b[0;34m.\u001b[0m\u001b[0m__name__\u001b[0m\u001b[0;34m)\u001b[0m\u001b[0;34m,\u001b[0m\u001b[0;34m\u001b[0m\u001b[0m\n\u001b[1;32m   1869\u001b[0m                         RuntimeWarning, stacklevel=2)\n\u001b[0;32m-> 1870\u001b[0;31m             \u001b[0;32mreturn\u001b[0m \u001b[0mfunc\u001b[0m\u001b[0;34m(\u001b[0m\u001b[0max\u001b[0m\u001b[0;34m,\u001b[0m \u001b[0;34m*\u001b[0m\u001b[0margs\u001b[0m\u001b[0;34m,\u001b[0m \u001b[0;34m**\u001b[0m\u001b[0mkwargs\u001b[0m\u001b[0;34m)\u001b[0m\u001b[0;34m\u001b[0m\u001b[0m\n\u001b[0m\u001b[1;32m   1871\u001b[0m \u001b[0;34m\u001b[0m\u001b[0m\n\u001b[1;32m   1872\u001b[0m         inner.__doc__ = _add_data_doc(inner.__doc__,\n",
      "\u001b[0;32m/home/tay/anaconda3/envs/py2_NIST/lib/python2.7/site-packages/matplotlib/axes/_axes.pyc\u001b[0m in \u001b[0;36mscatter\u001b[0;34m(self, x, y, s, c, marker, cmap, norm, vmin, vmax, alpha, linewidths, verts, edgecolors, **kwargs)\u001b[0m\n\u001b[1;32m   4291\u001b[0m                 raise ValueError(\"c of shape {} not acceptable as a color \"\n\u001b[1;32m   4292\u001b[0m                                  \u001b[0;34m\"sequence for x with size {}, y with size {}\"\u001b[0m\u001b[0;34m\u001b[0m\u001b[0m\n\u001b[0;32m-> 4293\u001b[0;31m                                  .format(c.shape, x.size, y.size))\n\u001b[0m\u001b[1;32m   4294\u001b[0m         \u001b[0;32melse\u001b[0m\u001b[0;34m:\u001b[0m\u001b[0;34m\u001b[0m\u001b[0m\n\u001b[1;32m   4295\u001b[0m             \u001b[0mcolors\u001b[0m \u001b[0;34m=\u001b[0m \u001b[0mNone\u001b[0m  \u001b[0;31m# use cmap, norm after collection is created\u001b[0m\u001b[0;34m\u001b[0m\u001b[0m\n",
      "\u001b[0;31mAttributeError\u001b[0m: 'list' object has no attribute 'shape'"
     ]
    }
   ],
   "source": [
    "\n",
    "import numpy as np\n",
    "import matplotlib.pyplot as plt\n",
    "from matplotlib.colors import ListedColormap\n",
    "from sklearn.model_selection import train_test_split\n",
    "from sklearn.preprocessing import StandardScaler\n",
    "from sklearn.datasets import make_moons, make_circles, make_classification\n",
    "from sklearn.neural_network import MLPClassifier\n",
    "from sklearn.neighbors import KNeighborsClassifier\n",
    "from sklearn.svm import SVC\n",
    "from sklearn.gaussian_process import GaussianProcessClassifier\n",
    "from sklearn.gaussian_process.kernels import RBF\n",
    "from sklearn.tree import DecisionTreeClassifier\n",
    "from sklearn.ensemble import RandomForestClassifier, AdaBoostClassifier\n",
    "from sklearn.naive_bayes import GaussianNB\n",
    "from sklearn.discriminant_analysis import QuadraticDiscriminantAnalysis\n",
    "\n",
    "\n",
    "import numpy as np\n",
    "import matplotlib.pyplot as plt\n",
    "from matplotlib.colors import ListedColormap\n",
    "from sklearn.model_selection import train_test_split\n",
    "from sklearn.preprocessing import StandardScaler\n",
    "from sklearn.datasets import make_moons, make_circles, make_classification\n",
    "\n",
    "h = .02  # step size in the mesh\n",
    "\n",
    "X = x_total\n",
    "y = y_total\n",
    "#y= encoded_y_total\n",
    "X_train = x_train\n",
    "X_test = x_test\n",
    "i = 1\n",
    "\n",
    "\n",
    "x_min, x_max = X[:, 0].min() - .5, X[:, 0].max() + .5\n",
    "y_min, y_max = X[:, 1].min() - .5, X[:, 1].max() + .5\n",
    "xx, yy = np.meshgrid(np.arange(x_min, x_max, h),\n",
    "                     np.arange(y_min, y_max, h))\n",
    "\n",
    "\n",
    "# just plot the dataset first\n",
    "cm = plt.cm.RdBu\n",
    "cm_bright = ListedColormap(['#FF0000', '#0000FF'])\n",
    "ax = plt.subplot(2, 1 + 1, i)\n",
    "#if ds_cnt == 0:\n",
    "#    ax.set_title(\"Input data\")\n",
    "# Plot the training points\n",
    "ax.scatter(X_train[:, 0], X_train[:, 1], c=y_train, cmap=cm_bright, edgecolors='k')\n",
    "# Plot the testing points\n",
    "ax.scatter(X_test[:, 0], X_test[:, 1], c=y_test, cmap=cm_bright, alpha=0.6,edgecolors='k')\n",
    "ax.set_xlim(xx.min(), xx.max())\n",
    "ax.set_ylim(yy.min(), yy.max())\n",
    "ax.set_xticks(())\n",
    "ax.set_yticks(())\n",
    "i += 1"
   ]
  },
  {
   "cell_type": "code",
   "execution_count": 28,
   "metadata": {
    "scrolled": true
   },
   "outputs": [
    {
     "name": "stdout",
     "output_type": "stream",
     "text": [
      "------------------------------------->\n",
      "('Distance: n_neigh', 5)\n",
      "test_precision_weighted:0.78\n",
      "test_recall_weighted:0.77\n",
      "test_f1_weighted:0.75\n",
      "test_precision_micro:0.82\n",
      "test_recall_micro:0.76\n",
      "test_f1_micro:0.79\n",
      "------------------------------------->\n",
      "('Distance: n_neigh', 6)\n",
      "test_precision_weighted:0.79\n",
      "test_recall_weighted:0.77\n",
      "test_f1_weighted:0.76\n",
      "test_precision_micro:0.82\n",
      "test_recall_micro:0.77\n",
      "test_f1_micro:0.79\n",
      "------------------------------------->\n",
      "('Distance: n_neigh', 7)\n",
      "test_precision_weighted:0.79\n",
      "test_recall_weighted:0.76\n",
      "test_f1_weighted:0.75\n",
      "test_precision_micro:0.82\n",
      "test_recall_micro:0.75\n",
      "test_f1_micro:0.78\n",
      "------------------------------------->\n",
      "('Distance: n_neigh', 8)\n",
      "test_precision_weighted:0.79\n",
      "test_recall_weighted:0.77\n",
      "test_f1_weighted:0.75\n",
      "test_precision_micro:0.83\n",
      "test_recall_micro:0.75\n",
      "test_f1_micro:0.79\n",
      "------------------------------------->\n",
      "('Distance: n_neigh', 9)\n",
      "test_precision_weighted:0.79\n",
      "test_recall_weighted:0.75\n",
      "test_f1_weighted:0.74\n",
      "test_precision_micro:0.82\n",
      "test_recall_micro:0.74\n",
      "test_f1_micro:0.78\n",
      "------------------------------------->\n",
      "('Distance: n_neigh', 10)\n",
      "test_precision_weighted:0.80\n",
      "test_recall_weighted:0.76\n",
      "test_f1_weighted:0.75\n",
      "test_precision_micro:0.83\n",
      "test_recall_micro:0.74\n",
      "test_f1_micro:0.78\n",
      "------------------------------------->\n",
      "('Distance: n_neigh', 11)\n",
      "test_precision_weighted:0.79\n",
      "test_recall_weighted:0.75\n",
      "test_f1_weighted:0.73\n",
      "test_precision_micro:0.82\n",
      "test_recall_micro:0.73\n",
      "test_f1_micro:0.77\n",
      "------------------------------------->\n",
      "('Distance: n_neigh', 12)\n",
      "test_precision_weighted:0.80\n",
      "test_recall_weighted:0.75\n",
      "test_f1_weighted:0.74\n",
      "test_precision_micro:0.83\n",
      "test_recall_micro:0.73\n",
      "test_f1_micro:0.78\n",
      "------------------------------------->\n",
      "('Distance: n_neigh', 13)\n",
      "test_precision_weighted:0.80\n",
      "test_recall_weighted:0.74\n",
      "test_f1_weighted:0.73\n",
      "test_precision_micro:0.82\n",
      "test_recall_micro:0.72\n",
      "test_f1_micro:0.77\n",
      "------------------------------------->\n",
      "('Distance: n_neigh', 14)\n",
      "test_precision_weighted:0.80\n",
      "test_recall_weighted:0.74\n",
      "test_f1_weighted:0.73\n",
      "test_precision_micro:0.83\n",
      "test_recall_micro:0.73\n",
      "test_f1_micro:0.77\n",
      "------------------------------------->\n",
      "('Distance: n_neigh', 15)\n",
      "test_precision_weighted:0.80\n",
      "test_recall_weighted:0.74\n",
      "test_f1_weighted:0.72\n",
      "test_precision_micro:0.82\n",
      "test_recall_micro:0.72\n",
      "test_f1_micro:0.77\n"
     ]
    }
   ],
   "source": [
    "##TAP##\n",
    "##K Nearest Neighbor##\n",
    "#Distance#\n",
    "from sklearn import neighbors\n",
    "n_neighbors = 15\n",
    "weights = 'distance'\n",
    "\n",
    "for i_n_neighbors in range(5,n_neighbors+1):\n",
    "    clf_knn = neighbors.KNeighborsClassifier(i_n_neighbors, weights=weights)\n",
    "    scores_3 = cross_validate(clf_knn, x_total, encoded_y_total, scoring=scoring,\n",
    "                         cv=5, n_jobs=-1, return_train_score=False, return_estimator=True)\n",
    "    print('------------------------------------->')\n",
    "    print('Distance: n_neigh',i_n_neighbors)\n",
    "    show_results(scores_3)\n",
    "    "
   ]
  },
  {
   "cell_type": "code",
   "execution_count": 33,
   "metadata": {},
   "outputs": [
    {
     "name": "stdout",
     "output_type": "stream",
     "text": [
      "1.22213697433\n",
      "precision_micro:0.86\n",
      "recall_micro:0.74\n",
      "f1_micro:0.80\n",
      "precision_weighted:0.80\n",
      "recall_weighted:0.73\n",
      "f1_weighted:0.74\n",
      "risk_factor:0.3889\n"
     ]
    }
   ],
   "source": [
    "from sklearn import neighbors\n",
    "n_neighbors = 15\n",
    "clf_knn = neighbors.KNeighborsClassifier(n_neighbors, weights='distance')\n",
    "clf_knn.fit(x_train, encoded_y_train)\n",
    "start_time = time.time()\n",
    "y_pre_3 = clf_knn.predict(x_test)\n",
    "elapsed_time = time.time() - start_time\n",
    "print elapsed_time\n",
    "y_pos_3 = clf_knn.predict_proba(x_test)\n",
    "show_test_results(encoded_y_test, y_pre_3, trans_prob(y_pos_3), class_weight)"
   ]
  },
  {
   "cell_type": "code",
   "execution_count": null,
   "metadata": {},
   "outputs": [],
   "source": [
    "X = "
   ]
  },
  {
   "cell_type": "code",
   "execution_count": 34,
   "metadata": {},
   "outputs": [
    {
     "ename": "KeyboardInterrupt",
     "evalue": "",
     "output_type": "error",
     "traceback": [
      "\u001b[0;31m---------------------------------------------------------------------------\u001b[0m",
      "\u001b[0;31mKeyboardInterrupt\u001b[0m                         Traceback (most recent call last)",
      "\u001b[0;32m<ipython-input-34-bee123d754c7>\u001b[0m in \u001b[0;36m<module>\u001b[0;34m()\u001b[0m\n\u001b[1;32m      6\u001b[0m     \u001b[0mclf_knn\u001b[0m \u001b[0;34m=\u001b[0m \u001b[0mneighbors\u001b[0m\u001b[0;34m.\u001b[0m\u001b[0mKNeighborsClassifier\u001b[0m\u001b[0;34m(\u001b[0m\u001b[0mi_n_neighbors\u001b[0m\u001b[0;34m,\u001b[0m \u001b[0mweights\u001b[0m\u001b[0;34m=\u001b[0m\u001b[0mweights\u001b[0m\u001b[0;34m)\u001b[0m\u001b[0;34m\u001b[0m\u001b[0m\n\u001b[1;32m      7\u001b[0m     scores_3 = cross_validate(clf_knn, x_total, encoded_y_total, scoring=scoring,\n\u001b[0;32m----> 8\u001b[0;31m                          cv=5, n_jobs=-1, return_train_score=False, return_estimator=True)\n\u001b[0m\u001b[1;32m      9\u001b[0m     \u001b[0;32mprint\u001b[0m\u001b[0;34m(\u001b[0m\u001b[0;34m'------------------------------------->'\u001b[0m\u001b[0;34m)\u001b[0m\u001b[0;34m\u001b[0m\u001b[0m\n\u001b[1;32m     10\u001b[0m     \u001b[0;32mprint\u001b[0m\u001b[0;34m(\u001b[0m\u001b[0;34m'Uniform: n_neigh'\u001b[0m\u001b[0;34m,\u001b[0m\u001b[0mi_n_neighbors\u001b[0m\u001b[0;34m)\u001b[0m\u001b[0;34m\u001b[0m\u001b[0m\n",
      "\u001b[0;32m/home/tay/anaconda3/envs/py2_NIST/lib/python2.7/site-packages/sklearn/model_selection/_validation.pyc\u001b[0m in \u001b[0;36mcross_validate\u001b[0;34m(estimator, X, y, groups, scoring, cv, n_jobs, verbose, fit_params, pre_dispatch, return_train_score, return_estimator, error_score)\u001b[0m\n\u001b[1;32m    239\u001b[0m             \u001b[0mreturn_times\u001b[0m\u001b[0;34m=\u001b[0m\u001b[0mTrue\u001b[0m\u001b[0;34m,\u001b[0m \u001b[0mreturn_estimator\u001b[0m\u001b[0;34m=\u001b[0m\u001b[0mreturn_estimator\u001b[0m\u001b[0;34m,\u001b[0m\u001b[0;34m\u001b[0m\u001b[0m\n\u001b[1;32m    240\u001b[0m             error_score=error_score)\n\u001b[0;32m--> 241\u001b[0;31m         for train, test in cv.split(X, y, groups))\n\u001b[0m\u001b[1;32m    242\u001b[0m \u001b[0;34m\u001b[0m\u001b[0m\n\u001b[1;32m    243\u001b[0m     \u001b[0mzipped_scores\u001b[0m \u001b[0;34m=\u001b[0m \u001b[0mlist\u001b[0m\u001b[0;34m(\u001b[0m\u001b[0mzip\u001b[0m\u001b[0;34m(\u001b[0m\u001b[0;34m*\u001b[0m\u001b[0mscores\u001b[0m\u001b[0;34m)\u001b[0m\u001b[0;34m)\u001b[0m\u001b[0;34m\u001b[0m\u001b[0m\n",
      "\u001b[0;32m/home/tay/anaconda3/envs/py2_NIST/lib/python2.7/site-packages/sklearn/externals/joblib/parallel.pyc\u001b[0m in \u001b[0;36m__call__\u001b[0;34m(self, iterable)\u001b[0m\n\u001b[1;32m    932\u001b[0m \u001b[0;34m\u001b[0m\u001b[0m\n\u001b[1;32m    933\u001b[0m             \u001b[0;32mwith\u001b[0m \u001b[0mself\u001b[0m\u001b[0;34m.\u001b[0m\u001b[0m_backend\u001b[0m\u001b[0;34m.\u001b[0m\u001b[0mretrieval_context\u001b[0m\u001b[0;34m(\u001b[0m\u001b[0;34m)\u001b[0m\u001b[0;34m:\u001b[0m\u001b[0;34m\u001b[0m\u001b[0m\n\u001b[0;32m--> 934\u001b[0;31m                 \u001b[0mself\u001b[0m\u001b[0;34m.\u001b[0m\u001b[0mretrieve\u001b[0m\u001b[0;34m(\u001b[0m\u001b[0;34m)\u001b[0m\u001b[0;34m\u001b[0m\u001b[0m\n\u001b[0m\u001b[1;32m    935\u001b[0m             \u001b[0;31m# Make sure that we get a last message telling us we are done\u001b[0m\u001b[0;34m\u001b[0m\u001b[0;34m\u001b[0m\u001b[0m\n\u001b[1;32m    936\u001b[0m             \u001b[0melapsed_time\u001b[0m \u001b[0;34m=\u001b[0m \u001b[0mtime\u001b[0m\u001b[0;34m.\u001b[0m\u001b[0mtime\u001b[0m\u001b[0;34m(\u001b[0m\u001b[0;34m)\u001b[0m \u001b[0;34m-\u001b[0m \u001b[0mself\u001b[0m\u001b[0;34m.\u001b[0m\u001b[0m_start_time\u001b[0m\u001b[0;34m\u001b[0m\u001b[0m\n",
      "\u001b[0;32m/home/tay/anaconda3/envs/py2_NIST/lib/python2.7/site-packages/sklearn/externals/joblib/parallel.pyc\u001b[0m in \u001b[0;36mretrieve\u001b[0;34m(self)\u001b[0m\n\u001b[1;32m    831\u001b[0m             \u001b[0;32mtry\u001b[0m\u001b[0;34m:\u001b[0m\u001b[0;34m\u001b[0m\u001b[0m\n\u001b[1;32m    832\u001b[0m                 \u001b[0;32mif\u001b[0m \u001b[0mgetattr\u001b[0m\u001b[0;34m(\u001b[0m\u001b[0mself\u001b[0m\u001b[0;34m.\u001b[0m\u001b[0m_backend\u001b[0m\u001b[0;34m,\u001b[0m \u001b[0;34m'supports_timeout'\u001b[0m\u001b[0;34m,\u001b[0m \u001b[0mFalse\u001b[0m\u001b[0;34m)\u001b[0m\u001b[0;34m:\u001b[0m\u001b[0;34m\u001b[0m\u001b[0m\n\u001b[0;32m--> 833\u001b[0;31m                     \u001b[0mself\u001b[0m\u001b[0;34m.\u001b[0m\u001b[0m_output\u001b[0m\u001b[0;34m.\u001b[0m\u001b[0mextend\u001b[0m\u001b[0;34m(\u001b[0m\u001b[0mjob\u001b[0m\u001b[0;34m.\u001b[0m\u001b[0mget\u001b[0m\u001b[0;34m(\u001b[0m\u001b[0mtimeout\u001b[0m\u001b[0;34m=\u001b[0m\u001b[0mself\u001b[0m\u001b[0;34m.\u001b[0m\u001b[0mtimeout\u001b[0m\u001b[0;34m)\u001b[0m\u001b[0;34m)\u001b[0m\u001b[0;34m\u001b[0m\u001b[0m\n\u001b[0m\u001b[1;32m    834\u001b[0m                 \u001b[0;32melse\u001b[0m\u001b[0;34m:\u001b[0m\u001b[0;34m\u001b[0m\u001b[0m\n\u001b[1;32m    835\u001b[0m                     \u001b[0mself\u001b[0m\u001b[0;34m.\u001b[0m\u001b[0m_output\u001b[0m\u001b[0;34m.\u001b[0m\u001b[0mextend\u001b[0m\u001b[0;34m(\u001b[0m\u001b[0mjob\u001b[0m\u001b[0;34m.\u001b[0m\u001b[0mget\u001b[0m\u001b[0;34m(\u001b[0m\u001b[0;34m)\u001b[0m\u001b[0;34m)\u001b[0m\u001b[0;34m\u001b[0m\u001b[0m\n",
      "\u001b[0;32m/home/tay/anaconda3/envs/py2_NIST/lib/python2.7/site-packages/sklearn/externals/joblib/_parallel_backends.pyc\u001b[0m in \u001b[0;36mwrap_future_result\u001b[0;34m(future, timeout)\u001b[0m\n\u001b[1;32m    519\u001b[0m         AsyncResults.get from multiprocessing.\"\"\"\n\u001b[1;32m    520\u001b[0m         \u001b[0;32mtry\u001b[0m\u001b[0;34m:\u001b[0m\u001b[0;34m\u001b[0m\u001b[0m\n\u001b[0;32m--> 521\u001b[0;31m             \u001b[0;32mreturn\u001b[0m \u001b[0mfuture\u001b[0m\u001b[0;34m.\u001b[0m\u001b[0mresult\u001b[0m\u001b[0;34m(\u001b[0m\u001b[0mtimeout\u001b[0m\u001b[0;34m=\u001b[0m\u001b[0mtimeout\u001b[0m\u001b[0;34m)\u001b[0m\u001b[0;34m\u001b[0m\u001b[0m\n\u001b[0m\u001b[1;32m    522\u001b[0m         \u001b[0;32mexcept\u001b[0m \u001b[0mLokyTimeoutError\u001b[0m\u001b[0;34m:\u001b[0m\u001b[0;34m\u001b[0m\u001b[0m\n\u001b[1;32m    523\u001b[0m             \u001b[0;32mraise\u001b[0m \u001b[0mTimeoutError\u001b[0m\u001b[0;34m(\u001b[0m\u001b[0;34m)\u001b[0m\u001b[0;34m\u001b[0m\u001b[0m\n",
      "\u001b[0;32m/home/tay/anaconda3/envs/py2_NIST/lib/python2.7/site-packages/sklearn/externals/joblib/externals/loky/_base.pyc\u001b[0m in \u001b[0;36mresult\u001b[0;34m(self, timeout)\u001b[0m\n\u001b[1;32m    426\u001b[0m                     \u001b[0;32mreturn\u001b[0m \u001b[0mself\u001b[0m\u001b[0;34m.\u001b[0m\u001b[0m__get_result\u001b[0m\u001b[0;34m(\u001b[0m\u001b[0;34m)\u001b[0m\u001b[0;34m\u001b[0m\u001b[0m\n\u001b[1;32m    427\u001b[0m \u001b[0;34m\u001b[0m\u001b[0m\n\u001b[0;32m--> 428\u001b[0;31m                 \u001b[0mself\u001b[0m\u001b[0;34m.\u001b[0m\u001b[0m_condition\u001b[0m\u001b[0;34m.\u001b[0m\u001b[0mwait\u001b[0m\u001b[0;34m(\u001b[0m\u001b[0mtimeout\u001b[0m\u001b[0;34m)\u001b[0m\u001b[0;34m\u001b[0m\u001b[0m\n\u001b[0m\u001b[1;32m    429\u001b[0m \u001b[0;34m\u001b[0m\u001b[0m\n\u001b[1;32m    430\u001b[0m                 \u001b[0;32mif\u001b[0m \u001b[0mself\u001b[0m\u001b[0;34m.\u001b[0m\u001b[0m_state\u001b[0m \u001b[0;32min\u001b[0m \u001b[0;34m[\u001b[0m\u001b[0mCANCELLED\u001b[0m\u001b[0;34m,\u001b[0m \u001b[0mCANCELLED_AND_NOTIFIED\u001b[0m\u001b[0;34m]\u001b[0m\u001b[0;34m:\u001b[0m\u001b[0;34m\u001b[0m\u001b[0m\n",
      "\u001b[0;32m/home/tay/anaconda3/envs/py2_NIST/lib/python2.7/threading.pyc\u001b[0m in \u001b[0;36mwait\u001b[0;34m(self, timeout)\u001b[0m\n\u001b[1;32m    338\u001b[0m         \u001b[0;32mtry\u001b[0m\u001b[0;34m:\u001b[0m    \u001b[0;31m# restore state no matter what (e.g., KeyboardInterrupt)\u001b[0m\u001b[0;34m\u001b[0m\u001b[0m\n\u001b[1;32m    339\u001b[0m             \u001b[0;32mif\u001b[0m \u001b[0mtimeout\u001b[0m \u001b[0;32mis\u001b[0m \u001b[0mNone\u001b[0m\u001b[0;34m:\u001b[0m\u001b[0;34m\u001b[0m\u001b[0m\n\u001b[0;32m--> 340\u001b[0;31m                 \u001b[0mwaiter\u001b[0m\u001b[0;34m.\u001b[0m\u001b[0macquire\u001b[0m\u001b[0;34m(\u001b[0m\u001b[0;34m)\u001b[0m\u001b[0;34m\u001b[0m\u001b[0m\n\u001b[0m\u001b[1;32m    341\u001b[0m                 \u001b[0;32mif\u001b[0m \u001b[0m__debug__\u001b[0m\u001b[0;34m:\u001b[0m\u001b[0;34m\u001b[0m\u001b[0m\n\u001b[1;32m    342\u001b[0m                     \u001b[0mself\u001b[0m\u001b[0;34m.\u001b[0m\u001b[0m_note\u001b[0m\u001b[0;34m(\u001b[0m\u001b[0;34m\"%s.wait(): got it\"\u001b[0m\u001b[0;34m,\u001b[0m \u001b[0mself\u001b[0m\u001b[0;34m)\u001b[0m\u001b[0;34m\u001b[0m\u001b[0m\n",
      "\u001b[0;31mKeyboardInterrupt\u001b[0m: "
     ]
    }
   ],
   "source": [
    "from sklearn import neighbors\n",
    "n_neighbors = 15\n",
    "weights = 'uniform'\n",
    "\n",
    "for i_n_neighbors in range(5,n_neighbors+1):\n",
    "    clf_knn = neighbors.KNeighborsClassifier(i_n_neighbors, weights=weights)\n",
    "    scores_3 = cross_validate(clf_knn, x_total, encoded_y_total, scoring=scoring,\n",
    "                         cv=5, n_jobs=-1, return_train_score=False, return_estimator=True)\n",
    "    print('------------------------------------->')\n",
    "    print('Uniform: n_neigh',i_n_neighbors)\n",
    "    show_results(scores_3)"
   ]
  },
  {
   "cell_type": "code",
   "execution_count": 19,
   "metadata": {},
   "outputs": [
    {
     "name": "stdout",
     "output_type": "stream",
     "text": [
      "test_precision_weighted:0.80\n",
      "test_recall_weighted:0.74\n",
      "test_f1_weighted:0.72\n",
      "test_precision_micro:0.82\n",
      "test_recall_micro:0.72\n",
      "test_f1_micro:0.77\n"
     ]
    }
   ],
   "source": [
    "show_results(scores_3)"
   ]
  },
  {
   "cell_type": "code",
   "execution_count": 35,
   "metadata": {},
   "outputs": [
    {
     "name": "stdout",
     "output_type": "stream",
     "text": [
      "3.8134958744\n",
      "precision_micro:0.86\n",
      "recall_micro:0.74\n",
      "f1_micro:0.80\n",
      "precision_weighted:0.80\n",
      "recall_weighted:0.73\n",
      "f1_weighted:0.74\n",
      "risk_factor:0.3871\n"
     ]
    }
   ],
   "source": [
    "clf_knn = neighbors.KNeighborsClassifier(n_neighbors, weights='uniform')\n",
    "clf_knn.fit(x_train, encoded_y_train)\n",
    "start_time = time.time()\n",
    "y_pre_3 = clf_knn.predict(x_test)\n",
    "elapsed_time = time.time() - start_time\n",
    "print elapsed_time\n",
    "y_pos_3 = clf_knn.predict_proba(x_test)\n",
    "show_test_results(encoded_y_test, y_pre_3, trans_prob(y_pos_3), class_weight)"
   ]
  },
  {
   "cell_type": "code",
   "execution_count": 26,
   "metadata": {},
   "outputs": [
    {
     "name": "stderr",
     "output_type": "stream",
     "text": [
      "/home/tay/anaconda3/envs/py2_NIST/lib/python2.7/site-packages/sklearn/model_selection/_validation.py:544: FutureWarning: From version 0.22, errors during fit will result in a cross validation score of NaN by default. Use error_score='raise' if you want an exception raised or error_score=np.nan to adopt the behavior from version 0.22.\n",
      "  FutureWarning)\n"
     ]
    },
    {
     "ename": "ValueError",
     "evalue": "bad input shape (5810, 55)",
     "output_type": "error",
     "traceback": [
      "\u001b[0;31m---------------------------------------------------------------------------\u001b[0m",
      "\u001b[0;31mValueError\u001b[0m                                Traceback (most recent call last)",
      "\u001b[0;32m<ipython-input-26-5b3325322da6>\u001b[0m in \u001b[0;36m<module>\u001b[0;34m()\u001b[0m\n\u001b[1;32m      4\u001b[0m \u001b[0;34m\u001b[0m\u001b[0m\n\u001b[1;32m      5\u001b[0m \u001b[0mclf_adab\u001b[0m \u001b[0;34m=\u001b[0m \u001b[0mAdaBoostClassifier\u001b[0m\u001b[0;34m(\u001b[0m\u001b[0mn_estimators\u001b[0m\u001b[0;34m=\u001b[0m\u001b[0;36m100\u001b[0m\u001b[0;34m)\u001b[0m\u001b[0;34m\u001b[0m\u001b[0m\n\u001b[0;32m----> 6\u001b[0;31m \u001b[0mscores_4\u001b[0m \u001b[0;34m=\u001b[0m \u001b[0mcross_validate\u001b[0m\u001b[0;34m(\u001b[0m\u001b[0mclf_adab\u001b[0m\u001b[0;34m,\u001b[0m \u001b[0mx_total\u001b[0m\u001b[0;34m,\u001b[0m \u001b[0mencoded_y_total\u001b[0m\u001b[0;34m,\u001b[0m \u001b[0mscoring\u001b[0m\u001b[0;34m=\u001b[0m\u001b[0mscoring\u001b[0m\u001b[0;34m,\u001b[0m \u001b[0mcv\u001b[0m\u001b[0;34m=\u001b[0m\u001b[0;36m5\u001b[0m\u001b[0;34m)\u001b[0m\u001b[0;31m# n_jobs=-1, return_train_score=False, return_estimator=True)\u001b[0m\u001b[0;34m\u001b[0m\u001b[0m\n\u001b[0m\u001b[1;32m      7\u001b[0m \u001b[0mscores\u001b[0m\u001b[0;34m.\u001b[0m\u001b[0mmean\u001b[0m\u001b[0;34m(\u001b[0m\u001b[0;34m)\u001b[0m\u001b[0;34m\u001b[0m\u001b[0m\n\u001b[1;32m      8\u001b[0m \u001b[0;32mprint\u001b[0m\u001b[0;34m(\u001b[0m\u001b[0;34m'------------------------------------->'\u001b[0m\u001b[0;34m)\u001b[0m\u001b[0;34m\u001b[0m\u001b[0m\n",
      "\u001b[0;32m/home/tay/anaconda3/envs/py2_NIST/lib/python2.7/site-packages/sklearn/model_selection/_validation.pyc\u001b[0m in \u001b[0;36mcross_validate\u001b[0;34m(estimator, X, y, groups, scoring, cv, n_jobs, verbose, fit_params, pre_dispatch, return_train_score, return_estimator, error_score)\u001b[0m\n\u001b[1;32m    239\u001b[0m             \u001b[0mreturn_times\u001b[0m\u001b[0;34m=\u001b[0m\u001b[0mTrue\u001b[0m\u001b[0;34m,\u001b[0m \u001b[0mreturn_estimator\u001b[0m\u001b[0;34m=\u001b[0m\u001b[0mreturn_estimator\u001b[0m\u001b[0;34m,\u001b[0m\u001b[0;34m\u001b[0m\u001b[0m\n\u001b[1;32m    240\u001b[0m             error_score=error_score)\n\u001b[0;32m--> 241\u001b[0;31m         for train, test in cv.split(X, y, groups))\n\u001b[0m\u001b[1;32m    242\u001b[0m \u001b[0;34m\u001b[0m\u001b[0m\n\u001b[1;32m    243\u001b[0m     \u001b[0mzipped_scores\u001b[0m \u001b[0;34m=\u001b[0m \u001b[0mlist\u001b[0m\u001b[0;34m(\u001b[0m\u001b[0mzip\u001b[0m\u001b[0;34m(\u001b[0m\u001b[0;34m*\u001b[0m\u001b[0mscores\u001b[0m\u001b[0;34m)\u001b[0m\u001b[0;34m)\u001b[0m\u001b[0;34m\u001b[0m\u001b[0m\n",
      "\u001b[0;32m/home/tay/anaconda3/envs/py2_NIST/lib/python2.7/site-packages/sklearn/externals/joblib/parallel.pyc\u001b[0m in \u001b[0;36m__call__\u001b[0;34m(self, iterable)\u001b[0m\n\u001b[1;32m    919\u001b[0m             \u001b[0;31m# remaining jobs.\u001b[0m\u001b[0;34m\u001b[0m\u001b[0;34m\u001b[0m\u001b[0m\n\u001b[1;32m    920\u001b[0m             \u001b[0mself\u001b[0m\u001b[0;34m.\u001b[0m\u001b[0m_iterating\u001b[0m \u001b[0;34m=\u001b[0m \u001b[0mFalse\u001b[0m\u001b[0;34m\u001b[0m\u001b[0m\n\u001b[0;32m--> 921\u001b[0;31m             \u001b[0;32mif\u001b[0m \u001b[0mself\u001b[0m\u001b[0;34m.\u001b[0m\u001b[0mdispatch_one_batch\u001b[0m\u001b[0;34m(\u001b[0m\u001b[0miterator\u001b[0m\u001b[0;34m)\u001b[0m\u001b[0;34m:\u001b[0m\u001b[0;34m\u001b[0m\u001b[0m\n\u001b[0m\u001b[1;32m    922\u001b[0m                 \u001b[0mself\u001b[0m\u001b[0;34m.\u001b[0m\u001b[0m_iterating\u001b[0m \u001b[0;34m=\u001b[0m \u001b[0mself\u001b[0m\u001b[0;34m.\u001b[0m\u001b[0m_original_iterator\u001b[0m \u001b[0;32mis\u001b[0m \u001b[0;32mnot\u001b[0m \u001b[0mNone\u001b[0m\u001b[0;34m\u001b[0m\u001b[0m\n\u001b[1;32m    923\u001b[0m \u001b[0;34m\u001b[0m\u001b[0m\n",
      "\u001b[0;32m/home/tay/anaconda3/envs/py2_NIST/lib/python2.7/site-packages/sklearn/externals/joblib/parallel.pyc\u001b[0m in \u001b[0;36mdispatch_one_batch\u001b[0;34m(self, iterator)\u001b[0m\n\u001b[1;32m    757\u001b[0m                 \u001b[0;32mreturn\u001b[0m \u001b[0mFalse\u001b[0m\u001b[0;34m\u001b[0m\u001b[0m\n\u001b[1;32m    758\u001b[0m             \u001b[0;32melse\u001b[0m\u001b[0;34m:\u001b[0m\u001b[0;34m\u001b[0m\u001b[0m\n\u001b[0;32m--> 759\u001b[0;31m                 \u001b[0mself\u001b[0m\u001b[0;34m.\u001b[0m\u001b[0m_dispatch\u001b[0m\u001b[0;34m(\u001b[0m\u001b[0mtasks\u001b[0m\u001b[0;34m)\u001b[0m\u001b[0;34m\u001b[0m\u001b[0m\n\u001b[0m\u001b[1;32m    760\u001b[0m                 \u001b[0;32mreturn\u001b[0m \u001b[0mTrue\u001b[0m\u001b[0;34m\u001b[0m\u001b[0m\n\u001b[1;32m    761\u001b[0m \u001b[0;34m\u001b[0m\u001b[0m\n",
      "\u001b[0;32m/home/tay/anaconda3/envs/py2_NIST/lib/python2.7/site-packages/sklearn/externals/joblib/parallel.pyc\u001b[0m in \u001b[0;36m_dispatch\u001b[0;34m(self, batch)\u001b[0m\n\u001b[1;32m    714\u001b[0m         \u001b[0;32mwith\u001b[0m \u001b[0mself\u001b[0m\u001b[0;34m.\u001b[0m\u001b[0m_lock\u001b[0m\u001b[0;34m:\u001b[0m\u001b[0;34m\u001b[0m\u001b[0m\n\u001b[1;32m    715\u001b[0m             \u001b[0mjob_idx\u001b[0m \u001b[0;34m=\u001b[0m \u001b[0mlen\u001b[0m\u001b[0;34m(\u001b[0m\u001b[0mself\u001b[0m\u001b[0;34m.\u001b[0m\u001b[0m_jobs\u001b[0m\u001b[0;34m)\u001b[0m\u001b[0;34m\u001b[0m\u001b[0m\n\u001b[0;32m--> 716\u001b[0;31m             \u001b[0mjob\u001b[0m \u001b[0;34m=\u001b[0m \u001b[0mself\u001b[0m\u001b[0;34m.\u001b[0m\u001b[0m_backend\u001b[0m\u001b[0;34m.\u001b[0m\u001b[0mapply_async\u001b[0m\u001b[0;34m(\u001b[0m\u001b[0mbatch\u001b[0m\u001b[0;34m,\u001b[0m \u001b[0mcallback\u001b[0m\u001b[0;34m=\u001b[0m\u001b[0mcb\u001b[0m\u001b[0;34m)\u001b[0m\u001b[0;34m\u001b[0m\u001b[0m\n\u001b[0m\u001b[1;32m    717\u001b[0m             \u001b[0;31m# A job can complete so quickly than its callback is\u001b[0m\u001b[0;34m\u001b[0m\u001b[0;34m\u001b[0m\u001b[0m\n\u001b[1;32m    718\u001b[0m             \u001b[0;31m# called before we get here, causing self._jobs to\u001b[0m\u001b[0;34m\u001b[0m\u001b[0;34m\u001b[0m\u001b[0m\n",
      "\u001b[0;32m/home/tay/anaconda3/envs/py2_NIST/lib/python2.7/site-packages/sklearn/externals/joblib/_parallel_backends.pyc\u001b[0m in \u001b[0;36mapply_async\u001b[0;34m(self, func, callback)\u001b[0m\n\u001b[1;32m    180\u001b[0m     \u001b[0;32mdef\u001b[0m \u001b[0mapply_async\u001b[0m\u001b[0;34m(\u001b[0m\u001b[0mself\u001b[0m\u001b[0;34m,\u001b[0m \u001b[0mfunc\u001b[0m\u001b[0;34m,\u001b[0m \u001b[0mcallback\u001b[0m\u001b[0;34m=\u001b[0m\u001b[0mNone\u001b[0m\u001b[0;34m)\u001b[0m\u001b[0;34m:\u001b[0m\u001b[0;34m\u001b[0m\u001b[0m\n\u001b[1;32m    181\u001b[0m         \u001b[0;34m\"\"\"Schedule a func to be run\"\"\"\u001b[0m\u001b[0;34m\u001b[0m\u001b[0m\n\u001b[0;32m--> 182\u001b[0;31m         \u001b[0mresult\u001b[0m \u001b[0;34m=\u001b[0m \u001b[0mImmediateResult\u001b[0m\u001b[0;34m(\u001b[0m\u001b[0mfunc\u001b[0m\u001b[0;34m)\u001b[0m\u001b[0;34m\u001b[0m\u001b[0m\n\u001b[0m\u001b[1;32m    183\u001b[0m         \u001b[0;32mif\u001b[0m \u001b[0mcallback\u001b[0m\u001b[0;34m:\u001b[0m\u001b[0;34m\u001b[0m\u001b[0m\n\u001b[1;32m    184\u001b[0m             \u001b[0mcallback\u001b[0m\u001b[0;34m(\u001b[0m\u001b[0mresult\u001b[0m\u001b[0;34m)\u001b[0m\u001b[0;34m\u001b[0m\u001b[0m\n",
      "\u001b[0;32m/home/tay/anaconda3/envs/py2_NIST/lib/python2.7/site-packages/sklearn/externals/joblib/_parallel_backends.pyc\u001b[0m in \u001b[0;36m__init__\u001b[0;34m(self, batch)\u001b[0m\n\u001b[1;32m    547\u001b[0m         \u001b[0;31m# Don't delay the application, to avoid keeping the input\u001b[0m\u001b[0;34m\u001b[0m\u001b[0;34m\u001b[0m\u001b[0m\n\u001b[1;32m    548\u001b[0m         \u001b[0;31m# arguments in memory\u001b[0m\u001b[0;34m\u001b[0m\u001b[0;34m\u001b[0m\u001b[0m\n\u001b[0;32m--> 549\u001b[0;31m         \u001b[0mself\u001b[0m\u001b[0;34m.\u001b[0m\u001b[0mresults\u001b[0m \u001b[0;34m=\u001b[0m \u001b[0mbatch\u001b[0m\u001b[0;34m(\u001b[0m\u001b[0;34m)\u001b[0m\u001b[0;34m\u001b[0m\u001b[0m\n\u001b[0m\u001b[1;32m    550\u001b[0m \u001b[0;34m\u001b[0m\u001b[0m\n\u001b[1;32m    551\u001b[0m     \u001b[0;32mdef\u001b[0m \u001b[0mget\u001b[0m\u001b[0;34m(\u001b[0m\u001b[0mself\u001b[0m\u001b[0;34m)\u001b[0m\u001b[0;34m:\u001b[0m\u001b[0;34m\u001b[0m\u001b[0m\n",
      "\u001b[0;32m/home/tay/anaconda3/envs/py2_NIST/lib/python2.7/site-packages/sklearn/externals/joblib/parallel.pyc\u001b[0m in \u001b[0;36m__call__\u001b[0;34m(self)\u001b[0m\n\u001b[1;32m    223\u001b[0m         \u001b[0;32mwith\u001b[0m \u001b[0mparallel_backend\u001b[0m\u001b[0;34m(\u001b[0m\u001b[0mself\u001b[0m\u001b[0;34m.\u001b[0m\u001b[0m_backend\u001b[0m\u001b[0;34m,\u001b[0m \u001b[0mn_jobs\u001b[0m\u001b[0;34m=\u001b[0m\u001b[0mself\u001b[0m\u001b[0;34m.\u001b[0m\u001b[0m_n_jobs\u001b[0m\u001b[0;34m)\u001b[0m\u001b[0;34m:\u001b[0m\u001b[0;34m\u001b[0m\u001b[0m\n\u001b[1;32m    224\u001b[0m             return [func(*args, **kwargs)\n\u001b[0;32m--> 225\u001b[0;31m                     for func, args, kwargs in self.items]\n\u001b[0m\u001b[1;32m    226\u001b[0m \u001b[0;34m\u001b[0m\u001b[0m\n\u001b[1;32m    227\u001b[0m     \u001b[0;32mdef\u001b[0m \u001b[0m__len__\u001b[0m\u001b[0;34m(\u001b[0m\u001b[0mself\u001b[0m\u001b[0;34m)\u001b[0m\u001b[0;34m:\u001b[0m\u001b[0;34m\u001b[0m\u001b[0m\n",
      "\u001b[0;32m/home/tay/anaconda3/envs/py2_NIST/lib/python2.7/site-packages/sklearn/model_selection/_validation.pyc\u001b[0m in \u001b[0;36m_fit_and_score\u001b[0;34m(estimator, X, y, scorer, train, test, verbose, parameters, fit_params, return_train_score, return_parameters, return_n_test_samples, return_times, return_estimator, error_score)\u001b[0m\n\u001b[1;32m    528\u001b[0m             \u001b[0mestimator\u001b[0m\u001b[0;34m.\u001b[0m\u001b[0mfit\u001b[0m\u001b[0;34m(\u001b[0m\u001b[0mX_train\u001b[0m\u001b[0;34m,\u001b[0m \u001b[0;34m**\u001b[0m\u001b[0mfit_params\u001b[0m\u001b[0;34m)\u001b[0m\u001b[0;34m\u001b[0m\u001b[0m\n\u001b[1;32m    529\u001b[0m         \u001b[0;32melse\u001b[0m\u001b[0;34m:\u001b[0m\u001b[0;34m\u001b[0m\u001b[0m\n\u001b[0;32m--> 530\u001b[0;31m             \u001b[0mestimator\u001b[0m\u001b[0;34m.\u001b[0m\u001b[0mfit\u001b[0m\u001b[0;34m(\u001b[0m\u001b[0mX_train\u001b[0m\u001b[0;34m,\u001b[0m \u001b[0my_train\u001b[0m\u001b[0;34m,\u001b[0m \u001b[0;34m**\u001b[0m\u001b[0mfit_params\u001b[0m\u001b[0;34m)\u001b[0m\u001b[0;34m\u001b[0m\u001b[0m\n\u001b[0m\u001b[1;32m    531\u001b[0m \u001b[0;34m\u001b[0m\u001b[0m\n\u001b[1;32m    532\u001b[0m     \u001b[0;32mexcept\u001b[0m \u001b[0mException\u001b[0m \u001b[0;32mas\u001b[0m \u001b[0me\u001b[0m\u001b[0;34m:\u001b[0m\u001b[0;34m\u001b[0m\u001b[0m\n",
      "\u001b[0;32m/home/tay/anaconda3/envs/py2_NIST/lib/python2.7/site-packages/sklearn/ensemble/weight_boosting.pyc\u001b[0m in \u001b[0;36mfit\u001b[0;34m(self, X, y, sample_weight)\u001b[0m\n\u001b[1;32m    410\u001b[0m \u001b[0;34m\u001b[0m\u001b[0m\n\u001b[1;32m    411\u001b[0m         \u001b[0;31m# Fit\u001b[0m\u001b[0;34m\u001b[0m\u001b[0;34m\u001b[0m\u001b[0m\n\u001b[0;32m--> 412\u001b[0;31m         \u001b[0;32mreturn\u001b[0m \u001b[0msuper\u001b[0m\u001b[0;34m(\u001b[0m\u001b[0mAdaBoostClassifier\u001b[0m\u001b[0;34m,\u001b[0m \u001b[0mself\u001b[0m\u001b[0;34m)\u001b[0m\u001b[0;34m.\u001b[0m\u001b[0mfit\u001b[0m\u001b[0;34m(\u001b[0m\u001b[0mX\u001b[0m\u001b[0;34m,\u001b[0m \u001b[0my\u001b[0m\u001b[0;34m,\u001b[0m \u001b[0msample_weight\u001b[0m\u001b[0;34m)\u001b[0m\u001b[0;34m\u001b[0m\u001b[0m\n\u001b[0m\u001b[1;32m    413\u001b[0m \u001b[0;34m\u001b[0m\u001b[0m\n\u001b[1;32m    414\u001b[0m     \u001b[0;32mdef\u001b[0m \u001b[0m_validate_estimator\u001b[0m\u001b[0;34m(\u001b[0m\u001b[0mself\u001b[0m\u001b[0;34m)\u001b[0m\u001b[0;34m:\u001b[0m\u001b[0;34m\u001b[0m\u001b[0m\n",
      "\u001b[0;32m/home/tay/anaconda3/envs/py2_NIST/lib/python2.7/site-packages/sklearn/ensemble/weight_boosting.pyc\u001b[0m in \u001b[0;36mfit\u001b[0;34m(self, X, y, sample_weight)\u001b[0m\n\u001b[1;32m    108\u001b[0m \u001b[0;34m\u001b[0m\u001b[0m\n\u001b[1;32m    109\u001b[0m         X, y = check_X_y(X, y, accept_sparse=accept_sparse, dtype=dtype,\n\u001b[0;32m--> 110\u001b[0;31m                          y_numeric=is_regressor(self))\n\u001b[0m\u001b[1;32m    111\u001b[0m \u001b[0;34m\u001b[0m\u001b[0m\n\u001b[1;32m    112\u001b[0m         \u001b[0;32mif\u001b[0m \u001b[0msample_weight\u001b[0m \u001b[0;32mis\u001b[0m \u001b[0mNone\u001b[0m\u001b[0;34m:\u001b[0m\u001b[0;34m\u001b[0m\u001b[0m\n",
      "\u001b[0;32m/home/tay/anaconda3/envs/py2_NIST/lib/python2.7/site-packages/sklearn/utils/validation.pyc\u001b[0m in \u001b[0;36mcheck_X_y\u001b[0;34m(X, y, accept_sparse, accept_large_sparse, dtype, order, copy, force_all_finite, ensure_2d, allow_nd, multi_output, ensure_min_samples, ensure_min_features, y_numeric, warn_on_dtype, estimator)\u001b[0m\n\u001b[1;32m    759\u001b[0m                         dtype=None)\n\u001b[1;32m    760\u001b[0m     \u001b[0;32melse\u001b[0m\u001b[0;34m:\u001b[0m\u001b[0;34m\u001b[0m\u001b[0m\n\u001b[0;32m--> 761\u001b[0;31m         \u001b[0my\u001b[0m \u001b[0;34m=\u001b[0m \u001b[0mcolumn_or_1d\u001b[0m\u001b[0;34m(\u001b[0m\u001b[0my\u001b[0m\u001b[0;34m,\u001b[0m \u001b[0mwarn\u001b[0m\u001b[0;34m=\u001b[0m\u001b[0mTrue\u001b[0m\u001b[0;34m)\u001b[0m\u001b[0;34m\u001b[0m\u001b[0m\n\u001b[0m\u001b[1;32m    762\u001b[0m         \u001b[0m_assert_all_finite\u001b[0m\u001b[0;34m(\u001b[0m\u001b[0my\u001b[0m\u001b[0;34m)\u001b[0m\u001b[0;34m\u001b[0m\u001b[0m\n\u001b[1;32m    763\u001b[0m     \u001b[0;32mif\u001b[0m \u001b[0my_numeric\u001b[0m \u001b[0;32mand\u001b[0m \u001b[0my\u001b[0m\u001b[0;34m.\u001b[0m\u001b[0mdtype\u001b[0m\u001b[0;34m.\u001b[0m\u001b[0mkind\u001b[0m \u001b[0;34m==\u001b[0m \u001b[0;34m'O'\u001b[0m\u001b[0;34m:\u001b[0m\u001b[0;34m\u001b[0m\u001b[0m\n",
      "\u001b[0;32m/home/tay/anaconda3/envs/py2_NIST/lib/python2.7/site-packages/sklearn/utils/validation.pyc\u001b[0m in \u001b[0;36mcolumn_or_1d\u001b[0;34m(y, warn)\u001b[0m\n\u001b[1;32m    795\u001b[0m         \u001b[0;32mreturn\u001b[0m \u001b[0mnp\u001b[0m\u001b[0;34m.\u001b[0m\u001b[0mravel\u001b[0m\u001b[0;34m(\u001b[0m\u001b[0my\u001b[0m\u001b[0;34m)\u001b[0m\u001b[0;34m\u001b[0m\u001b[0m\n\u001b[1;32m    796\u001b[0m \u001b[0;34m\u001b[0m\u001b[0m\n\u001b[0;32m--> 797\u001b[0;31m     \u001b[0;32mraise\u001b[0m \u001b[0mValueError\u001b[0m\u001b[0;34m(\u001b[0m\u001b[0;34m\"bad input shape {0}\"\u001b[0m\u001b[0;34m.\u001b[0m\u001b[0mformat\u001b[0m\u001b[0;34m(\u001b[0m\u001b[0mshape\u001b[0m\u001b[0;34m)\u001b[0m\u001b[0;34m)\u001b[0m\u001b[0;34m\u001b[0m\u001b[0m\n\u001b[0m\u001b[1;32m    798\u001b[0m \u001b[0;34m\u001b[0m\u001b[0m\n\u001b[1;32m    799\u001b[0m \u001b[0;34m\u001b[0m\u001b[0m\n",
      "\u001b[0;31mValueError\u001b[0m: bad input shape (5810, 55)"
     ]
    }
   ],
   "source": [
    "#from sklearn.model_selection import cross_val_score\n",
    "#from sklearn.datasets import load_iris\n",
    "from sklearn.ensemble import AdaBoostClassifier\n",
    "\n",
    "clf_adab = AdaBoostClassifier(n_estimators=100)\n",
    "scores_4 = cross_validate(clf_adab, x_total, encoded_y_total, scoring=scoring,\n",
    "    cv=5, n_jobs=-1, return_train_score=False, return_estimator=True)\n",
    "scores.mean()\n",
    "print('------------------------------------->')\n",
    "print('AdaBoost Classifier')\n",
    "show_results(scores_4)"
   ]
  },
  {
   "cell_type": "code",
   "execution_count": 30,
   "metadata": {},
   "outputs": [],
   "source": [
    "from sklearn.linear_model import SGDClassifier\n",
    "clf_sgd = SGDClassifier(loss=\"log\", penalty=\"l2\", max_iter=5)\n",
    "#scores_5 = cross_validate(clf_sgd, x_total, encoded_y_total, scoring=scoring, cv=5, n_jobs=-1, return_train_score=False, return_estimator=True)"
   ]
  },
  {
   "cell_type": "code",
   "execution_count": 36,
   "metadata": {},
   "outputs": [
    {
     "ename": "ValueError",
     "evalue": "bad input shape (5810, 55)",
     "output_type": "error",
     "traceback": [
      "\u001b[0;31m---------------------------------------------------------------------------\u001b[0m",
      "\u001b[0;31mValueError\u001b[0m                                Traceback (most recent call last)",
      "\u001b[0;32m<ipython-input-36-a7400e72f527>\u001b[0m in \u001b[0;36m<module>\u001b[0;34m()\u001b[0m\n\u001b[0;32m----> 1\u001b[0;31m \u001b[0mclf_sgd\u001b[0m\u001b[0;34m.\u001b[0m\u001b[0mfit\u001b[0m\u001b[0;34m(\u001b[0m\u001b[0mx_train\u001b[0m\u001b[0;34m,\u001b[0m \u001b[0mencoded_y_train\u001b[0m\u001b[0;34m)\u001b[0m\u001b[0;34m\u001b[0m\u001b[0m\n\u001b[0m\u001b[1;32m      2\u001b[0m \u001b[0mstart_time\u001b[0m \u001b[0;34m=\u001b[0m \u001b[0mtime\u001b[0m\u001b[0;34m.\u001b[0m\u001b[0mtime\u001b[0m\u001b[0;34m(\u001b[0m\u001b[0;34m)\u001b[0m\u001b[0;34m\u001b[0m\u001b[0m\n\u001b[1;32m      3\u001b[0m \u001b[0my_pre_5\u001b[0m \u001b[0;34m=\u001b[0m \u001b[0mclf_sgd\u001b[0m\u001b[0;34m.\u001b[0m\u001b[0mpredict\u001b[0m\u001b[0;34m(\u001b[0m\u001b[0mx_test\u001b[0m\u001b[0;34m)\u001b[0m\u001b[0;34m\u001b[0m\u001b[0m\n\u001b[1;32m      4\u001b[0m \u001b[0melapsed_time\u001b[0m \u001b[0;34m=\u001b[0m \u001b[0mtime\u001b[0m\u001b[0;34m.\u001b[0m\u001b[0mtime\u001b[0m\u001b[0;34m(\u001b[0m\u001b[0;34m)\u001b[0m \u001b[0;34m-\u001b[0m \u001b[0mstart_time\u001b[0m\u001b[0;34m\u001b[0m\u001b[0m\n\u001b[1;32m      5\u001b[0m \u001b[0;32mprint\u001b[0m \u001b[0melapsed_time\u001b[0m\u001b[0;34m\u001b[0m\u001b[0m\n",
      "\u001b[0;32m/home/tay/anaconda3/envs/py2_NIST/lib/python2.7/site-packages/sklearn/linear_model/stochastic_gradient.pyc\u001b[0m in \u001b[0;36mfit\u001b[0;34m(self, X, y, coef_init, intercept_init, sample_weight)\u001b[0m\n\u001b[1;32m    746\u001b[0m                          \u001b[0mloss\u001b[0m\u001b[0;34m=\u001b[0m\u001b[0mself\u001b[0m\u001b[0;34m.\u001b[0m\u001b[0mloss\u001b[0m\u001b[0;34m,\u001b[0m \u001b[0mlearning_rate\u001b[0m\u001b[0;34m=\u001b[0m\u001b[0mself\u001b[0m\u001b[0;34m.\u001b[0m\u001b[0mlearning_rate\u001b[0m\u001b[0;34m,\u001b[0m\u001b[0;34m\u001b[0m\u001b[0m\n\u001b[1;32m    747\u001b[0m                          \u001b[0mcoef_init\u001b[0m\u001b[0;34m=\u001b[0m\u001b[0mcoef_init\u001b[0m\u001b[0;34m,\u001b[0m \u001b[0mintercept_init\u001b[0m\u001b[0;34m=\u001b[0m\u001b[0mintercept_init\u001b[0m\u001b[0;34m,\u001b[0m\u001b[0;34m\u001b[0m\u001b[0m\n\u001b[0;32m--> 748\u001b[0;31m                          sample_weight=sample_weight)\n\u001b[0m\u001b[1;32m    749\u001b[0m \u001b[0;34m\u001b[0m\u001b[0m\n\u001b[1;32m    750\u001b[0m \u001b[0;34m\u001b[0m\u001b[0m\n",
      "\u001b[0;32m/home/tay/anaconda3/envs/py2_NIST/lib/python2.7/site-packages/sklearn/linear_model/stochastic_gradient.pyc\u001b[0m in \u001b[0;36m_fit\u001b[0;34m(self, X, y, alpha, C, loss, learning_rate, coef_init, intercept_init, sample_weight)\u001b[0m\n\u001b[1;32m    568\u001b[0m \u001b[0;34m\u001b[0m\u001b[0m\n\u001b[1;32m    569\u001b[0m         X, y = check_X_y(X, y, 'csr', dtype=np.float64, order=\"C\",\n\u001b[0;32m--> 570\u001b[0;31m                          accept_large_sparse=False)\n\u001b[0m\u001b[1;32m    571\u001b[0m         \u001b[0mn_samples\u001b[0m\u001b[0;34m,\u001b[0m \u001b[0mn_features\u001b[0m \u001b[0;34m=\u001b[0m \u001b[0mX\u001b[0m\u001b[0;34m.\u001b[0m\u001b[0mshape\u001b[0m\u001b[0;34m\u001b[0m\u001b[0m\n\u001b[1;32m    572\u001b[0m \u001b[0;34m\u001b[0m\u001b[0m\n",
      "\u001b[0;32m/home/tay/anaconda3/envs/py2_NIST/lib/python2.7/site-packages/sklearn/utils/validation.pyc\u001b[0m in \u001b[0;36mcheck_X_y\u001b[0;34m(X, y, accept_sparse, accept_large_sparse, dtype, order, copy, force_all_finite, ensure_2d, allow_nd, multi_output, ensure_min_samples, ensure_min_features, y_numeric, warn_on_dtype, estimator)\u001b[0m\n\u001b[1;32m    759\u001b[0m                         dtype=None)\n\u001b[1;32m    760\u001b[0m     \u001b[0;32melse\u001b[0m\u001b[0;34m:\u001b[0m\u001b[0;34m\u001b[0m\u001b[0m\n\u001b[0;32m--> 761\u001b[0;31m         \u001b[0my\u001b[0m \u001b[0;34m=\u001b[0m \u001b[0mcolumn_or_1d\u001b[0m\u001b[0;34m(\u001b[0m\u001b[0my\u001b[0m\u001b[0;34m,\u001b[0m \u001b[0mwarn\u001b[0m\u001b[0;34m=\u001b[0m\u001b[0mTrue\u001b[0m\u001b[0;34m)\u001b[0m\u001b[0;34m\u001b[0m\u001b[0m\n\u001b[0m\u001b[1;32m    762\u001b[0m         \u001b[0m_assert_all_finite\u001b[0m\u001b[0;34m(\u001b[0m\u001b[0my\u001b[0m\u001b[0;34m)\u001b[0m\u001b[0;34m\u001b[0m\u001b[0m\n\u001b[1;32m    763\u001b[0m     \u001b[0;32mif\u001b[0m \u001b[0my_numeric\u001b[0m \u001b[0;32mand\u001b[0m \u001b[0my\u001b[0m\u001b[0;34m.\u001b[0m\u001b[0mdtype\u001b[0m\u001b[0;34m.\u001b[0m\u001b[0mkind\u001b[0m \u001b[0;34m==\u001b[0m \u001b[0;34m'O'\u001b[0m\u001b[0;34m:\u001b[0m\u001b[0;34m\u001b[0m\u001b[0m\n",
      "\u001b[0;32m/home/tay/anaconda3/envs/py2_NIST/lib/python2.7/site-packages/sklearn/utils/validation.pyc\u001b[0m in \u001b[0;36mcolumn_or_1d\u001b[0;34m(y, warn)\u001b[0m\n\u001b[1;32m    795\u001b[0m         \u001b[0;32mreturn\u001b[0m \u001b[0mnp\u001b[0m\u001b[0;34m.\u001b[0m\u001b[0mravel\u001b[0m\u001b[0;34m(\u001b[0m\u001b[0my\u001b[0m\u001b[0;34m)\u001b[0m\u001b[0;34m\u001b[0m\u001b[0m\n\u001b[1;32m    796\u001b[0m \u001b[0;34m\u001b[0m\u001b[0m\n\u001b[0;32m--> 797\u001b[0;31m     \u001b[0;32mraise\u001b[0m \u001b[0mValueError\u001b[0m\u001b[0;34m(\u001b[0m\u001b[0;34m\"bad input shape {0}\"\u001b[0m\u001b[0;34m.\u001b[0m\u001b[0mformat\u001b[0m\u001b[0;34m(\u001b[0m\u001b[0mshape\u001b[0m\u001b[0;34m)\u001b[0m\u001b[0;34m)\u001b[0m\u001b[0;34m\u001b[0m\u001b[0m\n\u001b[0m\u001b[1;32m    798\u001b[0m \u001b[0;34m\u001b[0m\u001b[0m\n\u001b[1;32m    799\u001b[0m \u001b[0;34m\u001b[0m\u001b[0m\n",
      "\u001b[0;31mValueError\u001b[0m: bad input shape (5810, 55)"
     ]
    }
   ],
   "source": [
    "clf_sgd.fit(x_train, encoded_y_train)\n",
    "start_time = time.time()\n",
    "y_pre_5 = clf_sgd.predict(x_test)\n",
    "elapsed_time = time.time() - start_time\n",
    "print elapsed_time\n",
    "y_pos_5 = clf_sgd.predict_proba(x_test)\n",
    "show_test_results(encoded_y_test, y_pre_5, trans_prob(y_pos_5), class_weight)"
   ]
  },
  {
   "cell_type": "code",
   "execution_count": 17,
   "metadata": {},
   "outputs": [
    {
     "name": "stdout",
     "output_type": "stream",
     "text": [
      "benadryl en route\n",
      "0.06767252225826034\n",
      "golf ball\n",
      "0.06209289895747574\n",
      "address store\n",
      "0.05219661975393536\n",
      "front driver side corner\n",
      "0.042514874406786744\n",
      "chin lift\n",
      "0.034479024135152206\n",
      "patient lying unresponsive\n",
      "0.0312960987037582\n",
      "breath away\n",
      "0.029438043227958434\n",
      "drank cold water\n",
      "0.02500171368974516\n",
      "look well\n",
      "0.017344479974113754\n",
      "ankle pain\n",
      "0.016592926589528927\n",
      "hospitalized multiple\n",
      "0.014676397430999638\n",
      "child care issue\n",
      "0.014098247445898708\n",
      "oxygen use\n",
      "0.013201628921830426\n",
      "past feel\n",
      "0.010114745036779107\n",
      "equal mobility\n",
      "0.008374562373298294\n",
      "house yesterday\n",
      "0.007889074885254187\n",
      "ambulatory onscene\n",
      "0.007828201796429762\n",
      "hallway laying\n",
      "0.0074822465419892\n",
      "medication administraton\n",
      "0.007366061866284456\n",
      "free other\n",
      "0.007141535147213692\n",
      "current medicaiton\n",
      "0.006911205931570831\n",
      "insulin pump\n",
      "0.00658760343591258\n",
      "confused behavior\n",
      "0.005364718922628631\n",
      "initial fall\n",
      "0.005299895046551835\n",
      "inhaler use\n",
      "0.0051942454992976615\n",
      "black female lying supine\n",
      "0.005153685338033144\n",
      "anterior part\n",
      "0.00464826572332659\n",
      "intubated numerous\n",
      "0.004584346984873422\n",
      "little nausea\n",
      "0.00438134416890938\n",
      "copious amount\n",
      "0.004358964919443752\n"
     ]
    }
   ],
   "source": [
    "heap = []\n",
    "for idx, importance in enumerate(clf_dt.feature_importances_):\n",
    "    heap.append((importance, idx))\n",
    "heap.sort(reverse = True)\n",
    "for item in heap[:30]:\n",
    "    print vectorizer.get_feature_names()[item[1]]\n",
    "    print item[0]"
   ]
  },
  {
   "cell_type": "code",
   "execution_count": 23,
   "metadata": {
    "collapsed": true,
    "jupyter": {
     "outputs_hidden": true
    }
   },
   "outputs": [],
   "source": [
    "clf_4 = OneVsRestClassifier(SVC(kernel = 'linear', probability=True))\n",
    "scores_4 = cross_validate(clf_4, x_total_ngram, encoded_y_total, scoring=scoring,\n",
    "                         cv=5, n_jobs=-1, return_train_score=False, return_estimator=True)"
   ]
  },
  {
   "cell_type": "code",
   "execution_count": 24,
   "metadata": {},
   "outputs": [
    {
     "name": "stdout",
     "output_type": "stream",
     "text": [
      "test_precision_weighted:0.82\n",
      "test_recall_weighted:0.75\n",
      "test_f1_weighted:0.76\n",
      "test_precision_micro:0.88\n",
      "test_recall_micro:0.75\n",
      "test_f1_micro:0.81\n"
     ]
    }
   ],
   "source": [
    "show_results(scores_4)"
   ]
  },
  {
   "cell_type": "code",
   "execution_count": 26,
   "metadata": {},
   "outputs": [
    {
     "name": "stdout",
     "output_type": "stream",
     "text": [
      "precision_micro:0.89\n",
      "recall_micro:0.77\n",
      "f1_micro:0.83\n",
      "precision_weighted:0.83\n",
      "recall_weighted:0.77\n",
      "f1_weighted:0.78\n",
      "risk_factor:0.3177\n"
     ]
    }
   ],
   "source": [
    "clf_4 = OneVsRestClassifier(SVC(kernel = 'linear', probability=True))\n",
    "clf_4.fit(x_train_ngram, encoded_y_train)\n",
    "y_pre_4 = clf_4.predict(x_test_ngram)\n",
    "y_pos_4 = clf_4.predict_proba(x_test_ngram)\n",
    "show_test_results(encoded_y_test, y_pre_4, y_pos_4, class_weight)"
   ]
  },
  {
   "cell_type": "code",
   "execution_count": 153,
   "metadata": {
    "collapsed": true,
    "jupyter": {
     "outputs_hidden": true
    }
   },
   "outputs": [],
   "source": [
    "clf_rf_1 = RandomForestClassifier()\n",
    "scores_5 = cross_validate(clf_rf_1, x_total_ngram, encoded_y_total, scoring=scoring,\n",
    "                         cv=5, n_jobs=-1, return_train_score=False, return_estimator=True)"
   ]
  },
  {
   "cell_type": "code",
   "execution_count": 154,
   "metadata": {},
   "outputs": [
    {
     "name": "stdout",
     "output_type": "stream",
     "text": [
      "test_precision_weighted:0.83\n",
      "test_recall_weighted:0.66\n",
      "test_f1_weighted:0.69\n",
      "test_precision_micro:0.88\n",
      "test_recall_micro:0.66\n",
      "test_f1_micro:0.75\n"
     ]
    }
   ],
   "source": [
    "show_results(scores_5)"
   ]
  },
  {
   "cell_type": "code",
   "execution_count": 183,
   "metadata": {},
   "outputs": [
    {
     "name": "stdout",
     "output_type": "stream",
     "text": [
      "precision_micro:0.88\n",
      "recall_micro:0.66\n",
      "f1_micro:0.76\n",
      "precision_weighted:0.82\n",
      "recall_weighted:0.67\n",
      "f1_weighted:0.69\n",
      "risk_factor:0.4570\n"
     ]
    }
   ],
   "source": [
    "clf_rf_1 = RandomForestClassifier()\n",
    "clf_rf_1.fit(x_train_ngram,encoded_y_train)\n",
    "y_pre_5 = clf_rf_1.predict(x_test_ngram)\n",
    "y_pos_5 = clf_rf_1.predict_proba(x_test_ngram)\n",
    "show_test_results(encoded_y_test, y_pre_5, trans_prob(y_pos_5), class_weight)"
   ]
  },
  {
   "cell_type": "code",
   "execution_count": 118,
   "metadata": {},
   "outputs": [
    {
     "name": "stdout",
     "output_type": "stream",
     "text": [
      "8.03353867214\n"
     ]
    }
   ],
   "source": [
    "y_pos_5_c = [[0.] * len(y_pos_5) for _ in range(len(y_pos_5[0]))]\n",
    "for idx, res in enumerate(y_pos_5):\n",
    "    for i, p in enumerate(res):\n",
    "        if len(p) < 2: y_pos_5_c[i][idx] = 1. - p[0]\n",
    "        else: y_pos_5_c[i][idx] = p[1]\n",
    "\n",
    "risk = []\n",
    "for case in y_pos_5_c:\n",
    "    r = 0\n",
    "    for i,pos in enumerate(case):\n",
    "        r += pos * num2risk[num2int[i]]\n",
    "    risk.append(r)\n",
    "print sum(risk)/len(risk)"
   ]
  },
  {
   "cell_type": "code",
   "execution_count": 18,
   "metadata": {},
   "outputs": [],
   "source": [
    "clf_dt_1 = DecisionTreeClassifier()\n",
    "scores_6 = cross_validate(clf_dt_1, x_total_ngram, encoded_y_total, scoring=scoring,\n",
    "                         cv=5, n_jobs=-1, return_train_score=False, return_estimator=True)"
   ]
  },
  {
   "cell_type": "code",
   "execution_count": 19,
   "metadata": {},
   "outputs": [
    {
     "name": "stdout",
     "output_type": "stream",
     "text": [
      "test_precision_weighted:0.73\n",
      "test_recall_weighted:0.74\n",
      "test_f1_weighted:0.73\n",
      "test_precision_micro:0.75\n",
      "test_recall_micro:0.74\n",
      "test_f1_micro:0.75\n"
     ]
    }
   ],
   "source": [
    "show_results(scores_6)"
   ]
  },
  {
   "cell_type": "code",
   "execution_count": 20,
   "metadata": {},
   "outputs": [
    {
     "name": "stdout",
     "output_type": "stream",
     "text": [
      "precision_micro:0.77\n",
      "recall_micro:0.75\n",
      "f1_micro:0.76\n",
      "precision_weighted:0.73\n",
      "recall_weighted:0.72\n",
      "f1_weighted:0.72\n",
      "risk_factor:0.4762\n"
     ]
    }
   ],
   "source": [
    "clf_dt_1 = DecisionTreeClassifier()\n",
    "clf_dt_1.fit(x_train_ngram,encoded_y_train)\n",
    "y_pre_6 = clf_dt_1.predict(x_test_ngram)\n",
    "y_pos_6 = clf_dt_1.predict_proba(x_test_ngram)\n",
    "\n",
    "show_test_results(encoded_y_test, y_pre_6, trans_prob(y_pos_6), class_weight)"
   ]
  },
  {
   "cell_type": "code",
   "execution_count": 121,
   "metadata": {},
   "outputs": [
    {
     "name": "stdout",
     "output_type": "stream",
     "text": [
      "7.92539356605\n"
     ]
    }
   ],
   "source": [
    "y_pos_6_c = [[0.] * len(y_pos_6) for _ in range(len(y_pos_6[0]))]\n",
    "for idx, res in enumerate(y_pos_6):\n",
    "    for i, p in enumerate(res):\n",
    "        if len(p) < 2: y_pos_6_c[i][idx] = 1. - p[0]\n",
    "        else: y_pos_6_c[i][idx] = p[1]\n",
    "\n",
    "risk = []\n",
    "for case in y_pos_6_c:\n",
    "    r = 0\n",
    "    for i,pos in enumerate(case):\n",
    "        r += pos * num2risk[num2int[i]]\n",
    "    risk.append(r)\n",
    "print sum(risk)/len(risk)"
   ]
  },
  {
   "cell_type": "code",
   "execution_count": 89,
   "metadata": {},
   "outputs": [
    {
     "ename": "ValueError",
     "evalue": "Class label 2 not present.",
     "output_type": "error",
     "traceback": [
      "\u001b[0;31m---------------------------------------------------------------------------\u001b[0m",
      "\u001b[0;31mValueError\u001b[0m                                Traceback (most recent call last)",
      "\u001b[0;32m<ipython-input-89-7b8461f3988f>\u001b[0m in \u001b[0;36m<module>\u001b[0;34m()\u001b[0m\n\u001b[1;32m      1\u001b[0m \u001b[0mclf_7\u001b[0m \u001b[0;34m=\u001b[0m \u001b[0mOneVsRestClassifier\u001b[0m\u001b[0;34m(\u001b[0m\u001b[0mSVC\u001b[0m\u001b[0;34m(\u001b[0m\u001b[0mprobability\u001b[0m\u001b[0;34m=\u001b[0m\u001b[0mTrue\u001b[0m\u001b[0;34m,\u001b[0m \u001b[0mclass_weight\u001b[0m \u001b[0;34m=\u001b[0m \u001b[0minter_safety_dic\u001b[0m\u001b[0;34m)\u001b[0m\u001b[0;34m)\u001b[0m\u001b[0;34m\u001b[0m\u001b[0m\n\u001b[1;32m      2\u001b[0m \u001b[0;31m# cv_results = cross_validate(clf, x_train, y_train, cv=5)\u001b[0m\u001b[0;34m\u001b[0m\u001b[0;34m\u001b[0m\u001b[0m\n\u001b[0;32m----> 3\u001b[0;31m \u001b[0mclf_7\u001b[0m\u001b[0;34m.\u001b[0m\u001b[0mfit\u001b[0m\u001b[0;34m(\u001b[0m\u001b[0mx_train\u001b[0m\u001b[0;34m,\u001b[0m\u001b[0mencoded_y_train\u001b[0m\u001b[0;34m)\u001b[0m\u001b[0;34m\u001b[0m\u001b[0m\n\u001b[0m\u001b[1;32m      4\u001b[0m \u001b[0my_pre_7\u001b[0m \u001b[0;34m=\u001b[0m \u001b[0mclf_7\u001b[0m\u001b[0;34m.\u001b[0m\u001b[0mpredict\u001b[0m\u001b[0;34m(\u001b[0m\u001b[0mx_test\u001b[0m\u001b[0;34m)\u001b[0m\u001b[0;34m\u001b[0m\u001b[0m\n\u001b[1;32m      5\u001b[0m \u001b[0my_pos_7\u001b[0m \u001b[0;34m=\u001b[0m \u001b[0mclf_7\u001b[0m\u001b[0;34m.\u001b[0m\u001b[0mpredict_proba\u001b[0m\u001b[0;34m(\u001b[0m\u001b[0mx_test\u001b[0m\u001b[0;34m)\u001b[0m\u001b[0;34m\u001b[0m\u001b[0m\n",
      "\u001b[0;32m/Users/sileshu/anaconda/lib/python2.7/site-packages/sklearn/multiclass.pyc\u001b[0m in \u001b[0;36mfit\u001b[0;34m(self, X, y)\u001b[0m\n\u001b[1;32m    213\u001b[0m                 \u001b[0;34m\"not %s\"\u001b[0m \u001b[0;34m%\u001b[0m \u001b[0mself\u001b[0m\u001b[0;34m.\u001b[0m\u001b[0mlabel_binarizer_\u001b[0m\u001b[0;34m.\u001b[0m\u001b[0mclasses_\u001b[0m\u001b[0;34m[\u001b[0m\u001b[0mi\u001b[0m\u001b[0;34m]\u001b[0m\u001b[0;34m,\u001b[0m\u001b[0;34m\u001b[0m\u001b[0m\n\u001b[1;32m    214\u001b[0m                 self.label_binarizer_.classes_[i]])\n\u001b[0;32m--> 215\u001b[0;31m             for i, column in enumerate(columns))\n\u001b[0m\u001b[1;32m    216\u001b[0m \u001b[0;34m\u001b[0m\u001b[0m\n\u001b[1;32m    217\u001b[0m         \u001b[0;32mreturn\u001b[0m \u001b[0mself\u001b[0m\u001b[0;34m\u001b[0m\u001b[0m\n",
      "\u001b[0;32m/Users/sileshu/anaconda/lib/python2.7/site-packages/sklearn/externals/joblib/parallel.pyc\u001b[0m in \u001b[0;36m__call__\u001b[0;34m(self, iterable)\u001b[0m\n\u001b[1;32m    777\u001b[0m             \u001b[0;31m# was dispatched. In particular this covers the edge\u001b[0m\u001b[0;34m\u001b[0m\u001b[0;34m\u001b[0m\u001b[0m\n\u001b[1;32m    778\u001b[0m             \u001b[0;31m# case of Parallel used with an exhausted iterator.\u001b[0m\u001b[0;34m\u001b[0m\u001b[0;34m\u001b[0m\u001b[0m\n\u001b[0;32m--> 779\u001b[0;31m             \u001b[0;32mwhile\u001b[0m \u001b[0mself\u001b[0m\u001b[0;34m.\u001b[0m\u001b[0mdispatch_one_batch\u001b[0m\u001b[0;34m(\u001b[0m\u001b[0miterator\u001b[0m\u001b[0;34m)\u001b[0m\u001b[0;34m:\u001b[0m\u001b[0;34m\u001b[0m\u001b[0m\n\u001b[0m\u001b[1;32m    780\u001b[0m                 \u001b[0mself\u001b[0m\u001b[0;34m.\u001b[0m\u001b[0m_iterating\u001b[0m \u001b[0;34m=\u001b[0m \u001b[0mTrue\u001b[0m\u001b[0;34m\u001b[0m\u001b[0m\n\u001b[1;32m    781\u001b[0m             \u001b[0;32melse\u001b[0m\u001b[0;34m:\u001b[0m\u001b[0;34m\u001b[0m\u001b[0m\n",
      "\u001b[0;32m/Users/sileshu/anaconda/lib/python2.7/site-packages/sklearn/externals/joblib/parallel.pyc\u001b[0m in \u001b[0;36mdispatch_one_batch\u001b[0;34m(self, iterator)\u001b[0m\n\u001b[1;32m    623\u001b[0m                 \u001b[0;32mreturn\u001b[0m \u001b[0mFalse\u001b[0m\u001b[0;34m\u001b[0m\u001b[0m\n\u001b[1;32m    624\u001b[0m             \u001b[0;32melse\u001b[0m\u001b[0;34m:\u001b[0m\u001b[0;34m\u001b[0m\u001b[0m\n\u001b[0;32m--> 625\u001b[0;31m                 \u001b[0mself\u001b[0m\u001b[0;34m.\u001b[0m\u001b[0m_dispatch\u001b[0m\u001b[0;34m(\u001b[0m\u001b[0mtasks\u001b[0m\u001b[0;34m)\u001b[0m\u001b[0;34m\u001b[0m\u001b[0m\n\u001b[0m\u001b[1;32m    626\u001b[0m                 \u001b[0;32mreturn\u001b[0m \u001b[0mTrue\u001b[0m\u001b[0;34m\u001b[0m\u001b[0m\n\u001b[1;32m    627\u001b[0m \u001b[0;34m\u001b[0m\u001b[0m\n",
      "\u001b[0;32m/Users/sileshu/anaconda/lib/python2.7/site-packages/sklearn/externals/joblib/parallel.pyc\u001b[0m in \u001b[0;36m_dispatch\u001b[0;34m(self, batch)\u001b[0m\n\u001b[1;32m    586\u001b[0m         \u001b[0mdispatch_timestamp\u001b[0m \u001b[0;34m=\u001b[0m \u001b[0mtime\u001b[0m\u001b[0;34m.\u001b[0m\u001b[0mtime\u001b[0m\u001b[0;34m(\u001b[0m\u001b[0;34m)\u001b[0m\u001b[0;34m\u001b[0m\u001b[0m\n\u001b[1;32m    587\u001b[0m         \u001b[0mcb\u001b[0m \u001b[0;34m=\u001b[0m \u001b[0mBatchCompletionCallBack\u001b[0m\u001b[0;34m(\u001b[0m\u001b[0mdispatch_timestamp\u001b[0m\u001b[0;34m,\u001b[0m \u001b[0mlen\u001b[0m\u001b[0;34m(\u001b[0m\u001b[0mbatch\u001b[0m\u001b[0;34m)\u001b[0m\u001b[0;34m,\u001b[0m \u001b[0mself\u001b[0m\u001b[0;34m)\u001b[0m\u001b[0;34m\u001b[0m\u001b[0m\n\u001b[0;32m--> 588\u001b[0;31m         \u001b[0mjob\u001b[0m \u001b[0;34m=\u001b[0m \u001b[0mself\u001b[0m\u001b[0;34m.\u001b[0m\u001b[0m_backend\u001b[0m\u001b[0;34m.\u001b[0m\u001b[0mapply_async\u001b[0m\u001b[0;34m(\u001b[0m\u001b[0mbatch\u001b[0m\u001b[0;34m,\u001b[0m \u001b[0mcallback\u001b[0m\u001b[0;34m=\u001b[0m\u001b[0mcb\u001b[0m\u001b[0;34m)\u001b[0m\u001b[0;34m\u001b[0m\u001b[0m\n\u001b[0m\u001b[1;32m    589\u001b[0m         \u001b[0mself\u001b[0m\u001b[0;34m.\u001b[0m\u001b[0m_jobs\u001b[0m\u001b[0;34m.\u001b[0m\u001b[0mappend\u001b[0m\u001b[0;34m(\u001b[0m\u001b[0mjob\u001b[0m\u001b[0;34m)\u001b[0m\u001b[0;34m\u001b[0m\u001b[0m\n\u001b[1;32m    590\u001b[0m \u001b[0;34m\u001b[0m\u001b[0m\n",
      "\u001b[0;32m/Users/sileshu/anaconda/lib/python2.7/site-packages/sklearn/externals/joblib/_parallel_backends.pyc\u001b[0m in \u001b[0;36mapply_async\u001b[0;34m(self, func, callback)\u001b[0m\n\u001b[1;32m    109\u001b[0m     \u001b[0;32mdef\u001b[0m \u001b[0mapply_async\u001b[0m\u001b[0;34m(\u001b[0m\u001b[0mself\u001b[0m\u001b[0;34m,\u001b[0m \u001b[0mfunc\u001b[0m\u001b[0;34m,\u001b[0m \u001b[0mcallback\u001b[0m\u001b[0;34m=\u001b[0m\u001b[0mNone\u001b[0m\u001b[0;34m)\u001b[0m\u001b[0;34m:\u001b[0m\u001b[0;34m\u001b[0m\u001b[0m\n\u001b[1;32m    110\u001b[0m         \u001b[0;34m\"\"\"Schedule a func to be run\"\"\"\u001b[0m\u001b[0;34m\u001b[0m\u001b[0m\n\u001b[0;32m--> 111\u001b[0;31m         \u001b[0mresult\u001b[0m \u001b[0;34m=\u001b[0m \u001b[0mImmediateResult\u001b[0m\u001b[0;34m(\u001b[0m\u001b[0mfunc\u001b[0m\u001b[0;34m)\u001b[0m\u001b[0;34m\u001b[0m\u001b[0m\n\u001b[0m\u001b[1;32m    112\u001b[0m         \u001b[0;32mif\u001b[0m \u001b[0mcallback\u001b[0m\u001b[0;34m:\u001b[0m\u001b[0;34m\u001b[0m\u001b[0m\n\u001b[1;32m    113\u001b[0m             \u001b[0mcallback\u001b[0m\u001b[0;34m(\u001b[0m\u001b[0mresult\u001b[0m\u001b[0;34m)\u001b[0m\u001b[0;34m\u001b[0m\u001b[0m\n",
      "\u001b[0;32m/Users/sileshu/anaconda/lib/python2.7/site-packages/sklearn/externals/joblib/_parallel_backends.pyc\u001b[0m in \u001b[0;36m__init__\u001b[0;34m(self, batch)\u001b[0m\n\u001b[1;32m    330\u001b[0m         \u001b[0;31m# Don't delay the application, to avoid keeping the input\u001b[0m\u001b[0;34m\u001b[0m\u001b[0;34m\u001b[0m\u001b[0m\n\u001b[1;32m    331\u001b[0m         \u001b[0;31m# arguments in memory\u001b[0m\u001b[0;34m\u001b[0m\u001b[0;34m\u001b[0m\u001b[0m\n\u001b[0;32m--> 332\u001b[0;31m         \u001b[0mself\u001b[0m\u001b[0;34m.\u001b[0m\u001b[0mresults\u001b[0m \u001b[0;34m=\u001b[0m \u001b[0mbatch\u001b[0m\u001b[0;34m(\u001b[0m\u001b[0;34m)\u001b[0m\u001b[0;34m\u001b[0m\u001b[0m\n\u001b[0m\u001b[1;32m    333\u001b[0m \u001b[0;34m\u001b[0m\u001b[0m\n\u001b[1;32m    334\u001b[0m     \u001b[0;32mdef\u001b[0m \u001b[0mget\u001b[0m\u001b[0;34m(\u001b[0m\u001b[0mself\u001b[0m\u001b[0;34m)\u001b[0m\u001b[0;34m:\u001b[0m\u001b[0;34m\u001b[0m\u001b[0m\n",
      "\u001b[0;32m/Users/sileshu/anaconda/lib/python2.7/site-packages/sklearn/externals/joblib/parallel.pyc\u001b[0m in \u001b[0;36m__call__\u001b[0;34m(self)\u001b[0m\n\u001b[1;32m    129\u001b[0m \u001b[0;34m\u001b[0m\u001b[0m\n\u001b[1;32m    130\u001b[0m     \u001b[0;32mdef\u001b[0m \u001b[0m__call__\u001b[0m\u001b[0;34m(\u001b[0m\u001b[0mself\u001b[0m\u001b[0;34m)\u001b[0m\u001b[0;34m:\u001b[0m\u001b[0;34m\u001b[0m\u001b[0m\n\u001b[0;32m--> 131\u001b[0;31m         \u001b[0;32mreturn\u001b[0m \u001b[0;34m[\u001b[0m\u001b[0mfunc\u001b[0m\u001b[0;34m(\u001b[0m\u001b[0;34m*\u001b[0m\u001b[0margs\u001b[0m\u001b[0;34m,\u001b[0m \u001b[0;34m**\u001b[0m\u001b[0mkwargs\u001b[0m\u001b[0;34m)\u001b[0m \u001b[0;32mfor\u001b[0m \u001b[0mfunc\u001b[0m\u001b[0;34m,\u001b[0m \u001b[0margs\u001b[0m\u001b[0;34m,\u001b[0m \u001b[0mkwargs\u001b[0m \u001b[0;32min\u001b[0m \u001b[0mself\u001b[0m\u001b[0;34m.\u001b[0m\u001b[0mitems\u001b[0m\u001b[0;34m]\u001b[0m\u001b[0;34m\u001b[0m\u001b[0m\n\u001b[0m\u001b[1;32m    132\u001b[0m \u001b[0;34m\u001b[0m\u001b[0m\n\u001b[1;32m    133\u001b[0m     \u001b[0;32mdef\u001b[0m \u001b[0m__len__\u001b[0m\u001b[0;34m(\u001b[0m\u001b[0mself\u001b[0m\u001b[0;34m)\u001b[0m\u001b[0;34m:\u001b[0m\u001b[0;34m\u001b[0m\u001b[0m\n",
      "\u001b[0;32m/Users/sileshu/anaconda/lib/python2.7/site-packages/sklearn/multiclass.pyc\u001b[0m in \u001b[0;36m_fit_binary\u001b[0;34m(estimator, X, y, classes)\u001b[0m\n\u001b[1;32m     78\u001b[0m     \u001b[0;32melse\u001b[0m\u001b[0;34m:\u001b[0m\u001b[0;34m\u001b[0m\u001b[0m\n\u001b[1;32m     79\u001b[0m         \u001b[0mestimator\u001b[0m \u001b[0;34m=\u001b[0m \u001b[0mclone\u001b[0m\u001b[0;34m(\u001b[0m\u001b[0mestimator\u001b[0m\u001b[0;34m)\u001b[0m\u001b[0;34m\u001b[0m\u001b[0m\n\u001b[0;32m---> 80\u001b[0;31m         \u001b[0mestimator\u001b[0m\u001b[0;34m.\u001b[0m\u001b[0mfit\u001b[0m\u001b[0;34m(\u001b[0m\u001b[0mX\u001b[0m\u001b[0;34m,\u001b[0m \u001b[0my\u001b[0m\u001b[0;34m)\u001b[0m\u001b[0;34m\u001b[0m\u001b[0m\n\u001b[0m\u001b[1;32m     81\u001b[0m     \u001b[0;32mreturn\u001b[0m \u001b[0mestimator\u001b[0m\u001b[0;34m\u001b[0m\u001b[0m\n\u001b[1;32m     82\u001b[0m \u001b[0;34m\u001b[0m\u001b[0m\n",
      "\u001b[0;32m/Users/sileshu/anaconda/lib/python2.7/site-packages/sklearn/svm/base.pyc\u001b[0m in \u001b[0;36mfit\u001b[0;34m(self, X, y, sample_weight)\u001b[0m\n\u001b[1;32m    148\u001b[0m \u001b[0;34m\u001b[0m\u001b[0m\n\u001b[1;32m    149\u001b[0m         \u001b[0mX\u001b[0m\u001b[0;34m,\u001b[0m \u001b[0my\u001b[0m \u001b[0;34m=\u001b[0m \u001b[0mcheck_X_y\u001b[0m\u001b[0;34m(\u001b[0m\u001b[0mX\u001b[0m\u001b[0;34m,\u001b[0m \u001b[0my\u001b[0m\u001b[0;34m,\u001b[0m \u001b[0mdtype\u001b[0m\u001b[0;34m=\u001b[0m\u001b[0mnp\u001b[0m\u001b[0;34m.\u001b[0m\u001b[0mfloat64\u001b[0m\u001b[0;34m,\u001b[0m \u001b[0morder\u001b[0m\u001b[0;34m=\u001b[0m\u001b[0;34m'C'\u001b[0m\u001b[0;34m,\u001b[0m \u001b[0maccept_sparse\u001b[0m\u001b[0;34m=\u001b[0m\u001b[0;34m'csr'\u001b[0m\u001b[0;34m)\u001b[0m\u001b[0;34m\u001b[0m\u001b[0m\n\u001b[0;32m--> 150\u001b[0;31m         \u001b[0my\u001b[0m \u001b[0;34m=\u001b[0m \u001b[0mself\u001b[0m\u001b[0;34m.\u001b[0m\u001b[0m_validate_targets\u001b[0m\u001b[0;34m(\u001b[0m\u001b[0my\u001b[0m\u001b[0;34m)\u001b[0m\u001b[0;34m\u001b[0m\u001b[0m\n\u001b[0m\u001b[1;32m    151\u001b[0m \u001b[0;34m\u001b[0m\u001b[0m\n\u001b[1;32m    152\u001b[0m         sample_weight = np.asarray([]\n",
      "\u001b[0;32m/Users/sileshu/anaconda/lib/python2.7/site-packages/sklearn/svm/base.pyc\u001b[0m in \u001b[0;36m_validate_targets\u001b[0;34m(self, y)\u001b[0m\n\u001b[1;32m    500\u001b[0m         \u001b[0mcheck_classification_targets\u001b[0m\u001b[0;34m(\u001b[0m\u001b[0my\u001b[0m\u001b[0;34m)\u001b[0m\u001b[0;34m\u001b[0m\u001b[0m\n\u001b[1;32m    501\u001b[0m         \u001b[0mcls\u001b[0m\u001b[0;34m,\u001b[0m \u001b[0my\u001b[0m \u001b[0;34m=\u001b[0m \u001b[0mnp\u001b[0m\u001b[0;34m.\u001b[0m\u001b[0munique\u001b[0m\u001b[0;34m(\u001b[0m\u001b[0my_\u001b[0m\u001b[0;34m,\u001b[0m \u001b[0mreturn_inverse\u001b[0m\u001b[0;34m=\u001b[0m\u001b[0mTrue\u001b[0m\u001b[0;34m)\u001b[0m\u001b[0;34m\u001b[0m\u001b[0m\n\u001b[0;32m--> 502\u001b[0;31m         \u001b[0mself\u001b[0m\u001b[0;34m.\u001b[0m\u001b[0mclass_weight_\u001b[0m \u001b[0;34m=\u001b[0m \u001b[0mcompute_class_weight\u001b[0m\u001b[0;34m(\u001b[0m\u001b[0mself\u001b[0m\u001b[0;34m.\u001b[0m\u001b[0mclass_weight\u001b[0m\u001b[0;34m,\u001b[0m \u001b[0mcls\u001b[0m\u001b[0;34m,\u001b[0m \u001b[0my_\u001b[0m\u001b[0;34m)\u001b[0m\u001b[0;34m\u001b[0m\u001b[0m\n\u001b[0m\u001b[1;32m    503\u001b[0m         \u001b[0;32mif\u001b[0m \u001b[0mlen\u001b[0m\u001b[0;34m(\u001b[0m\u001b[0mcls\u001b[0m\u001b[0;34m)\u001b[0m \u001b[0;34m<\u001b[0m \u001b[0;36m2\u001b[0m\u001b[0;34m:\u001b[0m\u001b[0;34m\u001b[0m\u001b[0m\n\u001b[1;32m    504\u001b[0m             raise ValueError(\n",
      "\u001b[0;32m/Users/sileshu/anaconda/lib/python2.7/site-packages/sklearn/utils/class_weight.pyc\u001b[0m in \u001b[0;36mcompute_class_weight\u001b[0;34m(class_weight, classes, y)\u001b[0m\n\u001b[1;32m     64\u001b[0m             \u001b[0mi\u001b[0m \u001b[0;34m=\u001b[0m \u001b[0mnp\u001b[0m\u001b[0;34m.\u001b[0m\u001b[0msearchsorted\u001b[0m\u001b[0;34m(\u001b[0m\u001b[0mclasses\u001b[0m\u001b[0;34m,\u001b[0m \u001b[0mc\u001b[0m\u001b[0;34m)\u001b[0m\u001b[0;34m\u001b[0m\u001b[0m\n\u001b[1;32m     65\u001b[0m             \u001b[0;32mif\u001b[0m \u001b[0mi\u001b[0m \u001b[0;34m>=\u001b[0m \u001b[0mlen\u001b[0m\u001b[0;34m(\u001b[0m\u001b[0mclasses\u001b[0m\u001b[0;34m)\u001b[0m \u001b[0;32mor\u001b[0m \u001b[0mclasses\u001b[0m\u001b[0;34m[\u001b[0m\u001b[0mi\u001b[0m\u001b[0;34m]\u001b[0m \u001b[0;34m!=\u001b[0m \u001b[0mc\u001b[0m\u001b[0;34m:\u001b[0m\u001b[0;34m\u001b[0m\u001b[0m\n\u001b[0;32m---> 66\u001b[0;31m                 \u001b[0;32mraise\u001b[0m \u001b[0mValueError\u001b[0m\u001b[0;34m(\u001b[0m\u001b[0;34m\"Class label {} not present.\"\u001b[0m\u001b[0;34m.\u001b[0m\u001b[0mformat\u001b[0m\u001b[0;34m(\u001b[0m\u001b[0mc\u001b[0m\u001b[0;34m)\u001b[0m\u001b[0;34m)\u001b[0m\u001b[0;34m\u001b[0m\u001b[0m\n\u001b[0m\u001b[1;32m     67\u001b[0m             \u001b[0;32melse\u001b[0m\u001b[0;34m:\u001b[0m\u001b[0;34m\u001b[0m\u001b[0m\n\u001b[1;32m     68\u001b[0m                 \u001b[0mweight\u001b[0m\u001b[0;34m[\u001b[0m\u001b[0mi\u001b[0m\u001b[0;34m]\u001b[0m \u001b[0;34m=\u001b[0m \u001b[0mclass_weight\u001b[0m\u001b[0;34m[\u001b[0m\u001b[0mc\u001b[0m\u001b[0;34m]\u001b[0m\u001b[0;34m\u001b[0m\u001b[0m\n",
      "\u001b[0;31mValueError\u001b[0m: Class label 2 not present."
     ]
    }
   ],
   "source": [
    "clf_7 = OneVsRestClassifier(SVC(probability=True, class_weight = inter_safety_dic))\n",
    "# cv_results = cross_validate(clf, x_train, y_train, cv=5)\n",
    "clf_7.fit(x_train,encoded_y_train)\n",
    "y_pre_7 = clf_7.predict(x_test)\n",
    "y_pos_7 = clf_7.predict_proba(x_test)\n",
    "\n",
    "print precision_score(encoded_y_test,y_pre_7,average = 'weighted')\n",
    "print precision_score(encoded_y_test,y_pre_7,average = 'micro')\n",
    "print recall_score(encoded_y_test,y_pre_7,average = 'weighted')\n",
    "print recall_score(encoded_y_test,y_pre_7,average = 'micro')\n",
    "print f1_score(encoded_y_test,y_pre_7,average = 'weighted')\n",
    "print f1_score(encoded_y_test,y_pre_7,average = 'micro')"
   ]
  },
  {
   "cell_type": "code",
   "execution_count": 156,
   "metadata": {
    "collapsed": true,
    "jupyter": {
     "outputs_hidden": true
    }
   },
   "outputs": [],
   "source": [
    "clf_rf_2 = RandomForestClassifier(class_weight = inter_safety)\n",
    "scores_7 = cross_validate(clf_rf_2, x_total, encoded_y_total, scoring=scoring,\n",
    "                         cv=5, n_jobs=-1, return_train_score=False, return_estimator=True)"
   ]
  },
  {
   "cell_type": "code",
   "execution_count": 157,
   "metadata": {},
   "outputs": [
    {
     "name": "stdout",
     "output_type": "stream",
     "text": [
      "test_precision_weighted:0.84\n",
      "test_recall_weighted:0.65\n",
      "test_f1_weighted:0.67\n",
      "test_precision_micro:0.88\n",
      "test_recall_micro:0.64\n",
      "test_f1_micro:0.74\n"
     ]
    }
   ],
   "source": [
    "show_results(scores_7)"
   ]
  },
  {
   "cell_type": "code",
   "execution_count": 185,
   "metadata": {},
   "outputs": [
    {
     "name": "stdout",
     "output_type": "stream",
     "text": [
      "precision_micro:0.87\n",
      "recall_micro:0.64\n",
      "f1_micro:0.74\n",
      "precision_weighted:0.79\n",
      "recall_weighted:0.65\n",
      "f1_weighted:0.66\n",
      "risk_factor:0.4941\n"
     ]
    }
   ],
   "source": [
    "clf_rf_2 = RandomForestClassifier(class_weight = inter_safety)\n",
    "clf_rf_2.fit(x_train,encoded_y_train)\n",
    "y_pre_8 = clf_rf_2.predict(x_test)\n",
    "y_pos_8 = clf_rf_2.predict_proba(x_test)\n",
    "show_test_results(encoded_y_test, y_pre_8, trans_prob(y_pos_8), class_weight)"
   ]
  },
  {
   "cell_type": "code",
   "execution_count": 21,
   "metadata": {},
   "outputs": [],
   "source": [
    "clf_dt_2 = DecisionTreeClassifier(class_weight = inter_safety)\n",
    "scores_8 = cross_validate(clf_dt_2, x_total, encoded_y_total, scoring=scoring,\n",
    "                         cv=5, n_jobs=-1, return_train_score=False, return_estimator=True)"
   ]
  },
  {
   "cell_type": "code",
   "execution_count": 22,
   "metadata": {},
   "outputs": [
    {
     "name": "stdout",
     "output_type": "stream",
     "text": [
      "test_precision_weighted:0.77\n",
      "test_recall_weighted:0.78\n",
      "test_f1_weighted:0.77\n",
      "test_precision_micro:0.79\n",
      "test_recall_micro:0.78\n",
      "test_f1_micro:0.78\n"
     ]
    }
   ],
   "source": [
    "show_results(scores_8)"
   ]
  },
  {
   "cell_type": "code",
   "execution_count": 23,
   "metadata": {},
   "outputs": [
    {
     "name": "stdout",
     "output_type": "stream",
     "text": [
      "precision_micro:0.80\n",
      "recall_micro:0.79\n",
      "f1_micro:0.80\n",
      "precision_weighted:0.77\n",
      "recall_weighted:0.78\n",
      "f1_weighted:0.77\n",
      "risk_factor:0.3803\n"
     ]
    }
   ],
   "source": [
    "clf_dt_2 = DecisionTreeClassifier(class_weight = inter_safety)\n",
    "clf_dt_2.fit(x_train,encoded_y_train)\n",
    "y_pre_9 = clf_dt_2.predict(x_test)\n",
    "y_pos_9 = clf_dt_2.predict_proba(x_test)\n",
    "show_test_results(encoded_y_test, y_pre_9, trans_prob(y_pos_9), class_weight)"
   ]
  },
  {
   "cell_type": "code",
   "execution_count": 163,
   "metadata": {
    "collapsed": true,
    "jupyter": {
     "outputs_hidden": true
    }
   },
   "outputs": [],
   "source": [
    "clf_rf_3 = RandomForestClassifier(class_weight = inter_safety)\n",
    "scores_9 = cross_validate(clf_rf_3, x_total_ngram, encoded_y_total, scoring=scoring,\n",
    "                         cv=5, n_jobs=-1, return_train_score=False, return_estimator=True)"
   ]
  },
  {
   "cell_type": "code",
   "execution_count": 164,
   "metadata": {},
   "outputs": [
    {
     "name": "stdout",
     "output_type": "stream",
     "text": [
      "test_precision_weighted:0.82\n",
      "test_recall_weighted:0.62\n",
      "test_f1_weighted:0.64\n",
      "test_precision_micro:0.88\n",
      "test_recall_micro:0.61\n",
      "test_f1_micro:0.72\n"
     ]
    }
   ],
   "source": [
    "show_results(scores_9)"
   ]
  },
  {
   "cell_type": "code",
   "execution_count": 24,
   "metadata": {},
   "outputs": [
    {
     "name": "stderr",
     "output_type": "stream",
     "text": [
      "/home/lidolla/anaconda2/lib/python2.7/site-packages/sklearn/ensemble/forest.py:246: FutureWarning: The default value of n_estimators will change from 10 in version 0.20 to 100 in 0.22.\n",
      "  \"10 in version 0.20 to 100 in 0.22.\", FutureWarning)\n"
     ]
    },
    {
     "name": "stdout",
     "output_type": "stream",
     "text": [
      "precision_micro:0.87\n",
      "recall_micro:0.61\n",
      "f1_micro:0.72\n",
      "precision_weighted:0.73\n",
      "recall_weighted:0.61\n",
      "f1_weighted:0.62\n",
      "risk_factor:0.4827\n"
     ]
    }
   ],
   "source": [
    "clf_rf_3 = RandomForestClassifier(class_weight = inter_safety)\n",
    "clf_rf_3.fit(x_train_ngram,encoded_y_train)\n",
    "y_pre_10 = clf_rf_3.predict(x_test_ngram)\n",
    "y_pos_10 = clf_rf_3.predict_proba(x_test_ngram)\n",
    "show_test_results(encoded_y_test, y_pre_10, trans_prob(y_pos_10), class_weight)"
   ]
  },
  {
   "cell_type": "code",
   "execution_count": 25,
   "metadata": {},
   "outputs": [],
   "source": [
    "clf_dt_3 = DecisionTreeClassifier(class_weight = inter_safety)\n",
    "scores_10 = cross_validate(clf_dt_3, x_total_ngram, encoded_y_total, scoring=scoring,\n",
    "                         cv=5, n_jobs=-1, return_train_score=False, return_estimator=True)"
   ]
  },
  {
   "cell_type": "code",
   "execution_count": 26,
   "metadata": {},
   "outputs": [
    {
     "name": "stdout",
     "output_type": "stream",
     "text": [
      "test_precision_weighted:0.71\n",
      "test_recall_weighted:0.73\n",
      "test_f1_weighted:0.71\n",
      "test_precision_micro:0.74\n",
      "test_recall_micro:0.72\n",
      "test_f1_micro:0.73\n"
     ]
    }
   ],
   "source": [
    "show_results(scores_10)"
   ]
  },
  {
   "cell_type": "code",
   "execution_count": 27,
   "metadata": {},
   "outputs": [
    {
     "name": "stdout",
     "output_type": "stream",
     "text": [
      "precision_micro:0.75\n",
      "recall_micro:0.73\n",
      "f1_micro:0.74\n",
      "precision_weighted:0.71\n",
      "recall_weighted:0.70\n",
      "f1_weighted:0.70\n",
      "risk_factor:0.5455\n"
     ]
    }
   ],
   "source": [
    "clf_dt_3 = DecisionTreeClassifier(class_weight = inter_safety)\n",
    "clf_dt_3.fit(x_train_ngram,encoded_y_train)\n",
    "y_pre_11 = clf_dt_3.predict(x_test_ngram)\n",
    "y_pos_11 = clf_dt_3.predict_proba(x_test_ngram)\n",
    "show_test_results(encoded_y_test, y_pre_11, trans_prob(y_pos_11), class_weight)"
   ]
  },
  {
   "cell_type": "code",
   "execution_count": 28,
   "metadata": {},
   "outputs": [
    {
     "name": "stdout",
     "output_type": "stream",
     "text": [
      "precision_micro:0.78\n",
      "recall_micro:0.74\n",
      "f1_micro:0.76\n",
      "precision_weighted:0.73\n",
      "recall_weighted:0.72\n",
      "f1_weighted:0.72\n",
      "risk_factor:0.4641\n"
     ]
    }
   ],
   "source": [
    "clf_dt_4 = DecisionTreeClassifier()\n",
    "clf_dt_4.fit(x_train_ngram,encoded_y_train)\n",
    "y_pre_12 = clf_dt_4.predict(x_test_ngram)\n",
    "y_pos_12 = clf_dt_4.predict_proba(x_test_ngram)\n",
    "y_pre_12, y_pos_12 = filtering(y_pre_12, trans_prob(y_pos_12), .11)\n",
    "show_test_results(encoded_y_test, y_pre_12, y_pos_12, class_weight)\n"
   ]
  },
  {
   "cell_type": "code",
   "execution_count": 29,
   "metadata": {},
   "outputs": [
    {
     "name": "stdout",
     "output_type": "stream",
     "text": [
      "precision_micro:0.84\n",
      "recall_micro:0.81\n",
      "f1_micro:0.83\n",
      "precision_weighted:0.81\n",
      "recall_weighted:0.80\n",
      "f1_weighted:0.80\n",
      "risk_factor:0.2903\n"
     ]
    }
   ],
   "source": [
    "clf_dt_5 = DecisionTreeClassifier()\n",
    "clf_dt_5.fit(x_train,encoded_y_train)\n",
    "y_pre_13 = clf_dt_5.predict(x_test)\n",
    "y_pos_13 = clf_dt_5.predict_proba(x_test)\n",
    "y_pre_13, y_pos_13 = filtering(y_pre_13, trans_prob(y_pos_13), .11)\n",
    "show_test_results(encoded_y_test, y_pre_13, y_pos_13, class_weight)"
   ]
  },
  {
   "cell_type": "code",
   "execution_count": 191,
   "metadata": {},
   "outputs": [
    {
     "name": "stdout",
     "output_type": "stream",
     "text": [
      "precision_micro:0.88\n",
      "recall_micro:0.65\n",
      "f1_micro:0.75\n",
      "precision_weighted:0.78\n",
      "recall_weighted:0.65\n",
      "f1_weighted:0.66\n",
      "risk_factor:0.4262\n"
     ]
    }
   ],
   "source": [
    "clf_rf_4 = RandomForestClassifier()\n",
    "clf_rf_4.fit(x_train_ngram,encoded_y_train)\n",
    "y_pre_14 = clf_rf_4.predict(x_test_ngram)\n",
    "y_pos_14 = clf_rf_4.predict_proba(x_test_ngram)\n",
    "y_pre_14, y_pos_14 = filtering(y_pre_14, trans_prob(y_pos_14), .11)\n",
    "show_test_results(encoded_y_test, y_pre_14, y_pos_14, class_weight)"
   ]
  },
  {
   "cell_type": "code",
   "execution_count": 192,
   "metadata": {},
   "outputs": [
    {
     "name": "stdout",
     "output_type": "stream",
     "text": [
      "precision_micro:0.90\n",
      "recall_micro:0.72\n",
      "f1_micro:0.80\n",
      "precision_weighted:0.83\n",
      "recall_weighted:0.72\n",
      "f1_weighted:0.74\n",
      "risk_factor:0.3941\n"
     ]
    }
   ],
   "source": [
    "clf_rf_5 = RandomForestClassifier()\n",
    "clf_rf_5.fit(x_train,encoded_y_train)\n",
    "y_pre_15 = clf_rf_5.predict(x_test)\n",
    "y_pos_15 = clf_rf_5.predict_proba(x_test)\n",
    "y_pre_15, y_pos_15 = filtering(y_pre_15, trans_prob(y_pos_15), .11)\n",
    "show_test_results(encoded_y_test, y_pre_15, y_pos_15, class_weight)"
   ]
  },
  {
   "cell_type": "code",
   "execution_count": 65,
   "metadata": {},
   "outputs": [
    {
     "name": "stdout",
     "output_type": "stream",
     "text": [
      "test_precision_weighted:0.64\n",
      "test_recall_weighted:0.64\n",
      "test_f1_weighted:0.62\n",
      "test_precision_micro:0.83\n",
      "test_recall_micro:0.65\n",
      "test_f1_micro:0.73\n"
     ]
    }
   ],
   "source": [
    "# clfs using feature vectors\n",
    "clf_16 = OneVsRestClassifier(SVC(kernel = 'linear', probability=True))\n",
    "scores_16 = cross_validate(clf_16, train_vec, encoded_y_total, scoring=scoring,\n",
    "                         cv=5, n_jobs=-1, return_train_score=False, return_estimator=True)\n",
    "show_results(scores_16)"
   ]
  },
  {
   "cell_type": "code",
   "execution_count": 17,
   "metadata": {},
   "outputs": [
    {
     "name": "stdout",
     "output_type": "stream",
     "text": [
      "precision_micro:0.81\n",
      "recall_micro:0.64\n",
      "f1_micro:0.72\n",
      "precision_weighted:0.62\n",
      "recall_weighted:0.63\n",
      "f1_weighted:0.61\n",
      "risk_factor:0.4308\n"
     ]
    }
   ],
   "source": [
    "clf_16 = OneVsRestClassifier(SVC(kernel = 'linear', probability=True))\n",
    "clf_16.fit(train_vec, encoded_y_total)\n",
    "y_pre_16 = clf_16.predict(test_vec)\n",
    "y_pos_16 = clf_16.predict_proba(test_vec)\n",
    "show_test_results(encoded_y_test, y_pre_16, y_pos_16, class_weight)"
   ]
  },
  {
   "cell_type": "code",
   "execution_count": null,
   "metadata": {
    "collapsed": true,
    "jupyter": {
     "outputs_hidden": true
    }
   },
   "outputs": [],
   "source": []
  },
  {
   "cell_type": "code",
   "execution_count": 66,
   "metadata": {},
   "outputs": [
    {
     "name": "stdout",
     "output_type": "stream",
     "text": [
      "test_precision_weighted:0.72\n",
      "test_recall_weighted:0.66\n",
      "test_f1_weighted:0.67\n",
      "test_precision_micro:0.80\n",
      "test_recall_micro:0.66\n",
      "test_f1_micro:0.72\n"
     ]
    }
   ],
   "source": [
    "clf_rf_6 = RandomForestClassifier()\n",
    "scores_17 = cross_validate(clf_rf_6, train_vec, encoded_y_total, scoring=scoring,\n",
    "                         cv=5, n_jobs=-1, return_train_score=False, return_estimator=True)\n",
    "show_results(scores_17)"
   ]
  },
  {
   "cell_type": "code",
   "execution_count": 77,
   "metadata": {},
   "outputs": [
    {
     "name": "stdout",
     "output_type": "stream",
     "text": [
      "precision_micro:0.76\n",
      "recall_micro:0.60\n",
      "f1_micro:0.67\n",
      "precision_weighted:0.65\n",
      "recall_weighted:0.60\n",
      "f1_weighted:0.60\n",
      "risk_factor:0.5956\n"
     ]
    }
   ],
   "source": [
    "clf_rf_6 = RandomForestClassifier()\n",
    "clf_rf_6.fit(train_vec, encoded_y_total)\n",
    "y_pre_17 = clf_rf_6.predict(test_vec)\n",
    "y_pos_17 = clf_rf_6.predict_proba(test_vec)\n",
    "show_test_results(encoded_y_test, y_pre_17, trans_prob(y_pos_17), class_weight)"
   ]
  },
  {
   "cell_type": "code",
   "execution_count": 30,
   "metadata": {},
   "outputs": [
    {
     "ename": "NameError",
     "evalue": "name 'train_vec' is not defined",
     "output_type": "error",
     "traceback": [
      "\u001b[0;31m---------------------------------------------------------------------------\u001b[0m",
      "\u001b[0;31mNameError\u001b[0m                                 Traceback (most recent call last)",
      "\u001b[0;32m<ipython-input-30-0d12d539f7cf>\u001b[0m in \u001b[0;36m<module>\u001b[0;34m()\u001b[0m\n\u001b[1;32m      1\u001b[0m \u001b[0mclf_dt_6\u001b[0m \u001b[0;34m=\u001b[0m \u001b[0mDecisionTreeClassifier\u001b[0m\u001b[0;34m(\u001b[0m\u001b[0;34m)\u001b[0m\u001b[0;34m\u001b[0m\u001b[0m\n\u001b[0;32m----> 2\u001b[0;31m scores_18 = cross_validate(clf_dt_6, train_vec, encoded_y_total, scoring=scoring,\n\u001b[0m\u001b[1;32m      3\u001b[0m                          cv=5, n_jobs=-1, return_train_score=False, return_estimator=True)\n\u001b[1;32m      4\u001b[0m \u001b[0mshow_results\u001b[0m\u001b[0;34m(\u001b[0m\u001b[0mscores_18\u001b[0m\u001b[0;34m)\u001b[0m\u001b[0;34m\u001b[0m\u001b[0m\n",
      "\u001b[0;31mNameError\u001b[0m: name 'train_vec' is not defined"
     ]
    }
   ],
   "source": [
    "clf_dt_6 = DecisionTreeClassifier()\n",
    "scores_18 = cross_validate(clf_dt_6, train_vec, encoded_y_total, scoring=scoring,\n",
    "                         cv=5, n_jobs=-1, return_train_score=False, return_estimator=True)\n",
    "show_results(scores_18)"
   ]
  },
  {
   "cell_type": "code",
   "execution_count": 31,
   "metadata": {},
   "outputs": [
    {
     "ename": "NameError",
     "evalue": "name 'train_vec' is not defined",
     "output_type": "error",
     "traceback": [
      "\u001b[0;31m---------------------------------------------------------------------------\u001b[0m",
      "\u001b[0;31mNameError\u001b[0m                                 Traceback (most recent call last)",
      "\u001b[0;32m<ipython-input-31-2455c2fbe6d7>\u001b[0m in \u001b[0;36m<module>\u001b[0;34m()\u001b[0m\n\u001b[1;32m      1\u001b[0m \u001b[0mclf_dt_6\u001b[0m \u001b[0;34m=\u001b[0m \u001b[0mDecisionTreeClassifier\u001b[0m\u001b[0;34m(\u001b[0m\u001b[0;34m)\u001b[0m\u001b[0;34m\u001b[0m\u001b[0m\n\u001b[0;32m----> 2\u001b[0;31m \u001b[0mclf_dt_6\u001b[0m\u001b[0;34m.\u001b[0m\u001b[0mfit\u001b[0m\u001b[0;34m(\u001b[0m\u001b[0mtrain_vec\u001b[0m\u001b[0;34m,\u001b[0m \u001b[0mencoded_y_total\u001b[0m\u001b[0;34m)\u001b[0m\u001b[0;34m\u001b[0m\u001b[0m\n\u001b[0m\u001b[1;32m      3\u001b[0m \u001b[0my_pre_18\u001b[0m \u001b[0;34m=\u001b[0m \u001b[0mclf_dt_6\u001b[0m\u001b[0;34m.\u001b[0m\u001b[0mpredict\u001b[0m\u001b[0;34m(\u001b[0m\u001b[0mtest_vec\u001b[0m\u001b[0;34m)\u001b[0m\u001b[0;34m\u001b[0m\u001b[0m\n\u001b[1;32m      4\u001b[0m \u001b[0my_pos_18\u001b[0m \u001b[0;34m=\u001b[0m \u001b[0mclf_dt_6\u001b[0m\u001b[0;34m.\u001b[0m\u001b[0mpredict_proba\u001b[0m\u001b[0;34m(\u001b[0m\u001b[0mtest_vec\u001b[0m\u001b[0;34m)\u001b[0m\u001b[0;34m\u001b[0m\u001b[0m\n\u001b[1;32m      5\u001b[0m \u001b[0mshow_test_results\u001b[0m\u001b[0;34m(\u001b[0m\u001b[0mencoded_y_test\u001b[0m\u001b[0;34m,\u001b[0m \u001b[0my_pre_18\u001b[0m\u001b[0;34m,\u001b[0m \u001b[0mtrans_prob\u001b[0m\u001b[0;34m(\u001b[0m\u001b[0my_pos_18\u001b[0m\u001b[0;34m)\u001b[0m\u001b[0;34m,\u001b[0m \u001b[0mclass_weight\u001b[0m\u001b[0;34m)\u001b[0m\u001b[0;34m\u001b[0m\u001b[0m\n",
      "\u001b[0;31mNameError\u001b[0m: name 'train_vec' is not defined"
     ]
    }
   ],
   "source": [
    "clf_dt_6 = DecisionTreeClassifier()\n",
    "clf_dt_6.fit(train_vec, encoded_y_total)\n",
    "y_pre_18 = clf_dt_6.predict(test_vec)\n",
    "y_pos_18 = clf_dt_6.predict_proba(test_vec)\n",
    "show_test_results(encoded_y_test, y_pre_18, trans_prob(y_pos_18), class_weight)"
   ]
  },
  {
   "cell_type": "code",
   "execution_count": 91,
   "metadata": {},
   "outputs": [
    {
     "name": "stdout",
     "output_type": "stream",
     "text": [
      "precision_micro:0.92\n",
      "recall_micro:0.88\n",
      "f1_micro:0.90\n",
      "precision_weighted:0.88\n",
      "recall_weighted:0.86\n",
      "f1_weighted:0.87\n",
      "risk_factor:0.2294\n"
     ]
    }
   ],
   "source": [
    "clf_19 = OneVsRestClassifier(SVC(kernel = 'linear', probability=True))\n",
    "clf_19.fit(x_train, encoded_y_train)\n",
    "y_pre_19 = clf_19.predict(x_test)\n",
    "y_pos_19 = clf_19.predict_proba(x_test)\n",
    "y_pre_19, y_pos_19 = filtering(y_pre_19, y_pos_19, .11)\n",
    "show_test_results(encoded_y_test, y_pre_19, y_pos_19, class_weight)"
   ]
  },
  {
   "cell_type": "code",
   "execution_count": 92,
   "metadata": {},
   "outputs": [
    {
     "name": "stdout",
     "output_type": "stream",
     "text": [
      "precision_micro:0.89\n",
      "recall_micro:0.77\n",
      "f1_micro:0.83\n",
      "precision_weighted:0.83\n",
      "recall_weighted:0.77\n",
      "f1_weighted:0.78\n",
      "risk_factor:0.3084\n"
     ]
    }
   ],
   "source": [
    "clf_20 = OneVsRestClassifier(SVC(kernel = 'linear', probability=True))\n",
    "clf_20.fit(x_train_ngram, encoded_y_train)\n",
    "y_pre_20 = clf_20.predict(x_test_ngram)\n",
    "y_pos_20 = clf_20.predict_proba(x_test_ngram)\n",
    "y_pre_20, y_pos_20 = filtering(y_pre_20, y_pos_20, .11)\n",
    "show_test_results(encoded_y_test, y_pre_20, y_pos_20, class_weight)"
   ]
  },
  {
   "cell_type": "code",
   "execution_count": 93,
   "metadata": {},
   "outputs": [
    {
     "data": {
      "text/plain": [
       "TfidfVectorizer(analyzer=u'word', binary=False, decode_error=u'strict',\n",
       "        dtype=<type 'numpy.float64'>, encoding=u'utf-8', input=u'content',\n",
       "        lowercase=True, max_df=1.0, max_features=None, min_df=1,\n",
       "        ngram_range=(1, 1), norm='l2',\n",
       "        preprocessor=<function preprocess at 0x1a509c9b18>,\n",
       "        smooth_idf=True, stop_words='english', strip_accents=None,\n",
       "        sublinear_tf=False, token_pattern=u'(?u)\\\\b\\\\w\\\\w+\\\\b',\n",
       "        tokenizer=None, use_idf=True, vocabulary=None)"
      ]
     },
     "execution_count": 93,
     "metadata": {},
     "output_type": "execute_result"
    }
   ],
   "source": [
    "vectorizer"
   ]
  },
  {
   "cell_type": "code",
   "execution_count": 32,
   "metadata": {},
   "outputs": [],
   "source": [
    "with open('unigram_vectorizer.txt', 'w') as uv:\n",
    "    pickle.dump(vectorizer, uv)"
   ]
  },
  {
   "cell_type": "code",
   "execution_count": 33,
   "metadata": {},
   "outputs": [
    {
     "ename": "NameError",
     "evalue": "name 'clf' is not defined",
     "output_type": "error",
     "traceback": [
      "\u001b[0;31m---------------------------------------------------------------------------\u001b[0m",
      "\u001b[0;31mNameError\u001b[0m                                 Traceback (most recent call last)",
      "\u001b[0;32m<ipython-input-33-d227e3c706d9>\u001b[0m in \u001b[0;36m<module>\u001b[0;34m()\u001b[0m\n\u001b[1;32m      1\u001b[0m \u001b[0;32mwith\u001b[0m \u001b[0mopen\u001b[0m\u001b[0;34m(\u001b[0m\u001b[0;34m'linear_svmclf_unigram.txt'\u001b[0m\u001b[0;34m,\u001b[0m \u001b[0;34m'w'\u001b[0m\u001b[0;34m)\u001b[0m \u001b[0;32mas\u001b[0m \u001b[0mls\u001b[0m\u001b[0;34m:\u001b[0m\u001b[0;34m\u001b[0m\u001b[0m\n\u001b[0;32m----> 2\u001b[0;31m     \u001b[0mpickle\u001b[0m\u001b[0;34m.\u001b[0m\u001b[0mdump\u001b[0m\u001b[0;34m(\u001b[0m\u001b[0mclf\u001b[0m\u001b[0;34m,\u001b[0m \u001b[0mls\u001b[0m\u001b[0;34m)\u001b[0m\u001b[0;34m\u001b[0m\u001b[0m\n\u001b[0m",
      "\u001b[0;31mNameError\u001b[0m: name 'clf' is not defined"
     ]
    }
   ],
   "source": [
    "with open('linear_svmclf_unigram.txt', 'w') as ls:\n",
    "    pickle.dump(clf, ls)"
   ]
  },
  {
   "cell_type": "code",
   "execution_count": 34,
   "metadata": {},
   "outputs": [
    {
     "ename": "NameError",
     "evalue": "name 'clf_16' is not defined",
     "output_type": "error",
     "traceback": [
      "\u001b[0;31m---------------------------------------------------------------------------\u001b[0m",
      "\u001b[0;31mNameError\u001b[0m                                 Traceback (most recent call last)",
      "\u001b[0;32m<ipython-input-34-38dd94c8b46d>\u001b[0m in \u001b[0;36m<module>\u001b[0;34m()\u001b[0m\n\u001b[1;32m      1\u001b[0m \u001b[0;32mwith\u001b[0m \u001b[0mopen\u001b[0m\u001b[0;34m(\u001b[0m\u001b[0;34m'linear_svmclf_feat_vec.txt'\u001b[0m\u001b[0;34m,\u001b[0m \u001b[0;34m'w'\u001b[0m\u001b[0;34m)\u001b[0m \u001b[0;32mas\u001b[0m \u001b[0mls_vec\u001b[0m\u001b[0;34m:\u001b[0m\u001b[0;34m\u001b[0m\u001b[0m\n\u001b[0;32m----> 2\u001b[0;31m     \u001b[0mpickle\u001b[0m\u001b[0;34m.\u001b[0m\u001b[0mdump\u001b[0m\u001b[0;34m(\u001b[0m\u001b[0mclf_16\u001b[0m\u001b[0;34m,\u001b[0m \u001b[0mls_vec\u001b[0m\u001b[0;34m)\u001b[0m\u001b[0;34m\u001b[0m\u001b[0m\n\u001b[0m",
      "\u001b[0;31mNameError\u001b[0m: name 'clf_16' is not defined"
     ]
    }
   ],
   "source": [
    "with open('linear_svmclf_feat_vec.txt', 'w') as ls_vec:\n",
    "    pickle.dump(clf_16, ls_vec)"
   ]
  },
  {
   "cell_type": "code",
   "execution_count": null,
   "metadata": {
    "collapsed": true,
    "jupyter": {
     "outputs_hidden": true
    }
   },
   "outputs": [],
   "source": []
  },
  {
   "cell_type": "code",
   "execution_count": null,
   "metadata": {},
   "outputs": [],
   "source": []
  }
 ],
 "metadata": {
  "kernelspec": {
   "display_name": "Python 2",
   "language": "python",
   "name": "python2"
  },
  "language_info": {
   "codemirror_mode": {
    "name": "ipython",
    "version": 2
   },
   "file_extension": ".py",
   "mimetype": "text/x-python",
   "name": "python",
   "nbconvert_exporter": "python",
   "pygments_lexer": "ipython2",
   "version": "2.7.18"
  }
 },
 "nbformat": 4,
 "nbformat_minor": 4
}
