{
 "cells": [
  {
   "cell_type": "code",
   "execution_count": 6,
   "metadata": {},
   "outputs": [],
   "source": [
    "import os"
   ]
  },
  {
   "cell_type": "code",
   "execution_count": 12,
   "metadata": {},
   "outputs": [
    {
     "name": "stdout",
     "output_type": "stream",
     "text": [
      "Authentication.pyc\n",
      "search_term.py\n",
      "Authentication.py\n",
      "behaviours.py\n",
      "exp.py\n",
      "ranking_func.pyc\n",
      "build_mapping.py\n",
      "ProtocolActions.py\n",
      "annotator.py\n",
      "ranking_func.py\n",
      "stanfordprocessor.py\n",
      "ConceptExtract.py\n",
      "ConceptExtract.pyc\n",
      "annotator.pyc\n",
      "NLPutils.pyc\n",
      "search_term.pyc\n",
      "NLPutils.py\n",
      "behaviours.pyc\n",
      "negation_detection.py\n"
     ]
    }
   ],
   "source": [
    "filenames = os.listdir(\".\")\n",
    "\n",
    "for names in filenames:\n",
    "    if '.py' in names:\n",
    "        print(names)"
   ]
  },
  {
   "cell_type": "code",
   "execution_count": 10,
   "metadata": {},
   "outputs": [],
   "source": [
    "import annotator"
   ]
  },
  {
   "cell_type": "code",
   "execution_count": 28,
   "metadata": {},
   "outputs": [
    {
     "data": {
      "text/plain": [
       "u'/home/tay/Documents/DSA-NIST/NIST_Utils-master'"
      ]
     },
     "execution_count": 28,
     "metadata": {},
     "output_type": "execute_result"
    }
   ],
   "source": [
    "pwd"
   ]
  },
  {
   "cell_type": "code",
   "execution_count": 3,
   "metadata": {},
   "outputs": [
    {
     "ename": "SyntaxError",
     "evalue": "invalid syntax (<ipython-input-3-6e0537acdd69>, line 1)",
     "output_type": "error",
     "traceback": [
      "\u001b[0;36m  File \u001b[0;32m\"<ipython-input-3-6e0537acdd69>\"\u001b[0;36m, line \u001b[0;32m1\u001b[0m\n\u001b[0;31m    sudo python setup.py install\u001b[0m\n\u001b[0m              ^\u001b[0m\n\u001b[0;31mSyntaxError\u001b[0m\u001b[0;31m:\u001b[0m invalid syntax\n"
     ]
    }
   ],
   "source": [
    "sudo python setup.py install"
   ]
  },
  {
   "cell_type": "code",
   "execution_count": 8,
   "metadata": {},
   "outputs": [
    {
     "name": "stdout",
     "output_type": "stream",
     "text": [
      "Traceback (most recent call last):\n",
      "  File \"/home/tay/Documents/DSA-NIST/NIST_Utils-master/pymetamap/setup.py\", line 10, in <module>\n",
      "    long_description=readme(),\n",
      "  File \"/home/tay/Documents/DSA-NIST/NIST_Utils-master/pymetamap/setup.py\", line 4, in readme\n",
      "    with open('README.rst') as f:\n",
      "IOError: [Errno 2] No such file or directory: 'README.rst'\n"
     ]
    }
   ],
   "source": [
    "!sudo python ~/Documents/DSA-NIST/NIST_Utils-master/pymetamap/setup.py install"
   ]
  },
  {
   "cell_type": "raw",
   "metadata": {},
   "source": [
    "import pymetamap"
   ]
  },
  {
   "cell_type": "code",
   "execution_count": 18,
   "metadata": {},
   "outputs": [
    {
     "name": "stdout",
     "output_type": "stream",
     "text": [
      "import-im6.q16: not authorized `/Documents/DSA-NIST/NIST_Utils-master/pymetamap/pymetamap' @ error/constitute.c/WriteImage/1037.\n"
     ]
    }
   ],
   "source": [
    "!sudo import /Documents/DSA-NIST/NIST_Utils-master/pymetamap/pymetamap"
   ]
  },
  {
   "cell_type": "code",
   "execution_count": 30,
   "metadata": {},
   "outputs": [
    {
     "data": {
      "text/plain": [
       "['',\n",
       " '/home/tay/anaconda3/envs/py2_NIST/lib/python27.zip',\n",
       " '/home/tay/anaconda3/envs/py2_NIST/lib/python2.7',\n",
       " '/home/tay/anaconda3/envs/py2_NIST/lib/python2.7/plat-linux2',\n",
       " '/home/tay/anaconda3/envs/py2_NIST/lib/python2.7/lib-tk',\n",
       " '/home/tay/anaconda3/envs/py2_NIST/lib/python2.7/lib-old',\n",
       " '/home/tay/anaconda3/envs/py2_NIST/lib/python2.7/lib-dynload',\n",
       " '/home/tay/.local/lib/python2.7/site-packages',\n",
       " '/home/tay/anaconda3/envs/py2_NIST/lib/python2.7/site-packages',\n",
       " '/home/tay/anaconda3/envs/py2_NIST/lib/python2.7/site-packages/IPython/extensions',\n",
       " '/home/tay/.ipython',\n",
       " '/home/tay/Documents/DSA-NIST\\\\pymetamap',\n",
       " '/home/tay/Documents/DSA-NIST\\\\pymetamap',\n",
       " '/home/tay/Documents/DSA-NIST\\\\pymetamap',\n",
       " '/home/tay/Documents/DSA-NIST\\\\pymetamap',\n",
       " '/home/tay/Documents/DSA-NIST\\\\pymetamap',\n",
       " '/home/tay/Documents/DSA-NIST/pymetamap',\n",
       " '/home/tay/Documents/DSA-NIST/pymetamap',\n",
       " '/home/tay/Documents/DSA-NIST/pymetamap',\n",
       " '/home/tay/Documents/DSA-NIST/NIST_Utils-master/pymetamap',\n",
       " '/home/tay/Documents/DSA-NIST/NIST_Utils-master/pymetamap',\n",
       " '/home/tay/Documents/DSA-NIST/NIST_Utils-master/pymetamap']"
      ]
     },
     "execution_count": 30,
     "metadata": {},
     "output_type": "execute_result"
    }
   ],
   "source": [
    "import sys\n",
    "import os\n",
    "module_path = os.path.abspath(os.path.join('..'))\n",
    "if module_path not in sys.path:\n",
    "    sys.path.append(module_path+\"/NIST_Utils-master/pymetamap\")\n",
    "sys.path\n",
    "#import pymetamap"
   ]
  },
  {
   "cell_type": "code",
   "execution_count": 31,
   "metadata": {},
   "outputs": [],
   "source": [
    "import pymetamap"
   ]
  },
  {
   "cell_type": "code",
   "execution_count": null,
   "metadata": {},
   "outputs": [],
   "source": []
  }
 ],
 "metadata": {
  "kernelspec": {
   "display_name": "Python 2",
   "language": "python",
   "name": "python2"
  },
  "language_info": {
   "codemirror_mode": {
    "name": "ipython",
    "version": 2
   },
   "file_extension": ".py",
   "mimetype": "text/x-python",
   "name": "python",
   "nbconvert_exporter": "python",
   "pygments_lexer": "ipython2",
   "version": "2.7.18"
  }
 },
 "nbformat": 4,
 "nbformat_minor": 4
}
